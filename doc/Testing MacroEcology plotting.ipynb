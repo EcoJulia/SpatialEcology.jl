{
 "cells": [
  {
   "cell_type": "code",
   "execution_count": null,
   "metadata": {
    "collapsed": true
   },
   "outputs": [],
   "source": [
    "using MacroEcology\n",
    "using JLD\n",
    "mam = load(\"/Users/michael/.julia/v0.5/MacroEcology.jl/mamobj.jld\", \"mam\")"
   ]
  },
  {
   "cell_type": "code",
   "execution_count": 2,
   "metadata": {
    "collapsed": false
   },
   "outputs": [
    {
     "data": {
      "text/plain": []
     },
     "execution_count": 2,
     "metadata": {},
     "output_type": "execute_result"
    }
   ],
   "source": [
    "using Plots; plotlyjs()"
   ]
  },
  {
   "cell_type": "code",
   "execution_count": 30,
   "metadata": {
    "collapsed": false
   },
   "outputs": [
    {
     "name": "stderr",
     "output_type": "stream",
     "text": [
      "WARNING: Method definition convert_to_image(AbstractArray{T<:Any, 1}, MacroEcology.Assemblage{#G<:Any, #T<:Any}) in module Main at In[29]:3 overwritten at In[30]:3.\n",
      "WARNING: Method definition convert_to_image(AbstractArray{T<:Any, 1}, Any) in module Main at In[29]:6 overwritten at In[30]:6.\n"
     ]
    },
    {
     "data": {
      "text/plain": [
       "convert_to_image (generic function with 5 methods)"
      ]
     },
     "execution_count": 30,
     "metadata": {},
     "output_type": "execute_result"
    }
   ],
   "source": [
    "# Make this a type recipe\n",
    "\n",
    "convert_to_image{G <: Any, T <: Any}(var::AbstractVector, asm::Assemblage{G, T}) = convert_to_image(var, asm.site)\n",
    "\n",
    "function convert_to_image(var::AbstractVector, grd)\n",
    "    x = Matrix{Float64}(reverse(cells(grd))...)\n",
    "    fill!(x, NaN)\n",
    "    xind, yind =  grd.indices[:,1], grd.indices[:,2] #since matrices are probably drawn from upper left corner\n",
    "    [x[yind[i], xind[i]] = val for (i, val) in enumerate(var)]\n",
    "    x\n",
    "end    \n"
   ]
  },
  {
   "cell_type": "code",
   "execution_count": 31,
   "metadata": {
    "collapsed": false
   },
   "outputs": [
    {
     "data": {
      "text/html": [
       "<html>\n",
       "<head>\n",
       "     <script src=\"/Users/michael/.julia/v0.5/PlotlyJS/deps/plotly-latest.min.js\"></script>\n",
       "</head>\n",
       "<body>\n",
       "     <div id=\"55fe5a4b-96b0-428a-8d80-725eed50d44a\" class=\"plotly-graph-div\"></div>\n",
       "\n",
       "<script>\n",
       "    window.PLOTLYENV=window.PLOTLYENV || {};\n",
       "    window.PLOTLYENV.BASE_URL=\"https://plot.ly\";\n",
       "    Plotly.newPlot('55fe5a4b-96b0-428a-8d80-725eed50d44a', [{\"yaxis\":\"y\",\"y\":[1,2,3,4,5,6,7,8,9,10,11,12,13,14,15,16,17,18,19,20,21,22,23,24,25,26,27,28,29,30,31,32,33,34,35,36,37,38,39,40,41,42,43,44,45,46,47,48,49,50,51,52,53,54,55,56,57,58,59,60,61,62,63,64,65,66,67,68,69,70,71,72,73,74,75,76,77,78,79,80,81,82,83,84,85,86,87,88,89,90,91,92,93,94,95,96,97,98,99,100,101,102,103,104,105,106,107,108,109,110,111,112,113,114,115,116,117,118,119,120,121,122,123,124,125,126,127,128,129,130,131,132,133,134,135,136,137,138,139,140],\"colorscale\":[[0.0,\"rgb(0, 0, 4)\"],[0.034482758620689655,\"rgb(4, 3, 20)\"],[0.06896551724137931,\"rgb(13, 8, 41)\"],[0.10344827586206896,\"rgb(24, 12, 60)\"],[0.13793103448275862,\"rgb(38, 12, 81)\"],[0.1724137931034483,\"rgb(54, 9, 97)\"],[0.20689655172413793,\"rgb(69, 10, 105)\"],[0.2413793103448276,\"rgb(84, 15, 109)\"],[0.27586206896551724,\"rgb(97, 19, 110)\"],[0.3103448275862069,\"rgb(111, 25, 110)\"],[0.3448275862068966,\"rgb(125, 30, 109)\"],[0.3793103448275862,\"rgb(140, 35, 105)\"],[0.41379310344827586,\"rgb(154, 40, 101)\"],[0.4482758620689655,\"rgb(166, 45, 96)\"],[0.4827586206896552,\"rgb(180, 51, 89)\"],[0.5172413793103449,\"rgb(193, 58, 80)\"],[0.5517241379310345,\"rgb(206, 67, 71)\"],[0.5862068965517241,\"rgb(216, 76, 62)\"],[0.6206896551724138,\"rgb(226, 87, 52)\"],[0.6551724137931034,\"rgb(235, 100, 41)\"],[0.6896551724137931,\"rgb(241, 115, 29)\"],[0.7241379310344828,\"rgb(247, 130, 18)\"],[0.7586206896551724,\"rgb(250, 144, 8)\"],[0.7931034482758621,\"rgb(252, 161, 8)\"],[0.8275862068965517,\"rgb(252, 178, 22)\"],[0.8620689655172413,\"rgb(250, 196, 42)\"],[0.896551724137931,\"rgb(246, 213, 67)\"],[0.9310344827586207,\"rgb(243, 229, 93)\"],[0.9655172413793104,\"rgb(242, 244, 130)\"],[1.0,\"rgb(252, 255, 164)\"]],\"showlegend\":false,\"name\":\"y1\",\"type\":\"heatmap\",\"xaxis\":\"x\",\"z\":[[null,null,null,null,null,null,null,null,null,null,null,null,null,null,null,null,null,null,null,null,null,null,null,null,null,null,null,null,null,null,null,null,null,null,null,null,null,null,null,null,null,null,null,null,null,null,null,null,null,null,null,null,null,null,null,null,null,null,null,null,null,null,null,null,null,null,null,null,null,null,null,null,null,null,null,null,null,null,null,null,null,null,null,null,null,null,null,null,null,null,null,null,null,null,null,null,null,null,null,null,null,null,null,null,null,null,null,null,null,2.0,4.0,4.0,3.0,null,null,null,null,null,null,null,null,null,null,null,null,null,null,null,null,null,null,null,null,null,null,null,null,null,null,null,null,null,null,null,null,null,null,null,null,null,null,null,null,null,null,null,null,null,null,null,null,null,null,null,null,null,null,null,null,null,null,null,null,null,null,null,null,null,null,null,null,null,null,null,null,null,null,null,null,null,null,null,null,null,null,null,null,null,null,null,null,null,null,null,null,null,null,null,null,null,null,null,null,null,null,null,null,null,null,null,null,null,null,null,null,null,null,null,null,null,null,null,null,null,null,null,null,null,null,null,null,null,null,null,null,null,null,null,null,null,null,null,null,null,null,null,null,null,null,null,null,null,null,null,null,null,null,null,null,null,null,null,null,null,null,null,null,null,null,null,null,null,null,null,null,null,null,null,null,null,null,null,null,null,null,null,null,null,null,null,null,null,null,null,null,null,null,null,null,null,null,null,null,null,null,null,null,null,null,null,null,null,null,null,null,null,null,null,null,null,null,null,null,null,null,null,null,null,null,null,null,null,null,null,null,null,null,null,null,null,null,null,null,null,null,null,null,null,null,null],[null,null,null,null,null,null,null,null,null,null,null,null,null,null,null,null,null,null,null,null,null,null,null,null,null,null,null,null,null,null,null,null,null,null,null,null,null,null,null,null,null,null,null,null,null,null,null,null,null,null,null,null,null,null,null,null,null,null,null,null,null,null,null,null,null,null,null,null,null,null,null,null,null,null,null,null,null,null,null,null,null,null,null,null,null,null,null,null,null,null,null,null,null,null,null,null,null,null,null,null,null,null,null,null,null,null,null,5.0,6.0,12.0,13.0,13.0,11.0,9.0,8.0,1.0,null,null,null,null,null,null,null,null,null,null,null,null,null,null,null,null,null,null,null,null,null,null,null,null,null,null,null,null,null,null,null,null,null,null,null,null,null,null,null,null,null,null,null,null,null,null,null,null,null,null,null,null,null,null,null,null,null,null,null,null,null,null,null,null,null,null,null,null,null,null,null,null,null,null,null,null,null,null,null,null,null,null,null,null,null,null,null,null,null,null,null,null,null,null,null,null,null,null,null,null,null,null,null,null,null,null,null,null,null,null,null,null,null,null,null,null,null,null,null,null,null,null,null,null,null,null,null,null,null,null,null,null,null,null,null,null,null,null,null,null,null,null,null,null,null,null,null,null,null,null,null,null,null,null,null,null,null,null,null,null,null,null,null,null,null,null,null,null,null,null,null,null,null,null,null,null,null,null,null,null,null,null,null,null,null,null,null,null,null,null,null,null,null,null,null,null,null,null,null,null,null,null,null,null,null,null,null,null,null,null,null,null,null,null,null,null,null,null,null,null,null,null,null,null,null,null,null,null,null,null,null,null,null,null,null,null,null,null,null,null,null,null,null,null],[null,null,null,null,null,null,null,null,null,null,null,null,null,null,null,null,null,null,null,null,null,null,null,null,null,null,null,null,null,null,null,null,null,null,null,null,null,null,null,null,null,null,null,null,null,null,null,null,null,null,null,null,null,null,null,null,null,null,null,null,null,null,null,null,null,null,null,null,null,null,null,null,null,null,null,null,null,null,null,null,null,null,null,null,null,null,null,null,null,null,null,null,null,null,null,null,null,null,null,null,null,null,null,null,null,1.0,11.0,14.0,21.0,24.0,13.0,13.0,11.0,null,null,null,null,null,null,null,null,null,null,null,null,null,null,null,null,null,null,null,null,null,null,null,null,null,null,null,null,null,null,null,null,null,null,null,null,null,null,null,null,null,null,null,null,null,null,null,null,null,null,null,null,null,null,null,null,null,null,null,null,null,null,null,null,null,null,null,null,null,null,null,null,null,null,null,null,null,null,null,null,null,null,null,null,null,null,null,null,null,null,null,null,null,null,null,null,null,null,null,null,null,null,null,null,null,null,null,null,null,null,null,null,null,null,null,null,null,null,null,null,null,null,null,null,null,null,null,null,null,null,null,null,null,null,null,null,null,null,null,null,null,null,null,null,null,null,null,null,null,null,null,null,null,null,null,null,null,null,null,null,null,null,null,null,null,null,null,null,null,null,null,null,null,null,null,null,null,null,null,null,null,null,null,null,null,null,null,null,null,null,null,null,null,null,null,null,null,null,null,null,null,null,null,null,null,null,null,null,null,null,null,null,null,null,null,null,null,null,null,null,null,null,null,null,null,null,null,null,null,null,null,null,null,null,null,null,null,null,null,null,null,null,null,null,null,null,null],[null,null,null,null,null,null,null,null,null,null,null,null,null,null,null,null,null,null,null,null,null,null,null,null,null,null,null,null,null,null,null,null,null,null,null,null,null,null,null,null,null,null,null,null,null,null,null,null,null,null,null,null,null,null,null,null,null,null,null,null,null,null,null,null,null,null,null,null,null,null,null,null,null,null,null,null,null,null,null,null,null,null,null,null,null,null,null,null,null,null,null,null,null,null,null,null,null,null,null,null,null,null,null,null,null,3.0,15.0,27.0,27.0,25.0,23.0,21.0,null,null,null,null,null,null,null,1.0,1.0,1.0,null,null,null,null,null,null,null,null,null,null,null,null,null,null,null,null,null,null,null,null,null,null,null,null,null,null,null,null,null,null,null,null,null,null,null,null,null,null,null,null,null,null,null,null,null,null,null,null,null,null,null,null,null,null,null,null,null,null,null,null,null,null,null,null,null,null,null,null,null,null,null,null,null,null,null,null,null,null,null,null,null,null,null,null,null,null,null,null,null,null,null,null,null,null,null,null,null,null,null,null,null,null,null,null,null,null,null,null,null,null,null,null,null,null,null,null,null,null,null,null,null,null,null,null,null,null,null,null,null,null,null,null,null,null,null,null,null,null,null,null,null,null,null,null,null,null,null,null,null,null,null,null,null,null,null,null,null,null,null,null,null,null,null,null,null,null,null,null,null,null,null,null,null,null,null,null,null,null,null,null,null,null,null,null,null,null,null,null,null,null,null,null,null,null,null,null,null,null,null,null,null,null,null,null,null,null,null,null,null,null,null,null,null,null,null,null,null,null,null,null,null,null,null,null,null,null,null,null,null,null,null,null,null,null,null,null,null,null],[null,null,null,null,null,null,null,null,null,null,null,null,null,null,null,null,null,null,null,null,null,null,null,null,null,null,null,null,null,null,null,null,null,null,null,null,null,null,null,null,null,null,null,null,null,null,null,null,null,null,null,null,null,null,null,null,null,null,null,null,null,null,null,null,null,null,null,null,null,null,null,null,null,null,null,null,null,null,null,null,null,null,null,null,null,null,null,null,null,null,null,null,null,null,null,null,null,null,null,null,null,null,null,null,null,12.0,23.0,33.0,31.0,23.0,21.0,19.0,null,null,null,null,null,null,1.0,1.0,1.0,1.0,1.0,null,null,null,null,null,null,null,null,null,null,null,null,null,null,null,null,null,null,null,null,null,null,null,null,null,null,null,null,null,null,null,null,null,null,null,null,null,null,null,null,null,null,null,null,null,null,null,null,null,null,null,null,null,null,null,null,null,null,null,null,null,null,null,null,null,null,null,null,null,null,null,null,null,null,null,null,null,null,null,null,null,null,null,null,null,null,null,null,null,null,null,null,null,null,null,null,null,null,null,null,null,null,null,null,null,null,null,null,null,null,null,null,null,null,null,null,null,null,null,null,null,null,null,null,null,null,null,null,null,null,null,null,null,null,null,null,null,null,null,null,null,null,null,null,null,null,null,null,null,null,null,null,null,null,null,null,null,null,null,null,null,null,null,null,null,null,null,null,null,null,null,null,null,null,null,null,null,null,null,null,null,null,null,null,null,null,null,null,null,null,null,null,null,null,null,null,null,null,null,null,null,null,null,null,null,null,null,null,null,null,null,null,null,null,null,null,null,null,null,null,null,null,null,null,null,null,null,null,null,null,null,null,null,null,null,null,null],[null,null,null,null,null,null,null,null,null,null,null,null,null,null,null,null,null,null,null,null,null,null,null,null,null,null,null,null,null,null,null,null,null,null,null,null,null,null,null,null,null,null,null,null,null,null,null,null,null,null,null,null,null,null,null,null,null,null,null,null,null,null,null,null,null,null,null,null,null,null,null,null,null,null,null,null,null,null,null,null,null,null,null,null,null,null,null,null,null,null,null,null,null,null,null,null,null,null,null,null,null,null,null,null,null,14.0,28.0,33.0,27.0,22.0,20.0,19.0,null,null,null,null,null,null,null,null,null,null,null,null,null,null,null,null,null,null,null,null,null,null,null,null,null,null,null,null,null,null,null,null,null,null,null,null,null,null,null,null,null,null,null,null,null,null,null,null,null,null,null,null,null,null,null,null,null,null,null,null,null,null,null,null,null,null,null,null,null,null,null,null,null,null,null,null,null,null,null,null,null,null,null,null,null,null,null,null,null,null,null,null,null,null,null,null,null,null,null,null,null,null,null,null,null,null,null,null,null,null,null,null,null,null,null,null,null,null,null,null,null,null,null,null,null,null,null,null,null,null,null,null,null,null,null,null,null,null,null,null,null,null,null,null,null,null,null,null,null,null,null,null,null,null,null,null,null,null,null,null,null,null,null,null,null,null,null,null,null,null,null,null,null,null,null,null,null,null,null,null,null,null,null,null,null,null,null,null,null,null,null,null,null,null,null,null,null,null,null,null,null,null,null,null,null,null,null,null,null,null,null,null,null,null,null,null,null,null,null,null,null,null,null,null,null,null,null,null,null,null,null,null,null,null,null,null,null,null,null,null,null,null,null,null,null,null,null,null],[null,null,null,null,null,null,null,null,null,null,null,null,null,null,null,null,null,null,null,null,null,null,null,null,null,null,null,null,null,null,null,null,null,null,null,null,null,null,null,null,null,null,null,null,null,null,null,null,null,null,null,null,null,null,null,null,null,null,null,null,null,null,null,null,null,null,null,null,null,null,null,null,null,null,null,null,null,null,null,null,null,null,null,null,null,null,null,null,null,null,null,null,null,null,null,null,null,null,null,null,null,null,null,null,5.0,12.0,21.0,30.0,25.0,23.0,21.0,20.0,17.0,null,null,null,null,null,null,null,null,null,null,null,null,null,null,null,null,null,null,null,null,null,null,null,null,null,null,null,null,null,null,null,null,null,null,null,null,null,null,null,null,null,null,null,null,null,null,null,null,null,null,null,null,null,null,null,null,null,null,null,null,null,null,null,null,null,null,null,null,null,null,null,null,null,null,null,null,null,null,null,null,null,null,null,null,null,null,null,null,null,null,null,null,null,null,null,null,null,null,null,null,null,null,null,null,null,null,null,null,null,null,null,null,null,null,null,null,null,null,null,null,null,null,null,null,null,null,null,null,null,null,null,null,null,null,null,null,null,null,null,null,null,null,null,null,null,null,null,null,null,null,null,null,null,null,null,null,null,null,null,null,null,null,null,null,null,null,null,null,null,null,null,null,null,null,null,null,null,null,null,null,null,null,null,null,null,null,null,null,null,null,null,null,null,null,null,null,null,null,null,null,null,null,null,null,null,null,null,null,null,null,null,null,null,null,null,null,null,null,null,null,null,null,null,null,null,null,null,null,null,null,null,null,null,null,null,null,null,null,null,null,null,null,null,null,null,null,null],[null,null,null,null,null,null,null,null,null,null,null,null,null,null,null,null,null,null,null,null,null,null,null,null,null,null,null,null,null,null,null,null,null,null,null,null,null,null,null,null,null,null,null,null,null,null,null,null,null,null,null,null,null,null,null,null,null,null,null,null,null,null,null,null,null,null,null,null,null,null,null,null,null,null,null,null,null,null,null,null,null,null,null,null,null,null,null,null,null,null,null,null,null,null,null,null,null,null,null,null,null,null,null,null,5.0,12.0,17.0,31.0,29.0,25.0,24.0,21.0,21.0,20.0,null,null,null,null,null,null,null,null,null,null,null,null,null,null,null,null,null,null,null,null,null,null,null,null,null,null,null,null,null,null,null,null,null,null,null,null,null,null,null,null,null,null,null,null,null,null,null,null,null,null,null,null,null,null,null,null,null,null,null,null,null,null,null,null,null,null,null,null,null,null,null,null,null,null,null,null,null,null,null,null,null,null,null,null,null,null,null,null,null,null,null,null,null,null,null,null,null,null,null,null,null,null,null,null,null,null,null,null,null,null,null,null,null,null,null,null,null,null,null,null,null,null,null,null,null,null,null,null,null,null,null,null,null,null,null,null,null,null,null,null,null,null,null,null,null,null,null,null,null,null,null,null,null,null,null,null,null,null,null,null,null,null,null,null,null,null,null,null,null,null,null,null,null,null,null,null,null,null,null,null,null,null,null,null,null,null,null,null,null,null,null,null,null,null,null,null,null,null,null,null,null,null,null,null,null,null,null,null,null,null,null,null,null,null,null,null,null,null,null,null,null,null,null,null,null,null,null,null,null,null,null,null,null,null,null,null,null,null,null,null,null,null,null,null,null,null],[null,null,null,null,null,null,null,null,null,null,null,null,null,null,null,null,null,null,null,null,null,null,null,null,null,null,null,null,null,null,null,null,null,null,null,null,null,null,null,null,null,null,null,null,null,null,null,null,null,null,null,null,null,null,null,null,null,null,null,null,null,null,null,null,null,null,null,null,null,null,null,null,null,null,null,null,null,null,null,null,null,null,null,null,null,null,null,null,null,null,null,null,null,null,null,null,null,null,null,null,null,null,null,null,null,11.0,17.0,27.0,31.0,26.0,23.0,25.0,23.0,21.0,20.0,null,null,null,null,null,null,null,null,null,null,null,null,null,null,null,null,null,null,null,null,null,null,null,null,null,null,null,null,null,null,null,null,null,null,null,null,null,null,null,null,null,null,null,null,null,null,null,null,null,null,null,null,null,null,null,null,null,null,null,null,null,null,null,null,null,null,null,null,null,null,null,null,null,null,null,null,null,null,null,null,null,null,null,null,null,null,null,null,null,null,null,null,null,null,null,null,null,null,null,null,null,null,null,null,null,null,null,null,null,null,null,null,null,null,null,null,null,null,null,null,null,null,null,null,null,null,null,null,null,null,null,null,null,null,null,null,null,null,null,null,null,null,null,null,null,null,null,null,null,null,null,null,null,null,null,null,null,null,null,null,null,null,null,null,null,null,null,null,null,null,null,null,null,null,null,null,null,null,null,null,null,null,null,null,null,null,null,null,null,null,null,null,null,null,null,null,null,null,null,null,null,null,null,null,null,null,null,null,null,null,null,null,null,null,null,null,null,null,null,null,null,null,null,null,null,null,null,null,null,null,null,null,2.0,1.0,null,null,null,null,null,null,null,null,null,null,null],[null,null,null,null,null,null,null,null,null,null,null,null,null,null,null,null,null,null,null,null,null,null,null,null,null,null,null,null,null,null,null,null,null,null,null,null,null,null,null,null,null,null,null,null,null,null,null,null,null,null,null,null,null,null,null,null,null,null,null,null,null,null,null,null,null,null,null,null,null,null,null,null,null,null,null,null,null,null,null,null,null,null,null,null,null,null,null,null,null,null,null,null,null,null,null,null,null,null,null,null,null,null,null,null,8.0,11.0,15.0,29.0,34.0,27.0,26.0,25.0,22.0,null,null,null,null,null,null,null,null,null,null,null,null,null,null,null,null,null,null,null,null,null,null,null,null,null,null,null,null,null,null,null,null,null,null,null,null,null,null,null,null,null,null,null,null,null,null,null,null,null,null,null,null,null,null,null,null,null,null,null,null,null,null,null,null,null,null,null,null,null,null,null,null,null,null,null,null,null,null,null,null,null,null,null,null,null,null,null,null,null,null,null,null,null,null,null,null,null,null,null,null,null,null,null,null,null,null,null,null,null,null,null,null,null,null,null,null,null,null,null,null,null,null,null,null,null,null,null,null,null,null,null,null,null,null,null,null,null,null,null,null,null,null,null,null,null,null,null,null,null,null,null,null,null,null,null,null,null,null,null,null,null,null,null,null,null,null,null,null,null,null,null,null,null,null,null,null,null,null,null,null,null,null,null,null,null,null,null,null,null,null,null,null,null,null,null,null,null,null,null,null,null,null,null,null,null,null,null,null,null,null,null,null,null,null,null,null,null,null,null,null,null,null,null,null,null,null,null,null,null,null,null,null,null,null,2.0,1.0,null,null,null,null,null,null,null,null,null,null,null],[null,null,null,null,null,null,null,null,null,null,null,null,null,null,null,null,null,null,null,null,null,null,null,null,null,null,null,null,null,null,null,null,null,null,null,null,null,null,null,null,null,null,null,null,null,null,null,null,null,null,null,null,null,null,null,null,null,null,null,null,null,null,null,null,null,null,null,null,null,null,null,null,null,null,null,null,null,null,null,null,null,null,null,null,null,null,null,null,null,null,null,null,null,null,null,null,null,null,null,null,null,null,null,null,null,8.0,13.0,25.0,35.0,31.0,27.0,25.0,23.0,22.0,21.0,null,null,null,null,null,null,null,null,null,null,null,null,null,null,null,null,null,null,null,null,null,null,null,null,null,null,null,null,null,null,null,null,null,null,null,null,null,null,null,null,null,null,null,null,null,null,null,null,null,null,null,null,null,null,null,null,null,null,null,null,null,null,null,null,null,null,null,null,null,null,null,null,null,null,null,null,null,null,null,null,null,null,null,null,null,null,null,null,null,null,null,null,null,null,null,null,null,null,null,null,null,null,null,null,null,null,null,null,null,null,null,null,null,null,null,null,null,null,null,null,null,null,null,null,null,null,null,null,null,null,null,null,null,null,null,null,null,null,null,null,null,null,null,null,null,null,null,null,null,null,null,null,null,null,null,null,null,null,null,null,null,null,null,null,null,null,null,null,null,null,null,null,null,null,null,null,null,null,null,null,null,null,null,null,null,null,null,null,null,null,null,null,null,null,null,null,null,null,null,null,null,null,null,null,null,null,null,null,null,null,null,null,null,null,null,null,null,null,null,null,null,null,null,null,null,null,null,null,null,null,null,1.0,2.0,2.0,null,null,null,null,null,null,null,null,null,null,null],[null,null,null,null,null,null,null,null,null,null,null,null,null,null,null,null,null,null,null,null,null,null,null,null,null,null,null,null,null,null,null,null,null,null,null,null,null,null,null,null,null,null,null,null,null,null,null,null,null,null,null,null,null,null,null,null,null,null,null,null,null,null,null,null,null,null,null,null,null,null,null,null,null,null,null,null,null,null,null,null,null,null,null,null,null,null,null,null,null,null,null,null,null,null,null,null,null,null,null,null,null,null,null,null,null,2.0,15.0,21.0,32.0,31.0,27.0,25.0,25.0,24.0,23.0,null,null,null,null,null,null,null,null,null,null,null,null,null,null,null,null,null,null,null,null,null,null,null,null,null,null,null,null,null,null,null,null,null,null,null,null,null,null,null,null,null,null,null,null,null,null,null,null,null,null,null,null,null,null,null,null,null,null,null,null,null,null,null,null,null,null,null,null,null,null,null,null,null,null,null,null,null,null,null,null,null,null,null,null,null,null,null,null,null,null,null,null,null,null,null,null,null,null,null,null,null,null,null,null,null,null,null,null,null,null,null,null,null,null,null,null,null,null,null,null,null,null,null,null,null,null,null,null,null,null,null,null,null,null,null,null,null,null,null,null,null,null,null,null,null,null,null,null,null,null,null,null,null,null,null,null,null,null,null,null,null,null,null,null,null,null,null,null,null,null,null,null,null,null,null,null,null,null,null,null,null,null,null,null,null,null,null,null,null,null,null,null,null,null,null,null,null,null,null,null,null,null,null,null,null,null,null,null,null,null,null,null,null,null,null,null,null,null,null,null,null,null,null,null,null,null,null,null,null,null,null,null,2.0,2.0,1.0,1.0,1.0,null,null,null,null,null,null,null,null],[null,null,null,null,null,null,null,null,null,null,null,null,null,null,null,null,null,null,null,null,null,null,null,null,null,null,null,null,null,null,null,null,null,null,null,null,null,null,null,null,null,null,null,null,null,null,null,null,null,null,null,null,null,null,null,null,null,null,null,null,null,null,null,null,null,null,null,null,null,null,null,null,null,null,null,null,null,null,null,null,null,null,null,null,null,null,null,null,null,null,null,null,null,null,null,null,null,null,null,null,null,null,null,null,null,14.0,20.0,26.0,39.0,33.0,33.0,31.0,28.0,27.0,27.0,22.0,null,null,null,null,null,null,null,null,null,null,null,null,null,null,null,null,null,null,null,null,null,null,null,null,null,null,null,null,null,null,null,null,null,null,null,null,null,null,null,null,null,null,null,null,null,null,null,null,null,null,null,null,null,null,null,null,null,null,null,null,null,null,null,null,null,null,null,null,null,null,null,null,null,null,null,null,null,null,null,null,null,null,null,null,null,null,null,null,null,null,null,null,null,null,null,null,null,null,null,null,null,null,null,null,null,null,null,null,null,null,null,null,null,null,null,null,null,null,null,null,null,null,null,null,null,null,null,null,null,null,null,null,null,null,null,null,null,null,null,null,null,null,null,null,null,null,null,null,null,null,null,null,null,null,null,null,null,null,null,null,null,null,null,null,null,null,null,null,null,null,null,null,null,null,null,null,null,null,null,null,null,null,null,null,null,null,null,null,null,null,null,null,null,null,null,null,null,null,null,null,null,null,null,null,null,null,null,null,null,21.0,28.0,29.0,null,null,null,null,null,null,null,null,null,null,null,null,null,null,null,null,null,null,null,null,1.0,1.0,1.0,1.0,null,null,null,null,null,null,null,null],[null,null,null,null,null,null,null,null,null,null,null,null,null,null,null,null,null,null,null,null,null,null,null,null,null,null,null,null,null,null,null,null,null,null,null,null,null,null,null,null,null,null,null,null,null,null,null,null,null,null,null,null,null,null,null,null,null,null,null,null,null,null,null,null,null,null,null,null,null,null,null,null,null,null,null,null,null,null,null,null,null,null,null,null,null,null,null,null,null,null,null,null,null,null,null,null,null,null,null,null,null,null,null,null,null,14.0,14.0,28.0,41.0,38.0,33.0,31.0,31.0,30.0,22.0,22.0,21.0,null,null,null,null,null,null,null,null,null,null,null,null,null,null,null,null,null,null,null,null,null,null,null,null,null,null,null,null,null,null,null,null,null,null,null,null,null,null,null,null,null,null,null,null,null,null,null,null,null,null,null,null,null,null,null,null,null,null,null,null,null,null,null,null,null,null,null,null,null,null,null,null,null,null,null,null,null,null,null,null,null,null,null,null,null,null,null,null,null,null,null,null,null,null,null,null,null,null,null,null,null,null,null,null,null,null,null,null,null,null,null,null,null,null,null,null,null,null,null,null,null,null,null,null,null,null,null,null,null,null,null,null,null,null,null,null,null,null,null,null,null,null,null,null,null,null,null,null,null,null,null,null,null,null,null,null,null,null,null,null,null,null,null,null,null,null,null,null,null,null,null,null,null,null,null,null,null,null,null,null,null,null,null,null,null,null,null,null,null,null,null,null,null,null,null,null,null,null,null,null,null,null,null,null,null,null,null,null,25.0,31.0,32.0,32.0,null,null,null,null,null,null,null,null,null,null,null,null,null,null,null,null,null,null,null,null,null,1.0,2.0,1.0,null,null,null,null,null,null,null],[null,null,null,null,null,null,null,null,null,null,null,null,null,null,null,null,null,null,null,null,null,null,null,null,null,null,null,null,null,null,null,null,null,null,null,null,null,null,null,null,null,null,null,null,null,null,null,null,null,null,null,null,null,null,null,null,null,null,null,null,null,null,null,null,null,null,null,null,null,null,null,null,null,null,null,null,null,null,null,null,null,null,null,null,null,null,null,null,null,null,null,null,null,null,null,null,null,null,null,null,null,null,null,null,null,null,23.0,30.0,49.0,38.0,34.0,33.0,34.0,32.0,28.0,21.0,23.0,21.0,null,null,null,null,null,null,null,null,null,null,null,null,null,null,null,null,null,null,null,null,null,null,null,null,null,null,null,null,null,null,null,null,null,null,null,null,null,null,null,null,null,null,null,null,null,null,null,null,null,null,null,null,null,null,null,null,null,null,null,null,null,null,null,null,null,null,null,null,null,null,null,null,null,null,null,null,null,null,null,null,null,null,null,null,null,null,null,null,null,null,null,null,null,null,null,null,null,null,null,null,null,null,null,null,null,null,null,null,null,null,null,null,null,null,null,null,null,null,null,null,null,null,null,null,null,null,null,null,null,null,null,null,null,null,null,null,null,null,null,null,null,null,null,null,null,null,null,null,null,null,null,null,null,null,null,null,null,null,null,null,null,null,null,null,null,null,null,null,null,null,null,null,null,null,null,null,null,null,null,null,null,null,null,null,null,null,null,null,null,null,null,null,null,null,null,null,null,null,null,null,null,null,null,null,null,null,30.0,32.0,33.0,33.0,32.0,null,null,null,null,null,null,null,null,null,null,null,null,null,null,null,null,null,null,null,null,null,null,2.0,2.0,null,null,1.0,null,null,null,null],[null,null,null,null,null,null,null,null,null,null,null,null,null,null,null,null,null,null,null,null,null,null,null,null,null,null,null,null,null,null,null,null,null,null,null,null,null,null,null,null,null,null,null,null,null,null,null,null,null,null,null,null,null,null,null,null,null,null,null,null,null,null,null,null,null,null,null,null,null,null,null,null,null,null,null,null,null,null,null,null,null,null,null,null,null,null,null,null,null,null,null,null,null,null,null,null,null,null,null,null,null,null,null,null,null,null,24.0,33.0,48.0,41.0,36.0,33.0,34.0,34.0,34.0,30.0,26.0,24.0,null,null,null,null,null,null,null,null,null,null,null,null,null,null,null,null,null,null,null,null,null,null,null,null,null,null,null,null,null,null,null,null,null,null,null,null,null,null,null,null,null,null,null,null,null,null,null,null,null,null,null,null,null,null,null,null,null,null,null,null,null,null,null,null,null,null,null,null,null,null,null,null,null,null,null,null,null,null,null,null,null,null,null,null,null,null,null,null,null,null,null,null,null,null,null,null,null,null,null,null,null,null,null,null,null,null,null,null,null,null,null,null,null,null,null,null,null,null,null,null,null,null,null,null,null,null,null,null,null,null,null,null,null,null,null,null,null,null,null,null,null,null,null,null,null,null,null,null,null,null,null,null,null,null,null,null,null,null,null,null,null,null,null,null,null,null,null,null,null,null,null,null,null,null,null,null,null,null,null,null,null,null,null,null,null,null,null,null,null,null,null,null,null,null,null,null,null,null,null,null,null,null,null,null,null,12.0,30.0,31.0,null,33.0,31.0,null,null,null,null,null,null,null,null,null,null,null,null,null,null,null,null,null,null,null,null,null,null,null,2.0,1.0,1.0,2.0,1.0,null,null,null],[null,null,null,null,null,null,null,null,null,null,null,null,null,null,null,null,null,null,null,null,null,null,null,null,null,null,null,null,null,null,null,null,null,null,null,null,null,null,null,null,null,null,null,null,null,null,null,null,null,null,null,null,null,null,null,null,null,null,null,null,null,null,null,null,null,null,null,null,null,null,null,null,null,null,null,null,null,null,null,null,null,null,null,null,null,null,null,null,null,null,null,null,null,null,null,null,null,null,null,null,null,null,null,null,null,null,23.0,34.0,47.0,42.0,35.0,30.0,32.0,32.0,31.0,31.0,30.0,31.0,31.0,null,null,null,null,null,null,null,null,null,null,null,null,null,null,null,null,null,null,null,null,null,null,null,null,null,null,null,null,null,null,null,null,null,null,null,null,null,null,null,null,null,null,null,null,null,null,null,null,null,null,null,null,null,null,null,null,null,null,null,null,null,null,null,null,null,null,null,null,null,null,null,null,null,null,null,null,null,null,null,null,null,null,null,null,null,null,null,null,null,null,null,null,null,null,null,null,null,null,null,null,null,null,null,null,null,null,null,null,null,null,null,null,null,null,null,null,null,null,null,null,null,null,null,null,null,null,null,null,null,null,null,null,null,null,null,null,null,null,null,null,null,null,null,null,null,null,null,null,null,null,null,null,null,null,null,null,null,null,null,null,null,null,null,null,null,null,null,null,null,null,null,null,null,null,null,null,null,null,null,null,null,null,null,null,null,null,null,null,null,null,null,null,null,null,null,null,null,null,null,null,null,null,null,null,12.0,12.0,null,38.0,16.0,16.0,null,null,null,null,null,null,null,null,null,null,null,null,null,null,null,null,null,null,null,null,null,null,null,null,null,2.0,2.0,2.0,1.0,null,null],[null,null,null,null,null,null,null,null,null,null,null,null,null,null,null,null,null,null,null,null,null,null,null,null,null,null,null,null,null,null,null,null,null,null,null,null,null,null,null,null,null,null,null,null,null,null,null,null,null,null,null,null,null,null,null,null,null,null,null,null,null,null,null,null,null,null,null,null,null,null,null,null,null,null,null,null,null,null,null,null,null,null,null,null,null,null,null,null,null,null,null,null,null,null,null,null,null,null,null,null,null,null,null,null,null,null,25.0,32.0,42.0,45.0,33.0,34.0,33.0,30.0,34.0,34.0,34.0,36.0,36.0,28.0,28.0,27.0,25.0,null,null,null,null,null,null,null,null,null,null,null,null,null,null,null,null,null,null,null,null,null,null,null,null,null,null,null,null,null,null,null,null,null,null,null,null,null,null,null,null,null,null,null,null,null,null,null,null,null,null,null,null,null,null,null,null,null,null,null,null,null,null,null,null,null,null,null,null,null,null,null,null,null,null,null,null,null,null,null,null,null,null,null,null,null,null,null,null,null,null,null,null,null,null,null,null,null,null,null,null,null,null,null,null,null,null,null,null,null,null,null,null,null,null,null,null,null,null,null,null,null,null,null,null,null,null,null,null,null,null,null,null,null,null,null,null,null,null,null,null,null,null,null,null,null,null,null,null,null,null,null,null,null,null,null,null,null,null,null,null,null,null,null,null,null,null,null,null,null,null,null,null,null,null,null,null,null,null,null,null,null,null,null,null,null,null,null,null,null,null,null,null,null,null,null,null,null,39.0,42.0,40.0,41.0,42.0,40.0,43.0,36.0,null,null,null,null,null,null,null,null,null,null,null,null,null,null,null,null,null,null,null,null,null,null,null,null,null,null,2.0,2.0,2.0,2.0,2.0,null],[null,null,null,null,null,null,null,null,null,null,null,null,null,null,null,null,null,null,null,null,null,null,null,null,null,null,null,null,null,null,null,null,null,null,null,null,null,null,null,null,null,null,null,null,null,null,null,null,null,null,null,null,null,null,null,null,null,null,null,null,null,null,null,null,null,null,null,null,null,null,null,null,null,null,null,null,null,null,null,null,null,null,null,null,null,null,null,null,null,null,null,null,null,null,null,null,null,null,null,null,null,null,null,null,null,null,25.0,30.0,38.0,34.0,34.0,33.0,29.0,29.0,34.0,36.0,36.0,35.0,32.0,26.0,23.0,27.0,30.0,26.0,null,null,null,null,null,null,null,null,null,null,null,null,null,null,null,null,null,null,null,null,null,null,null,null,null,null,null,null,null,null,null,null,null,null,null,null,null,null,null,null,null,null,null,null,null,null,null,null,null,null,null,null,null,null,null,null,null,null,null,null,null,null,null,null,null,null,null,null,null,null,null,null,null,null,null,null,null,null,null,null,null,null,null,null,null,null,null,null,null,null,null,null,null,null,null,null,null,null,null,null,null,null,null,null,null,null,null,null,null,null,null,null,null,null,null,null,null,null,null,null,null,null,null,null,null,null,null,null,null,null,null,null,null,null,null,null,null,null,null,null,null,null,null,null,null,null,null,null,null,null,null,null,null,null,null,null,null,null,null,null,null,null,null,null,null,null,null,null,null,null,null,null,null,null,null,null,null,null,null,null,null,null,null,null,null,null,null,null,null,null,null,null,null,null,null,32.0,42.0,46.0,40.0,38.0,43.0,47.0,46.0,47.0,48.0,48.0,45.0,null,null,null,null,null,null,null,null,null,null,null,null,null,null,null,null,null,null,null,null,null,null,null,1.0,1.0,1.0,2.0,2.0,null],[null,null,null,null,null,null,null,null,null,null,null,null,null,null,null,null,null,null,null,null,null,null,null,null,null,null,null,null,null,null,null,null,null,null,null,null,null,null,null,null,null,null,null,null,null,null,null,null,null,null,null,null,null,null,null,null,null,null,null,null,null,null,null,null,null,null,null,null,null,null,null,null,null,null,null,null,null,null,null,null,null,null,null,null,null,null,null,null,null,null,null,null,null,null,null,null,null,null,null,null,null,null,null,null,null,null,23.0,28.0,36.0,35.0,34.0,33.0,33.0,33.0,35.0,39.0,35.0,31.0,27.0,26.0,26.0,29.0,31.0,29.0,null,null,null,null,null,null,null,null,null,null,null,null,null,null,null,null,null,null,null,null,null,null,null,null,null,null,null,null,null,null,null,null,null,null,null,null,null,null,null,null,null,null,null,null,null,null,null,null,null,null,null,null,null,null,null,null,null,null,null,null,null,null,null,null,null,null,null,null,null,null,null,null,null,null,null,null,null,null,null,null,null,null,null,null,null,null,null,null,null,null,null,null,null,null,null,null,null,null,null,null,null,null,null,null,null,null,null,null,null,null,null,null,null,null,null,null,null,null,null,null,null,null,null,null,null,null,null,null,null,null,null,null,null,null,null,null,null,null,null,null,null,null,null,null,null,null,null,null,null,null,null,null,null,null,null,null,null,null,null,null,null,null,null,null,null,null,null,null,null,null,null,null,null,null,null,null,null,null,null,null,null,null,null,null,null,null,null,null,null,null,null,null,17.0,16.0,null,30.0,34.0,32.0,38.0,34.0,36.0,41.0,45.0,49.0,48.0,50.0,45.0,null,null,null,null,null,null,null,null,null,null,null,null,null,null,null,null,null,null,null,null,null,null,1.0,1.0,2.0,null,null,null,null],[null,null,null,null,null,null,null,null,null,null,null,null,null,null,null,null,null,null,null,null,null,null,null,null,null,null,null,null,null,null,null,null,null,null,null,null,null,null,null,null,null,null,null,null,null,null,null,null,null,null,null,null,null,null,null,null,null,null,null,null,null,null,null,null,null,null,null,null,null,null,null,null,null,null,null,null,null,null,null,null,null,null,null,null,null,null,null,null,null,null,null,null,null,null,null,null,null,null,null,null,null,null,null,null,null,null,null,28.0,30.0,38.0,38.0,35.0,33.0,33.0,31.0,36.0,35.0,33.0,30.0,30.0,31.0,35.0,36.0,null,null,null,null,null,null,null,null,null,null,null,null,null,null,null,null,null,null,null,null,null,null,null,null,null,null,null,null,null,null,null,null,null,null,null,null,null,null,null,null,null,null,null,null,null,null,null,null,null,null,null,null,null,null,null,null,null,null,null,null,null,null,null,null,null,null,null,null,null,null,null,null,null,null,null,null,null,null,null,null,null,null,null,null,null,null,null,null,null,null,null,null,null,null,null,null,null,null,null,null,null,null,null,null,null,null,null,null,null,null,null,null,null,null,null,null,null,null,null,null,null,null,null,null,null,null,null,null,null,null,null,null,null,null,null,null,null,null,null,null,null,null,null,null,null,null,null,null,null,null,null,null,null,null,null,null,null,null,null,null,null,null,null,null,null,null,null,null,null,null,null,null,null,24.0,23.0,null,null,null,null,null,null,null,null,null,null,null,null,null,null,null,null,null,null,23.0,20.0,28.0,30.0,24.0,25.0,27.0,28.0,34.0,33.0,38.0,46.0,47.0,49.0,50.0,null,null,null,null,null,null,null,null,null,null,null,null,null,null,null,null,null,null,null,null,null,null,2.0,1.0,null,null,null,null,null],[null,null,null,null,null,null,null,null,null,null,null,null,null,null,null,null,null,null,null,null,null,null,null,null,null,null,null,null,null,null,null,null,null,null,null,null,null,null,null,null,null,null,null,null,null,null,null,null,null,null,null,null,null,null,null,null,null,null,null,null,null,null,null,null,null,null,null,null,null,null,null,null,null,null,null,null,null,null,null,null,null,null,null,null,null,null,null,null,null,null,null,null,null,null,null,null,null,null,null,null,null,null,null,null,null,null,null,22.0,30.0,38.0,40.0,36.0,33.0,33.0,34.0,40.0,39.0,35.0,31.0,35.0,42.0,54.0,52.0,42.0,44.0,49.0,45.0,null,null,null,null,null,null,null,null,null,null,null,null,null,null,null,null,null,null,null,null,null,null,null,null,null,null,null,null,null,null,null,null,null,null,null,null,null,null,null,null,null,null,null,null,null,null,null,null,null,null,null,null,null,null,null,null,null,null,null,null,null,null,null,null,null,null,null,null,null,null,null,77.0,79.0,76.0,78.0,77.0,78.0,74.0,73.0,null,null,null,null,null,null,null,null,null,null,null,null,null,null,null,null,null,null,null,null,null,null,null,null,null,null,null,null,null,null,null,null,null,null,null,null,null,null,null,null,null,null,null,null,null,null,null,null,null,null,null,null,null,null,null,null,null,null,null,null,null,null,null,null,null,null,null,null,null,null,null,null,null,null,null,null,null,null,null,null,null,null,null,null,null,null,null,null,23.0,25.0,30.0,29.0,31.0,28.0,null,null,19.0,18.0,null,null,null,null,null,null,null,null,null,null,1.0,17.0,20.0,16.0,25.0,35.0,33.0,32.0,35.0,33.0,29.0,30.0,33.0,35.0,41.0,50.0,51.0,46.0,null,null,null,null,null,null,null,null,null,null,null,null,null,null,null,null,null,null,null,null,null,1.0,null,null,null,null,null,null],[null,null,null,null,null,null,null,null,null,null,null,null,null,null,null,null,null,null,null,null,null,null,null,null,null,null,null,null,null,null,null,null,null,null,null,null,null,null,null,null,null,null,null,null,null,null,null,null,null,null,null,null,null,null,null,null,null,null,null,null,null,null,null,null,null,null,null,null,null,null,null,null,null,null,null,null,null,null,null,null,null,null,null,null,null,null,null,null,null,null,null,null,null,null,null,null,null,null,null,null,null,null,null,null,null,null,null,null,26.0,34.0,37.0,37.0,36.0,36.0,42.0,46.0,41.0,38.0,36.0,43.0,52.0,55.0,46.0,43.0,47.0,51.0,59.0,55.0,null,null,null,null,null,null,null,null,null,null,null,null,null,null,null,null,null,null,null,null,null,null,null,null,null,null,null,null,null,null,null,null,null,null,null,null,null,null,null,null,null,null,null,null,null,null,null,null,null,null,null,null,null,null,null,null,null,null,null,null,null,null,null,null,null,null,null,null,null,69.0,81.0,89.0,86.0,89.0,91.0,93.0,95.0,99.0,101.0,97.0,null,null,null,null,null,null,null,null,null,null,null,null,null,null,null,null,null,null,null,null,null,null,null,null,null,null,null,null,null,null,null,null,null,null,null,null,null,null,null,null,null,null,null,null,null,null,null,null,null,null,null,null,null,null,null,null,null,null,null,null,null,null,null,null,null,null,null,null,null,null,null,null,null,null,null,null,null,null,null,null,null,null,null,null,null,null,23.0,25.0,32.0,26.0,27.0,27.0,27.0,20.0,21.0,17.0,16.0,null,null,null,null,null,null,null,null,null,20.0,21.0,23.0,25.0,23.0,28.0,33.0,39.0,29.0,28.0,28.0,31.0,32.0,32.0,45.0,49.0,57.0,59.0,null,null,null,null,null,null,null,null,null,null,null,null,null,null,null,null,null,null,null,null,null,null,null,null,null,null,null,null],[null,null,null,null,null,null,null,null,null,null,null,null,null,null,null,null,null,null,null,null,null,null,null,null,null,null,null,null,null,null,null,null,null,null,null,null,null,null,null,null,null,null,null,null,null,null,null,null,null,null,null,null,null,null,null,null,null,null,null,null,null,null,null,null,null,null,null,null,null,null,null,null,null,null,null,null,null,null,null,null,null,null,null,null,null,null,null,null,null,null,null,null,null,null,null,null,null,null,null,null,null,null,null,null,null,null,null,null,27.0,34.0,32.0,38.0,39.0,42.0,42.0,48.0,43.0,39.0,43.0,49.0,46.0,54.0,49.0,49.0,54.0,55.0,66.0,69.0,null,null,null,null,null,null,null,null,null,null,null,null,null,null,null,null,null,null,null,null,null,null,null,null,null,null,null,null,null,null,null,null,null,null,null,null,null,null,null,null,null,null,null,null,null,null,null,null,null,null,null,null,null,null,null,null,null,null,null,null,null,null,null,null,null,null,null,null,null,70.0,80.0,83.0,72.0,68.0,72.0,77.0,86.0,95.0,106.0,98.0,84.0,68.0,null,null,null,null,null,null,null,null,null,null,null,null,null,null,null,null,null,null,null,null,null,null,null,null,null,null,null,null,null,null,null,null,null,null,null,null,null,null,null,null,null,null,null,null,null,null,null,null,null,null,null,null,null,null,null,null,null,null,null,null,null,null,null,null,null,null,null,null,null,null,null,null,null,null,null,null,null,null,null,null,null,null,null,null,null,25.0,34.0,31.0,25.0,28.0,24.0,21.0,20.0,17.0,16.0,13.0,14.0,14.0,13.0,null,null,null,16.0,24.0,24.0,25.0,24.0,28.0,22.0,22.0,27.0,26.0,28.0,27.0,24.0,28.0,29.0,29.0,42.0,47.0,59.0,67.0,63.0,null,null,null,null,null,null,null,null,null,null,null,null,null,null,null,null,null,null,null,null,null,null,null,null,null,null,null],[null,null,null,null,null,null,null,null,null,null,null,null,null,null,null,null,null,null,null,null,null,null,null,null,null,null,null,null,null,null,null,null,null,null,null,null,null,null,null,null,null,null,null,null,null,null,null,null,null,null,null,null,null,null,null,null,null,null,null,null,null,null,null,null,null,null,null,null,null,null,null,null,null,null,null,null,null,null,null,null,null,null,null,null,null,null,null,null,null,null,null,null,null,null,null,null,null,null,null,null,null,null,null,null,null,null,null,null,26.0,33.0,31.0,38.0,43.0,45.0,47.0,48.0,44.0,44.0,46.0,51.0,51.0,58.0,59.0,52.0,60.0,66.0,70.0,75.0,74.0,62.0,null,null,null,null,null,null,null,null,null,null,null,null,null,null,null,null,null,null,null,null,null,null,null,null,null,null,null,null,null,null,null,null,null,null,null,null,null,null,null,null,null,null,null,null,null,null,null,null,null,null,null,null,null,null,null,null,null,null,null,null,null,null,null,null,null,null,null,62.0,78.0,72.0,61.0,55.0,63.0,67.0,74.0,82.0,92.0,96.0,89.0,79.0,75.0,null,null,null,null,null,null,null,null,null,null,null,null,null,null,null,null,null,null,null,null,null,null,null,null,null,null,null,null,null,null,null,null,null,null,null,null,null,null,null,null,null,null,null,null,null,null,null,null,null,null,null,null,null,null,null,null,null,null,null,null,null,null,null,null,null,null,null,null,null,null,null,null,null,null,null,null,null,null,null,null,null,null,null,null,23.0,29.0,23.0,23.0,22.0,23.0,23.0,24.0,23.0,21.0,14.0,14.0,14.0,14.0,13.0,15.0,20.0,22.0,24.0,25.0,26.0,27.0,29.0,24.0,25.0,26.0,23.0,26.0,26.0,26.0,25.0,24.0,29.0,39.0,48.0,54.0,66.0,67.0,61.0,null,null,null,null,null,2.0,null,null,null,null,null,null,null,null,null,null,null,null,null,null,null,null,null,null,null,null],[null,null,null,null,null,null,null,null,null,null,null,null,null,null,null,null,null,null,null,null,null,null,null,null,null,null,null,null,null,null,null,null,null,null,null,null,null,null,null,null,null,null,null,null,null,null,null,null,null,null,null,null,null,null,null,null,null,null,null,null,null,null,null,null,null,null,null,null,null,null,null,null,null,null,null,null,null,null,null,null,null,null,null,null,null,null,null,null,null,null,null,null,null,null,null,null,null,null,null,null,null,null,null,null,null,null,null,null,25.0,32.0,28.0,37.0,41.0,43.0,52.0,49.0,48.0,47.0,46.0,53.0,59.0,60.0,73.0,65.0,65.0,69.0,75.0,83.0,87.0,85.0,null,null,null,null,null,null,null,null,null,null,null,null,null,null,null,null,null,null,null,null,null,null,null,null,null,null,null,null,null,null,null,null,null,null,null,null,null,null,null,null,null,null,null,null,null,null,null,null,null,null,null,null,null,null,null,null,null,null,null,null,null,null,null,null,null,null,null,69.0,70.0,65.0,55.0,56.0,60.0,65.0,71.0,81.0,85.0,87.0,86.0,100.0,96.0,null,null,null,null,null,null,null,null,null,null,null,null,null,null,null,null,null,null,null,null,null,null,null,null,null,null,null,null,null,null,null,null,null,null,null,null,null,null,null,null,null,null,null,null,null,null,null,null,null,null,null,null,null,null,null,null,null,null,null,null,null,null,null,null,null,null,null,null,null,null,null,null,null,null,null,null,null,null,null,null,null,null,null,19.0,23.0,22.0,22.0,23.0,24.0,24.0,25.0,25.0,28.0,24.0,17.0,14.0,13.0,14.0,15.0,20.0,25.0,25.0,24.0,25.0,27.0,31.0,25.0,24.0,26.0,26.0,25.0,23.0,23.0,26.0,31.0,32.0,29.0,35.0,41.0,48.0,61.0,71.0,66.0,null,null,null,null,null,null,null,null,null,null,null,null,null,null,null,null,null,null,null,null,null,null,null,null,null,null],[null,null,null,null,null,null,null,null,null,null,null,null,null,null,null,null,null,null,null,null,null,null,null,null,null,null,null,null,null,null,null,null,null,null,null,null,null,null,null,null,null,null,null,null,null,null,null,null,null,null,null,null,null,null,null,null,null,null,null,null,null,null,null,null,null,null,null,null,null,null,null,null,null,null,null,null,null,null,null,null,null,null,null,null,null,null,null,null,null,null,null,null,null,null,null,null,null,null,null,null,null,null,null,null,null,null,null,null,23.0,28.0,22.0,37.0,46.0,49.0,61.0,50.0,47.0,48.0,51.0,58.0,67.0,63.0,76.0,81.0,80.0,88.0,93.0,95.0,105.0,112.0,104.0,null,null,null,null,null,null,null,null,null,null,null,null,null,null,null,null,null,null,null,null,null,null,null,null,null,null,null,null,null,null,null,null,null,null,null,null,null,null,null,null,null,null,null,null,null,null,null,null,null,null,null,null,null,null,null,null,null,null,null,null,null,null,null,null,null,55.0,75.0,73.0,71.0,64.0,64.0,65.0,65.0,71.0,79.0,78.0,81.0,69.0,106.0,118.0,101.0,null,null,null,null,null,null,null,null,null,null,null,null,null,null,null,null,null,null,null,null,null,null,null,null,null,null,null,null,null,null,null,null,null,null,null,null,null,null,null,null,null,null,null,null,null,null,null,null,null,null,null,null,null,null,null,null,null,null,null,null,null,null,null,null,null,null,null,null,null,null,null,null,null,null,null,null,null,null,null,null,null,null,18.0,22.0,23.0,19.0,20.0,23.0,26.0,24.0,24.0,26.0,23.0,21.0,19.0,20.0,18.0,19.0,20.0,21.0,23.0,22.0,20.0,22.0,23.0,24.0,24.0,25.0,27.0,25.0,25.0,24.0,25.0,28.0,31.0,31.0,33.0,39.0,46.0,63.0,73.0,70.0,null,null,null,null,null,null,null,null,null,null,null,null,null,null,2.0,null,null,null,null,null,null,null,null,null,null,null],[null,null,null,null,null,null,null,null,null,null,null,null,null,null,null,null,null,null,null,null,null,null,null,null,null,null,null,null,null,null,null,null,null,null,null,null,null,null,null,null,null,null,null,null,null,null,null,null,null,null,null,null,null,null,null,null,null,null,null,null,null,null,null,null,null,null,null,null,null,null,null,null,null,null,null,null,null,null,null,null,null,null,null,null,null,null,null,null,null,null,null,null,null,null,null,null,null,null,null,null,null,null,null,null,null,null,null,null,18.0,23.0,21.0,36.0,45.0,68.0,71.0,49.0,48.0,49.0,52.0,56.0,69.0,78.0,81.0,96.0,101.0,96.0,99.0,102.0,110.0,117.0,116.0,105.0,null,null,null,null,null,null,null,null,null,null,null,null,null,null,null,null,null,null,null,null,null,null,null,null,null,null,null,null,null,null,null,null,null,null,null,null,null,null,null,null,null,null,null,null,null,null,null,null,null,null,null,null,null,null,null,null,null,null,null,null,null,null,null,26.0,63.0,71.0,67.0,72.0,71.0,69.0,69.0,68.0,74.0,78.0,77.0,82.0,91.0,107.0,121.0,135.0,124.0,null,null,null,null,null,null,null,null,null,null,null,null,null,null,null,null,null,null,null,null,null,null,null,null,null,null,null,null,null,null,null,null,null,null,null,null,null,null,null,null,null,null,null,null,null,null,null,null,null,null,null,null,null,null,null,null,null,null,null,null,null,null,null,null,null,null,null,null,null,null,null,null,null,null,null,null,null,null,null,null,null,18.0,20.0,19.0,17.0,22.0,23.0,25.0,25.0,25.0,26.0,25.0,23.0,21.0,18.0,18.0,18.0,19.0,23.0,22.0,22.0,23.0,25.0,24.0,23.0,22.0,23.0,23.0,24.0,24.0,25.0,26.0,28.0,31.0,32.0,36.0,39.0,48.0,63.0,76.0,76.0,null,null,null,null,null,null,null,null,null,null,null,null,null,null,null,null,null,null,null,null,null,null,null,null,null,null],[null,null,null,null,null,null,null,null,null,null,null,null,null,null,null,null,null,null,null,null,null,null,null,null,null,null,null,null,null,null,null,null,null,null,null,null,null,null,null,null,null,null,null,null,null,null,null,null,null,null,null,null,null,null,null,null,null,null,null,null,null,null,null,null,null,null,null,null,null,null,null,null,null,null,null,null,null,null,null,null,null,null,null,null,null,null,null,null,null,null,null,null,null,null,null,null,null,null,null,null,null,null,null,null,null,null,null,null,14.0,16.0,23.0,30.0,43.0,72.0,91.0,59.0,53.0,53.0,55.0,62.0,83.0,96.0,101.0,112.0,123.0,122.0,120.0,112.0,117.0,121.0,119.0,108.0,null,null,null,null,null,null,null,null,null,null,null,null,null,null,null,null,null,null,null,null,null,null,null,null,null,null,null,null,null,null,null,null,null,null,null,null,null,null,null,null,null,null,null,null,null,null,null,null,null,null,null,null,null,null,null,null,null,null,null,null,null,null,null,35.0,62.0,67.0,60.0,64.0,69.0,68.0,73.0,72.0,76.0,75.0,78.0,79.0,85.0,102.0,122.0,140.0,128.0,null,null,null,null,null,null,null,null,null,null,null,null,null,null,null,null,null,null,null,null,null,null,null,null,null,null,null,null,null,null,null,null,null,null,null,null,null,null,null,null,null,null,null,null,null,null,null,null,null,null,null,null,null,null,null,null,null,null,null,null,null,null,null,null,null,null,null,null,null,null,null,null,null,null,null,null,null,null,null,null,19.0,21.0,21.0,16.0,20.0,20.0,22.0,24.0,24.0,24.0,24.0,24.0,25.0,26.0,21.0,20.0,22.0,22.0,23.0,23.0,26.0,26.0,27.0,24.0,21.0,24.0,25.0,26.0,26.0,23.0,29.0,29.0,31.0,32.0,36.0,39.0,42.0,47.0,62.0,71.0,68.0,null,null,null,null,null,null,null,null,null,null,null,null,null,null,null,null,null,null,null,null,null,null,null,null,null,null],[null,null,null,null,null,null,null,null,null,null,null,null,null,null,null,null,null,null,null,null,null,null,null,null,null,null,null,null,null,null,null,null,null,null,null,null,null,null,null,null,null,null,null,null,null,null,null,null,null,null,null,null,null,null,null,null,null,null,null,null,null,null,null,null,null,null,null,null,null,null,null,null,null,null,null,null,null,null,null,null,null,null,null,null,null,null,null,null,null,null,null,null,null,null,null,null,null,null,null,null,null,null,null,null,null,null,null,null,null,13.0,16.0,21.0,36.0,69.0,100.0,74.0,61.0,60.0,58.0,67.0,88.0,98.0,102.0,106.0,116.0,127.0,129.0,123.0,126.0,130.0,128.0,118.0,null,null,null,null,null,null,null,null,null,null,null,null,null,null,null,null,null,null,null,null,null,null,null,null,null,null,null,null,null,null,null,null,null,null,null,null,null,null,null,null,null,null,null,null,null,null,null,null,null,null,null,null,null,null,null,null,null,null,null,null,null,null,18.0,45.0,62.0,61.0,62.0,68.0,66.0,67.0,74.0,71.0,74.0,84.0,93.0,107.0,101.0,95.0,129.0,144.0,125.0,null,null,null,null,null,null,null,null,null,null,null,null,null,null,null,null,null,null,null,null,null,null,null,null,null,null,null,null,null,null,null,null,null,null,null,null,null,null,null,null,null,null,null,null,null,null,null,null,null,null,null,null,null,null,null,null,null,null,null,null,null,null,null,null,null,null,null,null,null,null,null,null,null,null,null,null,null,null,null,null,22.0,20.0,21.0,19.0,22.0,22.0,23.0,24.0,25.0,25.0,24.0,25.0,26.0,27.0,26.0,25.0,26.0,26.0,25.0,27.0,27.0,28.0,30.0,26.0,22.0,26.0,26.0,27.0,28.0,26.0,28.0,30.0,33.0,35.0,40.0,43.0,46.0,51.0,60.0,69.0,64.0,null,null,null,null,null,null,null,null,null,null,null,null,null,null,null,null,null,null,null,null,null,null,null,null,null,null],[null,null,null,null,null,null,null,null,null,null,null,null,null,null,null,null,null,null,null,null,null,null,null,null,null,null,null,null,null,null,null,null,null,null,null,null,null,null,null,null,null,null,null,null,null,null,null,null,null,null,null,null,null,null,null,null,null,null,null,null,null,null,null,null,null,null,null,null,null,null,null,null,null,null,null,null,null,null,null,null,null,null,null,null,null,null,null,null,null,null,null,null,null,null,null,null,null,null,null,null,null,null,null,null,null,null,null,null,null,12.0,12.0,19.0,28.0,60.0,94.0,86.0,71.0,64.0,64.0,69.0,80.0,96.0,115.0,110.0,111.0,131.0,129.0,125.0,127.0,131.0,140.0,142.0,128.0,null,null,null,null,null,null,null,null,null,null,null,null,null,null,null,null,null,null,null,null,null,null,null,null,null,null,null,null,null,null,null,null,null,null,null,null,null,null,null,null,null,null,null,null,null,null,null,null,null,null,null,null,null,null,null,null,null,null,null,null,null,19.0,51.0,69.0,68.0,66.0,67.0,65.0,61.0,65.0,67.0,75.0,101.0,118.0,134.0,128.0,125.0,146.0,158.0,128.0,88.0,77.0,null,null,null,null,null,null,null,null,null,17.0,15.0,57.0,null,null,null,null,null,null,null,null,null,null,null,null,null,null,null,null,null,null,null,null,null,null,null,null,null,null,null,null,null,null,null,null,null,null,null,null,null,null,null,null,null,null,null,null,null,null,null,null,null,null,null,null,null,null,null,null,null,null,null,null,null,null,null,null,null,null,29.0,22.0,22.0,23.0,26.0,25.0,28.0,29.0,27.0,27.0,26.0,26.0,26.0,27.0,26.0,26.0,28.0,29.0,30.0,29.0,29.0,28.0,29.0,27.0,26.0,27.0,29.0,29.0,31.0,28.0,29.0,32.0,34.0,38.0,49.0,50.0,50.0,56.0,61.0,64.0,59.0,null,null,null,null,null,null,null,null,null,null,null,null,null,null,null,null,null,null,null,null,null,null,null,null,null,null],[null,null,null,null,null,null,null,null,null,null,null,null,null,null,null,null,null,null,null,null,null,null,null,null,null,null,null,null,null,null,null,null,null,null,null,null,null,null,null,null,null,null,null,null,null,null,null,null,null,null,null,null,null,null,null,null,null,null,null,null,null,null,null,null,null,null,null,null,null,null,null,null,null,null,null,null,null,null,null,null,null,null,null,null,null,null,null,null,null,null,null,null,null,null,null,null,null,null,null,null,null,null,null,null,null,null,null,null,null,12.0,12.0,20.0,26.0,51.0,109.0,105.0,83.0,72.0,65.0,80.0,89.0,93.0,115.0,117.0,119.0,133.0,120.0,126.0,127.0,137.0,150.0,155.0,152.0,143.0,null,null,null,null,null,null,null,null,null,null,null,null,null,null,null,null,null,null,null,null,null,null,null,null,null,null,null,null,null,null,null,null,null,null,null,null,null,null,null,null,null,null,null,null,null,null,null,null,null,null,null,null,null,null,null,null,null,null,null,null,25.0,64.0,73.0,70.0,67.0,67.0,64.0,59.0,61.0,64.0,73.0,96.0,105.0,128.0,132.0,136.0,150.0,144.0,129.0,95.0,84.0,80.0,null,null,null,null,null,null,null,22.0,25.0,23.0,60.0,49.0,null,null,null,null,null,null,null,null,null,null,null,null,null,null,null,null,null,null,null,null,null,null,null,null,null,null,null,null,null,null,null,null,null,null,null,null,null,null,null,null,null,null,null,null,null,null,null,null,null,null,null,null,null,null,null,null,null,null,null,null,null,null,null,null,null,26.0,25.0,26.0,26.0,27.0,30.0,31.0,29.0,26.0,28.0,27.0,27.0,26.0,27.0,28.0,27.0,26.0,28.0,30.0,30.0,31.0,30.0,29.0,25.0,24.0,28.0,28.0,27.0,29.0,27.0,28.0,32.0,33.0,41.0,53.0,54.0,60.0,63.0,63.0,59.0,39.0,null,null,null,null,null,null,null,null,null,null,null,null,null,null,null,null,null,null,null,null,null,null,null,null,null,null],[null,null,null,null,null,null,null,null,null,null,null,null,null,null,null,null,null,null,null,null,null,null,null,null,null,null,null,null,null,null,null,null,null,null,null,null,null,null,null,null,null,null,null,null,null,null,null,null,null,null,null,null,null,null,null,null,null,null,null,null,null,null,null,null,null,null,null,null,null,null,null,null,null,null,null,null,null,null,null,null,null,null,null,null,null,null,null,null,null,null,null,null,null,null,null,null,null,null,null,null,null,null,null,null,null,null,null,null,null,10.0,11.0,20.0,29.0,41.0,106.0,117.0,93.0,80.0,78.0,85.0,91.0,95.0,115.0,117.0,123.0,134.0,134.0,126.0,134.0,141.0,151.0,156.0,161.0,160.0,161.0,155.0,149.0,null,null,null,null,null,null,null,null,null,null,null,null,null,null,null,null,null,null,null,null,null,null,null,null,null,null,null,null,null,null,null,null,null,null,null,null,null,null,null,null,null,null,null,null,null,null,null,null,null,null,null,null,null,null,null,null,null,37.0,74.0,75.0,75.0,67.0,65.0,63.0,58.0,59.0,62.0,63.0,75.0,100.0,112.0,123.0,140.0,160.0,145.0,117.0,94.0,87.0,81.0,null,null,null,null,null,null,null,32.0,36.0,25.0,50.0,48.0,null,null,null,null,null,null,null,null,null,null,null,null,null,null,null,null,null,null,null,null,null,null,null,null,null,null,null,null,null,null,null,null,null,null,null,null,null,null,null,null,null,null,null,null,null,null,null,null,null,null,null,null,null,null,null,null,null,null,null,null,null,null,null,null,null,21.0,23.0,33.0,32.0,35.0,34.0,38.0,31.0,31.0,25.0,25.0,25.0,24.0,25.0,25.0,26.0,26.0,26.0,29.0,32.0,31.0,32.0,31.0,25.0,24.0,28.0,27.0,26.0,28.0,27.0,31.0,31.0,36.0,41.0,51.0,64.0,66.0,67.0,60.0,null,null,null,null,null,null,null,null,null,null,null,null,null,null,null,null,null,null,null,null,null,null,null,null,null,null,null,null],[null,null,null,null,null,null,null,null,null,null,null,null,null,null,null,null,null,null,null,null,null,null,null,null,null,null,null,null,null,null,null,null,null,null,null,null,null,null,null,null,null,null,null,null,null,null,null,null,null,null,null,null,null,null,null,null,null,null,null,null,null,null,null,null,null,null,null,null,null,null,null,null,null,null,null,null,null,null,null,null,null,null,null,null,null,null,null,null,null,null,null,null,null,null,null,null,null,null,null,null,null,null,null,null,null,null,null,null,null,9.0,11.0,29.0,34.0,41.0,93.0,128.0,116.0,96.0,86.0,86.0,91.0,100.0,116.0,121.0,129.0,124.0,135.0,138.0,138.0,145.0,152.0,159.0,160.0,176.0,174.0,177.0,173.0,169.0,153.0,null,null,null,null,null,null,null,null,null,null,null,null,null,null,null,null,null,null,null,null,null,null,null,null,null,null,null,null,null,null,null,null,null,null,null,null,null,null,null,null,null,null,null,null,null,null,null,null,null,null,null,null,null,null,null,56.0,79.0,78.0,75.0,71.0,63.0,63.0,63.0,63.0,64.0,63.0,70.0,87.0,100.0,120.0,143.0,161.0,152.0,124.0,100.0,89.0,82.0,null,null,null,null,null,null,null,32.0,39.0,34.0,65.0,64.0,null,null,null,null,null,null,null,null,null,null,null,null,null,null,null,null,null,null,null,null,null,null,null,null,null,null,null,null,null,null,null,null,null,null,null,null,null,null,null,null,null,null,null,null,null,null,null,null,null,null,null,null,null,null,null,null,null,null,null,null,null,null,null,null,null,22.0,30.0,36.0,32.0,33.0,34.0,35.0,35.0,30.0,27.0,23.0,22.0,22.0,23.0,23.0,24.0,25.0,26.0,28.0,27.0,30.0,30.0,28.0,24.0,24.0,27.0,29.0,29.0,28.0,30.0,32.0,34.0,40.0,47.0,58.0,66.0,67.0,65.0,null,null,null,null,null,null,null,null,null,null,null,null,null,null,null,7.0,6.0,null,null,null,null,null,null,null,null,null,null,null,null],[null,null,null,null,1.0,1.0,null,null,null,null,null,null,null,null,null,null,null,null,null,null,1.0,null,1.0,null,null,null,null,null,null,null,null,null,null,null,null,null,null,null,null,null,null,null,null,null,null,null,null,null,null,null,null,null,null,null,null,null,null,null,null,null,null,null,null,null,null,null,null,null,null,null,null,null,null,null,null,null,null,null,null,null,null,null,null,null,null,null,null,null,null,null,null,null,null,null,null,null,null,null,null,null,null,null,null,null,null,null,null,null,null,10.0,15.0,34.0,30.0,40.0,75.0,120.0,122.0,100.0,86.0,88.0,86.0,102.0,114.0,121.0,123.0,125.0,127.0,136.0,141.0,138.0,148.0,157.0,163.0,168.0,172.0,175.0,172.0,171.0,166.0,146.0,null,null,null,null,null,null,null,null,null,null,null,null,null,null,null,null,null,null,null,null,null,null,null,null,null,null,null,null,null,null,null,null,null,null,null,null,null,null,null,null,null,null,null,null,null,null,null,null,null,null,null,null,null,30.0,69.0,81.0,80.0,74.0,72.0,68.0,69.0,67.0,69.0,74.0,78.0,80.0,90.0,103.0,122.0,135.0,143.0,154.0,153.0,122.0,98.0,87.0,null,null,null,null,null,null,null,33.0,32.0,31.0,54.0,65.0,13.0,null,null,null,null,null,null,4.0,null,null,null,null,null,null,null,null,null,null,null,null,null,null,null,null,null,null,null,null,null,null,null,null,null,null,null,null,null,null,null,null,null,null,null,null,null,null,null,null,null,null,null,null,null,null,null,null,null,null,null,null,null,null,null,null,null,22.0,29.0,36.0,34.0,37.0,37.0,34.0,34.0,27.0,27.0,22.0,20.0,19.0,19.0,20.0,20.0,23.0,27.0,27.0,27.0,28.0,28.0,27.0,26.0,27.0,30.0,33.0,32.0,29.0,32.0,32.0,37.0,44.0,49.0,64.0,68.0,62.0,null,null,null,null,null,null,null,null,null,null,null,null,null,null,7.0,7.0,6.0,4.0,4.0,null,null,null,null,null,null,null,null,null,null,null],[null,null,null,null,null,null,null,null,null,null,null,null,null,null,null,null,null,null,null,null,null,null,null,null,null,null,null,null,null,null,null,null,null,null,null,null,null,null,null,null,null,null,null,null,null,null,null,null,null,null,null,null,null,null,null,null,null,null,null,null,null,null,null,null,null,null,null,null,null,null,null,null,null,null,null,null,null,null,null,null,null,null,null,null,null,null,null,null,null,null,null,null,null,null,null,null,null,null,null,null,null,null,null,null,null,null,null,null,null,12.0,25.0,32.0,30.0,40.0,69.0,112.0,122.0,104.0,92.0,90.0,90.0,109.0,123.0,125.0,126.0,125.0,125.0,128.0,136.0,138.0,139.0,145.0,157.0,165.0,165.0,163.0,174.0,169.0,165.0,155.0,null,null,null,null,null,null,null,null,null,null,null,null,null,null,null,null,null,null,null,null,null,null,null,null,null,null,null,null,null,null,null,null,null,null,null,null,null,null,null,null,null,null,null,null,null,null,null,null,null,null,null,null,null,60.0,79.0,84.0,84.0,85.0,79.0,77.0,80.0,87.0,108.0,114.0,99.0,97.0,100.0,123.0,130.0,131.0,135.0,150.0,167.0,147.0,114.0,88.0,null,null,null,null,null,null,null,32.0,39.0,29.0,15.0,65.0,41.0,null,null,null,null,null,null,4.0,null,3.0,null,null,null,null,null,null,null,null,null,null,null,null,null,null,null,null,null,null,null,null,null,null,null,null,null,null,null,null,null,null,null,null,null,null,null,null,null,null,null,null,null,null,null,null,null,null,null,null,null,null,null,null,null,null,null,null,null,12.0,36.0,37.0,36.0,36.0,33.0,29.0,27.0,21.0,20.0,20.0,19.0,22.0,25.0,29.0,28.0,25.0,28.0,28.0,30.0,28.0,27.0,30.0,34.0,31.0,28.0,27.0,30.0,38.0,47.0,53.0,63.0,63.0,67.0,60.0,null,null,null,null,null,null,null,null,null,null,null,null,null,7.0,7.0,7.0,1.0,4.0,null,4.0,null,null,null,null,null,null,null,null,null,null],[1.0,null,null,null,1.0,1.0,null,null,null,null,1.0,null,null,null,null,null,null,null,null,null,null,null,null,null,null,null,null,null,null,null,null,null,null,null,null,null,null,null,null,null,null,null,null,null,null,null,null,null,null,null,null,null,null,null,null,null,null,null,null,null,null,null,null,null,null,null,null,null,null,null,null,null,null,null,null,null,null,null,null,null,null,null,null,null,null,null,null,null,null,null,null,null,null,null,null,null,null,null,null,null,null,null,null,null,null,null,null,null,null,13.0,32.0,32.0,33.0,50.0,79.0,117.0,126.0,119.0,110.0,112.0,115.0,132.0,135.0,134.0,133.0,132.0,129.0,128.0,136.0,142.0,142.0,146.0,153.0,156.0,162.0,168.0,173.0,167.0,162.0,159.0,148.0,null,null,null,null,null,null,null,null,null,null,null,null,null,null,null,null,null,null,null,null,null,null,null,null,null,null,null,null,null,null,null,null,null,null,null,null,null,null,null,null,null,null,null,null,null,null,null,null,null,null,null,45.0,74.0,85.0,88.0,89.0,88.0,82.0,83.0,92.0,109.0,120.0,120.0,120.0,120.0,125.0,133.0,129.0,130.0,130.0,144.0,161.0,154.0,122.0,95.0,null,null,null,null,null,null,null,null,43.0,30.0,15.0,67.0,65.0,null,null,null,null,null,null,null,null,null,null,null,null,null,null,1.0,null,null,null,null,null,null,null,null,null,null,null,null,null,null,null,null,null,null,null,null,null,null,null,null,null,null,null,null,null,null,null,null,null,null,null,null,null,null,null,null,null,null,null,null,null,null,null,null,null,null,null,null,null,null,null,27.0,25.0,29.0,30.0,29.0,26.0,25.0,26.0,28.0,26.0,29.0,30.0,28.0,29.0,30.0,30.0,26.0,26.0,33.0,37.0,33.0,27.0,27.0,30.0,39.0,50.0,74.0,83.0,62.0,58.0,null,null,null,null,null,null,null,null,null,null,null,null,null,null,null,null,null,null,null,null,5.0,null,null,null,null,null,null,null,3.0,3.0,null],[2.0,2.0,null,null,null,1.0,1.0,null,null,null,1.0,null,null,null,null,null,null,null,null,null,null,null,null,null,null,null,null,null,null,null,null,null,null,null,null,null,null,null,null,null,null,null,null,null,null,null,null,null,null,null,null,null,null,null,null,null,null,null,null,null,null,null,null,null,null,null,null,null,null,null,null,null,null,null,null,null,null,null,null,null,null,null,null,null,null,null,null,null,null,null,null,null,null,null,null,null,null,null,null,null,null,null,null,null,null,null,null,null,null,17.0,47.0,43.0,47.0,72.0,118.0,140.0,152.0,147.0,131.0,132.0,129.0,127.0,137.0,137.0,136.0,132.0,132.0,135.0,133.0,136.0,139.0,145.0,149.0,150.0,160.0,162.0,166.0,157.0,155.0,153.0,151.0,null,null,null,null,null,null,null,null,null,null,null,null,null,null,null,null,null,null,null,null,null,null,null,null,null,null,null,null,null,null,null,null,null,null,null,null,null,null,null,null,null,null,null,null,null,null,null,null,null,null,24.0,63.0,83.0,87.0,91.0,87.0,87.0,89.0,97.0,104.0,113.0,117.0,119.0,124.0,133.0,139.0,138.0,131.0,131.0,137.0,141.0,154.0,154.0,131.0,108.0,94.0,null,null,null,null,null,null,null,33.0,30.0,12.0,57.0,70.0,59.0,null,null,null,null,null,null,null,null,null,null,null,null,null,null,null,null,null,null,null,null,null,null,null,null,null,null,null,null,null,null,null,null,null,null,null,null,null,null,null,null,null,null,null,null,null,null,null,null,null,null,null,null,null,null,null,null,null,null,null,null,null,null,null,null,null,null,null,null,null,null,null,28.0,39.0,42.0,41.0,36.0,32.0,36.0,35.0,27.0,25.0,29.0,30.0,29.0,28.0,26.0,33.0,39.0,41.0,42.0,32.0,29.0,30.0,39.0,59.0,93.0,84.0,null,null,null,null,null,null,null,null,null,null,null,null,null,null,null,null,null,null,null,null,null,4.0,4.0,null,null,null,null,null,null,null,4.0,4.0,1.0],[3.0,3.0,null,null,null,null,null,null,null,null,null,null,null,null,null,null,null,null,null,null,null,null,null,null,null,null,null,null,null,null,null,null,null,null,null,null,null,null,null,null,null,null,null,null,null,null,null,null,null,null,null,null,null,null,null,null,null,null,null,null,null,null,null,null,null,null,null,null,null,null,null,null,null,null,null,null,null,null,null,null,null,null,null,null,null,null,null,null,null,null,null,null,null,null,null,null,null,null,null,null,null,null,null,null,null,null,null,null,17.0,43.0,59.0,58.0,93.0,144.0,187.0,192.0,175.0,158.0,145.0,139.0,138.0,140.0,142.0,140.0,137.0,134.0,137.0,138.0,137.0,134.0,138.0,142.0,142.0,147.0,151.0,156.0,162.0,154.0,152.0,150.0,146.0,null,null,null,null,null,null,null,null,null,null,null,null,null,null,null,null,null,null,null,null,null,null,null,null,null,null,null,null,null,null,null,null,null,null,null,null,null,null,null,null,null,null,null,null,null,null,null,null,null,null,35.0,77.0,89.0,98.0,92.0,89.0,92.0,90.0,86.0,94.0,106.0,108.0,113.0,129.0,142.0,137.0,143.0,135.0,129.0,139.0,145.0,152.0,146.0,144.0,129.0,91.0,77.0,null,null,null,null,null,19.0,27.0,26.0,23.0,47.0,68.0,65.0,null,null,null,null,null,null,null,null,null,null,null,null,null,null,null,null,null,null,null,null,null,null,null,null,null,null,null,null,null,null,null,null,null,null,null,null,null,null,null,null,null,null,null,null,null,null,null,null,null,null,null,null,null,null,null,null,null,null,null,null,null,null,null,null,null,null,null,null,null,null,null,null,33.0,50.0,50.0,44.0,36.0,40.0,40.0,35.0,30.0,29.0,28.0,26.0,26.0,29.0,37.0,44.0,41.0,33.0,27.0,25.0,27.0,37.0,64.0,91.0,66.0,null,null,null,null,null,null,null,null,null,null,null,null,null,null,null,null,null,null,null,null,null,7.0,null,null,null,null,null,null,null,null,4.0,4.0,5.0],[6.0,null,null,null,null,null,null,null,null,null,null,null,null,null,null,null,null,null,null,null,null,null,null,null,null,null,null,null,null,null,null,null,null,null,null,null,null,null,null,null,null,null,null,null,null,null,null,null,null,null,null,null,null,null,null,null,null,null,null,null,null,null,null,null,null,null,null,null,null,null,null,null,null,null,null,null,null,null,null,null,null,null,null,null,null,null,null,null,null,null,null,null,null,null,null,null,null,null,null,null,null,null,null,null,null,null,22.0,33.0,48.0,58.0,70.0,118.0,170.0,197.0,199.0,176.0,169.0,167.0,157.0,151.0,148.0,149.0,146.0,143.0,138.0,139.0,140.0,139.0,139.0,138.0,137.0,144.0,147.0,143.0,146.0,149.0,145.0,150.0,147.0,153.0,147.0,137.0,null,null,null,null,null,null,null,null,null,null,null,null,null,null,null,null,null,null,null,null,null,null,null,null,null,null,null,null,null,null,null,null,null,null,null,null,null,null,null,null,null,null,null,null,null,null,null,null,null,41.0,79.0,101.0,102.0,88.0,85.0,84.0,80.0,77.0,78.0,90.0,101.0,116.0,115.0,130.0,135.0,147.0,146.0,148.0,149.0,145.0,135.0,143.0,160.0,155.0,97.0,77.0,74.0,67.0,null,null,null,null,31.0,35.0,38.0,34.0,63.0,62.0,null,null,null,null,null,null,null,null,null,null,null,null,null,null,null,null,null,null,null,null,null,null,null,null,null,null,null,null,null,null,null,null,null,null,null,null,null,null,null,null,null,null,null,null,null,null,null,null,null,null,null,null,null,null,null,null,null,null,null,null,null,null,null,null,null,null,null,null,null,null,null,null,32.0,53.0,52.0,56.0,44.0,44.0,46.0,45.0,41.0,35.0,34.0,33.0,36.0,41.0,44.0,45.0,39.0,29.0,17.0,19.0,26.0,40.0,82.0,91.0,null,null,null,null,null,null,null,null,null,null,null,null,null,null,null,null,null,null,null,null,null,7.0,2.0,null,null,null,null,null,null,null,null,3.0,4.0,6.0],[null,null,null,null,null,null,null,null,null,null,null,null,null,null,null,null,null,null,null,null,null,null,null,null,null,null,null,null,null,null,null,null,null,null,null,null,null,null,null,null,null,null,null,null,null,null,null,null,null,null,null,null,null,null,null,null,null,null,null,null,null,null,null,null,null,null,null,null,null,null,null,null,null,null,null,null,null,null,null,null,null,null,null,null,null,null,null,null,null,null,null,null,null,null,null,null,null,null,null,null,null,null,null,null,20.0,34.0,45.0,52.0,58.0,78.0,125.0,175.0,194.0,187.0,177.0,169.0,167.0,163.0,157.0,161.0,152.0,147.0,150.0,148.0,144.0,140.0,139.0,140.0,139.0,142.0,139.0,150.0,153.0,144.0,146.0,148.0,143.0,142.0,142.0,148.0,145.0,142.0,null,null,null,null,null,null,null,null,null,null,null,null,null,null,null,null,null,null,null,null,null,null,null,null,null,null,null,null,null,null,null,null,null,null,null,null,null,null,null,null,null,null,null,null,null,null,null,null,null,44.0,77.0,101.0,106.0,99.0,95.0,88.0,74.0,80.0,83.0,91.0,116.0,123.0,122.0,130.0,141.0,143.0,155.0,156.0,152.0,146.0,140.0,146.0,160.0,159.0,106.0,83.0,71.0,69.0,68.0,null,null,null,null,31.0,30.0,36.0,60.0,66.0,47.0,null,null,null,null,null,null,null,null,null,null,null,null,null,null,null,null,null,null,null,null,null,null,null,null,null,null,null,null,null,null,null,null,null,null,null,null,null,null,null,null,null,null,null,null,null,null,null,null,null,null,null,null,null,null,null,null,null,null,null,null,null,null,null,null,null,null,null,null,null,null,null,null,null,54.0,57.0,55.0,48.0,49.0,50.0,47.0,41.0,40.0,42.0,46.0,47.0,46.0,43.0,null,null,null,21.0,29.0,48.0,72.0,72.0,null,null,null,null,null,null,null,null,null,null,null,null,null,null,null,null,null,null,null,null,7.0,10.0,2.0,null,null,null,null,null,null,null,null,null,null,null],[null,1.0,null,null,null,null,null,null,3.0,3.0,3.0,null,null,null,null,null,null,null,null,null,null,null,null,null,null,null,null,null,null,null,null,null,null,null,null,null,null,null,null,null,null,null,null,null,null,null,null,null,null,null,null,null,null,null,null,null,null,null,null,null,null,null,null,null,null,null,null,null,null,null,null,null,null,null,null,null,null,null,null,null,null,null,null,null,null,null,null,null,null,null,null,null,null,null,null,null,null,null,null,null,null,null,null,20.0,33.0,50.0,66.0,77.0,100.0,148.0,194.0,215.0,189.0,177.0,171.0,169.0,168.0,160.0,164.0,163.0,156.0,154.0,146.0,149.0,147.0,141.0,138.0,138.0,139.0,142.0,141.0,145.0,151.0,146.0,141.0,145.0,140.0,144.0,143.0,149.0,142.0,132.0,null,null,null,null,null,null,null,null,null,null,null,null,null,null,null,null,null,null,null,null,null,null,null,null,null,null,null,null,null,null,null,null,null,null,null,null,null,null,null,null,null,null,null,null,null,null,null,null,null,null,73.0,100.0,108.0,108.0,99.0,95.0,88.0,83.0,86.0,95.0,120.0,136.0,137.0,141.0,144.0,143.0,148.0,147.0,152.0,152.0,145.0,152.0,153.0,150.0,99.0,80.0,72.0,73.0,69.0,null,null,null,null,null,null,26.0,60.0,70.0,45.0,null,null,null,null,null,null,null,null,null,null,null,null,null,null,null,null,null,null,null,null,null,null,null,null,null,null,null,null,null,null,null,null,null,null,null,null,null,null,null,null,null,null,null,null,null,null,null,null,null,null,null,null,null,null,null,null,null,null,null,null,null,null,null,null,null,null,null,null,null,null,null,null,null,1.0,56.0,58.0,47.0,45.0,53.0,54.0,53.0,51.0,51.0,43.0,46.0,25.0,null,null,null,null,28.0,46.0,59.0,57.0,53.0,null,null,null,null,null,null,null,null,null,null,null,null,null,null,null,null,null,null,null,null,7.0,8.0,3.0,null,null,null,null,null,null,null,null,null,null,null],[null,null,null,1.0,null,null,null,3.0,3.0,null,null,null,null,null,null,null,null,null,null,null,null,null,null,null,null,null,null,null,null,null,null,null,null,null,null,null,null,null,null,null,null,null,null,null,null,null,null,null,null,null,null,null,null,null,null,null,null,null,null,null,null,null,null,null,null,null,null,null,null,null,null,null,null,null,null,null,null,null,null,null,null,null,null,null,null,null,null,null,null,null,null,null,null,null,null,null,null,null,null,null,null,null,null,32.0,59.0,77.0,116.0,150.0,194.0,234.0,235.0,209.0,185.0,176.0,176.0,175.0,168.0,167.0,171.0,162.0,151.0,152.0,145.0,142.0,141.0,139.0,135.0,137.0,138.0,139.0,143.0,144.0,145.0,143.0,139.0,139.0,140.0,140.0,142.0,150.0,143.0,136.0,null,null,null,null,null,null,null,null,null,null,null,null,null,null,null,null,null,null,null,null,null,null,null,null,null,null,null,null,null,null,null,null,null,null,null,null,null,null,null,null,null,null,null,null,null,null,null,null,null,null,65.0,97.0,110.0,107.0,106.0,96.0,89.0,86.0,90.0,102.0,124.0,140.0,143.0,143.0,145.0,149.0,150.0,150.0,157.0,157.0,155.0,160.0,152.0,120.0,94.0,80.0,76.0,73.0,70.0,null,null,null,null,null,null,26.0,54.0,60.0,null,null,null,null,null,null,null,null,null,null,null,null,null,null,null,null,null,null,null,null,null,null,null,null,null,null,null,null,null,null,null,null,null,null,null,null,null,null,null,null,null,null,null,null,null,null,null,null,null,null,null,null,null,null,null,null,null,null,null,null,null,null,null,null,null,null,null,null,null,null,null,null,null,null,null,null,52.0,45.0,null,47.0,55.0,55.0,56.0,51.0,49.0,48.0,52.0,null,null,null,null,36.0,57.0,68.0,null,null,null,null,null,null,null,null,null,null,null,null,null,null,null,null,null,null,null,null,null,null,3.0,7.0,null,null,null,null,null,null,null,null,null,null,null,null],[null,null,null,null,null,null,null,null,null,null,null,null,null,null,null,null,null,null,null,null,null,null,null,null,null,null,null,null,null,null,null,null,null,null,null,null,null,null,null,null,null,null,null,null,null,null,null,null,null,null,null,null,null,null,null,null,null,null,null,null,null,null,null,null,null,null,null,null,null,null,null,null,null,null,null,null,null,null,null,null,null,null,null,null,null,null,null,null,null,null,null,null,null,null,null,null,null,null,null,null,null,null,27.0,53.0,96.0,142.0,191.0,228.0,248.0,227.0,213.0,208.0,183.0,176.0,181.0,180.0,170.0,162.0,155.0,154.0,150.0,147.0,144.0,139.0,138.0,131.0,136.0,135.0,137.0,138.0,138.0,138.0,135.0,139.0,136.0,137.0,144.0,138.0,139.0,143.0,151.0,142.0,129.0,null,null,null,null,null,null,null,null,null,null,null,null,null,null,null,null,null,null,null,null,null,null,null,null,null,null,null,null,null,null,null,null,null,null,null,null,null,null,null,null,null,null,null,null,null,null,null,null,null,58.0,97.0,114.0,110.0,109.0,110.0,96.0,94.0,99.0,105.0,117.0,131.0,147.0,147.0,147.0,148.0,147.0,148.0,151.0,153.0,158.0,166.0,149.0,110.0,100.0,92.0,82.0,73.0,71.0,null,null,4.0,5.0,null,null,null,27.0,48.0,null,null,null,null,null,null,null,null,null,null,null,null,null,null,null,null,null,null,null,null,null,null,null,null,null,null,null,null,null,null,null,null,null,null,null,null,null,null,null,null,null,null,null,null,null,null,null,null,null,null,null,null,null,null,null,null,null,null,null,null,null,null,null,null,null,null,null,null,null,null,null,null,null,null,null,null,null,null,null,null,52.0,55.0,62.0,59.0,57.0,49.0,48.0,null,null,null,null,45.0,60.0,65.0,null,null,null,null,null,null,null,null,null,null,null,null,null,null,null,null,null,null,null,null,null,null,null,null,1.0,null,null,null,null,null,null,null,null,1.0,null,null],[null,null,null,null,null,null,null,null,null,null,null,null,null,null,null,null,null,null,null,null,null,null,null,null,null,null,null,null,null,null,null,null,null,null,null,null,null,null,null,null,null,null,null,null,null,null,null,null,null,null,null,null,null,null,null,null,null,null,null,null,null,null,null,null,null,null,null,null,null,null,null,null,null,null,null,null,null,null,null,null,null,null,null,null,null,null,null,null,null,null,null,null,null,null,null,null,null,null,null,null,null,null,44.0,90.0,157.0,187.0,221.0,231.0,220.0,212.0,208.0,199.0,182.0,177.0,179.0,168.0,158.0,152.0,145.0,147.0,148.0,147.0,137.0,135.0,138.0,133.0,133.0,133.0,133.0,134.0,131.0,129.0,129.0,136.0,134.0,140.0,141.0,139.0,137.0,142.0,141.0,143.0,134.0,null,null,null,null,null,null,null,null,null,null,null,null,null,null,null,null,null,null,null,null,null,null,null,null,null,null,null,null,null,null,null,null,null,null,null,null,null,null,null,null,null,null,null,null,null,null,null,null,null,null,89.0,108.0,108.0,114.0,121.0,112.0,102.0,112.0,116.0,119.0,128.0,146.0,145.0,148.0,154.0,147.0,143.0,147.0,150.0,155.0,166.0,158.0,121.0,110.0,108.0,98.0,88.0,73.0,null,null,3.0,null,null,null,null,null,null,null,null,null,null,null,null,null,null,null,null,null,null,null,null,null,null,null,null,null,null,null,null,null,null,null,null,null,null,null,null,null,null,null,null,null,null,null,null,null,null,null,null,null,null,null,null,null,null,null,null,null,null,null,null,null,null,null,null,null,null,null,null,null,null,null,null,null,null,null,null,null,null,null,null,null,null,null,null,null,null,32.0,52.0,51.0,51.0,49.0,null,50.0,null,null,null,null,42.0,50.0,48.0,null,null,null,null,null,null,null,null,null,16.0,9.0,null,null,null,null,11.0,11.0,null,null,null,null,null,2.0,null,null,null,null,null,null,null,null,null,null,null,null,null],[null,null,null,null,null,null,null,null,null,null,null,null,null,null,null,null,null,null,null,null,null,null,null,null,null,null,null,null,null,null,null,null,null,null,null,null,null,null,null,null,null,null,null,null,null,null,null,null,null,null,null,null,null,null,null,null,null,null,null,null,null,null,null,null,null,null,null,null,null,null,null,null,null,null,null,null,null,null,null,null,null,null,null,null,null,null,null,null,null,null,null,null,null,null,null,null,null,null,null,null,null,27.0,66.0,133.0,191.0,207.0,214.0,217.0,207.0,206.0,197.0,192.0,188.0,183.0,179.0,163.0,157.0,147.0,144.0,144.0,144.0,143.0,132.0,132.0,135.0,132.0,132.0,134.0,133.0,132.0,127.0,128.0,130.0,134.0,131.0,127.0,139.0,141.0,134.0,142.0,144.0,144.0,136.0,134.0,null,null,null,null,null,null,null,null,null,null,null,null,null,null,null,null,null,null,null,null,null,null,null,null,null,null,null,null,null,null,null,null,null,null,null,null,null,null,null,null,null,null,null,null,null,null,null,null,null,81.0,102.0,101.0,116.0,114.0,105.0,108.0,111.0,118.0,118.0,125.0,134.0,141.0,138.0,145.0,143.0,136.0,140.0,146.0,161.0,168.0,165.0,127.0,118.0,118.0,111.0,103.0,93.0,null,null,null,null,null,null,null,null,null,null,null,null,null,null,null,null,null,null,null,null,null,null,null,null,null,null,null,null,null,null,null,null,null,null,null,null,null,null,null,null,null,null,null,null,null,null,null,null,null,null,null,null,null,null,null,null,null,null,null,null,null,null,null,null,3.0,null,null,null,null,null,null,null,null,null,null,null,null,null,23.0,23.0,16.0,17.0,43.0,43.0,null,null,null,null,null,null,null,null,null,null,null,null,null,null,null,null,null,48.0,null,null,null,null,66.0,83.0,99.0,80.0,22.0,17.0,null,null,null,null,null,null,null,null,16.0,16.0,null,null,7.0,7.0,null,null,null,null,null,null,null,null,null,null,null,null,null],[null,null,null,null,null,null,null,null,null,null,null,null,null,null,null,null,null,null,null,null,null,null,null,null,null,null,null,null,null,null,null,null,null,null,null,null,null,null,null,null,null,null,null,null,null,null,null,null,null,null,null,null,null,null,null,null,null,null,null,null,null,null,null,null,null,null,null,null,null,null,null,null,null,null,null,null,null,null,null,null,null,null,null,null,null,null,null,null,null,null,null,null,null,null,null,null,null,null,null,null,null,49.0,100.0,179.0,207.0,214.0,212.0,208.0,199.0,195.0,189.0,187.0,184.0,177.0,176.0,168.0,157.0,151.0,153.0,153.0,151.0,153.0,139.0,137.0,136.0,131.0,131.0,131.0,136.0,138.0,134.0,127.0,129.0,128.0,128.0,126.0,134.0,141.0,141.0,142.0,138.0,141.0,144.0,141.0,129.0,null,null,null,null,null,null,null,null,null,null,null,null,null,null,null,null,null,null,null,null,null,null,null,null,null,null,null,null,null,null,null,null,null,null,null,null,null,null,null,null,null,null,null,null,null,null,null,null,87.0,110.0,110.0,113.0,114.0,106.0,105.0,103.0,109.0,106.0,109.0,119.0,136.0,142.0,143.0,143.0,141.0,147.0,153.0,170.0,171.0,164.0,149.0,137.0,131.0,121.0,105.0,null,null,null,null,null,null,3.0,null,null,null,null,null,null,null,null,null,null,null,null,null,null,null,null,null,null,null,null,null,null,null,null,null,null,null,null,null,null,null,null,null,null,null,null,null,null,null,null,null,null,null,null,null,null,null,null,null,null,null,null,null,null,null,null,null,null,null,null,null,null,null,null,null,null,null,null,null,30.0,30.0,23.0,23.0,23.0,null,null,42.0,45.0,42.0,41.0,null,null,null,null,null,null,null,null,null,null,null,null,null,41.0,55.0,54.0,54.0,1.0,null,73.0,125.0,106.0,99.0,68.0,21.0,17.0,17.0,null,null,null,null,null,27.0,32.0,19.0,null,null,null,null,null,null,null,null,null,null,null,null,null,null,null,null,null,null],[null,null,null,null,null,null,null,null,null,null,null,null,null,null,null,null,null,null,null,null,null,null,null,null,null,null,null,null,null,null,null,null,null,null,null,null,null,null,null,null,null,null,null,null,null,null,null,null,null,null,null,null,null,null,null,null,null,null,null,null,null,null,null,null,null,null,null,null,null,null,null,null,null,null,null,null,null,null,null,null,null,null,null,null,null,null,null,null,null,null,null,null,null,null,null,null,null,null,null,null,31.0,82.0,156.0,198.0,207.0,213.0,206.0,204.0,195.0,190.0,186.0,184.0,184.0,175.0,171.0,174.0,169.0,166.0,161.0,159.0,159.0,156.0,146.0,143.0,142.0,138.0,135.0,134.0,138.0,136.0,134.0,133.0,130.0,127.0,123.0,122.0,126.0,131.0,137.0,138.0,142.0,138.0,136.0,139.0,135.0,123.0,null,null,null,null,null,null,null,null,null,null,null,null,null,null,null,null,null,null,null,null,null,null,null,null,null,null,null,null,null,null,null,null,null,null,null,null,null,null,null,null,null,null,null,null,null,null,null,85.0,102.0,105.0,101.0,109.0,108.0,108.0,107.0,114.0,109.0,105.0,112.0,121.0,137.0,133.0,135.0,143.0,162.0,168.0,163.0,169.0,173.0,175.0,168.0,145.0,135.0,112.0,null,null,null,null,null,null,null,null,null,null,null,null,null,null,null,null,null,null,null,null,null,null,null,null,null,null,null,null,null,null,null,null,null,null,null,null,null,null,null,null,null,null,null,null,null,null,null,null,null,null,null,null,null,null,null,null,null,null,null,null,null,null,null,null,null,null,null,null,null,null,88.0,88.0,92.0,101.0,105.0,79.0,58.0,30.0,30.0,41.0,35.0,32.0,31.0,32.0,43.0,44.0,42.0,40.0,5.0,8.0,5.0,15.0,null,null,null,null,null,30.0,34.0,37.0,45.0,66.0,66.0,63.0,null,55.0,121.0,124.0,85.0,54.0,18.0,18.0,17.0,null,null,null,11.0,21.0,24.0,25.0,23.0,19.0,null,null,null,null,null,null,null,null,null,null,null,null,null,null,null,null,null,null],[null,null,null,null,null,null,null,null,null,null,null,null,null,null,null,null,null,null,null,null,null,null,null,null,null,null,null,null,null,null,null,null,null,null,null,null,null,null,null,null,null,null,null,null,null,null,null,null,null,null,null,null,null,null,null,null,null,null,null,null,null,null,null,null,null,null,null,null,null,null,null,null,null,null,null,null,null,null,null,null,null,null,null,null,null,null,null,null,null,null,null,null,null,null,null,null,null,null,null,null,64.0,114.0,190.0,199.0,212.0,204.0,207.0,205.0,197.0,189.0,187.0,178.0,180.0,178.0,176.0,179.0,171.0,166.0,165.0,166.0,160.0,160.0,148.0,146.0,147.0,140.0,137.0,137.0,141.0,138.0,135.0,133.0,132.0,125.0,123.0,118.0,119.0,127.0,133.0,137.0,132.0,131.0,130.0,129.0,135.0,126.0,null,null,null,null,null,null,null,null,null,null,null,null,null,null,null,null,null,null,null,null,null,null,null,null,null,null,null,null,null,null,null,null,null,null,null,null,null,null,null,null,null,null,null,null,null,null,70.0,83.0,92.0,95.0,101.0,103.0,108.0,112.0,119.0,119.0,113.0,109.0,103.0,111.0,116.0,119.0,124.0,138.0,157.0,162.0,153.0,148.0,155.0,174.0,176.0,173.0,156.0,119.0,null,null,null,null,null,null,null,null,null,null,null,null,null,null,null,null,null,null,null,null,null,null,null,null,null,null,null,null,null,null,null,null,null,null,null,null,null,null,null,null,null,null,null,null,null,null,null,null,null,null,null,null,null,null,null,null,null,null,null,null,null,null,null,null,null,null,110.0,120.0,118.0,110.0,99.0,91.0,96.0,98.0,95.0,21.0,null,3.0,2.0,null,6.0,5.0,2.0,null,null,11.0,12.0,3.0,3.0,8.0,4.0,13.0,null,null,null,null,null,30.0,36.0,39.0,42.0,55.0,56.0,80.0,85.0,120.0,130.0,112.0,null,null,null,null,null,null,null,6.0,28.0,30.0,23.0,21.0,null,null,null,null,null,null,null,null,null,null,null,null,null,null,null,null,null,null,null,null],[null,null,null,null,null,null,null,null,null,null,null,null,null,null,null,null,null,null,null,null,null,null,null,null,null,null,null,null,null,null,null,null,null,null,null,null,null,null,null,null,null,null,null,null,null,null,null,null,null,null,null,null,null,null,null,null,null,null,null,null,null,null,null,null,null,null,null,null,null,null,null,null,null,null,null,null,null,null,null,null,null,null,null,null,null,null,null,null,null,null,null,null,null,null,null,null,null,null,44.0,49.0,93.0,148.0,196.0,209.0,210.0,204.0,204.0,193.0,198.0,197.0,192.0,190.0,189.0,180.0,176.0,178.0,173.0,174.0,170.0,169.0,165.0,171.0,165.0,151.0,152.0,148.0,146.0,148.0,146.0,141.0,146.0,141.0,139.0,132.0,125.0,122.0,119.0,122.0,124.0,127.0,124.0,121.0,122.0,120.0,129.0,null,null,null,null,null,null,null,null,null,null,null,null,null,null,null,null,null,null,null,null,null,null,null,null,null,null,null,null,null,null,null,null,null,null,null,null,null,null,null,null,null,null,null,null,null,null,null,97.0,93.0,91.0,92.0,99.0,103.0,108.0,114.0,116.0,120.0,121.0,107.0,101.0,104.0,112.0,118.0,127.0,160.0,154.0,144.0,136.0,141.0,150.0,160.0,164.0,173.0,162.0,134.0,null,null,null,null,null,null,null,null,null,null,null,null,null,null,null,null,null,null,null,null,null,null,null,null,null,null,null,null,null,null,null,null,null,null,null,null,null,null,null,null,null,null,null,null,null,null,null,null,null,null,null,null,null,null,null,null,null,null,null,null,null,null,null,null,null,108.0,127.0,123.0,107.0,94.0,91.0,87.0,87.0,14.0,14.0,20.0,null,null,2.0,null,9.0,2.0,3.0,null,3.0,null,2.0,null,null,3.0,null,4.0,5.0,null,27.0,null,null,null,32.0,32.0,39.0,60.0,112.0,123.0,125.0,131.0,119.0,86.0,43.0,43.0,43.0,43.0,null,null,27.0,27.0,27.0,23.0,null,null,null,null,null,null,null,null,null,null,null,null,null,null,null,null,null,null,null,null,null,null],[null,null,null,null,null,null,null,null,null,null,null,null,null,null,null,null,null,null,null,null,null,null,null,null,null,null,null,null,null,null,null,null,null,null,null,null,null,null,null,null,null,null,null,null,null,null,null,null,null,null,null,null,null,null,null,null,null,null,null,null,null,null,null,null,null,null,null,null,null,null,null,null,null,null,null,null,null,null,null,null,null,null,null,null,null,null,null,null,null,null,null,null,null,null,null,null,null,null,53.0,69.0,122.0,178.0,208.0,203.0,204.0,203.0,207.0,200.0,191.0,191.0,188.0,188.0,192.0,187.0,182.0,184.0,184.0,179.0,176.0,175.0,167.0,169.0,169.0,169.0,155.0,151.0,149.0,153.0,153.0,150.0,154.0,150.0,147.0,137.0,132.0,125.0,122.0,122.0,121.0,120.0,119.0,119.0,119.0,118.0,122.0,null,null,null,null,null,null,null,null,null,null,null,null,null,null,null,null,null,null,null,null,null,null,null,null,null,null,null,null,null,null,null,null,null,null,null,null,null,null,null,null,null,null,null,null,null,null,null,116.0,121.0,113.0,103.0,107.0,114.0,116.0,118.0,122.0,122.0,122.0,118.0,120.0,110.0,114.0,118.0,142.0,162.0,150.0,134.0,136.0,145.0,153.0,153.0,167.0,177.0,191.0,150.0,null,null,null,null,null,null,null,null,null,null,null,null,null,null,null,null,null,null,null,null,null,null,null,null,null,null,null,null,null,null,null,null,null,null,null,null,null,null,null,null,null,null,null,null,null,null,null,null,null,null,null,null,null,null,null,null,null,null,null,null,null,null,18.0,142.0,146.0,159.0,92.0,89.0,null,null,5.0,null,8.0,null,4.0,null,null,null,null,69.0,67.0,13.0,33.0,30.0,5.0,null,null,2.0,null,null,null,5.0,28.0,26.0,26.0,null,null,33.0,38.0,49.0,95.0,120.0,117.0,110.0,120.0,123.0,90.0,77.0,44.0,44.0,44.0,45.0,45.0,null,29.0,27.0,null,null,null,1.0,null,null,null,null,null,null,null,null,null,null,null,null,null,null,null,null,null,null,null,null],[null,null,null,null,null,null,null,null,null,null,null,null,null,null,null,null,null,null,null,null,null,null,null,null,null,null,null,null,null,null,null,null,null,null,null,null,null,null,null,null,null,null,null,null,null,null,null,null,null,null,null,null,null,null,null,null,null,null,null,null,null,null,null,null,null,null,null,null,null,null,null,null,null,null,null,null,null,null,null,null,null,null,null,null,null,null,null,null,null,null,null,null,null,null,null,null,null,null,62.0,100.0,134.0,188.0,200.0,196.0,200.0,205.0,213.0,200.0,195.0,204.0,201.0,185.0,184.0,191.0,185.0,182.0,184.0,184.0,181.0,178.0,177.0,176.0,175.0,180.0,181.0,166.0,162.0,161.0,158.0,158.0,159.0,154.0,151.0,139.0,135.0,128.0,122.0,119.0,122.0,122.0,120.0,118.0,117.0,null,null,null,null,null,null,null,null,null,null,null,null,null,null,null,null,null,null,null,null,null,null,null,null,null,null,null,null,null,null,null,null,null,null,null,null,null,null,null,null,null,null,null,null,null,null,null,null,112.0,121.0,122.0,126.0,127.0,113.0,111.0,117.0,124.0,121.0,119.0,114.0,117.0,118.0,112.0,117.0,129.0,156.0,173.0,142.0,132.0,135.0,146.0,150.0,165.0,165.0,185.0,206.0,169.0,null,null,null,null,null,null,null,null,null,null,null,null,null,null,null,2.0,null,null,null,null,null,null,null,null,null,null,null,null,null,null,null,null,null,null,null,null,null,null,null,null,null,null,null,null,null,null,null,null,null,null,null,null,null,null,null,null,null,null,null,null,null,null,141.0,145.0,142.0,135.0,null,null,null,null,null,null,null,null,109.0,109.0,15.0,null,null,67.0,66.0,69.0,72.0,32.0,null,null,null,null,null,12.0,2.0,11.0,38.0,38.0,37.0,69.0,77.0,83.0,97.0,92.0,101.0,115.0,108.0,102.0,98.0,68.0,20.0,null,null,null,null,46.0,54.0,39.0,7.0,null,null,null,null,null,null,null,null,null,null,null,null,null,null,null,null,null,null,null,null,null,null,null,null,null],[null,null,null,null,null,null,null,null,null,null,null,null,null,null,null,null,null,null,null,null,null,null,null,null,null,null,null,null,null,null,null,null,null,null,null,null,null,null,null,null,null,null,null,null,null,null,null,null,null,null,null,null,null,null,null,null,null,null,null,null,null,null,null,null,null,null,null,null,null,null,null,null,null,null,null,null,null,null,null,null,null,null,null,null,null,null,null,null,null,null,null,null,null,null,null,null,null,null,null,101.0,153.0,202.0,200.0,196.0,194.0,198.0,201.0,195.0,192.0,195.0,199.0,191.0,188.0,190.0,193.0,190.0,184.0,184.0,190.0,199.0,206.0,203.0,184.0,179.0,186.0,171.0,167.0,171.0,167.0,162.0,166.0,162.0,155.0,145.0,138.0,132.0,121.0,116.0,123.0,118.0,116.0,117.0,null,null,null,null,null,null,null,null,null,null,null,null,null,null,null,null,null,null,null,null,null,null,null,null,null,null,null,null,null,null,null,null,null,null,null,null,null,null,null,null,null,null,null,null,null,null,null,null,105.0,114.0,121.0,120.0,117.0,126.0,132.0,121.0,120.0,119.0,107.0,105.0,109.0,107.0,110.0,117.0,124.0,139.0,187.0,189.0,155.0,147.0,149.0,148.0,163.0,181.0,192.0,211.0,199.0,173.0,117.0,null,null,null,null,null,null,null,null,null,null,null,null,null,null,null,null,null,null,null,null,null,null,null,null,null,null,null,null,null,null,null,null,null,null,null,null,null,null,null,null,null,null,null,null,null,null,null,null,null,null,null,null,null,null,null,null,null,null,null,20.0,143.0,150.0,144.0,135.0,128.0,124.0,27.0,27.0,null,109.0,116.0,116.0,118.0,118.0,114.0,112.0,null,67.0,78.0,80.0,77.0,69.0,null,null,null,30.0,46.0,44.0,43.0,36.0,4.0,39.0,39.0,43.0,74.0,81.0,83.0,96.0,88.0,84.0,76.0,77.0,67.0,59.0,null,null,null,null,null,null,37.0,39.0,2.0,null,null,null,null,null,null,null,null,null,null,null,null,null,null,null,null,null,null,null,null,null,null,null,null,null,null],[null,null,null,null,null,null,null,null,null,null,null,null,null,null,null,null,null,null,null,null,null,null,null,null,null,null,null,null,null,null,null,null,null,null,null,null,null,null,null,null,null,null,null,null,null,null,null,null,null,null,null,null,null,null,null,null,null,null,null,null,null,null,null,null,null,null,null,null,null,null,null,null,null,null,null,null,null,null,null,null,null,null,null,null,null,null,null,null,null,null,null,null,null,null,null,null,null,null,null,99.0,149.0,210.0,213.0,195.0,193.0,197.0,197.0,188.0,185.0,183.0,185.0,182.0,190.0,191.0,201.0,178.0,174.0,175.0,192.0,193.0,185.0,198.0,198.0,198.0,199.0,194.0,185.0,173.0,169.0,172.0,176.0,169.0,163.0,151.0,135.0,135.0,119.0,116.0,118.0,114.0,112.0,null,null,null,null,null,null,null,null,null,null,null,null,null,null,null,null,null,null,null,null,null,null,null,null,null,null,null,null,null,null,null,null,null,null,null,null,null,null,null,null,null,null,null,null,null,null,null,null,105.0,113.0,114.0,114.0,119.0,118.0,116.0,135.0,112.0,105.0,101.0,99.0,98.0,98.0,99.0,104.0,119.0,128.0,149.0,228.0,202.0,167.0,158.0,142.0,154.0,169.0,194.0,204.0,216.0,188.0,148.0,131.0,87.0,null,null,null,null,null,null,null,null,null,null,null,null,null,null,null,null,null,null,null,null,null,null,null,null,null,null,null,null,null,null,null,null,null,null,null,null,null,null,null,null,null,null,null,null,null,null,null,null,null,null,null,null,null,null,null,null,null,38.0,146.0,147.0,147.0,137.0,131.0,129.0,123.0,28.0,27.0,null,113.0,119.0,118.0,121.0,122.0,118.0,114.0,null,66.0,86.0,95.0,81.0,69.0,3.0,8.0,22.0,22.0,4.0,37.0,49.0,47.0,37.0,40.0,44.0,44.0,38.0,51.0,49.0,49.0,47.0,64.0,55.0,53.0,null,null,null,21.0,22.0,null,6.0,36.0,37.0,9.0,null,null,null,null,null,null,null,null,null,null,null,null,null,null,null,null,null,null,null,null,null,null,null,null,null,null,null],[null,null,null,null,null,null,null,null,null,null,null,null,null,null,null,null,null,null,null,null,null,null,null,null,null,null,null,null,null,null,null,null,null,null,null,null,null,null,null,null,null,null,null,null,null,null,null,null,null,null,null,null,null,null,null,null,null,null,null,null,null,null,null,null,null,null,null,null,null,null,null,null,null,null,null,null,null,null,null,null,null,null,null,null,null,null,null,null,1.0,null,null,null,null,null,null,null,null,null,null,109.0,153.0,211.0,220.0,197.0,200.0,202.0,189.0,178.0,179.0,179.0,188.0,183.0,184.0,183.0,182.0,176.0,176.0,185.0,195.0,180.0,176.0,178.0,176.0,184.0,194.0,180.0,192.0,193.0,185.0,172.0,177.0,171.0,165.0,156.0,137.0,130.0,null,null,null,null,null,null,null,null,null,null,null,null,null,null,null,null,null,null,null,null,null,null,null,null,null,null,null,null,null,null,null,null,null,null,null,null,null,null,null,null,null,null,null,null,null,null,null,null,null,null,null,null,107.0,110.0,115.0,119.0,116.0,122.0,128.0,125.0,136.0,126.0,108.0,105.0,106.0,104.0,104.0,105.0,110.0,130.0,131.0,139.0,223.0,238.0,202.0,162.0,null,150.0,178.0,211.0,226.0,200.0,153.0,124.0,125.0,101.0,null,null,null,null,null,null,null,null,null,null,null,null,null,null,null,null,null,null,null,null,null,null,null,null,null,null,null,null,null,null,null,null,null,null,null,null,null,null,null,null,null,null,null,null,null,null,null,null,null,null,null,null,null,null,null,null,27.0,27.0,148.0,153.0,142.0,135.0,127.0,42.0,42.0,null,19.0,120.0,128.0,128.0,128.0,122.0,123.0,123.0,121.0,113.0,null,92.0,103.0,82.0,72.0,70.0,8.0,26.0,16.0,15.0,14.0,21.0,44.0,44.0,52.0,63.0,69.0,57.0,58.0,42.0,41.0,41.0,null,null,1.0,null,1.0,2.0,21.0,22.0,null,10.0,1.0,null,null,null,null,null,null,null,null,null,null,null,null,null,null,null,null,null,null,null,null,null,null,null,null,null,null,null,null,null],[null,null,null,null,null,null,null,null,null,null,null,null,null,null,null,null,null,null,null,null,null,null,null,null,null,null,null,null,null,null,null,null,null,null,null,null,null,null,null,null,null,null,null,null,null,null,null,null,null,null,null,null,null,null,null,null,null,null,null,null,null,null,null,null,null,null,null,null,null,null,null,null,null,null,null,null,null,null,null,null,null,null,null,null,null,null,null,null,4.0,7.0,2.0,null,null,null,null,null,null,null,null,110.0,153.0,207.0,238.0,200.0,206.0,198.0,187.0,189.0,187.0,175.0,178.0,176.0,180.0,189.0,187.0,186.0,184.0,182.0,185.0,180.0,177.0,174.0,174.0,173.0,174.0,175.0,175.0,179.0,185.0,165.0,154.0,169.0,164.0,153.0,null,null,null,null,null,null,null,null,null,null,null,null,null,null,null,null,null,null,null,null,null,null,null,null,null,null,null,null,null,null,null,null,null,null,null,null,null,null,null,null,null,null,null,null,null,null,null,null,null,null,null,null,null,null,108.0,121.0,125.0,127.0,136.0,136.0,138.0,136.0,133.0,140.0,128.0,113.0,111.0,109.0,108.0,112.0,121.0,144.0,143.0,153.0,208.0,251.0,217.0,181.0,160.0,null,196.0,224.0,228.0,203.0,150.0,106.0,100.0,89.0,83.0,null,null,null,null,null,null,null,null,null,null,null,null,null,null,null,null,null,null,null,null,null,null,null,null,null,null,null,null,null,null,1.0,null,null,null,null,null,null,null,null,null,null,null,null,null,null,null,null,null,null,null,null,null,null,null,null,35.0,134.0,151.0,151.0,143.0,129.0,25.0,null,null,null,null,122.0,131.0,130.0,128.0,133.0,131.0,130.0,126.0,120.0,null,83.0,82.0,68.0,69.0,66.0,null,null,null,39.0,32.0,21.0,46.0,51.0,51.0,56.0,50.0,28.0,27.0,null,null,null,null,null,null,null,null,1.0,null,null,null,null,null,null,null,null,null,null,null,null,null,null,null,null,null,null,null,null,null,null,null,null,null,null,null,null,null,null,null,null,null,null],[null,null,null,null,null,null,null,null,null,null,null,null,null,null,null,null,null,null,null,null,null,null,null,null,null,null,null,null,null,null,null,null,null,null,null,null,null,null,null,null,null,null,null,null,null,null,null,null,null,null,null,null,null,null,null,null,null,null,null,null,null,null,null,null,null,null,null,null,null,null,null,null,null,null,null,null,null,null,null,null,null,null,null,null,null,null,null,null,1.0,1.0,null,null,null,null,null,null,null,null,null,109.0,139.0,192.0,247.0,234.0,199.0,191.0,176.0,178.0,182.0,174.0,177.0,173.0,186.0,202.0,196.0,186.0,180.0,181.0,186.0,183.0,179.0,177.0,177.0,174.0,173.0,175.0,174.0,178.0,178.0,172.0,6.0,null,null,null,null,null,null,null,null,null,null,null,null,null,null,null,null,null,null,null,null,null,null,null,null,null,null,null,null,null,null,null,null,null,null,null,null,null,null,null,null,null,null,null,null,null,null,null,null,null,null,null,null,null,null,null,6.0,null,null,127.0,132.0,143.0,152.0,152.0,154.0,151.0,143.0,139.0,137.0,118.0,115.0,115.0,118.0,128.0,156.0,160.0,152.0,165.0,196.0,256.0,250.0,181.0,174.0,188.0,212.0,227.0,217.0,194.0,145.0,94.0,72.0,84.0,93.0,84.0,null,null,null,null,null,null,null,null,null,null,null,null,null,null,null,null,null,null,null,null,null,null,null,null,null,null,null,null,null,null,null,null,null,null,null,null,null,null,null,null,null,null,null,null,null,null,null,null,null,null,null,null,null,29.0,127.0,148.0,151.0,142.0,134.0,125.0,28.0,null,null,7.0,116.0,129.0,137.0,136.0,137.0,138.0,133.0,132.0,135.0,125.0,114.0,72.0,75.0,76.0,82.0,83.0,80.0,null,null,34.0,32.0,18.0,null,null,null,null,null,null,null,null,null,null,null,null,null,null,null,null,null,null,null,null,null,null,null,null,null,null,null,null,null,null,null,null,null,null,null,null,null,null,null,null,null,null,null,null,null,null,null,null,null,null],[null,null,null,null,null,null,null,null,null,null,null,null,null,null,null,null,null,null,null,null,null,null,null,null,null,null,null,null,null,null,null,null,null,null,null,null,null,null,null,null,null,null,null,null,null,null,null,null,null,null,null,null,null,null,null,null,null,null,null,null,null,null,null,null,null,null,null,null,null,null,null,null,null,null,null,null,null,null,null,null,null,null,null,null,null,null,null,null,null,null,null,null,null,null,null,null,null,null,null,null,133.0,174.0,212.0,240.0,231.0,200.0,184.0,174.0,170.0,169.0,177.0,177.0,194.0,203.0,196.0,198.0,193.0,183.0,188.0,189.0,192.0,196.0,191.0,193.0,190.0,182.0,179.0,181.0,177.0,173.0,null,null,null,null,null,null,null,null,null,null,null,null,null,null,null,null,null,null,null,null,null,null,null,null,null,null,null,null,null,null,null,null,null,null,null,null,null,null,null,null,null,null,null,null,null,null,null,null,null,null,null,null,null,null,null,null,null,2.0,null,142.0,145.0,151.0,159.0,158.0,159.0,157.0,152.0,148.0,150.0,139.0,138.0,126.0,145.0,152.0,160.0,164.0,168.0,177.0,192.0,228.0,241.0,204.0,176.0,181.0,214.0,204.0,181.0,151.0,116.0,78.0,64.0,63.0,85.0,87.0,82.0,68.0,null,null,null,null,null,null,null,null,null,null,null,null,null,null,null,null,null,null,null,null,null,null,null,null,null,null,null,1.0,null,null,null,null,null,null,null,null,null,null,null,null,null,null,null,null,null,null,null,null,null,null,null,29.0,144.0,149.0,141.0,131.0,175.0,153.0,147.0,null,null,6.0,116.0,135.0,142.0,142.0,146.0,146.0,148.0,138.0,132.0,126.0,118.0,null,75.0,75.0,71.0,null,80.0,75.0,3.0,32.0,33.0,null,null,null,null,null,null,null,null,null,null,null,null,null,null,null,null,null,null,null,null,null,null,null,null,null,null,null,null,null,null,null,null,null,null,null,null,null,null,null,null,null,null,null,null,null,null,null,null,null,null,null],[null,null,null,null,null,null,null,null,null,null,null,null,null,null,null,null,null,null,null,null,null,null,null,null,null,null,null,null,null,null,null,null,null,null,null,null,null,null,null,null,null,null,null,null,null,null,null,null,null,null,null,null,null,null,null,null,null,null,null,null,null,null,null,null,null,null,null,null,null,null,null,null,null,null,null,null,null,null,null,null,null,null,null,null,null,null,null,null,null,null,null,null,null,null,null,null,null,null,null,null,null,135.0,182.0,205.0,233.0,231.0,196.0,179.0,176.0,175.0,165.0,174.0,191.0,190.0,197.0,199.0,196.0,189.0,192.0,201.0,199.0,192.0,195.0,198.0,194.0,192.0,187.0,189.0,179.0,175.0,null,null,null,null,null,null,null,null,null,null,null,null,null,null,null,null,null,null,null,null,null,null,null,null,null,null,null,null,null,null,null,null,null,null,null,null,null,null,null,null,null,null,null,null,null,null,null,null,null,null,null,null,null,null,null,null,null,null,null,152.0,165.0,168.0,170.0,162.0,160.0,158.0,160.0,152.0,155.0,144.0,152.0,160.0,162.0,161.0,167.0,173.0,178.0,193.0,193.0,214.0,224.0,200.0,165.0,159.0,174.0,158.0,142.0,128.0,106.0,74.0,63.0,62.0,75.0,70.0,81.0,84.0,52.0,null,null,null,null,null,null,null,null,null,null,null,null,null,null,null,null,null,null,null,null,null,null,null,null,null,null,null,null,null,null,null,null,null,null,null,null,null,null,null,null,null,null,null,null,null,null,null,null,17.0,17.0,147.0,150.0,150.0,132.0,191.0,174.0,161.0,143.0,10.0,8.0,3.0,20.0,123.0,null,133.0,139.0,149.0,159.0,150.0,135.0,123.0,108.0,null,null,null,null,null,null,12.0,null,32.0,33.0,null,null,null,null,null,null,null,null,null,null,null,null,null,null,null,null,null,null,null,null,null,null,null,null,null,null,null,null,null,null,null,null,null,null,null,null,null,null,null,null,null,null,null,null,null,null,null,null,null,null,null],[null,null,null,null,null,null,null,null,null,null,null,null,null,null,null,null,null,null,null,null,null,null,null,null,null,null,null,null,null,null,null,null,null,null,null,null,null,null,null,null,null,null,null,null,null,null,null,null,null,null,null,null,null,null,null,null,null,null,null,null,null,null,null,null,null,null,null,null,null,null,null,null,null,null,null,null,null,null,null,null,null,null,null,null,null,null,null,null,null,null,null,null,null,null,null,null,null,null,null,null,null,null,176.0,208.0,200.0,223.0,215.0,176.0,170.0,167.0,169.0,174.0,199.0,199.0,200.0,196.0,195.0,199.0,199.0,199.0,205.0,202.0,198.0,197.0,194.0,190.0,185.0,191.0,186.0,null,null,null,null,null,null,null,null,null,null,null,null,null,null,null,null,null,null,null,null,null,null,null,null,null,null,null,null,null,null,null,null,null,null,null,null,null,null,null,null,null,null,null,null,null,null,null,null,null,null,null,null,null,null,null,null,null,null,null,70.0,172.0,174.0,177.0,177.0,170.0,166.0,172.0,175.0,173.0,174.0,154.0,151.0,150.0,155.0,165.0,170.0,170.0,175.0,180.0,202.0,199.0,189.0,189.0,186.0,183.0,162.0,138.0,123.0,110.0,95.0,80.0,64.0,67.0,68.0,55.0,60.0,67.0,55.0,38.0,null,null,null,null,null,null,null,null,null,null,null,null,null,null,null,null,null,null,null,null,null,null,null,null,null,null,null,null,null,null,null,null,null,null,null,null,null,null,null,null,null,null,null,null,null,null,null,null,144.0,153.0,159.0,138.0,151.0,198.0,191.0,165.0,null,10.0,17.0,30.0,31.0,null,null,null,131.0,155.0,173.0,173.0,153.0,125.0,null,null,null,null,null,null,null,24.0,21.0,null,null,null,null,null,null,null,null,null,null,null,null,null,null,null,null,null,null,null,null,null,null,null,null,null,null,null,null,null,null,null,null,null,null,null,null,null,null,null,null,null,null,null,null,null,null,null,null,null,null,null,null,null],[null,null,null,null,null,null,null,null,null,null,null,null,null,null,null,null,null,null,null,null,null,null,null,null,null,null,null,null,null,null,null,null,null,null,null,null,null,null,null,null,null,null,null,null,null,null,null,null,null,null,null,null,null,null,null,null,null,null,null,null,null,null,null,null,null,null,null,null,null,null,null,null,null,null,null,null,null,null,null,null,null,null,null,null,null,null,null,null,null,null,null,null,null,null,null,null,null,null,null,null,null,null,151.0,195.0,199.0,212.0,230.0,207.0,166.0,164.0,160.0,167.0,204.0,201.0,202.0,203.0,196.0,203.0,215.0,214.0,210.0,202.0,201.0,197.0,195.0,193.0,191.0,188.0,188.0,null,null,null,null,null,null,null,null,null,null,null,null,null,null,null,null,null,null,null,null,null,null,null,null,null,null,null,null,null,null,null,null,null,null,null,null,null,null,null,null,null,null,121.0,128.0,129.0,120.0,null,null,129.0,127.0,null,null,null,null,null,null,76.0,94.0,100.0,150.0,173.0,181.0,182.0,175.0,168.0,168.0,165.0,160.0,167.0,167.0,145.0,146.0,148.0,150.0,140.0,144.0,144.0,147.0,157.0,169.0,172.0,177.0,179.0,189.0,181.0,152.0,148.0,139.0,124.0,96.0,82.0,74.0,68.0,73.0,58.0,53.0,63.0,50.0,43.0,34.0,null,null,null,null,null,null,null,null,null,null,null,null,null,null,null,null,null,null,null,null,null,null,null,null,1.0,null,null,null,null,null,null,null,null,null,null,null,null,null,null,null,null,null,null,null,null,null,139.0,148.0,150.0,138.0,null,177.0,199.0,188.0,161.0,null,null,null,34.0,35.0,null,null,null,null,136.0,169.0,182.0,173.0,164.0,145.0,11.0,2.0,null,null,null,null,2.0,21.0,null,null,null,null,null,null,null,null,null,null,null,null,null,null,null,null,null,null,null,null,null,null,null,null,null,null,null,null,null,null,null,null,null,null,null,null,null,null,null,null,null,null,null,null,null,null,null,null,null,null,null,null,null],[null,null,null,null,null,null,null,null,null,null,null,null,null,null,null,null,null,null,null,null,null,null,null,null,null,null,null,null,null,null,null,null,null,null,null,null,null,null,null,null,null,null,null,null,null,null,null,null,null,null,null,null,null,null,null,null,null,null,null,null,null,null,null,null,null,null,null,null,null,null,null,null,null,null,null,null,null,null,null,null,null,null,null,null,null,null,null,null,null,null,null,null,null,null,null,null,null,null,null,null,null,null,150.0,187.0,196.0,198.0,213.0,204.0,177.0,161.0,156.0,167.0,199.0,197.0,198.0,196.0,199.0,207.0,213.0,217.0,207.0,204.0,204.0,197.0,191.0,190.0,188.0,181.0,null,null,null,null,null,null,null,null,null,null,null,null,null,null,null,null,null,null,null,null,null,null,null,null,null,null,null,null,null,null,null,null,null,null,null,null,null,null,null,null,null,115.0,125.0,137.0,149.0,151.0,141.0,145.0,147.0,142.0,150.0,156.0,144.0,106.0,null,null,88.0,101.0,116.0,117.0,155.0,175.0,161.0,144.0,141.0,149.0,132.0,121.0,118.0,117.0,119.0,120.0,117.0,118.0,131.0,127.0,127.0,127.0,128.0,134.0,136.0,136.0,131.0,138.0,139.0,135.0,144.0,146.0,152.0,153.0,122.0,91.0,78.0,65.0,64.0,57.0,56.0,54.0,43.0,43.0,41.0,null,null,null,null,null,null,null,null,null,null,null,null,null,null,null,null,null,null,null,null,null,null,null,null,null,null,null,null,null,null,null,52.0,null,null,null,null,null,null,null,null,null,null,null,null,null,null,140.0,141.0,135.0,null,null,185.0,198.0,180.0,149.0,null,null,null,null,null,null,null,null,null,null,136.0,181.0,186.0,178.0,157.0,139.0,17.0,8.0,null,null,49.0,58.0,null,null,null,null,null,null,null,null,null,null,null,null,null,null,null,null,null,null,null,null,null,null,null,null,null,null,null,1.0,null,null,null,null,null,null,null,null,1.0,1.0,null,null,null,null,null,null,null,null,null,null,null,null,null,null,null,null],[null,null,null,null,null,null,null,null,null,null,null,null,null,null,null,null,null,null,null,null,null,null,null,null,null,null,null,null,null,null,null,null,null,null,null,null,null,null,null,null,null,null,null,null,null,null,null,null,null,null,null,null,null,null,null,null,null,null,null,null,null,null,null,null,null,null,null,null,null,null,null,null,null,null,null,null,null,null,null,null,null,null,null,null,null,null,null,null,null,null,null,null,null,null,null,null,null,null,null,null,null,null,164.0,192.0,195.0,187.0,188.0,216.0,206.0,165.0,164.0,171.0,196.0,197.0,190.0,185.0,190.0,201.0,211.0,204.0,195.0,199.0,192.0,null,null,null,null,null,null,null,null,null,null,null,null,null,null,null,null,null,null,null,null,null,null,null,null,null,null,null,null,null,null,null,null,null,null,null,null,null,null,null,null,null,null,null,null,null,116.0,127.0,140.0,157.0,168.0,171.0,170.0,169.0,166.0,160.0,172.0,179.0,160.0,135.0,124.0,128.0,119.0,125.0,129.0,118.0,142.0,147.0,148.0,135.0,127.0,123.0,112.0,111.0,102.0,103.0,104.0,107.0,112.0,111.0,112.0,113.0,111.0,112.0,111.0,113.0,116.0,112.0,112.0,116.0,109.0,114.0,129.0,138.0,139.0,139.0,130.0,122.0,106.0,68.0,58.0,59.0,55.0,52.0,45.0,41.0,42.0,32.0,null,null,null,null,null,null,null,null,null,null,null,null,null,null,null,null,null,null,null,null,null,null,null,null,null,null,null,null,null,59.0,84.0,75.0,null,null,null,null,null,null,null,null,null,null,null,9.0,null,null,null,null,null,153.0,175.0,169.0,149.0,null,null,null,null,null,null,null,null,null,null,null,null,2.0,177.0,157.0,136.0,null,8.0,51.0,52.0,46.0,54.0,66.0,46.0,null,null,null,null,null,null,null,2.0,null,null,null,null,null,null,null,null,null,null,null,null,null,null,null,null,null,null,null,null,null,null,1.0,2.0,null,null,null,null,null,null,null,null,null,null,null,null,null,null,null,null,null,null,null,null,null],[null,null,null,null,null,null,null,null,null,null,null,null,null,null,null,null,null,null,null,null,null,null,null,null,null,null,null,null,null,null,null,null,null,null,null,null,null,null,null,null,null,null,null,null,null,null,null,null,null,null,null,null,null,null,null,null,null,null,null,null,null,null,null,null,null,null,null,null,null,null,null,null,null,null,null,null,null,null,null,null,null,null,null,null,null,null,null,null,null,null,null,null,null,null,null,null,null,null,132.0,129.0,null,140.0,196.0,197.0,189.0,181.0,180.0,224.0,222.0,177.0,161.0,161.0,169.0,189.0,191.0,190.0,193.0,190.0,194.0,194.0,186.0,187.0,null,null,null,null,null,null,null,null,null,null,null,null,null,null,null,null,null,null,null,null,null,null,null,null,null,null,null,null,null,null,null,null,null,null,null,null,null,null,null,null,null,null,null,null,null,118.0,137.0,151.0,168.0,186.0,189.0,175.0,168.0,167.0,166.0,174.0,171.0,170.0,161.0,145.0,137.0,138.0,137.0,138.0,120.0,106.0,102.0,109.0,118.0,122.0,115.0,110.0,106.0,101.0,99.0,98.0,102.0,108.0,111.0,110.0,109.0,106.0,105.0,102.0,101.0,99.0,105.0,98.0,101.0,102.0,100.0,112.0,133.0,123.0,122.0,122.0,132.0,126.0,104.0,79.0,65.0,54.0,54.0,49.0,47.0,43.0,41.0,35.0,null,null,null,null,null,null,null,null,null,null,null,null,null,null,null,null,null,null,null,null,null,null,null,null,null,null,null,null,null,60.0,86.0,71.0,null,null,null,null,null,null,null,null,null,null,null,11.0,null,null,null,null,123.0,149.0,149.0,null,null,null,null,null,null,null,null,null,null,null,null,null,null,null,140.0,142.0,3.0,null,null,50.0,55.0,58.0,70.0,72.0,48.0,null,null,null,null,null,null,null,2.0,null,null,null,null,null,null,null,null,null,null,null,null,null,null,null,null,2.0,null,null,null,null,null,null,null,null,null,null,null,null,null,null,null,null,null,null,null,null,null,null,null,null,null,null,null,null],[null,null,null,null,null,null,null,null,null,null,null,null,null,null,null,null,null,null,null,null,null,null,null,null,null,null,null,null,null,null,null,null,null,null,null,null,null,null,null,null,null,null,null,null,null,null,null,null,null,null,null,null,null,null,null,null,null,null,null,null,null,null,null,null,null,null,null,null,null,null,null,null,null,null,null,null,null,null,null,null,null,null,null,null,null,null,null,null,null,null,null,null,null,null,null,null,157.0,182.0,160.0,158.0,156.0,156.0,191.0,177.0,166.0,171.0,197.0,207.0,221.0,209.0,178.0,170.0,167.0,166.0,167.0,175.0,188.0,197.0,191.0,190.0,182.0,null,null,null,null,null,null,null,null,null,null,null,null,null,null,null,null,null,null,null,null,null,null,null,null,null,null,null,null,null,null,null,null,null,null,null,null,null,null,null,null,null,null,null,null,null,114.0,138.0,161.0,169.0,185.0,176.0,146.0,139.0,138.0,152.0,159.0,167.0,152.0,147.0,153.0,146.0,132.0,127.0,127.0,120.0,115.0,102.0,105.0,104.0,102.0,107.0,117.0,112.0,107.0,98.0,93.0,94.0,103.0,109.0,110.0,111.0,108.0,105.0,99.0,96.0,94.0,91.0,92.0,93.0,97.0,96.0,96.0,105.0,124.0,108.0,109.0,103.0,117.0,132.0,113.0,88.0,85.0,73.0,61.0,59.0,53.0,47.0,42.0,37.0,34.0,null,null,null,null,null,null,null,null,null,null,null,null,null,null,null,null,null,null,null,null,null,null,null,null,null,71.0,86.0,51.0,62.0,68.0,58.0,null,null,null,null,null,null,null,null,null,null,null,8.0,null,null,null,null,142.0,143.0,126.0,null,null,null,67.0,66.0,null,null,null,null,null,null,null,null,null,null,18.0,60.0,57.0,null,null,null,51.0,57.0,70.0,71.0,47.0,null,null,null,null,null,null,null,1.0,null,null,null,null,null,null,null,null,null,null,null,null,null,null,null,null,null,null,null,null,null,null,null,null,null,null,null,null,null,null,null,null,null,null,null,null,null,null,null,null,null,null,null,null,null],[null,null,null,null,null,null,null,null,null,null,null,null,null,null,null,null,null,null,null,null,null,null,null,null,null,null,null,null,null,null,null,null,null,null,null,null,null,null,null,null,null,null,null,null,null,null,null,null,null,null,null,null,null,null,null,null,null,null,null,null,null,null,null,null,null,null,null,null,null,null,null,null,null,null,null,null,null,null,null,null,null,null,null,null,null,null,null,null,null,null,null,null,null,null,102.0,178.0,188.0,177.0,133.0,149.0,157.0,155.0,147.0,142.0,153.0,167.0,194.0,188.0,196.0,210.0,196.0,183.0,179.0,177.0,175.0,180.0,180.0,182.0,165.0,160.0,null,null,null,null,null,null,null,null,null,null,null,null,null,null,null,null,null,null,null,null,null,null,null,null,null,null,null,null,null,null,null,null,null,null,null,null,null,null,null,null,null,null,null,null,null,null,122.0,154.0,158.0,156.0,130.0,121.0,120.0,120.0,123.0,133.0,140.0,135.0,134.0,126.0,124.0,122.0,119.0,116.0,119.0,115.0,109.0,112.0,119.0,118.0,113.0,107.0,108.0,108.0,105.0,98.0,94.0,99.0,99.0,97.0,103.0,102.0,101.0,91.0,87.0,84.0,83.0,79.0,83.0,86.0,90.0,93.0,93.0,88.0,93.0,101.0,105.0,100.0,97.0,115.0,108.0,95.0,89.0,80.0,72.0,72.0,57.0,44.0,39.0,36.0,34.0,null,null,null,null,null,null,null,null,null,null,null,null,null,null,null,null,null,null,null,null,null,null,null,null,null,90.0,95.0,60.0,59.0,53.0,null,null,null,null,null,null,null,null,null,null,null,7.0,null,null,null,null,null,139.0,133.0,null,null,null,null,73.0,71.0,66.0,null,null,null,null,null,null,null,null,null,null,59.0,58.0,57.0,1.0,3.0,53.0,63.0,61.0,62.0,51.0,null,null,null,null,null,null,null,null,null,null,null,1.0,1.0,null,null,null,null,null,null,null,null,null,null,null,null,null,null,null,null,null,null,null,null,null,null,null,null,null,null,null,null,null,null,null,null,null,null,null,null,null,null,null,null],[null,null,null,null,null,null,null,null,null,null,null,null,null,null,null,null,null,null,null,null,null,null,null,null,null,null,null,null,null,null,null,null,null,null,null,null,null,null,null,null,null,null,null,null,null,null,null,null,null,null,null,null,null,null,null,null,null,null,null,null,null,null,null,null,null,null,null,null,null,null,null,null,null,null,null,null,null,null,null,null,null,null,null,null,null,null,null,null,null,null,null,null,null,null,149.0,186.0,175.0,null,null,null,null,null,null,null,151.0,173.0,186.0,189.0,169.0,169.0,177.0,185.0,179.0,177.0,168.0,173.0,180.0,175.0,171.0,null,null,null,null,null,null,null,null,null,null,null,null,null,null,null,null,null,null,null,null,null,null,null,null,null,null,null,null,null,null,null,null,null,null,null,null,null,null,null,null,null,null,null,null,null,90.0,104.0,112.0,128.0,134.0,128.0,121.0,107.0,101.0,100.0,107.0,111.0,114.0,110.0,114.0,113.0,117.0,120.0,115.0,115.0,116.0,112.0,109.0,108.0,116.0,112.0,105.0,97.0,95.0,96.0,101.0,93.0,86.0,88.0,85.0,82.0,82.0,82.0,83.0,80.0,75.0,76.0,74.0,72.0,73.0,79.0,83.0,84.0,88.0,84.0,88.0,97.0,100.0,95.0,91.0,89.0,101.0,88.0,80.0,62.0,62.0,56.0,47.0,41.0,37.0,36.0,34.0,29.0,null,null,null,null,null,null,null,null,null,null,null,null,null,null,null,null,null,null,null,null,2.0,2.0,null,62.0,101.0,101.0,64.0,51.0,null,null,null,null,null,null,null,null,null,null,null,null,4.0,null,null,null,null,null,132.0,132.0,null,null,null,109.0,107.0,82.0,93.0,102.0,93.0,null,null,null,null,null,null,null,null,null,57.0,57.0,7.0,37.0,56.0,54.0,61.0,62.0,null,null,null,null,null,null,null,null,null,null,null,null,null,1.0,null,null,null,null,null,null,null,null,null,null,null,null,null,null,null,null,null,null,null,null,null,null,null,null,null,null,null,null,null,null,null,null,null,null,null,null,null,null,null,null],[null,null,null,null,null,null,null,null,null,null,null,null,null,null,null,null,null,null,null,null,null,null,null,null,null,null,null,null,null,null,null,null,null,null,null,null,null,null,null,null,null,null,null,null,null,null,null,null,null,null,null,null,null,null,null,null,null,null,null,null,null,null,null,null,null,null,null,null,null,null,null,null,null,null,null,null,null,null,null,null,null,null,null,null,null,null,null,null,null,null,null,null,null,112.0,153.0,149.0,123.0,null,null,null,null,null,null,null,null,163.0,167.0,172.0,163.0,149.0,152.0,151.0,null,null,null,null,null,null,16.0,33.0,null,null,null,null,null,null,null,null,null,null,null,null,null,null,null,null,null,null,null,null,null,null,null,null,null,null,null,null,null,null,null,null,null,null,null,null,null,null,null,null,null,null,null,92.0,102.0,117.0,116.0,118.0,114.0,108.0,100.0,93.0,87.0,85.0,91.0,95.0,96.0,97.0,98.0,102.0,110.0,110.0,111.0,109.0,102.0,100.0,94.0,89.0,85.0,84.0,84.0,83.0,86.0,93.0,91.0,88.0,75.0,75.0,77.0,76.0,74.0,69.0,67.0,65.0,65.0,61.0,61.0,62.0,62.0,71.0,73.0,75.0,78.0,83.0,84.0,87.0,102.0,96.0,86.0,81.0,83.0,76.0,69.0,56.0,null,null,null,32.0,33.0,32.0,30.0,27.0,null,null,null,null,null,null,null,null,null,null,null,null,null,null,null,null,null,null,null,null,2.0,2.0,null,81.0,106.0,86.0,66.0,54.0,null,null,null,null,null,null,null,null,null,null,null,null,11.0,2.0,null,null,null,null,126.0,128.0,null,null,115.0,120.0,118.0,103.0,108.0,140.0,131.0,105.0,null,null,null,null,null,null,null,null,null,62.0,32.0,38.0,40.0,53.0,62.0,57.0,null,null,null,null,null,null,null,null,null,null,null,null,null,null,null,null,null,null,null,null,null,null,null,null,null,null,null,null,null,null,null,null,null,null,null,null,null,null,null,null,null,null,null,null,null,null,null,null,null,null,null,null,null,null],[null,null,null,null,null,null,null,null,null,null,null,null,null,null,null,null,null,null,null,null,null,null,null,null,null,null,null,null,null,null,null,null,null,null,null,null,null,null,null,null,null,null,null,null,null,null,null,null,null,null,null,null,null,null,null,null,null,null,null,null,null,null,null,null,null,null,null,null,null,null,null,null,null,null,null,null,null,null,null,null,null,null,null,null,null,null,null,null,null,null,null,null,107.0,144.0,158.0,142.0,116.0,null,null,null,null,null,null,null,null,null,null,124.0,125.0,129.0,129.0,null,null,null,null,null,null,null,16.0,null,null,null,null,null,null,null,null,null,null,null,null,null,null,null,null,null,null,null,null,null,null,null,null,null,null,null,null,null,null,null,null,null,null,null,null,null,null,null,null,null,null,null,null,103.0,113.0,124.0,119.0,122.0,107.0,92.0,95.0,89.0,84.0,81.0,79.0,82.0,80.0,80.0,83.0,85.0,89.0,91.0,97.0,94.0,85.0,80.0,77.0,77.0,71.0,70.0,68.0,69.0,72.0,80.0,82.0,73.0,62.0,60.0,61.0,59.0,58.0,59.0,60.0,60.0,62.0,57.0,55.0,56.0,54.0,59.0,60.0,63.0,71.0,75.0,85.0,82.0,94.0,87.0,85.0,77.0,70.0,58.0,56.0,78.0,47.0,42.0,null,null,null,null,null,null,null,2.0,2.0,null,null,null,null,null,null,null,null,null,null,null,null,null,null,null,null,null,null,null,61.0,89.0,93.0,82.0,75.0,63.0,55.0,null,null,null,null,null,null,null,null,null,null,null,10.0,5.0,null,null,null,null,131.0,138.0,111.0,110.0,128.0,118.0,109.0,107.0,117.0,132.0,134.0,113.0,null,null,null,null,null,null,null,null,null,30.0,62.0,48.0,37.0,47.0,58.0,46.0,null,null,null,null,null,null,null,null,null,null,null,null,null,null,null,null,null,null,null,null,null,null,null,null,null,null,null,null,null,null,null,null,null,null,null,null,null,null,null,null,null,null,null,null,null,null,null,null,null,null,null,null,null,null],[null,null,null,null,null,null,null,null,null,null,null,null,null,null,null,null,null,null,null,null,null,null,null,null,null,null,null,null,null,null,null,null,null,null,null,null,null,null,null,null,null,null,null,null,null,null,null,null,null,null,null,null,null,null,null,null,null,null,null,null,null,null,null,null,null,null,null,null,null,null,null,null,null,null,null,null,null,null,null,null,null,null,null,null,null,null,null,null,93.0,109.0,118.0,131.0,147.0,156.0,154.0,128.0,109.0,null,null,null,null,null,null,null,null,null,null,null,null,null,null,null,null,null,null,null,null,null,12.0,8.0,7.0,null,null,null,null,null,null,null,null,null,null,null,null,null,null,null,null,null,null,null,null,null,null,null,null,null,null,null,null,null,null,null,null,null,null,null,null,null,null,null,null,null,null,107.0,116.0,113.0,114.0,109.0,96.0,83.0,76.0,76.0,71.0,70.0,71.0,79.0,76.0,75.0,77.0,77.0,81.0,81.0,78.0,70.0,71.0,69.0,67.0,63.0,59.0,57.0,57.0,62.0,69.0,67.0,61.0,59.0,53.0,53.0,52.0,51.0,48.0,47.0,47.0,51.0,55.0,51.0,47.0,46.0,48.0,48.0,53.0,61.0,70.0,69.0,74.0,72.0,82.0,79.0,83.0,77.0,66.0,55.0,45.0,46.0,50.0,45.0,30.0,null,null,null,null,null,null,null,null,null,null,null,null,null,null,null,null,null,null,null,null,null,null,null,null,null,null,null,78.0,92.0,75.0,73.0,74.0,63.0,55.0,null,null,null,null,null,null,null,null,null,null,null,6.0,7.0,2.0,null,null,null,132.0,147.0,111.0,128.0,131.0,110.0,107.0,107.0,113.0,135.0,134.0,106.0,null,null,null,null,null,null,null,null,null,null,57.0,62.0,55.0,57.0,51.0,null,null,null,null,null,null,null,null,null,null,null,null,null,null,null,null,null,null,null,2.0,null,null,null,null,null,null,null,null,null,null,null,null,null,null,null,null,null,null,null,null,null,null,null,null,null,null,null,null,null,null,null,null,null,null,null],[null,null,null,null,null,null,null,null,null,null,null,null,null,null,null,null,null,null,null,null,null,null,null,null,null,null,null,null,null,null,null,null,null,null,null,null,null,null,null,null,null,null,null,null,null,null,null,null,null,null,null,null,null,null,null,null,null,null,null,null,null,null,null,null,null,null,null,null,null,null,null,null,null,null,null,null,null,null,null,null,null,null,null,null,null,null,null,121.0,129.0,141.0,152.0,159.0,157.0,153.0,141.0,124.0,109.0,null,null,null,null,null,null,null,null,null,null,null,null,null,null,null,null,null,null,null,null,null,11.0,11.0,null,null,null,null,null,null,null,null,null,null,null,null,null,null,null,null,null,null,null,null,null,null,null,null,null,null,null,null,null,null,null,null,null,null,null,1.0,1.0,null,null,null,null,null,64.0,77.0,76.0,79.0,74.0,75.0,76.0,69.0,66.0,64.0,61.0,65.0,67.0,67.0,68.0,68.0,68.0,67.0,65.0,59.0,54.0,57.0,57.0,57.0,54.0,54.0,53.0,51.0,51.0,56.0,60.0,62.0,56.0,50.0,44.0,44.0,43.0,43.0,43.0,42.0,39.0,41.0,42.0,39.0,37.0,38.0,39.0,40.0,46.0,55.0,60.0,62.0,62.0,57.0,72.0,82.0,78.0,79.0,57.0,47.0,39.0,48.0,48.0,42.0,36.0,28.0,24.0,22.0,20.0,null,null,null,null,null,null,null,null,null,null,null,null,null,null,null,null,null,null,null,null,null,null,null,91.0,94.0,72.0,66.0,70.0,61.0,53.0,null,null,null,null,null,null,null,null,null,null,null,null,3.0,null,null,null,110.0,147.0,155.0,115.0,141.0,128.0,111.0,109.0,122.0,139.0,151.0,146.0,93.0,null,null,null,null,null,null,null,null,null,null,50.0,61.0,54.0,50.0,44.0,null,null,null,null,null,null,null,null,null,null,null,null,null,null,null,null,null,null,null,null,2.0,null,null,null,null,null,null,null,null,null,null,null,null,null,null,null,null,null,null,null,null,null,null,null,null,null,null,null,null,null,null,null,null,null,null],[null,null,null,null,null,null,null,null,null,null,null,null,null,null,null,null,null,null,null,null,null,null,null,null,null,null,null,null,null,null,null,null,null,null,null,null,null,null,null,null,null,null,null,null,null,null,null,null,null,null,null,null,null,null,null,null,null,null,null,null,null,null,null,null,null,null,null,null,null,null,null,null,null,null,null,null,null,null,null,null,null,null,102.0,116.0,107.0,null,138.0,155.0,169.0,163.0,172.0,164.0,149.0,144.0,134.0,114.0,107.0,null,null,null,null,null,null,null,null,null,null,null,null,null,null,null,null,null,null,null,null,null,15.0,null,null,null,null,null,null,null,null,null,null,null,null,null,null,null,null,null,null,null,null,null,null,null,null,null,null,null,null,null,null,null,null,null,null,null,null,1.0,1.0,1.0,null,null,null,null,56.0,68.0,62.0,62.0,67.0,66.0,57.0,54.0,54.0,51.0,52.0,56.0,60.0,59.0,60.0,58.0,56.0,56.0,55.0,52.0,48.0,50.0,49.0,47.0,46.0,48.0,47.0,48.0,46.0,46.0,44.0,41.0,41.0,38.0,37.0,40.0,38.0,38.0,36.0,34.0,32.0,33.0,31.0,32.0,33.0,30.0,32.0,36.0,42.0,49.0,57.0,56.0,44.0,50.0,61.0,72.0,80.0,72.0,53.0,null,39.0,49.0,41.0,36.0,30.0,26.0,25.0,25.0,22.0,23.0,22.0,null,null,null,null,null,null,null,null,null,null,null,null,null,null,null,null,null,null,null,null,71.0,89.0,83.0,72.0,68.0,71.0,62.0,54.0,48.0,null,null,null,null,null,null,null,null,null,null,null,null,59.0,61.0,null,123.0,156.0,157.0,116.0,136.0,113.0,95.0,94.0,133.0,149.0,154.0,140.0,null,null,null,null,null,null,null,null,null,null,42.0,57.0,53.0,null,null,null,null,null,null,null,null,null,null,null,null,null,null,null,null,null,null,null,null,null,null,null,2.0,null,null,null,null,null,null,null,null,null,null,null,null,null,null,null,null,null,null,null,null,null,null,null,null,null,null,null,null,null,null,null,null,null,null],[null,null,null,null,null,null,null,null,null,null,null,null,null,null,null,null,null,null,null,null,null,null,null,null,null,null,null,null,null,null,null,null,null,null,null,null,null,null,null,null,null,null,null,null,null,null,null,null,null,null,null,null,null,null,null,null,null,null,null,null,null,null,null,null,null,null,null,null,null,null,null,null,null,null,null,null,null,null,null,null,101.0,116.0,134.0,150.0,159.0,155.0,165.0,166.0,172.0,150.0,138.0,124.0,null,102.0,null,null,null,null,null,null,null,null,null,null,null,null,null,null,null,null,null,null,null,null,null,null,null,10.0,13.0,null,null,null,null,null,null,null,null,null,null,null,null,null,null,null,null,null,null,null,null,null,null,null,null,null,null,null,null,null,null,null,null,null,null,null,2.0,2.0,null,1.0,null,null,null,null,null,58.0,57.0,58.0,55.0,46.0,41.0,39.0,36.0,36.0,37.0,40.0,43.0,47.0,54.0,53.0,48.0,47.0,46.0,43.0,42.0,41.0,41.0,42.0,41.0,41.0,42.0,40.0,34.0,34.0,33.0,29.0,30.0,28.0,26.0,25.0,25.0,24.0,24.0,25.0,24.0,24.0,24.0,24.0,24.0,25.0,22.0,27.0,32.0,38.0,44.0,44.0,41.0,41.0,47.0,60.0,65.0,55.0,null,null,39.0,42.0,40.0,29.0,24.0,23.0,23.0,23.0,25.0,28.0,28.0,27.0,24.0,null,null,null,null,null,null,null,null,null,null,null,null,null,null,null,null,null,null,70.0,78.0,72.0,67.0,62.0,67.0,68.0,58.0,50.0,50.0,null,null,null,null,null,null,null,null,null,null,null,64.0,64.0,79.0,127.0,156.0,152.0,143.0,148.0,126.0,100.0,111.0,145.0,161.0,147.0,110.0,null,null,null,null,null,null,null,null,null,null,38.0,64.0,65.0,50.0,null,null,null,null,null,null,null,null,null,null,null,null,null,null,null,null,null,null,null,null,null,null,1.0,null,null,null,null,null,null,null,null,null,null,null,null,null,null,null,null,null,null,null,null,null,null,null,null,null,null,null,null,null,null,null,null,null,null],[null,null,null,null,null,null,null,null,null,null,null,null,null,null,null,null,null,null,null,null,null,null,null,null,null,null,null,null,null,null,null,null,null,null,null,null,null,null,null,null,null,null,null,null,null,null,null,null,null,null,null,null,null,null,null,null,null,null,null,null,null,null,null,null,null,null,null,null,null,null,null,null,null,null,null,null,null,null,97.0,112.0,125.0,129.0,145.0,174.0,167.0,154.0,162.0,162.0,148.0,128.0,124.0,119.0,null,null,null,null,null,null,null,null,null,null,22.0,22.0,null,null,null,null,20.0,null,null,null,13.0,13.0,null,4.0,null,7.0,8.0,null,null,null,null,null,null,null,null,null,null,null,null,null,null,null,null,null,null,null,null,null,null,null,null,null,null,null,null,null,null,null,null,null,null,null,1.0,1.0,null,null,null,null,null,null,null,34.0,40.0,40.0,34.0,32.0,31.0,29.0,28.0,29.0,28.0,28.0,29.0,32.0,36.0,38.0,36.0,36.0,36.0,32.0,31.0,29.0,30.0,30.0,32.0,36.0,38.0,36.0,27.0,25.0,25.0,22.0,18.0,18.0,17.0,17.0,18.0,18.0,16.0,16.0,16.0,16.0,15.0,15.0,16.0,18.0,19.0,24.0,30.0,31.0,34.0,40.0,40.0,34.0,42.0,52.0,51.0,43.0,null,33.0,44.0,49.0,36.0,24.0,19.0,16.0,16.0,20.0,21.0,22.0,27.0,29.0,31.0,29.0,23.0,null,null,null,null,null,null,null,null,null,null,null,null,null,null,null,null,75.0,77.0,65.0,63.0,63.0,60.0,67.0,63.0,58.0,58.0,54.0,null,null,null,null,null,null,null,null,null,null,77.0,90.0,121.0,145.0,154.0,148.0,152.0,156.0,132.0,111.0,170.0,178.0,161.0,91.0,null,null,null,null,null,null,null,null,null,null,null,null,65.0,68.0,52.0,null,null,null,null,null,null,null,null,null,null,null,null,null,null,null,null,null,null,null,null,null,null,1.0,null,null,null,null,null,null,null,null,null,null,null,null,null,null,null,null,null,null,null,null,null,null,null,null,null,null,null,null,null,null,null,null,null,null],[null,null,null,null,null,null,null,null,null,null,null,null,null,null,null,null,null,null,null,null,null,null,null,null,1.0,null,null,null,null,null,null,null,null,null,null,null,null,null,null,null,null,null,null,null,null,null,null,null,null,null,null,null,null,null,null,null,null,null,null,null,null,null,null,null,null,null,null,null,null,null,null,null,null,null,null,null,110.0,113.0,117.0,128.0,132.0,124.0,160.0,166.0,131.0,121.0,109.0,109.0,106.0,105.0,110.0,110.0,90.0,null,null,null,null,null,null,null,null,21.0,23.0,23.0,null,20.0,20.0,19.0,20.0,20.0,20.0,19.0,13.0,13.0,13.0,4.0,null,null,null,null,null,null,null,null,null,null,null,null,null,null,null,null,null,null,null,null,null,null,null,null,null,null,null,null,null,null,null,null,null,null,null,null,null,null,null,null,null,null,null,null,null,null,null,27.0,29.0,26.0,27.0,28.0,26.0,21.0,20.0,18.0,18.0,18.0,18.0,18.0,18.0,19.0,20.0,24.0,25.0,29.0,29.0,24.0,23.0,22.0,23.0,30.0,33.0,30.0,24.0,20.0,20.0,17.0,14.0,13.0,12.0,14.0,14.0,14.0,13.0,13.0,12.0,12.0,12.0,10.0,11.0,14.0,15.0,22.0,29.0,29.0,32.0,35.0,37.0,33.0,40.0,47.0,40.0,null,null,40.0,43.0,39.0,30.0,22.0,15.0,14.0,13.0,13.0,17.0,17.0,19.0,23.0,24.0,25.0,26.0,25.0,null,null,null,null,null,null,null,null,null,null,null,null,null,null,67.0,80.0,76.0,68.0,65.0,66.0,67.0,71.0,68.0,61.0,61.0,59.0,54.0,null,null,null,null,null,null,null,null,68.0,88.0,101.0,134.0,151.0,161.0,154.0,150.0,155.0,154.0,165.0,185.0,175.0,121.0,null,75.0,77.0,69.0,null,null,null,null,null,null,null,null,null,52.0,52.0,44.0,null,null,null,null,null,null,null,null,null,null,null,null,null,null,null,null,null,null,null,null,null,null,1.0,null,null,null,null,null,null,null,null,null,null,null,null,null,null,null,null,null,null,null,null,null,null,null,null,null,null,null,null,null,null,null,null,null,null],[null,null,null,null,null,null,null,null,null,null,null,null,null,null,null,null,null,null,null,null,null,null,null,1.0,1.0,1.0,null,null,null,null,null,null,null,null,null,null,null,null,null,null,null,null,null,null,null,null,null,null,null,null,null,null,null,null,null,null,null,null,null,null,null,null,null,null,null,null,null,null,null,null,null,null,null,null,93.0,116.0,136.0,136.0,123.0,112.0,117.0,145.0,166.0,140.0,null,null,null,null,null,85.0,91.0,94.0,91.0,null,null,null,null,null,5.0,null,null,null,26.0,26.0,26.0,null,18.0,18.0,20.0,20.0,20.0,19.0,null,null,null,null,null,null,null,null,null,null,null,null,null,null,null,null,null,null,null,null,null,null,null,null,null,null,null,null,null,null,null,null,null,null,null,null,null,null,null,null,null,null,null,null,null,null,null,null,null,null,null,24.0,25.0,23.0,22.0,20.0,19.0,16.0,14.0,14.0,15.0,15.0,15.0,15.0,15.0,15.0,17.0,20.0,22.0,25.0,24.0,20.0,18.0,18.0,22.0,26.0,30.0,29.0,21.0,18.0,17.0,16.0,14.0,12.0,14.0,15.0,16.0,15.0,11.0,11.0,12.0,12.0,13.0,10.0,10.0,11.0,12.0,19.0,25.0,24.0,28.0,32.0,31.0,32.0,37.0,36.0,null,null,37.0,41.0,41.0,33.0,24.0,20.0,15.0,13.0,12.0,13.0,14.0,14.0,15.0,16.0,20.0,23.0,27.0,27.0,null,null,null,null,null,null,null,null,null,null,null,null,null,null,68.0,78.0,71.0,68.0,67.0,68.0,67.0,70.0,70.0,63.0,59.0,60.0,62.0,61.0,58.0,null,null,null,null,null,8.0,79.0,96.0,98.0,133.0,150.0,162.0,159.0,161.0,158.0,156.0,164.0,173.0,151.0,87.0,null,76.0,78.0,69.0,null,null,null,null,null,null,null,null,null,null,7.0,null,null,null,null,null,null,null,null,null,null,null,null,null,null,null,null,null,null,null,null,null,null,null,1.0,null,null,null,null,null,null,null,null,null,null,null,null,null,null,null,null,null,null,null,null,null,null,null,null,null,null,null,null,null,null,null,null,null,null],[null,null,null,null,null,null,null,null,null,null,null,null,null,null,null,null,null,null,null,null,null,null,null,1.0,1.0,null,null,null,null,null,null,null,null,null,null,null,null,null,null,null,null,null,null,null,null,null,null,null,null,null,null,null,null,null,null,null,null,null,null,null,null,null,null,null,null,null,null,null,null,null,null,null,null,null,101.0,117.0,129.0,119.0,98.0,92.0,118.0,146.0,137.0,94.0,null,null,null,null,null,79.0,81.0,87.0,88.0,80.0,null,null,null,null,null,null,null,26.0,27.0,26.0,27.0,27.0,1.0,null,null,null,null,null,null,null,null,null,null,null,null,null,null,null,null,null,null,null,null,null,null,null,null,null,null,null,null,null,null,null,null,null,null,null,null,null,null,null,null,null,null,null,null,null,null,null,null,null,null,null,null,null,null,null,17.0,21.0,19.0,16.0,15.0,17.0,15.0,13.0,14.0,12.0,13.0,13.0,12.0,12.0,13.0,13.0,13.0,13.0,16.0,18.0,17.0,17.0,18.0,20.0,17.0,17.0,20.0,19.0,19.0,17.0,14.0,13.0,12.0,14.0,16.0,16.0,14.0,15.0,12.0,12.0,13.0,11.0,11.0,11.0,11.0,11.0,14.0,16.0,23.0,22.0,23.0,24.0,26.0,29.0,35.0,31.0,null,35.0,40.0,44.0,38.0,28.0,19.0,16.0,14.0,14.0,12.0,11.0,12.0,13.0,12.0,15.0,17.0,22.0,23.0,25.0,25.0,null,null,null,null,null,null,null,null,null,null,null,54.0,55.0,65.0,72.0,70.0,69.0,69.0,68.0,67.0,72.0,68.0,64.0,59.0,63.0,63.0,65.0,60.0,50.0,null,null,null,null,81.0,103.0,110.0,104.0,135.0,135.0,150.0,156.0,165.0,159.0,153.0,152.0,158.0,149.0,112.0,97.0,null,81.0,81.0,null,null,null,null,null,null,null,null,null,null,5.0,5.0,null,null,null,null,null,null,null,null,null,null,null,null,null,null,null,null,null,null,null,null,null,null,1.0,null,null,null,null,null,null,null,null,null,null,null,null,null,null,null,null,null,null,null,null,null,null,null,null,null,null,null,null,null,null,null,null,null,null],[null,null,null,null,null,null,null,null,null,null,null,null,null,null,null,null,null,null,null,null,1.0,1.0,1.0,1.0,null,null,null,null,null,null,null,null,null,null,null,null,null,null,null,null,null,null,null,null,null,null,null,null,null,null,null,null,null,null,null,null,null,null,null,null,null,null,null,null,null,null,null,null,null,null,null,null,null,6.0,97.0,122.0,117.0,102.0,90.0,100.0,138.0,133.0,97.0,null,null,null,null,null,null,69.0,71.0,77.0,80.0,74.0,null,27.0,30.0,11.0,2.0,27.0,27.0,28.0,26.0,27.0,26.0,null,1.0,1.0,3.0,null,null,null,null,null,null,null,null,null,null,null,null,null,null,null,null,null,null,null,null,null,null,null,null,null,null,null,null,null,null,null,null,null,null,null,null,null,null,null,null,null,null,null,null,null,null,null,null,null,null,null,null,null,18.0,21.0,22.0,16.0,15.0,15.0,14.0,13.0,13.0,11.0,13.0,13.0,12.0,12.0,12.0,12.0,12.0,12.0,13.0,12.0,12.0,13.0,18.0,24.0,24.0,22.0,17.0,16.0,14.0,14.0,11.0,12.0,12.0,16.0,16.0,16.0,13.0,14.0,10.0,11.0,11.0,12.0,13.0,14.0,12.0,10.0,14.0,15.0,25.0,25.0,24.0,23.0,28.0,31.0,29.0,27.0,null,40.0,41.0,38.0,32.0,24.0,17.0,16.0,15.0,14.0,15.0,14.0,14.0,14.0,14.0,14.0,16.0,20.0,25.0,23.0,26.0,22.0,null,null,null,null,null,null,null,null,null,50.0,57.0,60.0,66.0,71.0,70.0,71.0,72.0,74.0,77.0,77.0,71.0,65.0,59.0,57.0,62.0,65.0,63.0,57.0,55.0,48.0,41.0,54.0,102.0,112.0,119.0,99.0,136.0,137.0,144.0,157.0,181.0,177.0,160.0,164.0,163.0,149.0,138.0,133.0,113.0,76.0,68.0,62.0,62.0,61.0,null,null,null,null,null,null,52.0,1.0,null,null,null,null,null,null,null,null,null,null,null,null,null,null,null,null,null,null,null,null,null,null,null,null,null,null,null,null,null,null,null,null,null,null,null,null,null,null,null,null,null,null,null,null,null,null,null,null,null,null,null,null,null,null,null,null,null,null],[null,null,null,null,null,null,null,null,null,null,null,null,null,null,null,null,null,null,null,null,1.0,null,null,null,null,null,null,null,null,null,null,null,null,null,null,null,null,null,null,null,null,null,null,null,null,null,null,null,null,null,null,null,null,null,null,null,null,null,null,null,null,null,null,null,null,null,null,null,null,null,40.0,null,null,81.0,104.0,128.0,103.0,88.0,80.0,97.0,134.0,115.0,88.0,null,null,null,null,null,null,null,null,null,null,null,null,27.0,27.0,27.0,28.0,28.0,28.0,27.0,26.0,null,null,2.0,2.0,null,null,null,null,null,null,null,null,null,null,null,null,null,null,null,null,null,null,null,null,null,null,null,null,null,null,null,null,null,null,null,null,null,null,null,null,null,null,null,null,null,null,null,null,null,null,null,null,null,null,null,null,null,null,null,null,20.0,22.0,18.0,18.0,16.0,15.0,15.0,13.0,12.0,12.0,11.0,11.0,11.0,11.0,11.0,11.0,10.0,10.0,12.0,14.0,15.0,24.0,28.0,27.0,26.0,23.0,18.0,14.0,13.0,12.0,10.0,11.0,13.0,13.0,14.0,13.0,12.0,11.0,11.0,13.0,12.0,13.0,14.0,13.0,10.0,13.0,15.0,20.0,26.0,27.0,32.0,34.0,35.0,30.0,null,25.0,37.0,38.0,32.0,27.0,16.0,16.0,16.0,16.0,16.0,17.0,17.0,17.0,17.0,19.0,20.0,21.0,22.0,33.0,34.0,33.0,28.0,null,null,null,null,null,null,null,null,48.0,50.0,56.0,61.0,68.0,69.0,69.0,67.0,70.0,74.0,74.0,73.0,70.0,62.0,58.0,60.0,60.0,66.0,62.0,64.0,64.0,52.0,52.0,67.0,104.0,122.0,120.0,106.0,138.0,140.0,141.0,168.0,156.0,181.0,192.0,188.0,178.0,147.0,151.0,114.0,103.0,86.0,81.0,74.0,72.0,77.0,76.0,63.0,62.0,null,null,null,58.0,58.0,null,null,null,null,null,null,null,null,null,null,null,null,null,null,null,null,null,null,null,null,null,null,null,null,null,null,null,null,null,null,null,null,null,null,null,null,null,null,null,null,null,null,null,null,null,null,null,null,null,null,null,null,null,null,null,null,null,null],[null,null,null,null,null,null,null,null,null,null,null,null,null,null,null,null,null,null,null,null,null,null,null,null,null,null,null,null,null,null,null,null,null,null,null,null,null,null,null,null,null,null,null,null,null,null,null,null,null,null,null,null,null,null,null,null,null,null,null,null,null,null,null,null,null,null,null,null,null,43.0,42.0,null,70.0,93.0,114.0,111.0,88.0,76.0,76.0,96.0,125.0,110.0,73.0,null,null,null,null,null,null,null,null,null,null,null,null,null,26.0,26.0,26.0,27.0,null,null,3.0,null,3.0,3.0,null,null,null,null,null,null,null,null,null,null,null,null,null,null,null,null,null,null,null,null,null,null,null,null,null,null,null,null,null,null,null,null,null,null,null,null,null,null,null,null,null,null,null,null,null,null,null,null,null,null,null,null,null,null,null,null,null,18.0,23.0,23.0,21.0,17.0,16.0,15.0,13.0,12.0,12.0,11.0,11.0,11.0,11.0,11.0,10.0,10.0,11.0,11.0,16.0,19.0,25.0,28.0,27.0,25.0,25.0,23.0,17.0,16.0,11.0,10.0,10.0,11.0,11.0,11.0,13.0,13.0,12.0,11.0,12.0,12.0,13.0,13.0,13.0,12.0,15.0,14.0,15.0,22.0,31.0,36.0,33.0,34.0,null,null,26.0,29.0,26.0,24.0,19.0,14.0,16.0,18.0,22.0,22.0,20.0,20.0,20.0,20.0,20.0,20.0,23.0,32.0,34.0,34.0,34.0,28.0,null,null,null,null,null,null,null,50.0,52.0,50.0,56.0,62.0,70.0,70.0,65.0,61.0,62.0,65.0,67.0,62.0,61.0,56.0,57.0,60.0,63.0,63.0,57.0,55.0,56.0,50.0,58.0,76.0,98.0,133.0,134.0,110.0,137.0,166.0,170.0,174.0,153.0,154.0,150.0,143.0,152.0,146.0,124.0,110.0,103.0,99.0,91.0,83.0,79.0,78.0,76.0,69.0,69.0,70.0,null,null,65.0,65.0,null,null,null,null,null,null,null,null,null,null,null,null,null,null,null,null,null,null,null,null,null,null,null,null,null,null,null,null,null,null,null,null,null,null,null,null,null,null,null,null,null,null,null,null,null,null,null,null,null,null,null,null,null,null,null,null,null,null],[null,null,null,null,null,null,null,null,null,null,null,null,null,null,null,null,null,null,null,null,null,null,null,null,null,null,null,null,null,null,null,null,null,null,null,null,null,null,null,null,null,null,null,null,null,null,null,null,null,null,null,null,null,null,null,null,null,null,null,null,null,null,null,null,null,null,null,null,43.0,47.0,41.0,70.0,84.0,98.0,108.0,91.0,80.0,74.0,79.0,100.0,106.0,79.0,64.0,null,null,null,null,null,null,null,null,null,null,null,null,null,null,null,3.0,29.0,null,4.0,5.0,3.0,2.0,1.0,null,null,null,null,null,null,null,null,null,null,null,null,null,null,null,null,null,null,null,null,null,null,null,null,null,null,null,null,null,null,null,null,null,null,null,null,null,null,null,null,null,null,null,null,null,null,null,null,null,null,null,null,null,null,null,null,null,null,19.0,22.0,21.0,20.0,16.0,15.0,14.0,13.0,12.0,11.0,11.0,11.0,10.0,10.0,10.0,11.0,11.0,12.0,15.0,21.0,23.0,24.0,26.0,27.0,26.0,22.0,20.0,19.0,14.0,12.0,15.0,14.0,13.0,13.0,13.0,12.0,11.0,11.0,12.0,12.0,14.0,13.0,13.0,13.0,15.0,15.0,16.0,19.0,30.0,33.0,23.0,24.0,null,25.0,28.0,25.0,20.0,19.0,14.0,16.0,18.0,22.0,23.0,23.0,22.0,22.0,24.0,21.0,17.0,17.0,22.0,34.0,35.0,27.0,null,null,null,null,null,null,null,null,45.0,56.0,56.0,50.0,53.0,58.0,69.0,68.0,63.0,62.0,63.0,63.0,64.0,60.0,58.0,56.0,55.0,57.0,61.0,59.0,56.0,53.0,48.0,55.0,68.0,93.0,112.0,125.0,137.0,117.0,122.0,192.0,191.0,159.0,154.0,145.0,122.0,119.0,116.0,111.0,110.0,106.0,105.0,100.0,100.0,92.0,91.0,88.0,80.0,78.0,78.0,80.0,77.0,null,62.0,63.0,null,9.0,8.0,5.0,null,null,null,null,null,null,null,null,null,null,null,null,null,null,null,null,null,null,null,null,null,null,null,null,null,null,null,null,null,null,null,null,null,null,null,null,null,null,null,null,null,null,null,null,null,null,null,null,null,null,null,null,null,null],[null,null,null,null,null,null,null,null,null,null,null,null,null,null,null,null,null,null,null,null,null,null,null,null,null,null,null,null,null,null,null,null,null,null,null,null,null,null,null,null,null,null,null,null,null,null,null,null,null,null,null,null,null,null,null,null,null,null,null,null,null,null,null,null,null,null,null,43.0,46.0,41.0,68.0,81.0,98.0,100.0,97.0,85.0,79.0,75.0,88.0,103.0,87.0,66.0,56.0,null,null,null,null,null,null,null,null,null,null,null,null,null,null,null,33.0,36.0,null,4.0,6.0,3.0,null,null,null,null,null,null,null,null,null,null,null,null,null,null,null,null,null,null,null,null,null,null,null,null,null,null,null,null,null,null,null,null,null,null,null,null,null,null,null,null,null,null,null,null,null,null,null,null,null,null,null,null,null,null,null,null,null,null,null,null,null,21.0,24.0,24.0,20.0,16.0,15.0,15.0,12.0,11.0,11.0,10.0,10.0,10.0,12.0,12.0,12.0,13.0,15.0,20.0,23.0,24.0,23.0,24.0,25.0,22.0,20.0,18.0,18.0,18.0,18.0,16.0,14.0,13.0,13.0,11.0,12.0,12.0,12.0,12.0,11.0,11.0,11.0,12.0,15.0,16.0,19.0,27.0,31.0,33.0,24.0,null,22.0,25.0,28.0,22.0,21.0,19.0,17.0,17.0,20.0,24.0,24.0,24.0,22.0,22.0,25.0,19.0,null,null,4.0,31.0,31.0,27.0,28.0,32.0,36.0,38.0,34.0,34.0,30.0,33.0,48.0,52.0,52.0,47.0,48.0,52.0,61.0,63.0,62.0,62.0,64.0,65.0,63.0,60.0,55.0,52.0,50.0,51.0,54.0,60.0,58.0,55.0,54.0,108.0,120.0,130.0,128.0,118.0,145.0,139.0,124.0,171.0,198.0,165.0,147.0,129.0,119.0,107.0,110.0,109.0,112.0,113.0,116.0,105.0,101.0,99.0,89.0,86.0,79.0,79.0,83.0,83.0,85.0,81.0,20.0,53.0,null,null,null,null,null,null,null,null,null,null,null,null,null,null,null,null,null,null,null,1.0,null,null,null,null,null,null,null,null,null,null,null,null,null,null,null,null,null,null,null,null,null,null,null,null,null,null,null,null,null,null,null,null,null,null,null,null,null,null],[null,null,null,null,null,null,null,null,null,null,null,null,null,null,null,null,null,null,null,null,null,null,null,null,null,null,null,null,null,null,null,null,null,null,null,null,null,null,null,null,null,null,null,null,null,null,null,null,null,null,null,null,null,null,null,null,null,null,null,null,null,null,null,null,null,null,42.0,45.0,47.0,null,78.0,92.0,99.0,98.0,89.0,78.0,74.0,79.0,87.0,84.0,77.0,61.0,56.0,null,null,null,null,null,null,null,null,null,null,null,null,null,null,38.0,40.0,39.0,null,2.0,5.0,null,null,null,null,null,null,null,null,null,null,null,null,null,null,null,null,null,null,null,null,null,null,null,null,null,null,null,null,null,null,null,null,null,null,null,null,null,null,null,null,null,null,null,null,null,null,null,null,null,null,null,null,null,null,null,null,null,null,null,null,null,null,21.0,29.0,29.0,24.0,23.0,20.0,16.0,15.0,11.0,11.0,10.0,10.0,11.0,13.0,13.0,13.0,15.0,16.0,18.0,20.0,21.0,22.0,21.0,20.0,18.0,17.0,18.0,19.0,20.0,21.0,19.0,15.0,15.0,14.0,13.0,12.0,12.0,12.0,12.0,11.0,11.0,11.0,14.0,16.0,15.0,28.0,31.0,33.0,33.0,26.0,null,25.0,26.0,25.0,22.0,22.0,18.0,20.0,21.0,19.0,20.0,22.0,22.0,23.0,23.0,24.0,null,null,30.0,32.0,33.0,39.0,36.0,36.0,40.0,39.0,41.0,42.0,38.0,34.0,34.0,43.0,49.0,47.0,46.0,44.0,46.0,51.0,56.0,59.0,61.0,65.0,66.0,64.0,55.0,53.0,50.0,52.0,55.0,73.0,89.0,110.0,126.0,158.0,141.0,138.0,132.0,120.0,109.0,116.0,142.0,136.0,149.0,187.0,167.0,143.0,127.0,118.0,108.0,102.0,103.0,111.0,114.0,107.0,97.0,89.0,88.0,73.0,79.0,79.0,74.0,84.0,91.0,93.0,89.0,69.0,null,null,null,null,null,null,10.0,14.0,null,null,null,null,null,null,null,null,null,null,null,null,null,1.0,null,null,null,null,null,null,null,null,null,null,null,null,null,null,null,null,null,null,null,null,null,null,null,null,null,null,null,null,null,null,null,null,null,null,null,null,null],[null,null,null,null,null,null,null,null,null,null,null,null,null,null,null,null,null,null,null,null,null,null,null,null,null,null,null,null,null,null,null,null,null,null,null,null,null,null,null,null,null,null,null,null,null,null,null,null,null,null,null,null,null,null,null,null,null,null,null,null,null,null,null,null,null,38.0,49.0,45.0,null,62.0,77.0,93.0,95.0,86.0,82.0,80.0,79.0,81.0,83.0,72.0,60.0,54.0,56.0,null,null,null,null,null,null,null,null,null,null,null,null,null,null,41.0,43.0,42.0,null,null,null,null,null,null,null,null,null,null,null,null,null,null,null,null,null,null,null,null,null,null,null,null,null,null,null,null,null,null,null,null,null,null,null,null,null,null,null,null,null,null,null,null,null,null,null,null,null,null,null,null,null,null,null,null,null,null,null,null,null,4.0,4.0,null,5.0,null,28.0,33.0,36.0,32.0,26.0,22.0,19.0,17.0,15.0,13.0,14.0,14.0,13.0,12.0,15.0,17.0,16.0,17.0,17.0,17.0,18.0,17.0,16.0,15.0,16.0,17.0,16.0,20.0,20.0,19.0,16.0,16.0,16.0,13.0,12.0,12.0,12.0,11.0,11.0,12.0,12.0,14.0,17.0,18.0,32.0,34.0,29.0,36.0,32.0,25.0,27.0,28.0,23.0,22.0,21.0,18.0,21.0,21.0,19.0,19.0,20.0,21.0,21.0,21.0,null,31.0,36.0,36.0,38.0,40.0,41.0,41.0,39.0,41.0,40.0,39.0,38.0,40.0,36.0,33.0,42.0,49.0,45.0,47.0,46.0,43.0,43.0,52.0,54.0,61.0,62.0,63.0,62.0,54.0,57.0,77.0,81.0,106.0,136.0,143.0,143.0,150.0,166.0,141.0,104.0,107.0,113.0,98.0,106.0,135.0,159.0,170.0,184.0,147.0,138.0,130.0,128.0,119.0,111.0,109.0,113.0,111.0,110.0,91.0,73.0,66.0,60.0,63.0,67.0,70.0,77.0,91.0,94.0,89.0,75.0,null,null,null,null,null,null,null,12.0,null,null,null,null,null,null,null,null,null,null,null,null,null,1.0,null,null,null,null,null,null,null,null,null,null,null,null,null,null,null,null,null,null,null,null,null,null,null,null,null,null,null,null,null,null,null,null,null,null,null,null,null],[null,null,null,null,null,null,null,null,null,null,null,null,null,null,null,null,null,null,null,null,null,null,null,null,null,null,null,null,null,null,null,null,null,null,null,null,null,null,null,null,null,null,null,null,null,null,null,null,null,null,null,null,null,null,null,null,null,null,null,null,null,null,null,null,3.0,41.0,46.0,67.0,60.0,69.0,76.0,91.0,86.0,80.0,76.0,80.0,79.0,84.0,82.0,64.0,58.0,59.0,58.0,52.0,45.0,null,null,null,null,null,null,null,null,null,null,null,null,44.0,43.0,41.0,null,null,null,null,null,null,null,null,null,null,null,null,null,null,null,null,null,null,null,null,null,null,null,null,null,null,null,null,null,null,null,null,null,null,null,null,null,null,null,null,null,null,null,null,null,null,null,null,null,null,null,null,null,null,null,null,null,null,null,null,null,null,7.0,8.0,5.0,4.0,5.0,31.0,39.0,43.0,42.0,35.0,26.0,20.0,19.0,18.0,18.0,18.0,19.0,17.0,17.0,17.0,16.0,17.0,17.0,17.0,16.0,16.0,16.0,15.0,15.0,16.0,16.0,18.0,17.0,18.0,17.0,17.0,17.0,17.0,16.0,16.0,15.0,13.0,12.0,16.0,16.0,17.0,19.0,25.0,38.0,37.0,28.0,40.0,42.0,28.0,29.0,23.0,20.0,20.0,18.0,19.0,18.0,20.0,19.0,19.0,20.0,24.0,24.0,null,33.0,40.0,47.0,43.0,43.0,43.0,41.0,36.0,38.0,39.0,45.0,41.0,40.0,35.0,40.0,39.0,41.0,44.0,41.0,42.0,44.0,39.0,41.0,44.0,53.0,56.0,54.0,58.0,61.0,82.0,95.0,103.0,105.0,115.0,116.0,102.0,76.0,60.0,81.0,70.0,57.0,56.0,71.0,87.0,99.0,99.0,136.0,154.0,166.0,132.0,120.0,126.0,123.0,128.0,109.0,109.0,113.0,113.0,105.0,99.0,67.0,64.0,61.0,62.0,68.0,68.0,72.0,83.0,90.0,83.0,76.0,56.0,null,null,null,null,null,null,null,14.0,null,null,null,null,null,null,null,null,null,null,null,null,null,null,null,null,null,null,null,null,null,null,null,null,null,null,null,null,null,null,null,null,null,null,null,null,null,null,null,null,null,null,null,null,null,null,null,null,null,null],[null,null,null,null,null,null,null,null,null,null,null,null,null,null,null,null,null,null,null,null,null,null,null,null,null,null,null,null,null,null,null,null,null,null,null,null,null,null,null,null,null,null,null,null,null,null,null,null,null,null,null,null,null,null,null,null,null,null,null,null,null,null,null,null,48.0,48.0,43.0,61.0,66.0,73.0,86.0,96.0,88.0,81.0,80.0,90.0,87.0,89.0,82.0,70.0,62.0,67.0,61.0,52.0,54.0,52.0,41.0,39.0,39.0,36.0,30.0,null,null,null,42.0,42.0,43.0,46.0,44.0,41.0,null,null,null,null,null,null,null,null,null,null,null,null,null,null,null,null,null,null,null,null,null,null,null,null,null,null,null,null,null,null,null,null,null,null,null,null,null,null,null,null,null,null,null,null,null,null,null,null,null,null,null,null,null,null,null,null,null,null,null,null,null,null,null,null,null,null,5.0,null,null,44.0,54.0,51.0,46.0,37.0,31.0,26.0,25.0,29.0,28.0,22.0,20.0,20.0,22.0,20.0,18.0,17.0,16.0,16.0,16.0,17.0,17.0,17.0,18.0,18.0,19.0,20.0,20.0,23.0,26.0,28.0,23.0,19.0,19.0,18.0,17.0,20.0,21.0,24.0,29.0,35.0,47.0,51.0,46.0,45.0,48.0,49.0,28.0,22.0,24.0,23.0,19.0,18.0,19.0,18.0,18.0,19.0,25.0,30.0,35.0,13.0,45.0,52.0,52.0,49.0,42.0,42.0,40.0,39.0,41.0,42.0,44.0,44.0,32.0,35.0,36.0,39.0,48.0,45.0,41.0,34.0,40.0,39.0,39.0,43.0,49.0,50.0,56.0,73.0,93.0,108.0,113.0,94.0,84.0,73.0,48.0,43.0,29.0,28.0,28.0,33.0,38.0,39.0,43.0,63.0,91.0,95.0,96.0,89.0,95.0,104.0,102.0,113.0,138.0,130.0,92.0,84.0,102.0,103.0,98.0,94.0,90.0,69.0,60.0,59.0,65.0,66.0,78.0,87.0,92.0,83.0,75.0,61.0,45.0,null,null,null,null,null,null,5.0,null,null,null,null,null,null,null,null,null,null,null,null,null,null,null,null,null,null,null,null,null,null,null,null,null,null,null,null,null,null,null,null,null,null,null,null,null,null,null,null,null,null,null,null,null,null,null,null,null,null],[null,null,null,null,null,null,null,null,null,null,null,null,null,null,null,null,null,null,null,null,null,null,null,null,null,null,null,null,null,null,null,null,null,null,null,null,null,null,null,null,null,null,null,null,null,null,null,null,null,null,null,null,null,null,null,null,null,null,null,null,null,null,null,47.0,59.0,53.0,null,60.0,75.0,85.0,92.0,99.0,94.0,79.0,85.0,90.0,87.0,83.0,70.0,62.0,57.0,61.0,54.0,49.0,56.0,53.0,49.0,43.0,46.0,45.0,45.0,47.0,48.0,47.0,48.0,47.0,46.0,47.0,45.0,null,null,null,null,null,null,null,null,null,null,null,null,null,null,null,null,null,null,null,null,null,null,null,null,null,null,null,null,null,null,null,null,null,null,null,null,null,null,null,null,null,null,null,null,null,null,null,null,null,null,null,null,null,null,null,null,null,null,null,null,null,null,null,null,null,null,null,null,null,null,null,53.0,62.0,62.0,54.0,48.0,39.0,35.0,37.0,32.0,25.0,22.0,23.0,24.0,23.0,22.0,18.0,16.0,16.0,16.0,17.0,20.0,20.0,20.0,19.0,20.0,25.0,26.0,27.0,29.0,31.0,30.0,20.0,19.0,21.0,22.0,27.0,33.0,38.0,40.0,47.0,55.0,56.0,49.0,42.0,62.0,58.0,30.0,24.0,23.0,21.0,19.0,18.0,18.0,18.0,20.0,29.0,37.0,39.0,40.0,44.0,53.0,51.0,55.0,46.0,41.0,38.0,40.0,40.0,41.0,45.0,45.0,41.0,32.0,31.0,34.0,35.0,46.0,46.0,42.0,36.0,35.0,36.0,36.0,41.0,48.0,61.0,75.0,92.0,101.0,109.0,94.0,65.0,47.0,30.0,24.0,21.0,22.0,21.0,21.0,25.0,27.0,30.0,32.0,44.0,56.0,65.0,66.0,73.0,78.0,84.0,85.0,111.0,137.0,137.0,94.0,82.0,81.0,91.0,98.0,94.0,88.0,74.0,48.0,45.0,51.0,60.0,76.0,84.0,91.0,84.0,75.0,56.0,null,null,null,null,null,null,null,null,32.0,10.0,null,null,null,null,null,null,null,null,null,null,null,null,null,null,null,null,null,null,null,null,null,null,null,null,null,null,null,null,null,null,null,null,null,null,null,null,null,null,null,null,null,null,null,null,null,null,null,null],[null,null,null,null,null,null,null,null,null,null,null,null,null,null,null,null,null,null,null,null,null,null,null,null,null,null,null,null,null,null,null,null,null,null,null,null,null,null,null,null,null,null,null,null,null,null,null,null,null,null,null,null,null,null,null,null,null,null,null,null,null,null,null,59.0,69.0,64.0,62.0,72.0,90.0,94.0,97.0,97.0,87.0,81.0,85.0,88.0,83.0,76.0,68.0,58.0,53.0,61.0,57.0,54.0,54.0,53.0,50.0,46.0,47.0,46.0,46.0,48.0,50.0,52.0,52.0,50.0,49.0,48.0,46.0,null,null,null,null,null,null,null,null,null,null,null,null,null,null,null,null,null,null,null,null,null,null,null,null,null,null,null,null,null,null,null,null,null,null,null,null,null,null,null,null,null,null,null,null,null,null,null,null,null,null,null,null,null,null,null,null,null,null,null,null,null,null,null,null,null,null,null,null,null,null,null,42.0,49.0,55.0,63.0,64.0,55.0,47.0,43.0,39.0,33.0,28.0,27.0,27.0,26.0,25.0,20.0,18.0,19.0,18.0,24.0,25.0,28.0,31.0,30.0,28.0,28.0,27.0,25.0,null,35.0,39.0,34.0,32.0,30.0,32.0,33.0,32.0,33.0,33.0,42.0,41.0,38.0,37.0,33.0,69.0,78.0,43.0,29.0,26.0,22.0,20.0,18.0,18.0,22.0,28.0,32.0,35.0,39.0,44.0,53.0,56.0,55.0,51.0,42.0,42.0,39.0,41.0,39.0,41.0,43.0,46.0,43.0,39.0,38.0,39.0,44.0,45.0,47.0,45.0,41.0,41.0,39.0,42.0,47.0,60.0,74.0,83.0,86.0,86.0,64.0,31.0,29.0,24.0,21.0,19.0,19.0,19.0,19.0,18.0,19.0,23.0,23.0,23.0,29.0,37.0,52.0,60.0,66.0,69.0,70.0,71.0,87.0,123.0,132.0,119.0,93.0,84.0,92.0,97.0,98.0,89.0,70.0,47.0,49.0,51.0,52.0,52.0,58.0,66.0,66.0,57.0,46.0,null,null,null,null,null,null,1.0,null,32.0,31.0,null,null,null,null,null,null,null,null,null,null,null,null,null,null,null,null,null,null,null,null,null,null,null,null,null,null,null,null,null,null,null,null,null,null,null,null,null,null,null,null,null,null,null,null,null,null,null,null],[null,null,null,null,null,null,null,null,null,null,null,null,null,null,null,null,null,null,null,null,null,null,null,null,null,null,null,null,null,null,null,null,null,null,null,null,null,null,null,null,null,null,null,null,null,null,null,null,null,null,null,null,null,null,null,null,null,null,null,null,null,null,53.0,69.0,70.0,64.0,66.0,80.0,89.0,99.0,103.0,103.0,92.0,86.0,90.0,85.0,79.0,67.0,65.0,58.0,59.0,54.0,56.0,55.0,52.0,52.0,50.0,47.0,49.0,46.0,47.0,49.0,51.0,52.0,52.0,51.0,53.0,50.0,47.0,46.0,44.0,null,null,null,null,null,null,null,null,null,null,null,null,null,null,null,null,null,null,null,null,null,null,null,null,null,null,null,null,null,null,null,null,null,null,null,null,null,null,null,null,null,null,null,null,null,null,null,null,null,null,null,null,null,null,null,null,null,null,null,null,null,4.0,4.0,null,null,null,null,null,null,34.0,37.0,45.0,53.0,58.0,63.0,57.0,52.0,54.0,50.0,45.0,41.0,36.0,31.0,30.0,29.0,29.0,27.0,30.0,35.0,36.0,36.0,38.0,36.0,29.0,25.0,null,null,null,null,38.0,36.0,39.0,35.0,27.0,null,null,null,null,null,null,null,null,null,59.0,76.0,57.0,34.0,25.0,21.0,22.0,20.0,25.0,31.0,30.0,31.0,42.0,52.0,59.0,59.0,59.0,53.0,49.0,42.0,40.0,38.0,42.0,40.0,41.0,42.0,46.0,40.0,40.0,45.0,42.0,45.0,50.0,49.0,42.0,40.0,50.0,43.0,52.0,63.0,72.0,80.0,89.0,75.0,60.0,36.0,29.0,26.0,21.0,20.0,18.0,18.0,18.0,18.0,19.0,19.0,19.0,22.0,23.0,27.0,30.0,49.0,59.0,63.0,62.0,61.0,66.0,77.0,100.0,124.0,127.0,114.0,99.0,96.0,103.0,103.0,76.0,60.0,49.0,44.0,45.0,45.0,37.0,45.0,52.0,49.0,41.0,29.0,null,null,null,null,null,null,16.0,31.0,39.0,38.0,35.0,null,null,null,null,null,null,null,null,null,null,null,null,null,null,null,null,null,null,null,null,null,null,null,null,null,null,null,null,null,null,null,null,null,null,null,null,null,null,null,null,null,null,null,null,null,null,null],[null,null,null,null,null,null,null,null,null,null,null,null,null,null,null,null,null,null,null,null,null,null,null,null,null,null,null,null,null,null,null,null,null,null,null,null,null,null,null,null,null,null,null,null,null,null,null,null,null,null,null,null,null,null,null,null,null,null,null,null,null,53.0,68.0,80.0,63.0,66.0,64.0,81.0,93.0,99.0,97.0,99.0,95.0,92.0,86.0,77.0,65.0,61.0,64.0,60.0,59.0,60.0,57.0,54.0,58.0,57.0,53.0,50.0,49.0,47.0,47.0,50.0,52.0,52.0,52.0,51.0,55.0,52.0,51.0,47.0,46.0,null,null,null,null,null,null,null,null,null,null,null,null,null,null,null,null,null,null,null,null,null,null,null,null,null,null,null,null,null,null,null,null,null,null,null,null,null,null,null,null,null,null,null,null,null,null,null,null,null,null,null,null,null,null,null,null,null,null,null,null,null,null,1.0,null,null,null,null,null,null,null,34.0,37.0,45.0,53.0,57.0,55.0,54.0,53.0,51.0,51.0,50.0,49.0,47.0,43.0,42.0,40.0,41.0,40.0,45.0,42.0,33.0,null,null,null,null,null,null,null,null,null,null,null,null,null,null,null,null,null,null,null,null,null,null,null,70.0,67.0,34.0,27.0,21.0,21.0,26.0,32.0,31.0,32.0,38.0,50.0,54.0,58.0,60.0,57.0,51.0,43.0,39.0,38.0,35.0,40.0,41.0,42.0,42.0,45.0,46.0,46.0,45.0,41.0,41.0,48.0,52.0,54.0,67.0,74.0,61.0,66.0,73.0,78.0,74.0,67.0,50.0,45.0,33.0,30.0,27.0,20.0,19.0,19.0,19.0,19.0,19.0,19.0,20.0,21.0,20.0,21.0,27.0,30.0,35.0,56.0,59.0,55.0,55.0,59.0,68.0,92.0,117.0,127.0,116.0,116.0,119.0,118.0,107.0,87.0,64.0,59.0,42.0,40.0,35.0,36.0,35.0,39.0,40.0,33.0,null,null,null,null,null,10.0,null,null,32.0,35.0,36.0,43.0,43.0,40.0,41.0,38.0,null,null,5.0,null,null,null,null,null,null,null,null,null,null,null,null,null,null,null,null,null,null,null,null,null,null,null,null,null,null,null,null,null,null,null,null,null,null,null,null,null,null,null,null],[null,null,null,null,null,null,null,null,null,null,null,null,null,null,null,null,null,null,null,null,null,null,null,null,null,null,null,null,null,null,null,null,null,null,null,null,null,null,null,null,null,null,null,null,null,null,null,null,null,null,null,null,null,null,null,null,null,null,null,49.0,63.0,69.0,78.0,81.0,62.0,70.0,74.0,84.0,87.0,90.0,85.0,86.0,92.0,93.0,85.0,68.0,62.0,59.0,59.0,57.0,59.0,62.0,59.0,58.0,59.0,59.0,57.0,55.0,55.0,53.0,49.0,51.0,53.0,52.0,56.0,64.0,65.0,63.0,56.0,50.0,50.0,46.0,44.0,41.0,null,null,null,null,null,null,null,null,null,null,null,null,null,null,null,null,null,null,null,null,null,null,null,null,null,null,null,null,null,null,null,null,null,null,null,null,null,null,null,null,null,null,null,null,null,null,null,null,null,null,null,null,null,null,null,null,null,null,null,null,null,null,null,null,null,null,null,null,null,41.0,48.0,53.0,53.0,54.0,54.0,54.0,54.0,50.0,50.0,50.0,52.0,53.0,53.0,52.0,51.0,51.0,45.0,null,null,null,null,null,null,null,null,null,null,null,null,null,27.0,27.0,null,null,null,null,null,null,25.0,25.0,25.0,59.0,65.0,41.0,34.0,24.0,27.0,30.0,29.0,30.0,31.0,42.0,50.0,55.0,57.0,60.0,61.0,55.0,45.0,40.0,40.0,39.0,41.0,43.0,47.0,51.0,53.0,53.0,50.0,46.0,45.0,50.0,51.0,54.0,59.0,76.0,75.0,79.0,78.0,78.0,71.0,66.0,48.0,46.0,40.0,29.0,30.0,27.0,22.0,22.0,21.0,21.0,21.0,22.0,21.0,21.0,21.0,22.0,26.0,27.0,29.0,33.0,39.0,46.0,50.0,49.0,59.0,64.0,85.0,110.0,105.0,101.0,107.0,106.0,103.0,86.0,78.0,66.0,59.0,45.0,38.0,34.0,35.0,36.0,32.0,28.0,28.0,null,null,null,null,null,34.0,33.0,34.0,23.0,30.0,36.0,41.0,41.0,37.0,47.0,47.0,40.0,39.0,38.0,null,null,null,null,null,null,null,null,null,null,null,null,null,null,null,null,null,null,null,null,null,null,null,null,null,null,null,null,null,null,null,null,null,null,null,null,null,null,null,null],[null,null,null,null,null,null,null,null,null,null,null,null,null,null,null,null,null,null,null,null,null,null,null,null,null,null,null,null,null,null,null,null,null,null,null,null,null,null,null,null,null,null,null,null,null,null,null,null,null,null,null,null,null,null,null,null,null,null,49.0,58.0,63.0,80.0,75.0,63.0,64.0,73.0,77.0,82.0,84.0,73.0,74.0,77.0,94.0,105.0,92.0,78.0,61.0,65.0,64.0,59.0,53.0,56.0,54.0,55.0,59.0,60.0,54.0,57.0,58.0,55.0,55.0,53.0,53.0,53.0,57.0,70.0,68.0,66.0,61.0,54.0,49.0,45.0,46.0,44.0,41.0,null,null,null,null,null,null,null,null,null,null,null,null,null,null,null,null,null,null,null,null,null,null,null,null,null,null,null,null,null,null,null,null,null,null,null,null,null,null,null,null,null,null,null,null,null,null,null,null,null,null,null,null,null,null,null,null,null,null,null,null,null,null,null,null,null,null,null,null,36.0,43.0,44.0,49.0,47.0,45.0,47.0,52.0,52.0,54.0,52.0,53.0,53.0,53.0,50.0,50.0,47.0,45.0,35.0,2.0,null,10.0,null,null,null,null,null,null,null,null,28.0,28.0,27.0,27.0,24.0,null,null,null,null,25.0,25.0,25.0,53.0,60.0,42.0,41.0,36.0,32.0,30.0,31.0,32.0,38.0,52.0,58.0,61.0,63.0,62.0,62.0,66.0,67.0,62.0,60.0,50.0,50.0,53.0,53.0,56.0,60.0,57.0,55.0,50.0,53.0,55.0,57.0,57.0,57.0,63.0,65.0,72.0,69.0,66.0,59.0,52.0,45.0,43.0,39.0,31.0,33.0,27.0,25.0,25.0,25.0,22.0,22.0,22.0,21.0,22.0,22.0,24.0,26.0,27.0,31.0,34.0,40.0,42.0,46.0,49.0,55.0,64.0,83.0,90.0,84.0,80.0,86.0,70.0,57.0,54.0,59.0,61.0,57.0,50.0,47.0,36.0,35.0,36.0,32.0,26.0,26.0,null,null,null,null,null,38.0,38.0,39.0,38.0,null,null,38.0,39.0,36.0,43.0,49.0,52.0,54.0,50.0,31.0,null,null,null,null,null,null,null,null,null,null,null,null,null,null,null,null,null,null,null,null,null,null,null,null,null,null,null,null,null,null,null,null,null,null,null,null,null,null,null],[null,null,null,null,null,null,null,null,null,null,null,null,null,null,null,null,null,null,null,null,null,null,null,null,null,null,null,null,null,null,null,null,null,null,null,null,null,null,null,null,null,null,null,null,null,null,null,null,null,null,null,null,null,null,null,null,null,47.0,58.0,65.0,79.0,97.0,79.0,66.0,73.0,76.0,80.0,84.0,85.0,75.0,79.0,86.0,89.0,94.0,92.0,87.0,69.0,68.0,61.0,58.0,55.0,59.0,54.0,53.0,55.0,56.0,56.0,55.0,57.0,55.0,55.0,53.0,51.0,49.0,52.0,59.0,66.0,63.0,64.0,61.0,55.0,50.0,49.0,49.0,45.0,null,null,null,null,null,null,null,null,null,null,null,null,null,null,null,null,null,null,null,null,null,null,null,null,null,null,null,null,null,null,null,null,null,null,null,null,null,null,null,null,null,null,null,null,null,null,null,null,null,2.0,null,null,null,null,null,null,null,null,null,null,null,null,null,null,null,null,null,34.0,43.0,43.0,44.0,45.0,45.0,40.0,null,45.0,45.0,45.0,46.0,47.0,49.0,46.0,43.0,45.0,46.0,46.0,39.0,6.0,null,32.0,31.0,null,null,null,null,null,43.0,43.0,42.0,3.0,3.0,4.0,49.0,50.0,54.0,57.0,56.0,57.0,56.0,58.0,59.0,64.0,51.0,49.0,44.0,38.0,31.0,38.0,40.0,48.0,56.0,62.0,66.0,66.0,68.0,68.0,64.0,62.0,70.0,70.0,68.0,63.0,62.0,60.0,64.0,69.0,61.0,54.0,50.0,54.0,52.0,52.0,59.0,62.0,63.0,62.0,61.0,55.0,55.0,55.0,62.0,52.0,46.0,38.0,39.0,37.0,37.0,34.0,34.0,31.0,27.0,26.0,29.0,30.0,32.0,33.0,34.0,37.0,36.0,36.0,38.0,42.0,42.0,45.0,51.0,56.0,61.0,78.0,81.0,70.0,71.0,70.0,52.0,51.0,51.0,57.0,57.0,55.0,55.0,46.0,40.0,38.0,36.0,31.0,29.0,26.0,23.0,22.0,null,null,null,39.0,42.0,44.0,42.0,null,null,null,14.0,null,null,51.0,52.0,53.0,54.0,42.0,null,null,null,null,null,null,null,null,null,null,null,null,null,null,null,null,null,null,null,null,null,null,null,null,null,null,null,null,null,null,null,null,null,null,null,null,null,null,null],[null,null,null,null,null,null,null,null,null,null,null,null,null,null,null,null,null,null,null,null,null,null,null,null,null,null,null,null,null,null,null,null,null,null,null,null,null,null,null,null,null,null,null,null,null,null,null,null,null,null,null,null,null,null,null,null,null,64.0,61.0,80.0,96.0,98.0,75.0,69.0,72.0,70.0,78.0,79.0,84.0,87.0,80.0,87.0,88.0,83.0,91.0,94.0,71.0,64.0,60.0,62.0,58.0,60.0,57.0,57.0,55.0,54.0,53.0,54.0,52.0,55.0,54.0,52.0,57.0,51.0,52.0,54.0,59.0,60.0,63.0,63.0,62.0,55.0,51.0,49.0,39.0,null,null,null,null,null,null,null,null,null,null,null,null,null,null,null,null,null,null,null,null,null,null,null,null,null,null,null,null,null,null,null,null,null,null,null,null,null,null,null,null,null,null,null,null,null,null,null,null,null,2.0,null,null,null,null,null,null,null,null,null,null,null,null,null,null,null,null,43.0,43.0,44.0,45.0,47.0,47.0,46.0,44.0,39.0,null,null,null,null,null,null,43.0,41.0,41.0,42.0,41.0,null,31.0,32.0,34.0,55.0,49.0,null,null,null,3.0,46.0,48.0,46.0,43.0,4.0,6.0,51.0,52.0,55.0,63.0,67.0,58.0,55.0,68.0,64.0,67.0,60.0,58.0,50.0,40.0,45.0,49.0,55.0,63.0,67.0,66.0,70.0,71.0,62.0,47.0,null,null,55.0,68.0,70.0,68.0,64.0,71.0,69.0,66.0,54.0,49.0,47.0,53.0,57.0,64.0,64.0,65.0,63.0,61.0,47.0,44.0,40.0,47.0,54.0,51.0,48.0,39.0,33.0,31.0,29.0,29.0,31.0,34.0,39.0,38.0,36.0,36.0,39.0,41.0,40.0,36.0,36.0,35.0,37.0,39.0,40.0,46.0,50.0,59.0,66.0,70.0,65.0,63.0,63.0,60.0,60.0,54.0,55.0,55.0,58.0,56.0,54.0,44.0,38.0,36.0,32.0,30.0,28.0,23.0,23.0,22.0,null,38.0,38.0,44.0,46.0,47.0,43.0,1.0,null,null,null,null,null,31.0,37.0,46.0,52.0,46.0,35.0,null,null,null,null,null,null,null,null,null,null,null,null,null,null,null,null,null,null,null,null,null,null,null,null,null,null,null,null,null,null,null,null,null,null,null,null,null,null],[null,null,null,null,null,null,null,null,null,null,null,null,null,null,null,null,null,null,null,null,null,null,null,null,null,null,null,null,null,null,null,null,null,null,null,null,null,null,null,null,null,null,null,null,null,null,null,null,null,null,null,null,null,null,null,null,60.0,70.0,74.0,91.0,97.0,85.0,77.0,74.0,71.0,70.0,77.0,80.0,84.0,85.0,81.0,85.0,83.0,83.0,90.0,90.0,71.0,58.0,55.0,58.0,60.0,58.0,58.0,56.0,56.0,52.0,50.0,51.0,51.0,55.0,51.0,52.0,50.0,47.0,47.0,52.0,55.0,56.0,61.0,62.0,60.0,59.0,52.0,46.0,40.0,null,null,null,null,null,null,null,null,null,null,null,null,null,null,null,null,null,null,null,null,null,null,null,null,null,null,null,null,null,null,null,null,null,null,null,null,null,null,null,null,null,null,null,null,null,null,2.0,2.0,null,null,null,null,null,null,null,null,null,null,null,null,null,null,null,null,null,44.0,47.0,46.0,46.0,46.0,47.0,45.0,47.0,45.0,43.0,39.0,12.0,null,null,null,null,null,null,34.0,null,null,null,30.0,31.0,33.0,54.0,53.0,48.0,null,null,51.0,60.0,61.0,49.0,45.0,5.0,47.0,54.0,51.0,52.0,52.0,52.0,48.0,45.0,48.0,52.0,52.0,51.0,54.0,50.0,53.0,56.0,55.0,57.0,73.0,75.0,81.0,74.0,76.0,51.0,null,null,null,43.0,56.0,63.0,71.0,71.0,66.0,50.0,45.0,44.0,49.0,51.0,55.0,56.0,61.0,64.0,61.0,61.0,62.0,57.0,46.0,44.0,44.0,54.0,49.0,35.0,30.0,25.0,24.0,23.0,22.0,23.0,26.0,30.0,33.0,39.0,40.0,43.0,43.0,42.0,41.0,40.0,40.0,40.0,38.0,46.0,55.0,64.0,67.0,62.0,53.0,40.0,42.0,61.0,59.0,54.0,57.0,50.0,56.0,56.0,60.0,59.0,44.0,40.0,39.0,34.0,25.0,null,null,33.0,null,null,38.0,41.0,44.0,49.0,44.0,null,null,null,null,null,null,null,null,null,14.0,42.0,46.0,46.0,null,null,null,null,null,null,null,null,null,null,null,null,null,null,null,null,null,null,null,null,null,null,null,null,null,null,null,null,null,null,null,null,null,null,null,null,null,null],[null,null,null,null,null,null,null,null,null,null,null,null,null,null,null,null,null,null,null,null,null,null,null,null,null,null,null,null,null,null,null,null,null,null,null,null,null,null,null,null,null,null,null,null,null,null,null,null,null,null,null,null,null,null,null,null,70.0,75.0,82.0,98.0,93.0,72.0,71.0,72.0,69.0,69.0,71.0,82.0,87.0,87.0,84.0,81.0,80.0,81.0,92.0,87.0,66.0,54.0,54.0,55.0,59.0,61.0,61.0,58.0,58.0,52.0,52.0,51.0,47.0,50.0,51.0,52.0,49.0,49.0,48.0,49.0,49.0,49.0,55.0,58.0,60.0,60.0,59.0,51.0,49.0,41.0,null,null,null,null,null,null,null,null,null,null,null,null,null,null,null,null,null,null,null,null,null,null,null,null,null,null,null,null,null,null,null,null,null,null,null,null,null,null,null,null,null,null,1.0,null,null,2.0,2.0,null,null,null,null,null,null,null,null,null,null,null,null,null,null,null,null,null,45.0,50.0,55.0,52.0,51.0,49.0,49.0,42.0,45.0,46.0,39.0,11.0,21.0,23.0,20.0,null,null,null,35.0,36.0,null,null,null,null,null,58.0,59.0,50.0,32.0,52.0,65.0,68.0,64.0,57.0,51.0,14.0,55.0,55.0,56.0,58.0,58.0,55.0,48.0,49.0,43.0,45.0,46.0,48.0,53.0,55.0,54.0,53.0,56.0,67.0,80.0,87.0,83.0,77.0,76.0,56.0,null,null,36.0,43.0,59.0,61.0,57.0,47.0,45.0,41.0,41.0,42.0,49.0,51.0,51.0,50.0,57.0,60.0,59.0,59.0,61.0,60.0,56.0,54.0,45.0,54.0,51.0,47.0,39.0,27.0,23.0,21.0,20.0,19.0,19.0,20.0,22.0,25.0,30.0,36.0,41.0,42.0,41.0,48.0,52.0,53.0,51.0,58.0,62.0,62.0,53.0,41.0,36.0,33.0,31.0,48.0,56.0,50.0,49.0,50.0,49.0,59.0,57.0,58.0,52.0,54.0,56.0,44.0,35.0,35.0,null,34.0,35.0,37.0,40.0,48.0,48.0,52.0,null,null,null,null,null,null,null,null,null,null,null,37.0,46.0,49.0,38.0,null,null,null,null,null,null,null,null,null,null,null,null,null,null,null,null,null,null,null,null,null,null,null,null,null,null,null,null,null,null,null,null,null,null,null,null,null],[null,null,null,null,null,null,null,null,null,null,null,null,null,null,null,null,null,null,null,null,null,null,null,null,null,null,null,null,null,null,null,null,null,null,null,null,null,null,null,null,null,null,null,null,null,null,null,null,null,null,null,null,null,null,null,67.0,78.0,79.0,84.0,93.0,76.0,69.0,69.0,67.0,74.0,76.0,74.0,79.0,91.0,87.0,88.0,80.0,81.0,79.0,87.0,83.0,68.0,60.0,56.0,58.0,58.0,58.0,59.0,58.0,56.0,50.0,50.0,50.0,51.0,49.0,48.0,49.0,48.0,45.0,45.0,46.0,46.0,46.0,47.0,46.0,51.0,55.0,56.0,55.0,55.0,53.0,46.0,12.0,null,null,null,null,null,null,null,null,null,null,null,null,null,null,null,null,null,null,null,null,null,null,null,null,null,null,null,null,null,null,null,null,null,null,null,null,null,null,null,null,null,null,null,null,null,null,null,null,null,null,null,null,null,null,null,null,null,null,null,null,null,null,null,52.0,56.0,61.0,60.0,57.0,54.0,51.0,49.0,46.0,48.0,null,null,20.0,20.0,null,null,null,33.0,34.0,null,null,3.0,51.0,56.0,59.0,57.0,40.0,32.0,52.0,70.0,75.0,77.0,68.0,66.0,64.0,64.0,66.0,70.0,60.0,65.0,66.0,61.0,59.0,56.0,56.0,58.0,55.0,60.0,61.0,67.0,73.0,67.0,76.0,82.0,83.0,78.0,75.0,74.0,56.0,43.0,null,41.0,42.0,47.0,47.0,47.0,43.0,39.0,38.0,40.0,47.0,47.0,45.0,48.0,47.0,51.0,52.0,51.0,59.0,61.0,59.0,60.0,58.0,57.0,57.0,58.0,54.0,51.0,43.0,34.0,30.0,25.0,25.0,25.0,24.0,25.0,27.0,28.0,28.0,26.0,27.0,29.0,37.0,41.0,41.0,45.0,47.0,40.0,37.0,31.0,29.0,29.0,31.0,33.0,41.0,49.0,54.0,50.0,53.0,54.0,54.0,58.0,57.0,51.0,57.0,59.0,60.0,45.0,40.0,41.0,44.0,39.0,43.0,49.0,56.0,51.0,54.0,53.0,51.0,null,null,null,null,null,null,null,null,null,41.0,47.0,48.0,null,null,null,null,null,null,null,null,null,null,null,null,null,null,null,null,null,null,null,null,null,null,null,null,null,null,null,null,null,null,null,null,null,null,null,null,null,null],[null,null,null,null,null,null,null,null,null,null,null,null,null,null,null,null,null,null,null,null,null,null,null,null,null,null,null,null,null,null,null,null,null,null,null,null,null,null,null,null,null,null,null,null,null,null,null,null,null,null,null,null,null,null,null,67.0,82.0,85.0,84.0,86.0,74.0,72.0,70.0,72.0,72.0,77.0,77.0,81.0,84.0,81.0,80.0,69.0,70.0,73.0,85.0,75.0,67.0,62.0,58.0,55.0,53.0,55.0,56.0,56.0,51.0,47.0,49.0,50.0,51.0,52.0,50.0,46.0,47.0,47.0,43.0,44.0,45.0,49.0,45.0,47.0,50.0,52.0,55.0,55.0,55.0,53.0,52.0,48.0,46.0,42.0,null,null,null,null,null,null,null,null,null,null,null,null,null,null,null,null,null,null,null,null,null,null,null,null,null,null,null,null,null,null,null,null,null,null,null,null,null,null,null,null,null,null,null,null,null,null,null,null,null,null,null,null,null,null,null,null,null,null,null,null,null,53.0,58.0,62.0,58.0,59.0,63.0,61.0,62.0,58.0,57.0,59.0,59.0,51.0,null,null,null,null,40.0,42.0,null,null,61.0,67.0,63.0,57.0,54.0,39.0,null,67.0,76.0,76.0,79.0,77.0,76.0,78.0,71.0,69.0,66.0,67.0,56.0,58.0,57.0,58.0,56.0,54.0,55.0,50.0,49.0,52.0,56.0,78.0,82.0,83.0,76.0,79.0,85.0,78.0,67.0,48.0,null,null,35.0,36.0,37.0,42.0,41.0,42.0,42.0,42.0,45.0,45.0,42.0,38.0,36.0,37.0,37.0,46.0,43.0,55.0,58.0,56.0,54.0,58.0,62.0,59.0,56.0,57.0,59.0,56.0,50.0,48.0,43.0,39.0,40.0,39.0,40.0,35.0,32.0,28.0,27.0,26.0,28.0,35.0,36.0,35.0,35.0,36.0,33.0,35.0,33.0,32.0,32.0,36.0,40.0,46.0,52.0,52.0,53.0,45.0,47.0,53.0,53.0,46.0,49.0,51.0,55.0,53.0,52.0,45.0,47.0,45.0,46.0,46.0,46.0,53.0,56.0,59.0,59.0,58.0,51.0,null,null,null,null,null,null,null,null,37.0,58.0,59.0,null,38.0,null,null,null,null,null,null,null,null,null,null,null,null,null,null,null,null,null,null,null,null,null,null,null,null,null,null,null,null,null,null,null,null,null,null,null,null],[null,null,null,null,null,null,null,null,null,null,null,null,null,null,null,null,null,null,null,null,null,null,null,null,null,null,null,null,null,null,null,null,null,null,null,null,null,null,null,null,null,null,null,null,null,null,null,null,null,null,null,null,null,null,null,68.0,81.0,91.0,89.0,80.0,72.0,71.0,72.0,69.0,68.0,75.0,78.0,79.0,82.0,83.0,75.0,67.0,62.0,64.0,72.0,73.0,68.0,63.0,61.0,57.0,54.0,52.0,56.0,56.0,48.0,50.0,49.0,50.0,50.0,50.0,50.0,50.0,49.0,44.0,44.0,44.0,48.0,48.0,47.0,48.0,48.0,50.0,51.0,54.0,54.0,52.0,52.0,52.0,52.0,48.0,null,null,null,null,null,null,null,null,null,null,null,null,null,null,null,null,null,null,null,null,null,null,null,null,null,null,null,null,null,null,null,null,null,null,null,null,null,null,null,null,null,null,null,null,null,null,null,null,null,null,null,null,null,null,null,null,null,null,null,null,42.0,52.0,62.0,68.0,66.0,69.0,68.0,69.0,75.0,76.0,74.0,71.0,71.0,60.0,null,null,null,null,34.0,35.0,55.0,60.0,63.0,66.0,62.0,6.0,8.0,56.0,70.0,78.0,78.0,76.0,75.0,76.0,75.0,75.0,74.0,72.0,63.0,null,null,null,null,43.0,46.0,45.0,null,null,null,null,null,69.0,75.0,83.0,82.0,75.0,73.0,66.0,51.0,null,null,null,34.0,38.0,39.0,35.0,38.0,45.0,46.0,47.0,50.0,44.0,39.0,37.0,34.0,33.0,32.0,38.0,41.0,49.0,57.0,58.0,61.0,62.0,68.0,69.0,61.0,60.0,58.0,62.0,67.0,62.0,61.0,51.0,47.0,54.0,54.0,49.0,45.0,45.0,39.0,37.0,40.0,47.0,45.0,44.0,45.0,41.0,45.0,41.0,41.0,41.0,39.0,40.0,44.0,45.0,49.0,49.0,47.0,44.0,41.0,38.0,46.0,43.0,49.0,52.0,49.0,46.0,44.0,45.0,45.0,42.0,43.0,48.0,53.0,52.0,55.0,63.0,61.0,62.0,66.0,61.0,59.0,60.0,57.0,null,null,null,null,36.0,39.0,40.0,41.0,40.0,39.0,38.0,null,null,null,null,null,null,null,null,null,null,null,null,null,null,null,null,null,null,null,null,null,null,null,null,null,null,null,null,null,null,null,null,null,null],[null,null,null,null,null,null,null,null,null,null,null,null,null,null,null,null,null,null,null,null,null,null,null,null,null,null,null,null,null,null,null,null,null,null,null,null,null,null,null,null,null,null,null,null,null,null,null,null,null,null,null,null,null,null,null,62.0,73.0,90.0,93.0,74.0,74.0,74.0,74.0,78.0,80.0,80.0,78.0,76.0,81.0,76.0,74.0,67.0,64.0,63.0,64.0,68.0,72.0,68.0,60.0,57.0,55.0,53.0,52.0,51.0,49.0,50.0,49.0,52.0,53.0,51.0,53.0,51.0,47.0,44.0,47.0,47.0,46.0,48.0,50.0,49.0,51.0,51.0,52.0,52.0,53.0,51.0,52.0,53.0,54.0,53.0,null,null,null,null,40.0,40.0,null,null,null,null,null,null,null,null,null,null,null,null,null,null,null,null,null,null,null,null,null,null,null,null,null,null,null,null,null,null,null,null,null,null,null,null,null,null,null,null,null,null,null,null,null,null,null,null,null,null,null,null,null,null,42.0,44.0,54.0,64.0,64.0,66.0,65.0,66.0,71.0,71.0,68.0,68.0,66.0,64.0,62.0,66.0,73.0,68.0,50.0,38.0,59.0,63.0,63.0,60.0,null,55.0,67.0,75.0,73.0,71.0,68.0,70.0,72.0,73.0,76.0,77.0,77.0,76.0,69.0,null,null,null,null,null,null,null,null,null,null,62.0,73.0,78.0,76.0,79.0,77.0,69.0,71.0,61.0,null,null,34.0,35.0,37.0,38.0,39.0,38.0,37.0,38.0,41.0,39.0,44.0,40.0,42.0,40.0,36.0,36.0,37.0,42.0,43.0,48.0,46.0,50.0,50.0,51.0,54.0,67.0,72.0,78.0,77.0,72.0,76.0,68.0,64.0,58.0,51.0,53.0,54.0,55.0,56.0,54.0,54.0,50.0,49.0,51.0,50.0,49.0,48.0,44.0,44.0,43.0,45.0,46.0,49.0,49.0,47.0,44.0,43.0,42.0,39.0,42.0,42.0,39.0,40.0,40.0,48.0,53.0,53.0,50.0,44.0,42.0,42.0,44.0,45.0,47.0,48.0,50.0,59.0,63.0,62.0,66.0,64.0,68.0,68.0,65.0,62.0,56.0,null,null,null,null,37.0,41.0,41.0,40.0,39.0,39.0,9.0,null,null,null,null,null,null,null,null,null,null,null,null,null,null,null,null,null,null,null,null,null,null,null,null,null,null,null,null,null,null,null,null,null],[null,null,null,null,null,null,null,null,null,null,null,null,null,null,null,null,null,null,null,null,null,null,null,null,null,null,null,null,null,null,null,null,null,null,null,null,null,null,null,null,null,null,null,null,null,null,null,null,null,null,null,null,null,null,null,59.0,73.0,84.0,87.0,72.0,71.0,74.0,81.0,83.0,73.0,75.0,80.0,74.0,76.0,76.0,74.0,67.0,65.0,65.0,61.0,63.0,62.0,57.0,52.0,54.0,51.0,47.0,48.0,48.0,50.0,53.0,53.0,55.0,57.0,56.0,54.0,52.0,49.0,44.0,48.0,48.0,47.0,39.0,45.0,47.0,52.0,51.0,51.0,52.0,52.0,54.0,52.0,53.0,53.0,54.0,52.0,47.0,44.0,44.0,40.0,40.0,40.0,40.0,null,null,null,null,null,null,null,null,null,null,null,null,null,null,null,null,null,null,null,null,null,null,null,null,null,null,null,null,null,null,null,null,null,null,null,null,null,null,null,null,null,null,null,null,null,null,null,null,null,null,null,null,null,null,null,null,null,null,null,null,56.0,58.0,63.0,65.0,70.0,69.0,68.0,75.0,78.0,75.0,63.0,60.0,61.0,62.0,60.0,57.0,74.0,75.0,77.0,73.0,72.0,73.0,70.0,74.0,77.0,71.0,68.0,65.0,73.0,74.0,69.0,61.0,null,null,null,48.0,48.0,47.0,null,49.0,57.0,69.0,70.0,70.0,69.0,66.0,62.0,54.0,51.0,46.0,null,null,36.0,35.0,34.0,36.0,37.0,35.0,35.0,36.0,36.0,9.0,32.0,39.0,43.0,46.0,46.0,43.0,43.0,43.0,43.0,40.0,38.0,41.0,46.0,48.0,51.0,54.0,56.0,61.0,69.0,70.0,71.0,70.0,69.0,67.0,62.0,55.0,53.0,54.0,55.0,54.0,53.0,49.0,53.0,57.0,58.0,55.0,47.0,49.0,56.0,54.0,55.0,54.0,52.0,50.0,44.0,42.0,39.0,40.0,43.0,45.0,44.0,43.0,49.0,50.0,50.0,49.0,52.0,50.0,44.0,46.0,44.0,42.0,41.0,44.0,46.0,48.0,57.0,64.0,64.0,65.0,68.0,68.0,69.0,68.0,65.0,57.0,49.0,null,null,null,null,39.0,40.0,37.0,37.0,37.0,20.0,10.0,null,null,null,null,null,null,null,null,null,null,null,null,null,null,null,null,null,null,null,null,null,null,null,null,null,null,null,null,null,null,null,null],[null,null,null,null,null,null,null,null,null,null,null,null,null,null,null,null,null,null,null,null,null,null,null,null,null,null,null,null,null,null,null,null,null,null,null,null,null,null,null,null,null,null,null,null,null,null,null,null,null,null,null,null,null,null,null,56.0,67.0,86.0,83.0,80.0,73.0,76.0,74.0,75.0,70.0,72.0,73.0,73.0,73.0,76.0,72.0,65.0,61.0,59.0,59.0,61.0,58.0,51.0,51.0,50.0,50.0,49.0,50.0,52.0,52.0,54.0,56.0,57.0,58.0,57.0,53.0,53.0,51.0,47.0,52.0,52.0,52.0,3.0,53.0,49.0,50.0,51.0,53.0,53.0,52.0,55.0,53.0,51.0,53.0,53.0,49.0,49.0,46.0,45.0,43.0,42.0,41.0,42.0,43.0,42.0,null,null,null,null,null,null,null,null,null,null,null,null,null,null,null,null,null,null,null,null,null,null,null,null,null,null,null,null,null,null,null,null,null,null,null,null,null,null,null,null,null,null,null,null,null,null,null,null,null,null,null,null,null,null,null,null,null,null,56.0,58.0,62.0,61.0,66.0,64.0,70.0,78.0,82.0,77.0,69.0,72.0,74.0,75.0,74.0,79.0,80.0,77.0,71.0,68.0,67.0,69.0,68.0,71.0,78.0,75.0,76.0,74.0,72.0,70.0,70.0,64.0,55.0,null,41.0,49.0,50.0,49.0,51.0,51.0,54.0,54.0,52.0,54.0,52.0,47.0,47.0,44.0,39.0,40.0,33.0,null,null,32.0,34.0,39.0,39.0,40.0,42.0,41.0,40.0,41.0,37.0,46.0,46.0,48.0,49.0,47.0,46.0,42.0,40.0,37.0,36.0,36.0,39.0,38.0,43.0,44.0,46.0,53.0,64.0,70.0,71.0,70.0,68.0,64.0,58.0,48.0,47.0,51.0,51.0,51.0,60.0,59.0,60.0,58.0,59.0,57.0,54.0,52.0,52.0,53.0,57.0,56.0,54.0,51.0,45.0,45.0,46.0,45.0,47.0,48.0,44.0,43.0,46.0,45.0,45.0,44.0,51.0,48.0,46.0,47.0,49.0,47.0,48.0,53.0,48.0,47.0,56.0,60.0,64.0,62.0,64.0,70.0,70.0,66.0,67.0,58.0,52.0,49.0,null,null,null,46.0,44.0,null,null,null,null,10.0,10.0,2.0,2.0,null,null,null,null,null,null,null,null,null,null,null,null,null,null,null,null,null,null,null,null,null,null,null,null,null,null,null,null,null],[null,null,null,null,null,null,null,null,null,null,null,null,null,null,null,null,null,null,null,null,null,null,null,null,null,null,null,null,null,null,null,null,null,null,null,null,null,null,null,null,null,null,null,null,null,null,null,null,null,null,null,null,null,null,null,53.0,60.0,72.0,77.0,77.0,68.0,73.0,79.0,75.0,68.0,68.0,68.0,73.0,72.0,69.0,65.0,57.0,55.0,53.0,59.0,58.0,57.0,56.0,50.0,50.0,50.0,52.0,54.0,53.0,56.0,61.0,60.0,59.0,59.0,51.0,49.0,49.0,48.0,47.0,48.0,54.0,54.0,48.0,48.0,49.0,49.0,47.0,49.0,49.0,50.0,52.0,51.0,49.0,49.0,51.0,47.0,47.0,45.0,46.0,44.0,45.0,39.0,6.0,11.0,10.0,null,null,null,null,9.0,9.0,9.0,9.0,null,null,null,null,null,null,null,null,null,null,null,null,null,null,null,null,null,null,null,null,null,null,null,null,null,null,null,null,null,null,null,null,null,null,null,null,null,null,null,null,null,null,null,null,null,null,null,null,null,49.0,55.0,57.0,61.0,62.0,64.0,62.0,61.0,72.0,77.0,80.0,78.0,78.0,76.0,78.0,78.0,78.0,75.0,72.0,72.0,71.0,71.0,71.0,68.0,69.0,73.0,74.0,75.0,72.0,71.0,66.0,64.0,62.0,58.0,56.0,56.0,56.0,49.0,45.0,43.0,47.0,45.0,46.0,47.0,50.0,47.0,43.0,42.0,42.0,45.0,44.0,45.0,41.0,33.0,39.0,39.0,44.0,45.0,45.0,43.0,43.0,43.0,43.0,45.0,49.0,46.0,45.0,42.0,44.0,45.0,37.0,38.0,37.0,37.0,38.0,39.0,39.0,43.0,50.0,51.0,55.0,57.0,61.0,60.0,66.0,72.0,69.0,68.0,64.0,64.0,55.0,54.0,65.0,71.0,70.0,56.0,52.0,54.0,52.0,53.0,59.0,58.0,57.0,56.0,55.0,54.0,49.0,47.0,44.0,42.0,42.0,43.0,43.0,43.0,43.0,43.0,41.0,38.0,38.0,43.0,50.0,51.0,55.0,54.0,57.0,56.0,57.0,52.0,48.0,52.0,56.0,60.0,61.0,61.0,63.0,65.0,65.0,63.0,57.0,54.0,50.0,47.0,null,null,32.0,34.0,32.0,null,null,null,null,null,null,3.0,4.0,4.0,null,null,null,null,null,null,null,null,null,null,null,null,null,null,null,null,null,null,null,null,null,null,null,null,null,null,null],[null,null,null,null,null,null,null,null,null,null,null,null,null,null,null,null,null,null,null,null,null,null,null,null,null,null,null,null,null,null,null,null,null,null,null,null,null,null,null,null,null,null,null,null,null,null,null,null,null,null,null,null,null,null,null,53.0,55.0,66.0,76.0,80.0,69.0,68.0,74.0,72.0,65.0,67.0,69.0,73.0,70.0,64.0,60.0,58.0,56.0,54.0,55.0,56.0,54.0,56.0,50.0,51.0,50.0,54.0,57.0,56.0,61.0,61.0,58.0,54.0,52.0,48.0,47.0,47.0,2.0,null,47.0,49.0,49.0,47.0,47.0,47.0,45.0,45.0,45.0,46.0,46.0,46.0,44.0,44.0,45.0,46.0,45.0,43.0,43.0,41.0,40.0,41.0,null,null,null,null,10.0,11.0,12.0,12.0,11.0,10.0,10.0,10.0,null,null,null,null,null,null,null,null,null,null,null,null,null,null,null,null,null,null,null,null,null,null,null,null,null,null,null,null,null,null,null,null,null,null,null,null,null,null,null,null,null,null,null,null,null,null,null,44.0,48.0,51.0,52.0,56.0,57.0,60.0,60.0,58.0,57.0,62.0,67.0,70.0,71.0,73.0,70.0,72.0,71.0,69.0,70.0,71.0,73.0,69.0,70.0,71.0,72.0,70.0,74.0,74.0,73.0,71.0,68.0,68.0,64.0,64.0,62.0,55.0,53.0,57.0,54.0,48.0,45.0,44.0,46.0,56.0,52.0,50.0,49.0,46.0,43.0,45.0,45.0,46.0,45.0,37.0,35.0,44.0,42.0,41.0,44.0,44.0,44.0,40.0,44.0,44.0,45.0,46.0,44.0,45.0,47.0,43.0,42.0,43.0,44.0,43.0,42.0,42.0,44.0,46.0,49.0,49.0,47.0,48.0,51.0,56.0,59.0,62.0,65.0,72.0,79.0,79.0,77.0,78.0,82.0,76.0,71.0,61.0,60.0,57.0,56.0,59.0,60.0,59.0,57.0,55.0,57.0,58.0,53.0,50.0,52.0,56.0,60.0,62.0,60.0,56.0,52.0,45.0,44.0,43.0,41.0,42.0,46.0,50.0,53.0,58.0,58.0,56.0,58.0,57.0,55.0,52.0,55.0,59.0,62.0,64.0,64.0,62.0,61.0,63.0,63.0,58.0,56.0,53.0,47.0,44.0,null,31.0,34.0,32.0,null,null,null,null,null,null,null,null,5.0,null,null,null,null,null,null,null,null,null,null,null,null,null,null,null,null,null,null,null,null,null,null,null,null,null,null,null],[null,null,null,null,null,null,null,null,null,null,null,null,null,null,null,null,null,null,null,null,null,null,null,null,null,null,null,null,null,null,null,null,null,null,null,null,null,null,null,null,null,null,null,null,null,null,null,null,null,null,null,null,null,null,9.0,54.0,55.0,64.0,74.0,80.0,77.0,77.0,73.0,66.0,64.0,67.0,73.0,70.0,58.0,56.0,52.0,52.0,50.0,52.0,50.0,50.0,51.0,49.0,48.0,51.0,52.0,53.0,57.0,59.0,58.0,56.0,56.0,51.0,48.0,46.0,47.0,46.0,45.0,47.0,47.0,48.0,47.0,45.0,44.0,43.0,42.0,41.0,41.0,42.0,41.0,42.0,41.0,40.0,39.0,38.0,43.0,43.0,39.0,40.0,41.0,41.0,null,null,null,null,10.0,12.0,13.0,13.0,12.0,11.0,11.0,10.0,null,null,null,null,null,null,null,null,null,null,null,null,null,null,null,null,null,null,null,null,null,null,null,null,null,null,null,null,null,null,null,null,null,null,null,null,null,null,null,null,null,null,null,null,null,null,5.0,46.0,49.0,50.0,52.0,54.0,55.0,56.0,57.0,58.0,59.0,61.0,63.0,64.0,62.0,61.0,60.0,59.0,60.0,65.0,67.0,71.0,71.0,69.0,72.0,76.0,77.0,75.0,74.0,72.0,71.0,70.0,69.0,66.0,64.0,60.0,61.0,57.0,56.0,59.0,60.0,57.0,55.0,52.0,50.0,57.0,54.0,51.0,52.0,54.0,56.0,53.0,48.0,46.0,41.0,38.0,37.0,42.0,46.0,44.0,41.0,43.0,43.0,43.0,44.0,45.0,46.0,44.0,46.0,44.0,41.0,39.0,40.0,40.0,40.0,42.0,43.0,44.0,47.0,46.0,46.0,48.0,47.0,50.0,50.0,55.0,52.0,54.0,65.0,76.0,82.0,86.0,89.0,82.0,81.0,72.0,66.0,63.0,58.0,56.0,61.0,67.0,66.0,61.0,61.0,57.0,52.0,54.0,56.0,56.0,52.0,58.0,62.0,61.0,64.0,58.0,57.0,58.0,54.0,47.0,45.0,47.0,56.0,57.0,58.0,60.0,62.0,57.0,55.0,56.0,57.0,55.0,58.0,61.0,63.0,64.0,61.0,57.0,56.0,60.0,60.0,55.0,54.0,52.0,48.0,45.0,42.0,33.0,37.0,null,34.0,null,null,null,null,null,null,null,null,null,4.0,null,null,null,null,null,null,null,null,null,null,null,null,null,null,null,null,null,null,null,null,null,null,null,null,null],[null,null,null,null,null,null,null,null,null,null,null,null,null,null,null,null,null,null,null,null,null,null,null,null,null,null,null,null,null,null,null,null,null,null,null,null,null,null,null,null,null,null,null,null,null,null,null,null,null,null,null,null,null,9.0,10.0,49.0,64.0,69.0,73.0,76.0,70.0,72.0,68.0,64.0,61.0,64.0,65.0,55.0,47.0,49.0,48.0,48.0,47.0,49.0,46.0,49.0,51.0,49.0,51.0,54.0,52.0,55.0,58.0,60.0,58.0,50.0,49.0,46.0,45.0,46.0,46.0,47.0,45.0,46.0,46.0,45.0,44.0,43.0,42.0,42.0,42.0,40.0,39.0,39.0,39.0,39.0,39.0,38.0,39.0,39.0,39.0,39.0,39.0,44.0,40.0,41.0,4.0,4.0,4.0,null,null,12.0,12.0,12.0,10.0,10.0,10.0,null,null,null,null,null,null,null,null,null,null,null,null,null,null,null,null,null,null,null,null,null,null,null,null,null,null,null,null,null,null,null,null,null,null,null,null,null,null,null,null,null,null,null,null,null,null,3.0,35.0,null,null,6.0,51.0,51.0,51.0,53.0,53.0,56.0,56.0,60.0,58.0,59.0,58.0,59.0,58.0,59.0,61.0,65.0,61.0,61.0,66.0,66.0,72.0,76.0,77.0,73.0,73.0,72.0,66.0,65.0,66.0,65.0,60.0,61.0,63.0,63.0,63.0,59.0,58.0,57.0,58.0,59.0,59.0,61.0,58.0,55.0,59.0,57.0,58.0,59.0,54.0,48.0,46.0,44.0,47.0,50.0,48.0,44.0,42.0,42.0,45.0,43.0,41.0,39.0,39.0,39.0,42.0,41.0,38.0,40.0,41.0,39.0,39.0,40.0,41.0,44.0,42.0,46.0,46.0,47.0,49.0,50.0,50.0,54.0,56.0,60.0,69.0,76.0,75.0,72.0,76.0,73.0,71.0,76.0,72.0,69.0,61.0,64.0,68.0,72.0,67.0,67.0,65.0,59.0,59.0,59.0,62.0,60.0,62.0,61.0,63.0,65.0,61.0,60.0,61.0,64.0,66.0,61.0,54.0,54.0,61.0,63.0,62.0,64.0,62.0,58.0,54.0,53.0,55.0,58.0,59.0,61.0,60.0,60.0,57.0,56.0,52.0,52.0,51.0,53.0,53.0,54.0,50.0,48.0,42.0,null,38.0,38.0,36.0,null,null,null,null,null,null,null,null,null,4.0,null,null,null,null,null,null,null,null,null,null,null,null,null,null,null,null,null,null,null,null,null,null,null,null,null],[null,null,null,null,null,null,null,null,null,null,null,null,null,null,null,null,null,null,null,null,null,null,null,null,null,null,null,null,null,null,null,null,null,null,null,null,null,null,null,null,null,null,null,null,null,null,null,null,null,null,null,8.0,39.0,42.0,45.0,50.0,56.0,56.0,62.0,65.0,65.0,67.0,63.0,59.0,60.0,59.0,54.0,42.0,46.0,47.0,47.0,45.0,47.0,48.0,48.0,51.0,56.0,53.0,55.0,54.0,52.0,52.0,51.0,52.0,47.0,44.0,43.0,44.0,45.0,45.0,43.0,43.0,43.0,42.0,42.0,41.0,40.0,40.0,41.0,40.0,40.0,40.0,39.0,38.0,38.0,38.0,38.0,38.0,39.0,39.0,39.0,38.0,38.0,38.0,38.0,37.0,36.0,34.0,32.0,33.0,33.0,32.0,11.0,11.0,10.0,null,null,null,null,null,null,null,null,null,null,null,null,null,null,null,null,null,null,null,null,null,null,null,null,null,null,null,null,null,null,null,null,null,null,null,null,null,null,null,null,null,null,null,null,null,null,null,null,null,35.0,36.0,37.0,38.0,38.0,36.0,32.0,51.0,53.0,54.0,55.0,58.0,58.0,58.0,55.0,58.0,60.0,60.0,61.0,61.0,61.0,60.0,62.0,62.0,61.0,64.0,64.0,63.0,63.0,64.0,66.0,65.0,61.0,60.0,59.0,62.0,67.0,65.0,63.0,62.0,63.0,60.0,58.0,60.0,60.0,62.0,61.0,58.0,55.0,57.0,55.0,58.0,54.0,51.0,45.0,43.0,49.0,54.0,56.0,55.0,55.0,52.0,50.0,48.0,44.0,41.0,41.0,37.0,38.0,41.0,41.0,40.0,41.0,45.0,47.0,43.0,44.0,47.0,49.0,47.0,46.0,47.0,45.0,48.0,53.0,57.0,60.0,66.0,72.0,73.0,68.0,71.0,69.0,72.0,71.0,73.0,81.0,82.0,79.0,78.0,77.0,73.0,65.0,63.0,69.0,68.0,64.0,59.0,67.0,67.0,68.0,66.0,66.0,66.0,65.0,59.0,57.0,58.0,62.0,68.0,65.0,63.0,61.0,61.0,61.0,62.0,57.0,55.0,54.0,54.0,55.0,59.0,61.0,62.0,56.0,57.0,55.0,53.0,50.0,46.0,45.0,49.0,52.0,52.0,47.0,44.0,42.0,null,37.0,37.0,null,null,null,null,null,null,null,null,null,null,null,11.0,23.0,null,null,null,null,null,null,null,null,null,null,null,null,null,null,null,null,null,null,null,null,null,null,null],[null,null,null,null,null,null,null,null,null,null,null,null,null,null,null,null,null,null,null,null,null,null,null,null,null,null,null,null,null,null,null,null,null,null,null,null,null,null,null,null,null,null,null,null,null,null,null,null,null,null,null,null,44.0,47.0,52.0,52.0,55.0,56.0,61.0,60.0,63.0,63.0,63.0,57.0,54.0,56.0,49.0,43.0,39.0,39.0,41.0,41.0,47.0,48.0,49.0,49.0,50.0,52.0,53.0,51.0,49.0,48.0,44.0,44.0,44.0,44.0,42.0,41.0,40.0,40.0,39.0,39.0,39.0,38.0,39.0,40.0,39.0,38.0,38.0,38.0,37.0,36.0,36.0,34.0,35.0,35.0,37.0,37.0,36.0,36.0,36.0,36.0,35.0,35.0,33.0,33.0,32.0,30.0,31.0,32.0,32.0,33.0,32.0,33.0,33.0,null,null,null,null,null,null,null,null,null,null,null,null,null,null,null,null,null,null,null,null,null,null,null,null,null,null,null,null,null,null,null,null,null,null,null,null,null,null,null,null,null,null,null,null,21.0,22.0,21.0,20.0,null,33.0,38.0,39.0,39.0,39.0,36.0,34.0,35.0,46.0,46.0,49.0,53.0,54.0,51.0,53.0,57.0,60.0,58.0,58.0,59.0,61.0,60.0,56.0,56.0,53.0,59.0,60.0,60.0,63.0,66.0,67.0,64.0,62.0,63.0,61.0,62.0,61.0,62.0,62.0,65.0,67.0,64.0,65.0,62.0,64.0,64.0,64.0,64.0,63.0,62.0,60.0,60.0,63.0,62.0,53.0,50.0,54.0,56.0,57.0,57.0,55.0,51.0,55.0,52.0,51.0,49.0,47.0,44.0,43.0,43.0,46.0,45.0,46.0,46.0,47.0,47.0,48.0,48.0,48.0,48.0,49.0,47.0,47.0,49.0,52.0,54.0,58.0,63.0,66.0,71.0,69.0,72.0,73.0,71.0,72.0,70.0,71.0,73.0,72.0,72.0,74.0,70.0,65.0,62.0,61.0,61.0,61.0,62.0,64.0,69.0,67.0,70.0,68.0,64.0,60.0,58.0,57.0,55.0,60.0,63.0,61.0,60.0,58.0,58.0,56.0,56.0,55.0,52.0,52.0,51.0,53.0,55.0,60.0,59.0,56.0,51.0,49.0,49.0,46.0,44.0,42.0,45.0,48.0,48.0,46.0,44.0,42.0,47.0,37.0,36.0,null,null,null,null,null,null,null,null,null,null,null,null,26.0,26.0,23.0,null,null,null,null,null,null,null,null,null,null,null,null,null,null,null,null,null,null,null,null,null],[null,null,null,null,null,null,null,null,null,null,1.0,null,null,null,null,null,null,null,null,null,null,null,null,null,null,null,null,null,null,null,null,null,null,null,null,null,null,null,null,null,null,null,null,null,null,null,null,4.0,4.0,null,1.0,40.0,45.0,53.0,54.0,53.0,52.0,57.0,58.0,58.0,61.0,60.0,58.0,55.0,53.0,49.0,48.0,46.0,45.0,44.0,45.0,49.0,50.0,51.0,50.0,49.0,52.0,50.0,48.0,47.0,46.0,43.0,44.0,43.0,43.0,42.0,39.0,39.0,39.0,39.0,39.0,39.0,39.0,39.0,39.0,35.0,34.0,33.0,35.0,35.0,null,32.0,32.0,31.0,30.0,30.0,30.0,29.0,30.0,31.0,31.0,31.0,31.0,31.0,32.0,32.0,32.0,32.0,31.0,34.0,34.0,34.0,33.0,33.0,33.0,null,null,null,null,null,null,null,null,null,null,null,null,null,null,null,null,null,null,null,null,null,null,null,null,null,null,null,null,null,null,null,null,null,null,null,null,null,null,null,null,null,null,null,null,21.0,22.0,22.0,21.0,22.0,33.0,35.0,38.0,40.0,36.0,34.0,34.0,34.0,null,null,41.0,42.0,48.0,48.0,49.0,52.0,53.0,55.0,56.0,54.0,57.0,57.0,57.0,55.0,57.0,56.0,57.0,58.0,61.0,63.0,65.0,59.0,59.0,57.0,58.0,58.0,58.0,63.0,61.0,65.0,67.0,63.0,61.0,61.0,66.0,67.0,66.0,67.0,65.0,63.0,62.0,63.0,62.0,65.0,65.0,56.0,53.0,56.0,56.0,57.0,55.0,56.0,56.0,54.0,53.0,50.0,50.0,47.0,47.0,49.0,52.0,53.0,52.0,52.0,51.0,51.0,49.0,49.0,48.0,48.0,47.0,48.0,48.0,52.0,52.0,54.0,58.0,59.0,60.0,65.0,64.0,65.0,67.0,66.0,65.0,65.0,68.0,69.0,71.0,67.0,67.0,64.0,64.0,59.0,58.0,59.0,59.0,61.0,65.0,64.0,64.0,61.0,67.0,58.0,59.0,60.0,59.0,57.0,57.0,57.0,56.0,57.0,55.0,53.0,49.0,51.0,50.0,48.0,49.0,51.0,52.0,55.0,54.0,50.0,49.0,48.0,48.0,45.0,41.0,41.0,44.0,45.0,47.0,44.0,41.0,41.0,41.0,44.0,35.0,33.0,null,null,null,null,null,null,null,null,null,null,null,null,27.0,29.0,29.0,null,null,null,null,null,null,null,null,null,null,null,null,null,null,null,null,null,null,null,null,null],[null,null,null,null,null,null,null,null,null,null,null,1.0,2.0,2.0,null,null,null,null,null,null,null,null,null,null,null,null,null,null,null,null,null,null,null,null,null,null,null,null,null,null,null,null,null,null,null,null,null,5.0,5.0,38.0,41.0,44.0,51.0,50.0,52.0,49.0,52.0,55.0,59.0,59.0,57.0,56.0,56.0,50.0,49.0,52.0,50.0,51.0,49.0,48.0,50.0,50.0,53.0,54.0,54.0,50.0,48.0,48.0,46.0,45.0,42.0,42.0,41.0,41.0,41.0,40.0,40.0,40.0,40.0,39.0,39.0,38.0,38.0,37.0,33.0,33.0,33.0,33.0,1.0,null,null,30.0,30.0,30.0,29.0,28.0,28.0,28.0,29.0,29.0,30.0,31.0,31.0,33.0,33.0,33.0,33.0,33.0,34.0,34.0,34.0,33.0,33.0,32.0,32.0,null,null,null,null,null,null,null,null,null,null,null,null,null,null,null,null,null,null,null,null,null,null,null,null,null,null,null,null,null,null,null,null,null,null,null,null,null,null,null,null,null,null,null,null,20.0,22.0,22.0,21.0,21.0,null,33.0,36.0,36.0,34.0,31.0,31.0,null,null,null,9.0,38.0,40.0,40.0,46.0,48.0,51.0,50.0,50.0,49.0,55.0,55.0,54.0,52.0,53.0,52.0,51.0,54.0,57.0,59.0,58.0,55.0,57.0,56.0,59.0,57.0,56.0,60.0,59.0,60.0,63.0,63.0,63.0,62.0,62.0,65.0,67.0,68.0,64.0,62.0,60.0,61.0,62.0,61.0,61.0,58.0,57.0,54.0,54.0,56.0,55.0,58.0,58.0,58.0,59.0,54.0,54.0,53.0,50.0,52.0,53.0,49.0,52.0,50.0,50.0,51.0,51.0,48.0,47.0,48.0,49.0,49.0,48.0,50.0,50.0,54.0,55.0,59.0,61.0,60.0,56.0,55.0,60.0,59.0,59.0,59.0,61.0,63.0,63.0,61.0,56.0,56.0,59.0,60.0,58.0,57.0,58.0,58.0,59.0,59.0,57.0,60.0,62.0,57.0,56.0,56.0,59.0,57.0,55.0,54.0,51.0,52.0,51.0,50.0,49.0,49.0,50.0,50.0,52.0,53.0,52.0,50.0,49.0,48.0,47.0,45.0,42.0,41.0,39.0,38.0,41.0,42.0,40.0,41.0,39.0,40.0,40.0,42.0,31.0,30.0,null,null,null,null,null,null,null,null,null,null,null,23.0,25.0,29.0,31.0,30.0,23.0,null,null,null,null,null,null,null,null,null,null,null,null,null,null,null,null,null,null,null],[null,null,null,null,null,null,null,null,null,null,null,null,null,2.0,1.0,4.0,20.0,21.0,null,null,null,null,null,null,null,null,null,null,null,null,null,null,null,null,null,null,null,null,null,null,null,null,null,null,null,null,null,6.0,37.0,41.0,43.0,45.0,49.0,49.0,48.0,49.0,51.0,57.0,58.0,59.0,56.0,53.0,48.0,47.0,47.0,51.0,53.0,53.0,50.0,49.0,48.0,45.0,46.0,47.0,46.0,43.0,44.0,41.0,41.0,40.0,38.0,38.0,36.0,37.0,37.0,37.0,38.0,38.0,38.0,38.0,37.0,36.0,36.0,35.0,34.0,32.0,31.0,30.0,null,null,29.0,29.0,30.0,30.0,29.0,28.0,27.0,27.0,27.0,28.0,28.0,28.0,29.0,31.0,32.0,32.0,33.0,33.0,33.0,33.0,31.0,33.0,33.0,null,null,null,null,null,null,null,null,null,null,null,null,null,null,null,null,null,null,null,null,null,null,null,null,null,null,null,null,null,null,null,null,null,null,null,null,null,null,null,null,null,null,null,null,null,null,19.0,19.0,21.0,21.0,21.0,30.0,30.0,33.0,33.0,32.0,31.0,null,null,null,null,null,null,null,null,38.0,43.0,42.0,45.0,47.0,46.0,52.0,52.0,50.0,50.0,51.0,50.0,52.0,54.0,54.0,54.0,54.0,55.0,55.0,57.0,58.0,56.0,60.0,59.0,60.0,60.0,58.0,61.0,62.0,59.0,60.0,59.0,61.0,65.0,65.0,63.0,61.0,61.0,63.0,63.0,65.0,62.0,60.0,57.0,57.0,55.0,53.0,56.0,56.0,55.0,53.0,55.0,57.0,54.0,53.0,54.0,52.0,53.0,50.0,50.0,47.0,45.0,46.0,46.0,46.0,49.0,51.0,51.0,50.0,52.0,52.0,53.0,54.0,54.0,56.0,56.0,54.0,53.0,56.0,56.0,56.0,59.0,61.0,62.0,60.0,58.0,56.0,57.0,57.0,58.0,55.0,54.0,55.0,54.0,57.0,59.0,56.0,55.0,56.0,55.0,56.0,54.0,57.0,56.0,52.0,49.0,46.0,45.0,45.0,45.0,44.0,43.0,46.0,45.0,46.0,47.0,48.0,48.0,43.0,42.0,41.0,42.0,40.0,39.0,38.0,39.0,40.0,39.0,36.0,36.0,39.0,38.0,38.0,null,28.0,1.0,null,null,null,null,null,null,null,null,null,null,null,23.0,24.0,26.0,30.0,30.0,29.0,26.0,25.0,null,null,null,2.0,null,null,null,null,null,null,null,null,null,null,null,null,null],[null,null,null,null,null,null,null,null,null,null,null,null,null,null,null,null,21.0,21.0,22.0,22.0,23.0,23.0,null,null,null,null,null,null,null,null,null,null,null,null,null,null,null,null,null,null,null,null,null,null,null,null,5.0,35.0,37.0,40.0,45.0,48.0,48.0,45.0,46.0,47.0,52.0,54.0,54.0,53.0,50.0,48.0,46.0,48.0,46.0,47.0,48.0,45.0,45.0,45.0,45.0,43.0,41.0,41.0,39.0,40.0,38.0,39.0,36.0,36.0,36.0,37.0,37.0,37.0,37.0,37.0,37.0,37.0,37.0,35.0,36.0,37.0,34.0,33.0,32.0,32.0,30.0,30.0,null,null,null,null,28.0,28.0,29.0,27.0,27.0,27.0,27.0,27.0,27.0,27.0,28.0,29.0,29.0,30.0,30.0,30.0,33.0,31.0,30.0,null,null,null,null,null,null,null,null,null,null,null,null,null,null,null,null,null,null,null,null,null,null,null,null,null,null,null,null,null,null,null,null,null,null,null,null,null,null,null,null,null,null,null,null,null,null,null,null,null,null,19.0,19.0,23.0,31.0,30.0,32.0,32.0,31.0,null,null,null,null,null,null,null,null,null,36.0,39.0,39.0,21.0,42.0,40.0,42.0,24.0,null,null,null,null,47.0,53.0,52.0,52.0,52.0,52.0,55.0,54.0,56.0,56.0,58.0,57.0,57.0,58.0,58.0,60.0,60.0,57.0,58.0,57.0,56.0,60.0,59.0,59.0,60.0,60.0,62.0,62.0,64.0,63.0,62.0,60.0,57.0,56.0,55.0,53.0,49.0,47.0,45.0,48.0,57.0,56.0,57.0,56.0,56.0,54.0,54.0,51.0,51.0,50.0,48.0,51.0,52.0,51.0,50.0,53.0,54.0,54.0,52.0,52.0,52.0,53.0,57.0,58.0,55.0,52.0,50.0,50.0,54.0,56.0,60.0,60.0,58.0,59.0,58.0,56.0,53.0,53.0,52.0,53.0,53.0,55.0,55.0,56.0,53.0,55.0,54.0,52.0,54.0,53.0,53.0,50.0,49.0,49.0,44.0,45.0,42.0,42.0,42.0,40.0,42.0,42.0,42.0,42.0,38.0,38.0,36.0,39.0,39.0,41.0,40.0,39.0,38.0,37.0,38.0,36.0,36.0,34.0,5.0,null,null,null,null,null,null,null,null,null,null,null,null,null,null,null,null,23.0,24.0,26.0,28.0,29.0,29.0,29.0,null,null,null,2.0,2.0,null,null,null,null,null,null,null,null,null,null,null,null,null],[null,null,null,null,null,null,null,null,null,null,2.0,null,null,null,null,null,null,null,22.0,22.0,23.0,23.0,24.0,null,null,4.0,4.0,null,null,null,null,null,null,null,null,null,null,null,null,null,null,null,null,null,5.0,6.0,6.0,36.0,43.0,44.0,46.0,48.0,47.0,48.0,48.0,46.0,50.0,50.0,49.0,47.0,45.0,45.0,45.0,45.0,45.0,45.0,45.0,45.0,43.0,43.0,43.0,41.0,39.0,38.0,38.0,37.0,36.0,37.0,38.0,38.0,38.0,38.0,38.0,37.0,35.0,36.0,37.0,37.0,36.0,34.0,33.0,33.0,33.0,null,null,null,null,null,null,null,null,null,null,28.0,28.0,27.0,28.0,27.0,27.0,27.0,27.0,27.0,28.0,28.0,29.0,30.0,29.0,28.0,27.0,null,null,null,null,null,null,null,null,null,null,null,null,null,null,null,null,null,null,null,null,null,null,null,null,null,null,null,null,null,null,null,null,null,null,null,null,null,null,null,null,null,null,null,null,null,null,null,null,null,null,null,null,null,3.0,25.0,27.0,29.0,28.0,30.0,null,null,null,null,null,null,null,null,null,null,33.0,37.0,36.0,20.0,43.0,44.0,43.0,41.0,40.0,null,20.0,null,49.0,51.0,52.0,52.0,55.0,56.0,54.0,54.0,54.0,54.0,53.0,53.0,54.0,55.0,56.0,58.0,58.0,58.0,57.0,58.0,56.0,54.0,55.0,57.0,57.0,59.0,59.0,61.0,60.0,57.0,58.0,56.0,54.0,52.0,50.0,48.0,49.0,44.0,44.0,45.0,51.0,53.0,56.0,55.0,52.0,51.0,51.0,51.0,51.0,50.0,48.0,48.0,48.0,49.0,50.0,48.0,49.0,50.0,50.0,51.0,49.0,49.0,50.0,52.0,52.0,50.0,48.0,48.0,49.0,50.0,55.0,57.0,59.0,58.0,59.0,57.0,55.0,51.0,52.0,52.0,52.0,53.0,54.0,53.0,52.0,51.0,52.0,50.0,50.0,49.0,49.0,47.0,48.0,45.0,45.0,45.0,44.0,43.0,42.0,42.0,40.0,40.0,37.0,37.0,38.0,37.0,37.0,36.0,36.0,36.0,36.0,36.0,35.0,36.0,36.0,33.0,35.0,35.0,35.0,null,null,null,null,null,null,null,null,null,null,null,null,null,null,null,null,21.0,23.0,23.0,25.0,27.0,28.0,28.0,28.0,25.0,null,null,null,null,null,null,null,null,null,null,null,null,null,null,null,null],[null,null,null,null,null,null,null,null,null,3.0,null,null,null,null,null,null,null,null,null,null,null,25.0,28.0,30.0,30.0,28.0,4.0,4.0,null,null,null,null,null,null,null,null,null,null,null,null,null,null,null,5.0,6.0,9.0,38.0,44.0,46.0,48.0,48.0,50.0,49.0,48.0,48.0,47.0,46.0,45.0,43.0,44.0,44.0,44.0,44.0,44.0,45.0,46.0,46.0,45.0,44.0,43.0,41.0,39.0,39.0,39.0,37.0,37.0,37.0,36.0,35.0,35.0,35.0,36.0,37.0,36.0,37.0,38.0,37.0,38.0,34.0,32.0,null,null,null,null,null,null,null,null,null,null,null,null,18.0,23.0,24.0,25.0,27.0,27.0,27.0,28.0,28.0,28.0,28.0,27.0,26.0,24.0,23.0,23.0,21.0,null,null,null,null,null,null,null,null,null,null,null,null,null,null,null,null,null,null,null,null,null,null,null,null,null,null,null,null,null,null,null,null,null,null,null,null,null,null,null,null,null,null,null,null,null,null,null,null,null,null,null,null,1.0,4.0,6.0,26.0,27.0,27.0,28.0,26.0,null,null,null,null,null,null,null,null,27.0,30.0,36.0,35.0,37.0,39.0,39.0,40.0,41.0,42.0,21.0,20.0,20.0,null,49.0,49.0,50.0,53.0,52.0,53.0,53.0,53.0,53.0,53.0,52.0,54.0,53.0,52.0,51.0,53.0,58.0,55.0,55.0,54.0,54.0,56.0,55.0,54.0,50.0,52.0,54.0,53.0,50.0,51.0,51.0,46.0,47.0,46.0,47.0,49.0,47.0,48.0,46.0,48.0,50.0,51.0,52.0,49.0,47.0,47.0,47.0,47.0,47.0,47.0,47.0,48.0,48.0,47.0,47.0,46.0,46.0,45.0,46.0,47.0,47.0,47.0,47.0,47.0,46.0,46.0,48.0,46.0,46.0,50.0,52.0,52.0,52.0,54.0,52.0,52.0,50.0,50.0,48.0,49.0,49.0,49.0,46.0,46.0,47.0,47.0,45.0,45.0,45.0,44.0,43.0,42.0,38.0,39.0,40.0,39.0,39.0,39.0,38.0,38.0,37.0,36.0,37.0,36.0,36.0,35.0,36.0,35.0,35.0,35.0,35.0,34.0,33.0,33.0,35.0,35.0,36.0,36.0,34.0,32.0,null,null,null,null,null,null,null,null,null,null,null,null,null,null,null,21.0,23.0,24.0,25.0,27.0,28.0,27.0,23.0,null,null,null,null,null,null,null,null,null,null,null,null,null,null,null,null],[null,null,null,null,null,null,null,null,null,null,null,null,null,null,null,null,null,null,28.0,31.0,31.0,32.0,32.0,32.0,34.0,33.0,33.0,2.0,null,null,null,null,null,null,null,null,null,null,null,null,null,null,34.0,39.0,39.0,40.0,45.0,50.0,49.0,48.0,47.0,47.0,49.0,50.0,49.0,48.0,44.0,46.0,43.0,42.0,43.0,42.0,42.0,42.0,45.0,45.0,45.0,44.0,44.0,43.0,39.0,40.0,38.0,36.0,36.0,36.0,35.0,35.0,36.0,37.0,37.0,38.0,38.0,39.0,37.0,35.0,33.0,null,null,null,null,null,null,null,null,null,null,null,null,null,null,14.0,18.0,19.0,19.0,19.0,20.0,23.0,24.0,26.0,26.0,26.0,26.0,24.0,22.0,19.0,19.0,19.0,null,null,null,null,null,null,null,null,null,null,null,null,null,null,null,null,null,null,null,null,null,null,null,null,null,null,null,null,null,null,null,null,null,null,null,null,null,null,null,null,null,null,null,null,null,null,null,null,null,null,null,null,null,null,2.0,2.0,26.0,26.0,26.0,4.0,null,null,null,null,null,null,null,28.0,31.0,32.0,34.0,33.0,33.0,40.0,43.0,42.0,41.0,40.0,39.0,37.0,31.0,null,null,17.0,18.0,49.0,52.0,52.0,52.0,53.0,53.0,53.0,54.0,54.0,52.0,51.0,51.0,51.0,50.0,49.0,47.0,47.0,46.0,49.0,50.0,49.0,50.0,50.0,50.0,50.0,46.0,46.0,46.0,45.0,44.0,44.0,45.0,45.0,46.0,48.0,47.0,47.0,49.0,51.0,52.0,51.0,51.0,49.0,49.0,49.0,50.0,51.0,48.0,47.0,45.0,45.0,45.0,47.0,46.0,46.0,43.0,43.0,43.0,45.0,42.0,43.0,44.0,44.0,44.0,45.0,46.0,47.0,47.0,51.0,51.0,51.0,49.0,49.0,48.0,49.0,47.0,47.0,47.0,47.0,45.0,43.0,42.0,41.0,41.0,42.0,43.0,42.0,43.0,42.0,40.0,39.0,38.0,36.0,39.0,39.0,40.0,38.0,36.0,36.0,34.0,34.0,33.0,33.0,31.0,32.0,35.0,36.0,36.0,38.0,37.0,35.0,37.0,36.0,36.0,36.0,34.0,36.0,36.0,32.0,30.0,null,null,null,null,null,null,null,2.0,27.0,27.0,null,null,null,null,21.0,22.0,23.0,25.0,25.0,24.0,19.0,5.0,null,null,null,null,null,null,null,null,null,null,null,null,null,null,null],[null,null,null,null,null,null,null,null,null,null,null,null,null,1.0,1.0,null,24.0,28.0,28.0,32.0,33.0,35.0,35.0,37.0,36.0,36.0,36.0,34.0,34.0,34.0,null,null,null,null,null,null,null,null,31.0,32.0,33.0,36.0,43.0,47.0,48.0,47.0,47.0,47.0,47.0,47.0,45.0,46.0,47.0,49.0,49.0,49.0,46.0,43.0,40.0,40.0,41.0,41.0,42.0,42.0,41.0,42.0,42.0,41.0,42.0,41.0,38.0,36.0,36.0,34.0,34.0,36.0,36.0,34.0,33.0,32.0,33.0,33.0,33.0,34.0,32.0,31.0,null,null,null,null,null,null,null,null,null,null,null,null,null,null,null,14.0,14.0,15.0,16.0,17.0,18.0,18.0,19.0,18.0,18.0,null,null,null,17.0,18.0,19.0,null,null,null,null,null,null,null,null,null,null,null,null,null,null,null,null,null,null,4.0,null,null,null,null,null,null,null,null,null,null,null,null,null,null,null,null,null,null,null,null,null,null,null,null,null,null,null,null,null,null,null,null,null,null,null,null,null,null,1.0,null,4.0,4.0,6.0,null,null,null,null,null,null,28.0,31.0,32.0,37.0,40.0,41.0,40.0,40.0,42.0,41.0,40.0,38.0,38.0,35.0,33.0,9.0,8.0,42.0,49.0,49.0,46.0,48.0,49.0,50.0,49.0,49.0,51.0,52.0,52.0,50.0,50.0,48.0,47.0,47.0,45.0,45.0,44.0,44.0,42.0,42.0,42.0,44.0,44.0,44.0,44.0,44.0,45.0,46.0,45.0,45.0,45.0,47.0,47.0,47.0,47.0,49.0,48.0,46.0,47.0,47.0,45.0,45.0,45.0,45.0,45.0,43.0,43.0,42.0,41.0,41.0,41.0,43.0,44.0,44.0,44.0,43.0,42.0,42.0,40.0,43.0,43.0,42.0,42.0,42.0,44.0,45.0,46.0,44.0,45.0,44.0,44.0,43.0,44.0,44.0,43.0,41.0,41.0,39.0,38.0,38.0,39.0,39.0,39.0,39.0,38.0,40.0,40.0,40.0,41.0,39.0,37.0,39.0,38.0,38.0,38.0,37.0,35.0,35.0,35.0,34.0,34.0,34.0,33.0,32.0,32.0,32.0,32.0,34.0,35.0,36.0,35.0,35.0,36.0,35.0,34.0,36.0,31.0,31.0,33.0,33.0,33.0,33.0,33.0,34.0,33.0,34.0,32.0,30.0,28.0,28.0,27.0,null,null,null,21.0,23.0,25.0,25.0,24.0,23.0,21.0,22.0,null,null,null,21.0,null,null,null,null,null,null,null,null,null],[null,null,null,null,null,null,null,2.0,null,null,null,null,1.0,1.0,24.0,24.0,24.0,29.0,30.0,32.0,34.0,35.0,35.0,36.0,37.0,36.0,36.0,36.0,38.0,34.0,38.0,38.0,36.0,35.0,36.0,34.0,35.0,37.0,39.0,37.0,38.0,41.0,45.0,45.0,48.0,46.0,46.0,47.0,47.0,46.0,46.0,45.0,46.0,49.0,47.0,47.0,47.0,45.0,41.0,39.0,40.0,42.0,40.0,40.0,40.0,41.0,41.0,41.0,39.0,38.0,36.0,35.0,34.0,33.0,34.0,33.0,33.0,34.0,32.0,32.0,31.0,27.0,27.0,24.0,22.0,22.0,null,null,null,null,null,null,null,null,null,null,null,null,null,null,null,12.0,14.0,15.0,15.0,15.0,15.0,15.0,16.0,16.0,15.0,null,null,null,16.0,17.0,null,null,null,null,null,null,null,null,null,null,null,null,null,null,null,4.0,4.0,4.0,4.0,4.0,4.0,3.0,null,null,null,null,null,null,null,null,null,null,null,null,null,null,null,null,null,null,null,null,null,null,null,null,null,null,null,null,null,null,null,null,null,null,null,null,null,null,null,2.0,7.0,7.0,null,null,null,null,27.0,27.0,31.0,34.0,35.0,43.0,44.0,42.0,40.0,37.0,36.0,39.0,39.0,38.0,34.0,11.0,12.0,44.0,45.0,47.0,46.0,45.0,45.0,46.0,47.0,46.0,44.0,42.0,44.0,46.0,43.0,42.0,42.0,45.0,44.0,44.0,44.0,44.0,42.0,41.0,41.0,41.0,43.0,42.0,42.0,43.0,43.0,44.0,44.0,44.0,44.0,45.0,45.0,45.0,45.0,44.0,43.0,44.0,44.0,44.0,43.0,42.0,42.0,42.0,43.0,42.0,41.0,42.0,41.0,41.0,40.0,39.0,40.0,40.0,40.0,40.0,38.0,39.0,39.0,39.0,38.0,38.0,39.0,38.0,40.0,43.0,42.0,42.0,41.0,41.0,41.0,39.0,38.0,38.0,38.0,36.0,36.0,37.0,37.0,37.0,38.0,38.0,38.0,37.0,37.0,37.0,37.0,37.0,38.0,39.0,38.0,39.0,39.0,37.0,37.0,37.0,37.0,38.0,39.0,37.0,37.0,39.0,38.0,37.0,37.0,34.0,33.0,34.0,32.0,31.0,32.0,33.0,34.0,34.0,33.0,32.0,32.0,32.0,31.0,32.0,34.0,34.0,34.0,34.0,36.0,37.0,36.0,35.0,34.0,35.0,32.0,28.0,null,null,null,22.0,21.0,25.0,23.0,24.0,25.0,25.0,24.0,27.0,26.0,26.0,25.0,23.0,23.0,null,null,null,null,null,null,null],[null,null,null,null,null,null,null,null,null,null,null,null,null,24.0,24.0,24.0,27.0,27.0,28.0,31.0,34.0,35.0,34.0,34.0,36.0,36.0,36.0,36.0,35.0,36.0,38.0,40.0,38.0,38.0,38.0,37.0,39.0,40.0,40.0,39.0,42.0,44.0,45.0,46.0,45.0,44.0,44.0,44.0,44.0,46.0,45.0,46.0,44.0,45.0,45.0,46.0,44.0,39.0,39.0,38.0,38.0,40.0,38.0,35.0,34.0,33.0,37.0,36.0,33.0,32.0,33.0,32.0,36.0,35.0,33.0,33.0,31.0,29.0,28.0,26.0,26.0,26.0,21.0,18.0,18.0,18.0,17.0,null,null,null,null,null,null,null,null,null,null,null,null,1.0,1.0,12.0,12.0,13.0,13.0,14.0,14.0,14.0,13.0,null,null,null,null,null,8.0,null,null,null,null,null,null,null,null,null,null,null,null,null,null,null,5.0,5.0,5.0,4.0,4.0,null,3.0,3.0,null,null,null,null,null,null,null,null,null,null,null,null,null,null,null,null,null,null,null,null,null,null,null,null,null,null,null,null,null,null,null,null,null,null,null,1.0,null,null,null,null,null,null,null,null,null,null,26.0,28.0,30.0,33.0,34.0,40.0,41.0,41.0,36.0,33.0,32.0,34.0,35.0,33.0,null,null,null,43.0,44.0,45.0,44.0,44.0,43.0,44.0,43.0,44.0,45.0,45.0,45.0,43.0,41.0,40.0,41.0,40.0,39.0,40.0,40.0,42.0,40.0,41.0,41.0,41.0,42.0,41.0,40.0,41.0,41.0,40.0,40.0,40.0,40.0,43.0,45.0,44.0,44.0,41.0,38.0,40.0,39.0,40.0,41.0,40.0,40.0,40.0,39.0,38.0,38.0,37.0,37.0,37.0,37.0,37.0,36.0,35.0,35.0,35.0,37.0,38.0,37.0,37.0,36.0,37.0,36.0,36.0,39.0,40.0,39.0,36.0,35.0,34.0,35.0,36.0,36.0,35.0,33.0,33.0,32.0,32.0,32.0,33.0,33.0,33.0,33.0,34.0,33.0,31.0,35.0,34.0,35.0,34.0,35.0,35.0,34.0,33.0,33.0,33.0,35.0,35.0,35.0,35.0,35.0,39.0,39.0,39.0,39.0,38.0,35.0,34.0,34.0,32.0,32.0,33.0,33.0,33.0,33.0,30.0,31.0,31.0,30.0,31.0,33.0,33.0,32.0,32.0,34.0,34.0,34.0,34.0,34.0,33.0,32.0,33.0,30.0,27.0,25.0,25.0,24.0,24.0,21.0,23.0,23.0,25.0,24.0,25.0,26.0,26.0,24.0,23.0,24.0,21.0,22.0,null,null,null,null,null],[null,null,null,null,null,null,null,null,null,null,null,null,null,null,25.0,25.0,26.0,27.0,27.0,32.0,33.0,32.0,34.0,35.0,34.0,36.0,36.0,37.0,38.0,37.0,37.0,38.0,38.0,38.0,37.0,38.0,38.0,38.0,38.0,38.0,42.0,43.0,41.0,42.0,42.0,41.0,43.0,43.0,43.0,44.0,43.0,43.0,43.0,43.0,41.0,39.0,38.0,36.0,35.0,36.0,35.0,35.0,34.0,34.0,35.0,34.0,34.0,34.0,36.0,34.0,34.0,33.0,33.0,32.0,30.0,29.0,27.0,26.0,25.0,21.0,19.0,19.0,18.0,18.0,17.0,17.0,17.0,17.0,null,null,null,null,null,null,null,null,2.0,2.0,null,null,1.0,12.0,12.0,12.0,12.0,12.0,12.0,null,null,8.0,8.0,8.0,8.0,8.0,8.0,8.0,null,null,null,null,null,null,null,null,null,null,null,null,null,4.0,4.0,4.0,null,null,null,null,null,3.0,3.0,null,null,null,null,null,null,null,null,null,null,null,null,null,null,null,null,null,null,null,null,null,null,null,null,null,null,null,null,null,null,null,null,null,1.0,1.0,null,null,null,null,null,null,null,null,null,null,null,25.0,29.0,33.0,37.0,36.0,34.0,33.0,33.0,31.0,28.0,31.0,34.0,31.0,29.0,null,null,41.0,44.0,45.0,43.0,44.0,43.0,42.0,43.0,43.0,44.0,44.0,40.0,38.0,37.0,38.0,38.0,38.0,38.0,38.0,37.0,37.0,39.0,39.0,39.0,39.0,40.0,39.0,39.0,39.0,39.0,38.0,38.0,39.0,39.0,41.0,41.0,40.0,40.0,36.0,34.0,34.0,36.0,37.0,38.0,37.0,37.0,34.0,34.0,32.0,32.0,30.0,30.0,29.0,30.0,30.0,30.0,30.0,30.0,30.0,32.0,32.0,33.0,33.0,34.0,35.0,35.0,35.0,36.0,35.0,34.0,33.0,33.0,30.0,29.0,29.0,30.0,31.0,30.0,30.0,29.0,29.0,29.0,29.0,28.0,28.0,30.0,30.0,30.0,28.0,27.0,28.0,30.0,32.0,34.0,34.0,34.0,34.0,34.0,34.0,34.0,34.0,34.0,34.0,34.0,35.0,36.0,36.0,37.0,38.0,35.0,35.0,33.0,33.0,34.0,32.0,34.0,32.0,30.0,29.0,30.0,29.0,29.0,29.0,28.0,29.0,29.0,31.0,32.0,33.0,33.0,32.0,32.0,32.0,31.0,30.0,33.0,32.0,33.0,31.0,32.0,30.0,28.0,26.0,25.0,25.0,26.0,24.0,25.0,26.0,26.0,24.0,24.0,22.0,23.0,24.0,23.0,23.0,23.0,22.0],[null,null,null,null,null,null,null,null,7.0,7.0,7.0,7.0,null,null,null,25.0,25.0,26.0,29.0,31.0,32.0,32.0,32.0,32.0,34.0,36.0,37.0,38.0,39.0,40.0,40.0,39.0,39.0,39.0,39.0,39.0,38.0,38.0,39.0,39.0,40.0,39.0,40.0,41.0,41.0,39.0,41.0,41.0,41.0,42.0,42.0,42.0,41.0,39.0,38.0,37.0,32.0,34.0,34.0,34.0,33.0,33.0,34.0,34.0,33.0,33.0,34.0,33.0,34.0,33.0,34.0,32.0,28.0,27.0,26.0,23.0,22.0,21.0,20.0,20.0,20.0,20.0,20.0,18.0,17.0,17.0,17.0,17.0,16.0,14.0,null,null,5.0,5.0,5.0,5.0,5.0,5.0,5.0,5.0,null,null,null,null,null,null,null,8.0,8.0,8.0,8.0,8.0,8.0,8.0,8.0,8.0,null,null,null,null,null,null,null,null,null,null,null,null,4.0,4.0,4.0,null,null,null,null,null,null,null,3.0,3.0,null,null,null,null,null,null,null,null,null,null,null,null,null,null,null,null,null,3.0,3.0,3.0,3.0,3.0,3.0,3.0,null,null,null,null,null,null,null,null,null,null,null,null,null,null,null,null,null,null,null,null,null,null,null,29.0,32.0,33.0,32.0,34.0,33.0,31.0,28.0,27.0,29.0,32.0,32.0,30.0,30.0,38.0,39.0,40.0,39.0,40.0,41.0,40.0,40.0,43.0,42.0,40.0,37.0,36.0,35.0,35.0,36.0,34.0,35.0,35.0,38.0,37.0,38.0,38.0,39.0,39.0,40.0,38.0,38.0,38.0,37.0,37.0,37.0,35.0,36.0,38.0,37.0,36.0,36.0,37.0,35.0,35.0,36.0,36.0,35.0,34.0,33.0,31.0,32.0,31.0,31.0,29.0,30.0,30.0,30.0,30.0,30.0,30.0,30.0,30.0,31.0,32.0,33.0,33.0,32.0,31.0,31.0,31.0,31.0,30.0,30.0,29.0,28.0,27.0,25.0,25.0,28.0,28.0,27.0,27.0,27.0,27.0,27.0,26.0,26.0,26.0,26.0,27.0,27.0,27.0,26.0,26.0,26.0,26.0,27.0,28.0,29.0,30.0,31.0,32.0,33.0,33.0,33.0,33.0,33.0,33.0,34.0,36.0,36.0,39.0,37.0,38.0,38.0,37.0,36.0,34.0,32.0,33.0,31.0,27.0,27.0,27.0,27.0,26.0,25.0,25.0,27.0,26.0,27.0,27.0,29.0,29.0,27.0,28.0,29.0,30.0,30.0,31.0,31.0,33.0,32.0,32.0,30.0,28.0,28.0,28.0,28.0,28.0,26.0,27.0,27.0,26.0,25.0,25.0,24.0,24.0,24.0,25.0,24.0,23.0],[null,null,null,null,15.0,15.0,15.0,15.0,null,null,null,null,null,27.0,28.0,28.0,28.0,28.0,30.0,33.0,32.0,33.0,33.0,33.0,33.0,34.0,34.0,35.0,38.0,39.0,38.0,38.0,39.0,40.0,40.0,39.0,39.0,39.0,39.0,38.0,40.0,40.0,39.0,39.0,39.0,39.0,40.0,39.0,39.0,39.0,39.0,36.0,36.0,36.0,34.0,33.0,32.0,32.0,32.0,32.0,31.0,32.0,33.0,33.0,32.0,32.0,31.0,30.0,30.0,28.0,25.0,23.0,23.0,21.0,19.0,19.0,18.0,18.0,18.0,18.0,17.0,17.0,17.0,16.0,15.0,14.0,14.0,14.0,14.0,14.0,14.0,14.0,14.0,5.0,5.0,5.0,5.0,5.0,5.0,5.0,null,8.0,8.0,8.0,8.0,8.0,8.0,8.0,8.0,8.0,8.0,8.0,8.0,8.0,8.0,8.0,null,null,null,null,null,null,null,null,null,null,null,4.0,4.0,4.0,4.0,null,null,null,null,null,null,null,null,3.0,null,null,null,null,null,null,null,null,null,null,null,null,null,null,null,3.0,3.0,3.0,3.0,3.0,3.0,3.0,3.0,3.0,3.0,3.0,3.0,null,null,null,null,null,null,null,null,null,null,null,null,null,null,null,null,null,null,null,null,null,null,11.0,27.0,28.0,32.0,31.0,30.0,28.0,28.0,27.0,29.0,30.0,29.0,28.0,null,35.0,34.0,36.0,37.0,39.0,38.0,39.0,37.0,36.0,35.0,33.0,33.0,34.0,31.0,28.0,31.0,36.0,36.0,36.0,36.0,35.0,33.0,33.0,33.0,35.0,35.0,34.0,33.0,33.0,33.0,34.0,34.0,35.0,36.0,35.0,36.0,34.0,33.0,33.0,31.0,34.0,35.0,34.0,33.0,33.0,32.0,32.0,32.0,32.0,32.0,32.0,32.0,32.0,31.0,31.0,31.0,31.0,32.0,32.0,32.0,32.0,31.0,30.0,32.0,31.0,30.0,29.0,28.0,26.0,25.0,24.0,25.0,25.0,27.0,26.0,27.0,27.0,27.0,27.0,26.0,26.0,26.0,26.0,26.0,25.0,25.0,25.0,25.0,25.0,25.0,25.0,26.0,25.0,26.0,27.0,29.0,28.0,27.0,27.0,28.0,28.0,29.0,29.0,31.0,31.0,32.0,31.0,31.0,31.0,31.0,30.0,30.0,30.0,30.0,28.0,27.0,26.0,25.0,25.0,25.0,24.0,23.0,24.0,25.0,24.0,25.0,27.0,27.0,26.0,26.0,28.0,28.0,28.0,27.0,26.0,28.0,30.0,31.0,31.0,29.0,29.0,29.0,28.0,28.0,29.0,27.0,27.0,27.0,26.0,26.0,26.0,25.0,26.0,26.0,26.0,25.0,23.0],[16.0,14.0,15.0,15.0,15.0,15.0,15.0,15.0,14.0,14.0,null,null,26.0,26.0,28.0,28.0,28.0,28.0,29.0,34.0,33.0,33.0,34.0,31.0,32.0,34.0,34.0,32.0,32.0,34.0,35.0,37.0,37.0,37.0,39.0,39.0,39.0,39.0,39.0,36.0,38.0,38.0,37.0,37.0,36.0,36.0,35.0,36.0,38.0,38.0,35.0,34.0,33.0,32.0,32.0,31.0,30.0,29.0,30.0,30.0,30.0,29.0,28.0,28.0,29.0,27.0,24.0,21.0,20.0,20.0,20.0,17.0,17.0,17.0,16.0,16.0,17.0,17.0,16.0,17.0,17.0,16.0,16.0,16.0,16.0,14.0,14.0,14.0,14.0,14.0,14.0,14.0,14.0,14.0,5.0,5.0,5.0,null,null,null,null,null,8.0,8.0,8.0,8.0,8.0,8.0,8.0,8.0,8.0,8.0,8.0,8.0,8.0,8.0,8.0,8.0,null,null,null,null,null,null,null,null,4.0,5.0,5.0,5.0,null,null,null,null,null,null,null,null,null,null,3.0,3.0,3.0,3.0,null,null,null,null,null,null,null,null,null,null,null,3.0,3.0,3.0,3.0,3.0,3.0,3.0,3.0,3.0,3.0,3.0,3.0,null,null,null,null,null,null,null,null,null,null,null,null,null,null,null,null,null,null,null,null,null,null,null,4.0,23.0,27.0,31.0,31.0,29.0,28.0,27.0,28.0,29.0,29.0,29.0,28.0,30.0,34.0,35.0,33.0,34.0,35.0,35.0,34.0,32.0,31.0,31.0,31.0,4.0,25.0,25.0,null,25.0,29.0,30.0,30.0,30.0,32.0,31.0,31.0,32.0,32.0,31.0,32.0,32.0,34.0,34.0,34.0,34.0,33.0,33.0,34.0,35.0,32.0,31.0,31.0,35.0,34.0,33.0,33.0,32.0,30.0,32.0,31.0,31.0,32.0,31.0,30.0,30.0,28.0,29.0,29.0,29.0,30.0,31.0,32.0,32.0,32.0,32.0,31.0,31.0,31.0,27.0,26.0,25.0,24.0,24.0,26.0,26.0,25.0,25.0,25.0,24.0,24.0,24.0,25.0,25.0,25.0,25.0,25.0,25.0,25.0,25.0,25.0,24.0,24.0,24.0,24.0,24.0,25.0,25.0,25.0,25.0,24.0,24.0,24.0,26.0,26.0,29.0,28.0,28.0,26.0,26.0,28.0,27.0,27.0,28.0,28.0,27.0,28.0,28.0,26.0,26.0,25.0,25.0,24.0,24.0,25.0,25.0,27.0,27.0,27.0,27.0,26.0,26.0,27.0,28.0,28.0,28.0,27.0,26.0,26.0,27.0,27.0,27.0,27.0,25.0,25.0,24.0,26.0,26.0,26.0,27.0,26.0,25.0,26.0,25.0,24.0,25.0,25.0,25.0,24.0,24.0],[16.0,15.0,14.0,14.0,15.0,15.0,14.0,14.0,14.0,14.0,null,null,null,26.0,26.0,27.0,27.0,28.0,28.0,31.0,31.0,30.0,31.0,32.0,32.0,31.0,32.0,34.0,34.0,35.0,35.0,36.0,37.0,38.0,38.0,38.0,37.0,37.0,37.0,37.0,36.0,36.0,35.0,36.0,36.0,35.0,33.0,32.0,32.0,31.0,30.0,31.0,31.0,31.0,30.0,31.0,30.0,30.0,30.0,29.0,27.0,26.0,26.0,24.0,19.0,20.0,19.0,19.0,18.0,18.0,17.0,17.0,16.0,16.0,16.0,15.0,15.0,15.0,15.0,15.0,15.0,16.0,16.0,16.0,16.0,15.0,15.0,14.0,14.0,13.0,12.0,12.0,12.0,12.0,12.0,12.0,12.0,12.0,12.0,null,null,null,null,null,null,8.0,8.0,8.0,8.0,8.0,8.0,8.0,8.0,8.0,8.0,8.0,8.0,8.0,8.0,null,null,null,null,null,null,null,4.0,5.0,5.0,5.0,5.0,null,null,null,null,null,null,null,null,null,null,null,3.0,3.0,3.0,3.0,null,null,null,null,null,null,null,null,null,null,3.0,3.0,3.0,3.0,3.0,3.0,3.0,3.0,3.0,3.0,null,null,null,null,null,null,null,null,null,null,null,null,null,null,null,null,null,null,null,null,null,null,null,null,null,null,25.0,27.0,28.0,29.0,27.0,29.0,30.0,28.0,28.0,29.0,30.0,33.0,33.0,33.0,32.0,32.0,35.0,34.0,33.0,32.0,31.0,32.0,32.0,26.0,24.0,23.0,23.0,23.0,27.0,27.0,24.0,24.0,26.0,29.0,29.0,30.0,30.0,28.0,30.0,31.0,31.0,31.0,31.0,31.0,31.0,31.0,31.0,31.0,28.0,30.0,30.0,31.0,32.0,34.0,34.0,32.0,31.0,30.0,29.0,29.0,28.0,26.0,26.0,26.0,25.0,27.0,28.0,30.0,30.0,30.0,29.0,29.0,29.0,30.0,33.0,33.0,33.0,27.0,26.0,26.0,26.0,27.0,28.0,28.0,26.0,26.0,26.0,26.0,25.0,24.0,24.0,25.0,25.0,25.0,25.0,25.0,24.0,24.0,24.0,24.0,24.0,23.0,23.0,23.0,23.0,23.0,23.0,24.0,24.0,23.0,25.0,26.0,25.0,28.0,27.0,25.0,25.0,23.0,26.0,28.0,28.0,27.0,26.0,27.0,27.0,28.0,27.0,25.0,25.0,26.0,23.0,25.0,23.0,25.0,26.0,25.0,25.0,24.0,25.0,25.0,26.0,26.0,25.0,25.0,25.0,26.0,26.0,26.0,26.0,26.0,28.0,25.0,25.0,24.0,23.0,23.0,22.0,22.0,23.0,23.0,24.0,24.0,23.0,24.0,25.0,24.0,22.0,23.0],[15.0,15.0,14.0,14.0,14.0,14.0,14.0,13.0,null,null,null,null,null,null,24.0,24.0,27.0,27.0,28.0,29.0,31.0,31.0,32.0,32.0,31.0,32.0,35.0,35.0,35.0,36.0,36.0,36.0,37.0,38.0,39.0,39.0,38.0,39.0,39.0,37.0,36.0,36.0,36.0,36.0,35.0,33.0,31.0,31.0,29.0,30.0,30.0,31.0,30.0,27.0,27.0,26.0,27.0,26.0,25.0,25.0,23.0,22.0,22.0,20.0,19.0,18.0,18.0,17.0,17.0,16.0,16.0,16.0,16.0,16.0,15.0,15.0,15.0,15.0,15.0,15.0,15.0,15.0,15.0,15.0,15.0,14.0,14.0,13.0,13.0,12.0,12.0,12.0,12.0,12.0,12.0,12.0,12.0,12.0,12.0,null,null,null,2.0,2.0,2.0,null,null,8.0,8.0,8.0,8.0,8.0,8.0,8.0,8.0,8.0,8.0,null,null,null,null,null,null,null,null,null,4.0,4.0,5.0,6.0,null,null,null,null,null,null,null,null,null,null,null,null,null,null,null,null,3.0,2.0,null,null,null,null,null,null,null,null,null,null,null,null,null,null,null,null,null,null,null,null,null,null,null,null,null,null,null,null,null,null,null,null,null,null,null,null,null,null,null,null,null,null,null,null,6.0,21.0,25.0,25.0,27.0,28.0,28.0,29.0,30.0,29.0,29.0,31.0,31.0,30.0,31.0,32.0,32.0,31.0,30.0,30.0,31.0,28.0,27.0,24.0,23.0,23.0,23.0,21.0,21.0,22.0,null,17.0,19.0,19.0,16.0,19.0,20.0,23.0,24.0,24.0,25.0,25.0,26.0,24.0,24.0,24.0,24.0,23.0,21.0,24.0,23.0,23.0,24.0,26.0,27.0,27.0,28.0,29.0,27.0,26.0,23.0,21.0,22.0,22.0,22.0,23.0,25.0,26.0,26.0,25.0,24.0,24.0,25.0,30.0,30.0,30.0,29.0,27.0,28.0,25.0,26.0,25.0,26.0,26.0,26.0,26.0,25.0,26.0,26.0,25.0,25.0,25.0,25.0,25.0,25.0,25.0,24.0,24.0,24.0,24.0,24.0,24.0,24.0,24.0,24.0,25.0,25.0,25.0,26.0,25.0,26.0,26.0,26.0,27.0,28.0,26.0,25.0,24.0,28.0,27.0,27.0,27.0,30.0,30.0,29.0,29.0,26.0,26.0,26.0,26.0,27.0,27.0,27.0,26.0,27.0,25.0,25.0,23.0,23.0,24.0,24.0,25.0,25.0,27.0,27.0,27.0,28.0,27.0,28.0,28.0,26.0,25.0,21.0,21.0,21.0,21.0,21.0,21.0,21.0,21.0,20.0,21.0,21.0,19.0,19.0,19.0,19.0,19.0],[14.0,14.0,null,null,null,null,null,null,null,null,null,null,null,23.0,24.0,24.0,25.0,25.0,26.0,29.0,31.0,31.0,32.0,32.0,31.0,31.0,31.0,31.0,31.0,31.0,32.0,33.0,33.0,32.0,32.0,34.0,33.0,34.0,35.0,32.0,31.0,33.0,33.0,34.0,31.0,29.0,28.0,28.0,29.0,29.0,27.0,27.0,26.0,24.0,24.0,24.0,23.0,23.0,22.0,21.0,18.0,17.0,17.0,17.0,17.0,17.0,16.0,6.0,6.0,16.0,6.0,15.0,16.0,16.0,15.0,15.0,15.0,null,null,null,null,15.0,15.0,15.0,15.0,14.0,14.0,14.0,13.0,12.0,12.0,12.0,12.0,12.0,12.0,12.0,12.0,12.0,12.0,null,null,null,null,8.0,8.0,8.0,8.0,8.0,8.0,8.0,8.0,8.0,8.0,8.0,null,null,null,null,null,null,null,null,null,null,null,null,4.0,4.0,5.0,5.0,null,null,null,null,null,null,null,null,null,null,null,null,null,null,null,null,null,2.0,2.0,2.0,2.0,3.0,3.0,3.0,3.0,null,null,null,null,null,null,null,null,null,null,null,null,null,null,null,null,null,null,null,null,null,null,null,null,null,null,null,null,null,null,null,null,null,null,null,null,null,6.0,8.0,9.0,27.0,27.0,26.0,27.0,28.0,26.0,27.0,29.0,31.0,31.0,32.0,32.0,31.0,32.0,31.0,30.0,27.0,24.0,24.0,21.0,21.0,21.0,20.0,20.0,20.0,null,null,null,17.0,16.0,16.0,16.0,null,3.0,19.0,20.0,20.0,21.0,21.0,21.0,20.0,20.0,20.0,21.0,22.0,22.0,22.0,21.0,22.0,22.0,23.0,22.0,20.0,20.0,19.0,18.0,18.0,18.0,18.0,17.0,17.0,18.0,18.0,19.0,20.0,19.0,21.0,21.0,21.0,21.0,24.0,28.0,29.0,30.0,29.0,27.0,26.0,26.0,25.0,26.0,26.0,26.0,26.0,25.0,25.0,26.0,26.0,25.0,24.0,24.0,24.0,25.0,25.0,25.0,25.0,25.0,25.0,26.0,26.0,25.0,25.0,25.0,25.0,25.0,24.0,24.0,23.0,24.0,24.0,24.0,27.0,26.0,24.0,23.0,22.0,23.0,26.0,26.0,27.0,30.0,30.0,27.0,26.0,24.0,24.0,24.0,25.0,27.0,26.0,25.0,25.0,25.0,24.0,23.0,23.0,23.0,26.0,25.0,25.0,26.0,25.0,26.0,26.0,28.0,28.0,28.0,28.0,27.0,26.0,22.0,22.0,21.0,21.0,21.0,21.0,22.0,22.0,22.0,21.0,20.0,20.0,20.0,20.0,19.0,18.0],[null,null,null,null,null,null,null,null,null,null,null,null,null,null,null,null,22.0,23.0,24.0,24.0,24.0,25.0,25.0,25.0,25.0,26.0,26.0,25.0,25.0,25.0,26.0,25.0,26.0,26.0,27.0,26.0,27.0,26.0,27.0,26.0,23.0,22.0,null,null,20.0,22.0,22.0,22.0,24.0,24.0,23.0,24.0,23.0,20.0,20.0,19.0,19.0,19.0,18.0,17.0,17.0,17.0,17.0,6.0,16.0,6.0,6.0,6.0,6.0,6.0,6.0,6.0,6.0,6.0,6.0,6.0,6.0,6.0,6.0,null,null,2.0,2.0,13.0,13.0,14.0,13.0,13.0,12.0,12.0,null,null,null,null,12.0,12.0,12.0,12.0,12.0,null,8.0,8.0,8.0,8.0,8.0,8.0,8.0,8.0,8.0,8.0,8.0,8.0,8.0,8.0,null,null,null,null,null,null,null,null,null,null,null,1.0,1.0,1.0,5.0,5.0,null,null,null,null,null,null,null,null,null,null,null,null,null,null,null,null,null,null,null,null,null,null,null,null,3.0,3.0,3.0,3.0,null,null,null,null,null,null,null,null,null,null,null,null,null,null,null,null,null,null,null,null,null,null,null,null,null,null,null,null,null,null,null,null,null,null,null,null,null,9.0,9.0,23.0,26.0,26.0,25.0,25.0,25.0,24.0,26.0,27.0,27.0,27.0,29.0,29.0,26.0,23.0,22.0,22.0,21.0,20.0,20.0,null,null,null,null,null,null,null,null,null,null,null,3.0,3.0,3.0,null,null,null,null,null,null,null,6.0,4.0,19.0,19.0,19.0,19.0,19.0,20.0,19.0,13.0,18.0,19.0,19.0,17.0,15.0,12.0,12.0,13.0,15.0,14.0,16.0,16.0,16.0,16.0,19.0,20.0,22.0,25.0,27.0,26.0,27.0,26.0,25.0,25.0,22.0,22.0,23.0,23.0,24.0,24.0,23.0,25.0,25.0,26.0,26.0,26.0,26.0,26.0,26.0,24.0,24.0,25.0,25.0,25.0,25.0,25.0,25.0,25.0,25.0,25.0,25.0,25.0,25.0,25.0,24.0,25.0,26.0,28.0,29.0,26.0,22.0,21.0,21.0,25.0,27.0,30.0,28.0,28.0,24.0,25.0,24.0,21.0,22.0,25.0,25.0,26.0,26.0,25.0,25.0,24.0,24.0,22.0,23.0,23.0,22.0,23.0,24.0,24.0,25.0,24.0,23.0,25.0,26.0,26.0,23.0,21.0,19.0,19.0,19.0,19.0,18.0,18.0,22.0,22.0,21.0,21.0,20.0,20.0,18.0,17.0,17.0,17.0],[3.0,3.0,null,null,null,null,null,null,null,null,null,null,null,null,null,null,null,20.0,20.0,20.0,20.0,20.0,21.0,21.0,22.0,22.0,22.0,21.0,21.0,21.0,20.0,20.0,20.0,20.0,21.0,null,21.0,null,null,null,null,null,null,null,null,null,null,null,null,21.0,21.0,null,19.0,null,null,18.0,null,null,null,null,null,null,6.0,6.0,6.0,6.0,6.0,6.0,6.0,6.0,6.0,6.0,6.0,6.0,6.0,6.0,6.0,6.0,6.0,null,null,null,null,13.0,13.0,13.0,12.0,12.0,null,null,8.0,8.0,8.0,8.0,8.0,8.0,8.0,8.0,8.0,8.0,8.0,8.0,8.0,8.0,8.0,8.0,8.0,8.0,8.0,8.0,8.0,8.0,null,null,null,null,null,null,null,null,null,null,null,null,null,4.0,4.0,4.0,4.0,5.0,null,null,null,null,null,null,null,null,null,null,null,null,null,null,null,null,null,null,null,null,null,4.0,4.0,4.0,3.0,5.0,5.0,5.0,5.0,null,null,null,null,null,null,null,null,null,null,null,2.0,2.0,null,null,null,null,null,null,null,null,null,null,null,null,null,null,null,null,null,null,null,null,null,null,null,null,null,null,6.0,6.0,5.0,21.0,21.0,21.0,22.0,23.0,23.0,25.0,25.0,23.0,20.0,19.0,null,null,null,null,null,null,null,null,null,null,null,null,null,null,null,null,null,null,null,null,null,6.0,6.0,7.0,7.0,7.0,4.0,4.0,4.0,null,null,null,null,null,12.0,14.0,14.0,13.0,13.0,13.0,13.0,11.0,11.0,12.0,12.0,12.0,13.0,14.0,14.0,15.0,16.0,16.0,16.0,17.0,18.0,20.0,20.0,21.0,22.0,22.0,21.0,23.0,25.0,26.0,26.0,25.0,26.0,26.0,25.0,25.0,25.0,24.0,24.0,24.0,23.0,23.0,23.0,23.0,23.0,23.0,25.0,26.0,26.0,25.0,25.0,25.0,25.0,26.0,25.0,24.0,24.0,24.0,25.0,26.0,28.0,27.0,25.0,23.0,22.0,23.0,23.0,23.0,23.0,24.0,23.0,22.0,22.0,21.0,21.0,21.0,22.0,24.0,24.0,24.0,23.0,23.0,23.0,22.0,22.0,22.0,21.0,21.0,22.0,22.0,21.0,22.0,21.0,21.0,20.0,null,null,null,null,null,null,null,null,null,null,null,null,null,null,null,null,null,2.0,2.0],[3.0,3.0,3.0,null,null,null,null,null,null,null,null,null,null,null,null,null,null,null,null,null,null,null,null,18.0,18.0,null,null,null,null,null,null,null,null,null,null,null,null,null,null,null,null,null,null,null,null,null,null,null,null,null,null,null,null,null,6.0,6.0,6.0,6.0,6.0,6.0,6.0,6.0,6.0,6.0,6.0,6.0,6.0,6.0,6.0,6.0,6.0,6.0,6.0,6.0,6.0,6.0,null,null,null,null,5.0,5.0,5.0,13.0,13.0,13.0,13.0,null,null,null,8.0,8.0,8.0,8.0,8.0,8.0,8.0,8.0,8.0,8.0,8.0,8.0,8.0,8.0,8.0,8.0,8.0,8.0,8.0,8.0,null,null,null,null,null,null,null,null,null,null,null,null,null,null,5.0,5.0,5.0,4.0,4.0,null,null,null,null,null,null,null,null,null,null,null,null,null,null,null,null,null,null,null,null,null,null,5.0,5.0,5.0,5.0,5.0,5.0,5.0,5.0,null,null,null,null,null,null,null,null,null,null,null,null,2.0,2.0,null,null,null,null,null,null,null,null,null,null,null,null,null,null,null,null,null,null,null,null,null,null,null,null,null,null,null,null,null,null,1.0,1.0,1.0,1.0,18.0,18.0,null,null,null,null,null,null,null,null,null,null,null,null,null,null,null,null,null,null,null,null,null,null,5.0,6.0,6.0,6.0,6.0,6.0,null,null,null,null,null,null,null,null,null,10.0,11.0,11.0,11.0,12.0,12.0,12.0,10.0,10.0,10.0,10.0,10.0,11.0,12.0,12.0,12.0,12.0,13.0,13.0,12.0,14.0,15.0,16.0,16.0,16.0,16.0,17.0,17.0,19.0,19.0,20.0,21.0,22.0,22.0,22.0,23.0,23.0,23.0,24.0,24.0,24.0,24.0,23.0,23.0,23.0,22.0,23.0,24.0,25.0,25.0,24.0,24.0,23.0,21.0,21.0,22.0,21.0,18.0,19.0,17.0,18.0,20.0,21.0,17.0,null,18.0,19.0,19.0,19.0,18.0,19.0,18.0,18.0,21.0,22.0,21.0,23.0,23.0,23.0,23.0,21.0,20.0,20.0,20.0,20.0,20.0,null,null,null,19.0,19.0,19.0,null,null,null,null,null,null,null,null,null,null,null,null,null,null,null,null,null,null,null,null,2.0,2.0],[null,null,null,null,null,null,null,null,null,null,null,null,null,null,null,null,null,null,null,null,null,null,null,null,null,null,null,null,null,null,null,null,null,null,null,null,null,null,null,null,null,null,null,null,null,null,null,null,null,null,null,null,null,null,6.0,6.0,6.0,6.0,6.0,6.0,6.0,7.0,7.0,6.0,6.0,6.0,6.0,6.0,6.0,6.0,6.0,6.0,6.0,6.0,6.0,null,null,5.0,5.0,5.0,5.0,5.0,5.0,5.0,3.0,12.0,3.0,3.0,null,null,8.0,8.0,8.0,8.0,8.0,8.0,8.0,8.0,8.0,8.0,8.0,8.0,8.0,8.0,8.0,null,null,null,null,null,null,null,null,null,null,null,null,null,null,null,null,null,null,null,4.0,4.0,4.0,null,null,null,null,null,null,null,null,null,null,null,null,null,null,null,null,null,null,null,null,null,null,null,null,5.0,5.0,5.0,5.0,5.0,5.0,5.0,null,null,null,null,null,null,null,null,null,null,null,null,null,null,null,null,null,null,null,null,null,null,null,null,null,null,null,null,null,null,null,null,null,null,null,null,null,null,null,null,null,null,null,null,null,null,null,null,null,null,null,null,null,null,null,null,null,null,null,null,null,null,null,null,null,null,null,null,null,null,null,null,null,5.0,5.0,5.0,5.0,5.0,5.0,null,null,null,null,null,null,null,null,null,null,null,10.0,10.0,10.0,10.0,11.0,null,10.0,10.0,10.0,10.0,10.0,10.0,10.0,9.0,10.0,10.0,10.0,11.0,12.0,13.0,14.0,13.0,13.0,13.0,13.0,14.0,14.0,15.0,16.0,16.0,15.0,14.0,15.0,19.0,19.0,19.0,19.0,17.0,16.0,16.0,16.0,17.0,17.0,18.0,16.0,16.0,17.0,17.0,17.0,17.0,17.0,16.0,16.0,16.0,16.0,15.0,15.0,15.0,17.0,17.0,18.0,16.0,null,null,null,null,null,null,null,null,null,18.0,19.0,18.0,18.0,18.0,19.0,17.0,18.0,18.0,18.0,18.0,null,null,null,null,null,null,null,null,null,null,null,null,null,null,null,null,null,null,null,null,null,null,null,null,null,null,null,null,null,null],[null,null,null,null,null,null,null,null,null,null,null,null,null,null,null,null,null,null,null,null,null,null,null,null,null,null,null,null,null,null,null,null,null,null,null,null,null,null,null,null,null,null,null,null,null,null,null,null,null,null,null,null,null,null,null,6.0,6.0,6.0,6.0,6.0,6.0,6.0,6.0,7.0,7.0,6.0,null,null,null,null,null,null,6.0,6.0,6.0,2.0,null,null,5.0,5.0,5.0,5.0,5.0,null,3.0,3.0,3.0,3.0,3.0,3.0,8.0,8.0,8.0,8.0,8.0,8.0,8.0,8.0,8.0,8.0,3.0,3.0,3.0,3.0,null,null,null,null,null,null,null,null,null,null,null,null,null,null,null,null,null,null,null,3.0,4.0,null,null,null,null,null,null,null,null,null,null,null,null,null,null,null,null,null,null,null,null,null,null,null,null,null,null,null,5.0,5.0,5.0,5.0,5.0,5.0,5.0,5.0,null,null,null,null,null,null,null,null,null,null,null,null,null,null,null,null,null,null,null,null,null,null,null,null,null,null,null,null,null,null,null,null,null,null,null,null,null,null,null,null,null,null,null,null,null,null,null,null,null,null,null,null,null,null,null,null,null,null,null,null,null,null,null,null,null,null,null,null,null,null,null,null,null,5.0,5.0,5.0,5.0,5.0,5.0,null,null,null,null,null,null,null,null,null,null,null,null,null,null,null,null,null,null,null,null,null,9.0,9.0,9.0,9.0,9.0,10.0,11.0,12.0,12.0,12.0,13.0,13.0,13.0,13.0,13.0,13.0,12.0,12.0,12.0,12.0,12.0,12.0,12.0,12.0,13.0,14.0,14.0,13.0,14.0,14.0,14.0,14.0,14.0,14.0,14.0,14.0,14.0,14.0,14.0,14.0,14.0,null,null,15.0,15.0,15.0,16.0,16.0,16.0,15.0,null,null,null,null,null,null,null,null,null,5.0,5.0,5.0,5.0,5.0,null,null,null,null,null,null,null,null,null,null,null,null,null,null,null,null,null,null,null,null,null,null,null,null,null,null,null,null,null,null,null,null,null,null,null,null],[null,null,null,null,null,null,null,null,null,null,null,null,null,null,null,null,null,null,null,null,null,null,null,null,null,null,null,null,null,null,null,null,null,null,null,null,null,null,null,null,null,null,null,null,null,null,null,null,null,null,null,null,null,null,null,6.0,6.0,6.0,6.0,6.0,6.0,6.0,6.0,6.0,null,null,6.0,6.0,6.0,6.0,null,null,null,null,null,null,null,null,null,null,null,null,null,null,3.0,3.0,3.0,3.0,3.0,3.0,3.0,3.0,3.0,3.0,3.0,3.0,3.0,2.0,2.0,2.0,null,null,null,null,null,null,null,null,null,null,null,null,null,null,null,null,null,null,null,null,null,null,3.0,3.0,null,null,null,null,null,null,null,null,null,null,null,null,null,null,null,null,null,null,null,null,null,null,null,null,null,null,null,null,null,null,null,null,null,5.0,5.0,5.0,5.0,5.0,null,null,null,null,null,null,null,null,null,null,null,null,null,null,null,null,null,null,null,null,null,null,null,null,null,null,null,null,null,null,null,null,null,null,null,null,null,null,null,null,null,null,null,null,null,null,null,null,null,null,null,null,null,null,null,null,null,null,null,null,null,null,null,null,null,null,null,null,null,null,null,null,5.0,5.0,5.0,5.0,5.0,5.0,5.0,null,null,null,null,null,null,null,null,null,null,null,null,null,null,null,null,null,null,null,null,null,null,null,null,null,10.0,10.0,11.0,11.0,11.0,11.0,10.0,10.0,10.0,10.0,10.0,11.0,11.0,11.0,11.0,11.0,11.0,11.0,11.0,12.0,12.0,13.0,12.0,13.0,13.0,13.0,9.0,null,null,null,null,null,null,null,null,null,null,null,null,null,null,null,null,null,null,null,null,null,null,null,null,null,4.0,4.0,4.0,4.0,4.0,4.0,null,null,null,4.0,4.0,4.0,4.0,null,null,null,null,null,null,null,null,null,null,null,null,null,null,null,null,null,null,null,null,null,null,null,null,null,null,null,null,null],[null,null,null,null,null,null,null,null,null,null,null,null,null,null,null,null,null,null,null,null,null,null,null,null,null,null,null,null,null,null,null,null,null,null,null,null,null,null,null,null,null,null,null,null,null,null,null,null,null,null,null,null,null,null,null,null,null,null,null,null,5.0,2.0,6.0,6.0,6.0,6.0,6.0,6.0,6.0,6.0,6.0,6.0,6.0,6.0,6.0,1.0,1.0,3.0,3.0,3.0,3.0,3.0,3.0,2.0,2.0,2.0,2.0,3.0,3.0,3.0,3.0,3.0,3.0,3.0,3.0,3.0,3.0,2.0,2.0,2.0,2.0,null,null,null,null,null,null,null,null,null,null,null,null,4.0,null,null,null,null,null,null,3.0,3.0,null,null,null,null,null,null,null,null,null,null,null,null,null,null,null,null,null,null,null,null,null,null,null,null,null,null,null,null,null,null,null,null,null,null,null,5.0,5.0,5.0,5.0,null,null,null,null,null,null,null,null,null,null,null,null,null,null,null,null,null,null,null,null,null,null,null,null,null,null,null,null,null,null,null,null,null,null,null,null,null,null,null,null,null,null,null,null,null,null,null,null,null,null,null,null,null,null,null,null,null,null,null,null,null,null,null,null,null,null,null,null,null,null,null,null,null,null,5.0,5.0,5.0,5.0,5.0,5.0,5.0,5.0,5.0,5.0,5.0,5.0,null,null,null,null,null,null,null,null,null,null,null,null,null,null,null,null,null,null,null,null,null,9.0,9.0,9.0,9.0,9.0,9.0,9.0,9.0,9.0,9.0,9.0,9.0,9.0,9.0,9.0,9.0,10.0,9.0,9.0,8.0,8.0,8.0,8.0,9.0,9.0,9.0,null,null,null,null,null,null,null,null,null,null,null,null,null,null,null,null,null,null,null,null,null,null,null,4.0,4.0,4.0,4.0,4.0,4.0,4.0,4.0,4.0,4.0,4.0,4.0,4.0,4.0,null,null,null,null,null,null,null,null,null,null,null,null,null,null,null,null,null,null,null,null,null,null,null,null,null,null,null,null,null],[null,null,null,null,null,null,null,null,null,null,null,null,null,null,null,null,null,null,null,null,null,null,null,null,null,null,null,null,null,null,null,null,null,null,null,null,null,null,null,null,null,null,null,null,null,null,null,null,null,null,null,null,null,null,null,null,null,null,5.0,5.0,5.0,5.0,5.0,7.0,7.0,6.0,6.0,null,null,null,6.0,6.0,null,null,null,null,1.0,3.0,3.0,3.0,3.0,3.0,3.0,3.0,3.0,3.0,3.0,3.0,3.0,3.0,6.0,6.0,6.0,6.0,6.0,6.0,6.0,6.0,6.0,6.0,6.0,6.0,null,null,null,null,null,null,4.0,4.0,5.0,5.0,5.0,4.0,4.0,4.0,4.0,4.0,null,3.0,null,null,null,null,null,null,null,null,null,null,null,null,null,null,null,null,null,null,null,null,null,null,null,null,null,null,null,null,null,null,null,null,null,null,null,5.0,5.0,5.0,5.0,5.0,5.0,5.0,null,null,null,null,null,null,null,null,null,null,null,null,null,null,null,null,null,null,null,null,null,null,null,null,null,null,null,null,null,null,null,null,null,1.0,1.0,1.0,null,null,null,null,null,null,null,null,null,null,null,null,null,null,null,null,null,null,null,null,null,null,null,null,null,null,null,null,null,null,null,null,null,null,null,null,null,null,null,null,null,null,5.0,5.0,5.0,5.0,5.0,5.0,5.0,5.0,5.0,null,null,null,null,null,null,null,null,null,null,null,null,null,null,null,null,null,null,null,null,null,null,null,null,8.0,8.0,8.0,8.0,8.0,8.0,8.0,8.0,8.0,8.0,8.0,8.0,8.0,8.0,8.0,8.0,8.0,8.0,8.0,8.0,8.0,null,null,null,null,null,null,null,null,null,null,null,null,null,null,null,null,null,null,null,null,null,null,null,null,4.0,4.0,4.0,4.0,null,null,null,null,null,null,null,null,null,null,null,null,null,null,null,null,null,null,null,null,null,null,null,null,null,null,null,null,null,null,null,null,null,null,null,null,null,null],[null,null,null,null,null,null,null,null,null,null,null,null,null,null,null,null,null,null,null,null,null,null,null,null,null,null,null,null,null,null,null,null,null,null,null,null,null,null,null,null,null,null,null,null,null,null,null,null,null,null,null,null,null,null,null,null,null,null,null,null,5.0,5.0,5.0,5.0,5.0,1.0,3.0,3.0,3.0,3.0,null,null,null,null,2.0,2.0,null,null,null,2.0,2.0,null,null,3.0,3.0,null,null,null,null,null,1.0,6.0,6.0,6.0,6.0,6.0,6.0,6.0,6.0,6.0,6.0,6.0,5.0,5.0,null,null,null,4.0,4.0,5.0,5.0,5.0,4.0,4.0,null,null,null,null,null,null,null,null,null,null,null,null,null,null,null,null,null,null,null,null,null,null,null,null,null,null,null,null,null,null,null,null,null,null,null,null,null,null,null,null,null,null,5.0,null,5.0,5.0,5.0,5.0,null,null,null,null,null,null,null,null,null,null,null,null,null,null,null,null,null,null,null,null,null,null,null,null,null,null,null,null,null,null,null,2.0,2.0,2.0,2.0,2.0,2.0,null,2.0,2.0,2.0,2.0,1.0,null,null,null,null,null,null,null,null,null,null,null,null,null,null,null,null,null,null,null,null,null,null,null,null,null,null,null,null,null,null,null,null,null,null,null,null,null,null,null,null,null,null,null,null,null,null,null,null,null,null,null,null,null,null,null,null,null,null,null,null,null,null,null,null,null,null,null,null,null,null,null,null,null,null,null,null,8.0,8.0,8.0,8.0,8.0,8.0,8.0,null,null,null,null,null,null,null,null,null,null,null,null,null,null,null,null,null,null,null,null,null,null,null,null,null,null,null,null,null,null,null,null,null,null,null,null,null,null,null,null,null,null,null,null,null,null,null,null,null,null,null,null,null,null,null,null,null,null,null,null,null,null,null,null,null,null,null,null,null,null,null,null],[null,null,null,null,null,null,null,null,null,null,null,null,null,null,null,null,null,null,null,null,null,null,null,null,null,null,null,null,null,null,null,null,null,null,null,null,null,null,null,null,null,null,null,null,null,null,null,null,null,null,null,null,null,null,null,null,null,null,null,null,null,null,null,null,null,null,3.0,3.0,3.0,3.0,3.0,null,null,null,null,2.0,2.0,2.0,2.0,2.0,2.0,3.0,3.0,3.0,3.0,null,4.0,4.0,4.0,4.0,4.0,4.0,7.0,7.0,6.0,6.0,6.0,6.0,6.0,6.0,6.0,5.0,5.0,5.0,5.0,null,null,6.0,6.0,6.0,6.0,6.0,6.0,5.0,null,null,null,null,null,null,null,null,null,null,null,null,null,null,null,null,null,null,null,null,null,null,null,null,null,null,null,null,null,null,null,null,null,null,null,null,null,null,null,null,null,null,null,null,5.0,5.0,5.0,null,null,null,null,null,null,null,null,null,null,null,null,null,null,null,null,null,null,null,null,null,null,null,null,null,null,null,null,null,null,2.0,2.0,2.0,2.0,2.0,2.0,2.0,2.0,2.0,2.0,2.0,2.0,2.0,null,null,1.0,1.0,null,null,null,null,null,null,null,null,null,null,null,null,null,null,null,null,null,null,null,null,null,null,null,null,null,null,null,null,null,null,null,null,null,null,null,null,null,null,null,null,null,null,null,null,null,null,null,null,null,null,null,null,null,null,null,null,null,null,null,null,null,null,null,null,null,null,null,null,null,1.0,1.0,3.0,3.0,3.0,3.0,3.0,3.0,null,null,null,null,null,null,null,null,null,null,null,null,null,null,null,null,null,null,null,null,null,null,null,null,null,null,null,null,null,null,null,null,null,null,null,null,null,null,null,null,null,null,null,null,null,null,null,null,null,null,null,null,null,null,null,null,null,null,null,null,null,null,null,null,null,null,null,null,null,null,null,null,null,null,null],[null,null,null,null,null,null,null,null,null,null,null,null,null,null,null,null,null,null,null,null,null,null,null,null,null,null,null,null,null,null,null,null,null,null,null,null,null,null,null,null,null,null,null,null,null,null,null,null,null,null,null,null,null,null,null,null,null,null,null,null,null,null,null,null,null,null,null,null,null,null,null,null,null,null,2.0,2.0,2.0,2.0,2.0,2.0,2.0,2.0,null,4.0,4.0,4.0,4.0,4.0,4.0,4.0,4.0,4.0,4.0,7.0,7.0,7.0,6.0,6.0,6.0,6.0,6.0,6.0,6.0,5.0,5.0,5.0,5.0,5.0,5.0,null,null,6.0,6.0,6.0,null,5.0,null,null,null,null,null,null,null,null,null,null,null,null,null,null,null,null,null,null,null,null,null,null,null,null,null,null,null,null,null,null,null,null,null,null,null,null,null,null,null,null,null,null,5.0,5.0,5.0,5.0,5.0,null,null,null,null,null,null,null,null,null,null,null,null,null,null,null,null,null,null,null,null,null,null,null,null,null,null,null,2.0,2.0,2.0,2.0,2.0,2.0,2.0,1.0,2.0,2.0,2.0,1.0,1.0,1.0,1.0,1.0,1.0,1.0,null,null,null,null,null,null,null,null,null,null,null,null,null,null,null,null,null,null,null,null,null,null,null,null,null,null,null,null,null,null,null,null,null,null,null,null,null,null,null,null,null,null,null,null,null,null,null,null,null,null,null,null,null,null,null,null,null,null,null,null,null,null,null,null,1.0,1.0,1.0,1.0,1.0,1.0,1.0,1.0,2.0,3.0,3.0,3.0,3.0,null,null,null,null,null,null,null,null,null,null,null,null,null,null,null,null,null,null,null,null,null,null,null,null,null,null,null,null,null,null,null,null,null,null,null,null,null,null,null,null,null,null,null,null,null,null,null,null,null,null,null,null,null,null,null,null,null,null,null,null,null,null,null,null,null,null,null,null,null,null,null,null,null,null,null],[null,null,null,null,null,null,null,null,null,null,null,null,null,null,null,null,null,null,null,null,null,null,null,null,null,null,null,null,null,null,null,null,null,null,null,null,null,null,null,null,null,null,null,null,null,null,null,null,null,null,null,null,null,null,null,null,null,null,null,null,null,null,null,null,null,null,null,null,null,null,null,null,null,null,null,null,null,null,null,null,2.0,null,null,null,4.0,4.0,4.0,4.0,4.0,4.0,7.0,7.0,7.0,6.0,6.0,6.0,6.0,6.0,6.0,6.0,6.0,6.0,6.0,6.0,6.0,6.0,5.0,5.0,5.0,5.0,5.0,5.0,7.0,7.0,5.0,5.0,5.0,5.0,5.0,5.0,5.0,null,null,null,null,null,null,null,null,null,null,null,null,null,null,null,null,null,null,null,null,null,null,null,null,null,null,null,null,null,null,null,5.0,5.0,5.0,5.0,5.0,5.0,5.0,5.0,5.0,5.0,5.0,5.0,5.0,null,null,null,null,null,null,null,null,null,null,null,null,null,null,null,null,null,null,null,null,null,null,null,null,null,null,null,null,null,null,null,1.0,2.0,2.0,2.0,2.0,1.0,1.0,1.0,1.0,1.0,1.0,1.0,null,null,null,null,null,null,null,null,null,null,null,null,null,null,null,null,null,null,null,null,null,null,null,null,null,null,null,null,null,null,null,null,null,null,null,null,null,null,null,null,null,null,null,null,null,null,null,null,null,null,null,null,null,null,null,null,null,null,null,null,null,null,null,null,null,1.0,1.0,1.0,1.0,null,null,null,null,null,null,null,null,null,null,null,null,null,null,null,null,null,null,null,null,null,null,null,null,null,null,null,null,null,null,null,null,null,null,null,null,null,null,null,null,null,null,null,null,null,null,null,null,null,null,null,null,null,null,null,null,null,null,null,null,null,null,null,null,null,null,null,null,null,null,null,null,null,null,null,null,null,null,null,null,null,null,null],[null,null,null,null,null,null,null,null,null,null,null,null,null,null,null,null,null,null,null,null,null,null,null,null,null,null,null,null,null,null,null,null,null,null,null,null,null,null,null,null,null,null,null,null,null,null,null,null,null,null,null,null,null,null,null,null,null,null,null,null,null,null,null,null,null,null,null,null,null,null,null,null,null,null,null,null,null,null,null,null,null,null,null,null,null,null,4.0,4.0,7.0,6.0,6.0,6.0,6.0,6.0,6.0,6.0,6.0,6.0,6.0,6.0,6.0,6.0,6.0,6.0,6.0,6.0,5.0,5.0,5.0,5.0,5.0,5.0,5.0,5.0,5.0,7.0,7.0,7.0,5.0,5.0,5.0,5.0,6.0,6.0,6.0,6.0,6.0,6.0,6.0,6.0,6.0,6.0,6.0,6.0,5.0,5.0,5.0,null,null,null,null,null,null,null,5.0,5.0,5.0,5.0,5.0,5.0,5.0,5.0,5.0,5.0,5.0,5.0,5.0,5.0,5.0,5.0,4.0,5.0,5.0,null,null,5.0,null,null,null,null,null,null,null,null,null,null,null,null,null,null,null,null,null,null,null,null,null,null,null,null,null,null,null,null,null,null,null,null,null,null,null,null,null,null,null,null,null,null,null,null,null,null,null,null,null,null,null,null,null,null,null,null,null,null,null,null,null,null,null,null,null,null,null,null,null,null,null,null,null,null,null,null,null,null,null,null,null,null,null,null,null,null,null,null,null,null,null,null,null,null,null,null,null,null,null,null,null,null,null,null,null,null,null,null,null,null,null,null,null,null,null,null,null,null,null,null,null,null,null,null,null,null,null,null,null,null,null,null,null,null,null,null,null,null,null,null,null,null,null,null,null,null,null,null,null,null,null,null,null,null,null,null,null,null,null,null,null,null,null,null,null,null,null,null,null,null,null,null,null,null,null,null,null,null,null,null,null,null,null,null,null,null,null,null,null,null,null,null,null,null],[null,null,null,null,null,null,null,null,null,null,null,null,null,null,null,null,null,null,null,null,null,null,null,null,null,null,null,null,null,null,null,null,null,null,null,null,null,null,null,null,null,null,null,null,null,null,null,null,null,null,null,null,null,null,null,null,null,null,null,null,null,null,null,null,null,null,null,null,null,null,null,null,null,null,null,null,null,null,null,null,null,null,null,null,null,null,null,null,null,null,null,null,6.0,6.0,6.0,6.0,6.0,6.0,6.0,6.0,6.0,6.0,6.0,6.0,6.0,6.0,6.0,6.0,5.0,5.0,5.0,5.0,5.0,5.0,5.0,5.0,5.0,5.0,5.0,null,5.0,5.0,6.0,6.0,6.0,6.0,6.0,6.0,6.0,6.0,6.0,6.0,6.0,6.0,6.0,6.0,6.0,6.0,6.0,6.0,6.0,5.0,null,null,5.0,5.0,5.0,5.0,5.0,5.0,5.0,5.0,5.0,5.0,5.0,5.0,5.0,5.0,null,null,null,null,null,null,null,null,null,null,null,null,null,null,null,null,null,null,null,null,null,null,null,null,null,null,null,null,null,null,null,null,null,null,null,null,null,null,null,null,null,null,null,null,null,null,null,null,null,null,null,null,null,null,null,null,null,null,null,null,null,null,null,null,null,null,null,null,null,null,null,null,null,null,null,null,null,null,null,null,null,null,null,null,null,null,null,null,null,null,null,null,null,null,null,null,null,null,null,null,null,null,null,null,null,null,null,null,null,null,null,null,null,null,null,null,null,null,null,null,null,null,null,null,null,null,null,null,null,null,null,null,null,null,null,null,null,null,null,null,null,null,null,null,null,null,null,null,null,null,null,null,null,null,null,null,null,null,null,null,null,null,null,null,null,null,null,null,null,null,null,null,null,null,null,null,null,null,null,null,null,null,null,null,null,null,null,null,null,null,null,null,null,null,null,null,null,null,null,null,null,null],[null,null,null,null,null,null,null,null,null,null,null,null,null,null,null,null,null,null,null,null,null,null,null,null,null,null,null,null,null,null,null,null,null,null,null,null,null,null,null,null,null,null,null,null,null,null,null,null,null,null,null,null,null,null,null,null,null,null,null,null,null,null,null,null,null,null,null,null,null,null,null,null,null,null,null,null,null,null,null,null,null,null,null,null,null,null,null,null,null,null,null,null,null,null,null,null,null,null,null,null,null,null,null,null,null,null,null,null,null,null,null,null,null,null,null,null,null,null,null,null,null,null,null,null,null,null,null,null,null,null,null,null,null,1.0,6.0,6.0,6.0,6.0,6.0,6.0,5.0,5.0,5.0,5.0,5.0,5.0,5.0,5.0,5.0,5.0,5.0,5.0,5.0,5.0,5.0,null,null,null,null,null,null,null,null,null,null,null,null,null,null,null,null,null,null,null,null,null,null,null,null,null,null,null,null,null,null,null,null,null,null,null,null,null,null,null,null,null,null,null,null,null,null,null,null,null,null,null,null,null,null,null,null,null,null,null,null,null,null,null,null,null,null,null,null,null,null,null,null,null,null,null,null,null,null,null,null,null,null,null,null,null,null,null,null,null,null,null,null,null,null,null,null,null,null,null,null,null,null,null,null,null,null,null,null,null,null,null,null,null,null,null,null,null,null,null,null,null,null,null,null,null,null,null,null,null,null,null,null,null,null,null,null,null,null,null,null,null,null,null,null,null,null,null,null,null,null,null,null,null,null,null,null,null,null,null,null,null,null,null,null,null,null,null,null,null,null,null,null,null,null,null,null,null,null,null,null,null,null,null,null,null,null,null,null,null,null,null,null,null,null,null,null,null,null,null,null,null,null,null,null,null]],\"x\":[1,2,3,4,5,6,7,8,9,10,11,12,13,14,15,16,17,18,19,20,21,22,23,24,25,26,27,28,29,30,31,32,33,34,35,36,37,38,39,40,41,42,43,44,45,46,47,48,49,50,51,52,53,54,55,56,57,58,59,60,61,62,63,64,65,66,67,68,69,70,71,72,73,74,75,76,77,78,79,80,81,82,83,84,85,86,87,88,89,90,91,92,93,94,95,96,97,98,99,100,101,102,103,104,105,106,107,108,109,110,111,112,113,114,115,116,117,118,119,120,121,122,123,124,125,126,127,128,129,130,131,132,133,134,135,136,137,138,139,140,141,142,143,144,145,146,147,148,149,150,151,152,153,154,155,156,157,158,159,160,161,162,163,164,165,166,167,168,169,170,171,172,173,174,175,176,177,178,179,180,181,182,183,184,185,186,187,188,189,190,191,192,193,194,195,196,197,198,199,200,201,202,203,204,205,206,207,208,209,210,211,212,213,214,215,216,217,218,219,220,221,222,223,224,225,226,227,228,229,230,231,232,233,234,235,236,237,238,239,240,241,242,243,244,245,246,247,248,249,250,251,252,253,254,255,256,257,258,259,260,261,262,263,264,265,266,267,268,269,270,271,272,273,274,275,276,277,278,279,280,281,282,283,284,285,286,287,288,289,290,291,292,293,294,295,296,297,298,299,300,301,302,303,304,305,306,307,308,309,310,311,312,313,314,315,316,317,318,319,320,321,322,323,324,325,326,327,328,329,330,331,332,333,334,335,336,337,338,339,340,341,342,343,344,345,346,347,348,349,350,351,352,353,354,355,356,357,358,359,360]}],\n",
       "               {\"yaxis\":{\"type\":\"-\",\"titlefont\":{\"size\":15,\"color\":\"rgba(0, 0, 0, 1.000)\",\"family\":\"Helvetica\"},\"title\":\"\",\"tickfont\":{\"size\":11,\"color\":\"rgba(0, 0, 0, 1.000)\",\"family\":\"Helvetica\"},\"tickmode\":\"array\",\"showgrid\":false,\"tickvals\":[50.0,100.0],\"domain\":[0.057305336832895896,0.9901574803149605],\"ticktext\":[\"50\",\"100\"],\"zeroline\":false,\"linecolor\":\"rgba(0, 0, 0, 1.000)\",\"tickcolor\":\"rgba(0, 0, 0, 1.000)\",\"anchor\":\"x\"},\"annotations\":[],\"width\":600,\"plot_bgcolor\":\"rgba(255, 255, 255, 1.000)\",\"showlegend\":true,\"legend\":{\"bgcolor\":\"rgba(255, 255, 255, 1.000)\",\"font\":{\"size\":11,\"color\":\"rgba(0, 0, 0, 1.000)\",\"family\":\"Helvetica\"},\"bordercolor\":\"rgba(0, 0, 0, 1.000)\"},\"xaxis\":{\"type\":\"-\",\"titlefont\":{\"size\":15,\"color\":\"rgba(0, 0, 0, 1.000)\",\"family\":\"Helvetica\"},\"title\":\"\",\"tickfont\":{\"size\":11,\"color\":\"rgba(0, 0, 0, 1.000)\",\"family\":\"Helvetica\"},\"tickmode\":\"array\",\"showgrid\":false,\"tickvals\":[100.0,200.0,300.0],\"domain\":[0.05905511811023622,0.9934383202099738],\"ticktext\":[\"100\",\"200\",\"300\"],\"zeroline\":false,\"linecolor\":\"rgba(0, 0, 0, 1.000)\",\"tickcolor\":\"rgba(0, 0, 0, 1.000)\",\"anchor\":\"y\"},\"paper_bgcolor\":\"rgba(255, 255, 255, 1.000)\",\"margin\":{\"r\":0,\"l\":0,\"b\":0,\"t\":20},\"height\":400}, {showLink: false});\n",
       "\n",
       " </script>\n",
       "\n",
       "</body>\n",
       "</html>\n"
      ]
     },
     "execution_count": 31,
     "metadata": {},
     "output_type": "execute_result"
    }
   ],
   "source": [
    "x = convert_to_image(richness(mam), mam.site)\n",
    "heatmap(x, aspect_ratio = :equal, grid = false) #so far only works in plotlyjs()"
   ]
  },
  {
   "cell_type": "code",
   "execution_count": null,
   "metadata": {
    "collapsed": true
   },
   "outputs": [],
   "source": []
  },
  {
   "cell_type": "code",
   "execution_count": null,
   "metadata": {
    "collapsed": true
   },
   "outputs": [],
   "source": []
  },
  {
   "cell_type": "code",
   "execution_count": null,
   "metadata": {
    "collapsed": true
   },
   "outputs": [],
   "source": []
  },
  {
   "cell_type": "code",
   "execution_count": null,
   "metadata": {
    "collapsed": true
   },
   "outputs": [],
   "source": []
  },
  {
   "cell_type": "code",
   "execution_count": null,
   "metadata": {
    "collapsed": true
   },
   "outputs": [],
   "source": []
  },
  {
   "cell_type": "code",
   "execution_count": null,
   "metadata": {
    "collapsed": true
   },
   "outputs": [],
   "source": []
  },
  {
   "cell_type": "code",
   "execution_count": null,
   "metadata": {
    "collapsed": true
   },
   "outputs": [],
   "source": []
  },
  {
   "cell_type": "code",
   "execution_count": null,
   "metadata": {
    "collapsed": true
   },
   "outputs": [],
   "source": []
  },
  {
   "cell_type": "code",
   "execution_count": null,
   "metadata": {
    "collapsed": true
   },
   "outputs": [],
   "source": []
  },
  {
   "cell_type": "code",
   "execution_count": null,
   "metadata": {
    "collapsed": true
   },
   "outputs": [],
   "source": []
  },
  {
   "cell_type": "code",
   "execution_count": null,
   "metadata": {
    "collapsed": true
   },
   "outputs": [],
   "source": []
  },
  {
   "cell_type": "code",
   "execution_count": null,
   "metadata": {
    "collapsed": true
   },
   "outputs": [],
   "source": []
  },
  {
   "cell_type": "code",
   "execution_count": null,
   "metadata": {
    "collapsed": true
   },
   "outputs": [],
   "source": []
  },
  {
   "cell_type": "code",
   "execution_count": null,
   "metadata": {
    "collapsed": true
   },
   "outputs": [],
   "source": []
  },
  {
   "cell_type": "code",
   "execution_count": null,
   "metadata": {
    "collapsed": true
   },
   "outputs": [],
   "source": []
  },
  {
   "cell_type": "code",
   "execution_count": null,
   "metadata": {
    "collapsed": true
   },
   "outputs": [],
   "source": []
  },
  {
   "cell_type": "code",
   "execution_count": null,
   "metadata": {
    "collapsed": true
   },
   "outputs": [],
   "source": []
  },
  {
   "cell_type": "code",
   "execution_count": null,
   "metadata": {
    "collapsed": true
   },
   "outputs": [],
   "source": []
  },
  {
   "cell_type": "code",
   "execution_count": null,
   "metadata": {
    "collapsed": true
   },
   "outputs": [],
   "source": []
  },
  {
   "cell_type": "code",
   "execution_count": null,
   "metadata": {
    "collapsed": true
   },
   "outputs": [],
   "source": []
  },
  {
   "cell_type": "code",
   "execution_count": null,
   "metadata": {
    "collapsed": true
   },
   "outputs": [],
   "source": []
  },
  {
   "cell_type": "code",
   "execution_count": null,
   "metadata": {
    "collapsed": true
   },
   "outputs": [],
   "source": []
  },
  {
   "cell_type": "code",
   "execution_count": null,
   "metadata": {
    "collapsed": true
   },
   "outputs": [],
   "source": []
  },
  {
   "cell_type": "code",
   "execution_count": null,
   "metadata": {
    "collapsed": true
   },
   "outputs": [],
   "source": []
  },
  {
   "cell_type": "code",
   "execution_count": null,
   "metadata": {
    "collapsed": true
   },
   "outputs": [],
   "source": []
  },
  {
   "cell_type": "code",
   "execution_count": null,
   "metadata": {
    "collapsed": true
   },
   "outputs": [],
   "source": []
  },
  {
   "cell_type": "code",
   "execution_count": null,
   "metadata": {
    "collapsed": true
   },
   "outputs": [],
   "source": []
  },
  {
   "cell_type": "code",
   "execution_count": null,
   "metadata": {
    "collapsed": true
   },
   "outputs": [],
   "source": []
  },
  {
   "cell_type": "code",
   "execution_count": null,
   "metadata": {
    "collapsed": true
   },
   "outputs": [],
   "source": []
  },
  {
   "cell_type": "code",
   "execution_count": null,
   "metadata": {
    "collapsed": true
   },
   "outputs": [],
   "source": []
  },
  {
   "cell_type": "code",
   "execution_count": null,
   "metadata": {
    "collapsed": true
   },
   "outputs": [],
   "source": []
  },
  {
   "cell_type": "code",
   "execution_count": null,
   "metadata": {
    "collapsed": true
   },
   "outputs": [],
   "source": []
  },
  {
   "cell_type": "code",
   "execution_count": null,
   "metadata": {
    "collapsed": true
   },
   "outputs": [],
   "source": []
  },
  {
   "cell_type": "code",
   "execution_count": null,
   "metadata": {
    "collapsed": true
   },
   "outputs": [],
   "source": []
  },
  {
   "cell_type": "code",
   "execution_count": null,
   "metadata": {
    "collapsed": true
   },
   "outputs": [],
   "source": []
  },
  {
   "cell_type": "code",
   "execution_count": null,
   "metadata": {
    "collapsed": true
   },
   "outputs": [],
   "source": []
  },
  {
   "cell_type": "code",
   "execution_count": null,
   "metadata": {
    "collapsed": true
   },
   "outputs": [],
   "source": []
  },
  {
   "cell_type": "code",
   "execution_count": null,
   "metadata": {
    "collapsed": true
   },
   "outputs": [],
   "source": []
  },
  {
   "cell_type": "code",
   "execution_count": null,
   "metadata": {
    "collapsed": true
   },
   "outputs": [],
   "source": []
  },
  {
   "cell_type": "code",
   "execution_count": null,
   "metadata": {
    "collapsed": true
   },
   "outputs": [],
   "source": []
  },
  {
   "cell_type": "code",
   "execution_count": null,
   "metadata": {
    "collapsed": true
   },
   "outputs": [],
   "source": []
  },
  {
   "cell_type": "code",
   "execution_count": null,
   "metadata": {
    "collapsed": true
   },
   "outputs": [],
   "source": []
  },
  {
   "cell_type": "code",
   "execution_count": null,
   "metadata": {
    "collapsed": true
   },
   "outputs": [],
   "source": []
  },
  {
   "cell_type": "code",
   "execution_count": null,
   "metadata": {
    "collapsed": true
   },
   "outputs": [],
   "source": []
  },
  {
   "cell_type": "code",
   "execution_count": null,
   "metadata": {
    "collapsed": true
   },
   "outputs": [],
   "source": []
  },
  {
   "cell_type": "code",
   "execution_count": null,
   "metadata": {
    "collapsed": true
   },
   "outputs": [],
   "source": []
  },
  {
   "cell_type": "code",
   "execution_count": null,
   "metadata": {
    "collapsed": true
   },
   "outputs": [],
   "source": []
  },
  {
   "cell_type": "code",
   "execution_count": null,
   "metadata": {
    "collapsed": true
   },
   "outputs": [],
   "source": []
  },
  {
   "cell_type": "code",
   "execution_count": null,
   "metadata": {
    "collapsed": true
   },
   "outputs": [],
   "source": []
  },
  {
   "cell_type": "code",
   "execution_count": null,
   "metadata": {
    "collapsed": true
   },
   "outputs": [],
   "source": []
  },
  {
   "cell_type": "code",
   "execution_count": null,
   "metadata": {
    "collapsed": true
   },
   "outputs": [],
   "source": []
  },
  {
   "cell_type": "code",
   "execution_count": null,
   "metadata": {
    "collapsed": true
   },
   "outputs": [],
   "source": []
  },
  {
   "cell_type": "code",
   "execution_count": null,
   "metadata": {
    "collapsed": true
   },
   "outputs": [],
   "source": []
  },
  {
   "cell_type": "code",
   "execution_count": null,
   "metadata": {
    "collapsed": true
   },
   "outputs": [],
   "source": []
  },
  {
   "cell_type": "code",
   "execution_count": null,
   "metadata": {
    "collapsed": true
   },
   "outputs": [],
   "source": []
  },
  {
   "cell_type": "code",
   "execution_count": null,
   "metadata": {
    "collapsed": true
   },
   "outputs": [],
   "source": []
  },
  {
   "cell_type": "code",
   "execution_count": null,
   "metadata": {
    "collapsed": true
   },
   "outputs": [],
   "source": []
  },
  {
   "cell_type": "code",
   "execution_count": null,
   "metadata": {
    "collapsed": true
   },
   "outputs": [],
   "source": []
  },
  {
   "cell_type": "code",
   "execution_count": null,
   "metadata": {
    "collapsed": true
   },
   "outputs": [],
   "source": []
  },
  {
   "cell_type": "code",
   "execution_count": null,
   "metadata": {
    "collapsed": true
   },
   "outputs": [],
   "source": []
  },
  {
   "cell_type": "code",
   "execution_count": null,
   "metadata": {
    "collapsed": true
   },
   "outputs": [],
   "source": []
  },
  {
   "cell_type": "code",
   "execution_count": null,
   "metadata": {
    "collapsed": true
   },
   "outputs": [],
   "source": []
  },
  {
   "cell_type": "code",
   "execution_count": null,
   "metadata": {
    "collapsed": true
   },
   "outputs": [],
   "source": []
  },
  {
   "cell_type": "code",
   "execution_count": null,
   "metadata": {
    "collapsed": true
   },
   "outputs": [],
   "source": []
  },
  {
   "cell_type": "code",
   "execution_count": null,
   "metadata": {
    "collapsed": true
   },
   "outputs": [],
   "source": []
  },
  {
   "cell_type": "code",
   "execution_count": null,
   "metadata": {
    "collapsed": true
   },
   "outputs": [],
   "source": []
  },
  {
   "cell_type": "code",
   "execution_count": null,
   "metadata": {
    "collapsed": true
   },
   "outputs": [],
   "source": []
  },
  {
   "cell_type": "code",
   "execution_count": null,
   "metadata": {
    "collapsed": true
   },
   "outputs": [],
   "source": []
  },
  {
   "cell_type": "code",
   "execution_count": null,
   "metadata": {
    "collapsed": true
   },
   "outputs": [],
   "source": []
  },
  {
   "cell_type": "code",
   "execution_count": null,
   "metadata": {
    "collapsed": true
   },
   "outputs": [],
   "source": []
  },
  {
   "cell_type": "code",
   "execution_count": null,
   "metadata": {
    "collapsed": true
   },
   "outputs": [],
   "source": []
  },
  {
   "cell_type": "code",
   "execution_count": null,
   "metadata": {
    "collapsed": true
   },
   "outputs": [],
   "source": []
  },
  {
   "cell_type": "code",
   "execution_count": null,
   "metadata": {
    "collapsed": true
   },
   "outputs": [],
   "source": []
  },
  {
   "cell_type": "code",
   "execution_count": null,
   "metadata": {
    "collapsed": true
   },
   "outputs": [],
   "source": []
  },
  {
   "cell_type": "code",
   "execution_count": null,
   "metadata": {
    "collapsed": true
   },
   "outputs": [],
   "source": []
  },
  {
   "cell_type": "code",
   "execution_count": null,
   "metadata": {
    "collapsed": true
   },
   "outputs": [],
   "source": []
  },
  {
   "cell_type": "code",
   "execution_count": null,
   "metadata": {
    "collapsed": true
   },
   "outputs": [],
   "source": []
  },
  {
   "cell_type": "code",
   "execution_count": null,
   "metadata": {
    "collapsed": true
   },
   "outputs": [],
   "source": []
  },
  {
   "cell_type": "code",
   "execution_count": null,
   "metadata": {
    "collapsed": true
   },
   "outputs": [],
   "source": []
  },
  {
   "cell_type": "code",
   "execution_count": null,
   "metadata": {
    "collapsed": true
   },
   "outputs": [],
   "source": []
  },
  {
   "cell_type": "code",
   "execution_count": null,
   "metadata": {
    "collapsed": true
   },
   "outputs": [],
   "source": []
  },
  {
   "cell_type": "code",
   "execution_count": null,
   "metadata": {
    "collapsed": true
   },
   "outputs": [],
   "source": []
  },
  {
   "cell_type": "code",
   "execution_count": null,
   "metadata": {
    "collapsed": true
   },
   "outputs": [],
   "source": []
  },
  {
   "cell_type": "code",
   "execution_count": null,
   "metadata": {
    "collapsed": true
   },
   "outputs": [],
   "source": []
  },
  {
   "cell_type": "code",
   "execution_count": null,
   "metadata": {
    "collapsed": true
   },
   "outputs": [],
   "source": []
  },
  {
   "cell_type": "code",
   "execution_count": null,
   "metadata": {
    "collapsed": true
   },
   "outputs": [],
   "source": []
  },
  {
   "cell_type": "code",
   "execution_count": null,
   "metadata": {
    "collapsed": true
   },
   "outputs": [],
   "source": []
  },
  {
   "cell_type": "code",
   "execution_count": null,
   "metadata": {
    "collapsed": true
   },
   "outputs": [],
   "source": []
  },
  {
   "cell_type": "code",
   "execution_count": 13,
   "metadata": {
    "collapsed": false
   },
   "outputs": [
    {
     "name": "stderr",
     "output_type": "stream",
     "text": [
      "INFO: Precompiling module Grid.\n"
     ]
    }
   ],
   "source": [
    "using Grid"
   ]
  },
  {
   "cell_type": "code",
   "execution_count": 18,
   "metadata": {
    "collapsed": false
   },
   "outputs": [
    {
     "data": {
      "text/plain": [
       "17535×2 Named Array{Float64,2}\n",
       "A ╲ B │  Long    Lat\n",
       "──────┼─────────────\n",
       "52310 │ -70.5  -55.5\n",
       "52311 │ -69.5  -55.5\n",
       "52312 │ -68.5  -55.5\n",
       "52313 │ -67.5  -55.5\n",
       "51948 │ -72.5  -54.5\n",
       "51949 │ -71.5  -54.5\n",
       "51950 │ -70.5  -54.5\n",
       "51951 │ -69.5  -54.5\n",
       "51952 │ -68.5  -54.5\n",
       "51953 │ -67.5  -54.5\n",
       "51954 │ -66.5  -54.5\n",
       "51955 │ -65.5  -54.5\n",
       "⋮           ⋮      ⋮\n",
       "2304  │ -36.5   83.5\n",
       "2305  │ -35.5   83.5\n",
       "2306  │ -34.5   83.5\n",
       "2307  │ -33.5   83.5\n",
       "2308  │ -32.5   83.5\n",
       "2309  │ -31.5   83.5\n",
       "2310  │ -30.5   83.5\n",
       "2311  │ -29.5   83.5\n",
       "2312  │ -28.5   83.5\n",
       "2313  │ -27.5   83.5\n",
       "2314  │ -26.5   83.5\n",
       "2315  │ -25.5   83.5"
      ]
     },
     "execution_count": 18,
     "metadata": {},
     "output_type": "execute_result"
    }
   ],
   "source": [
    "cd = MacroEcology.coords(mam)"
   ]
  },
  {
   "cell_type": "code",
   "execution_count": 24,
   "metadata": {
    "collapsed": false
   },
   "outputs": [
    {
     "data": {
      "text/plain": [
       "17535-element Grid.InterpGrid{Float64,1,Grid.BCnil,Grid.InterpLinear}:\n",
       " -55.5\n",
       " -55.5\n",
       " -55.5\n",
       " -55.5\n",
       " -54.5\n",
       " -54.5\n",
       " -54.5\n",
       " -54.5\n",
       " -54.5\n",
       " -54.5\n",
       " -54.5\n",
       " -54.5\n",
       " -54.5\n",
       "   ⋮  \n",
       "  83.5\n",
       "  83.5\n",
       "  83.5\n",
       "  83.5\n",
       "  83.5\n",
       "  83.5\n",
       "  83.5\n",
       "  83.5\n",
       "  83.5\n",
       "  83.5\n",
       "  83.5\n",
       "  83.5"
      ]
     },
     "execution_count": 24,
     "metadata": {},
     "output_type": "execute_result"
    }
   ],
   "source": [
    "testlong = InterpGrid(Vector(cd[:,\"Long\"]),BCnil, InterpLinear)\n",
    "testlat = InterpGrid(Vector(cd[:,\"Lat\"]),BCnil, InterpLinear)"
   ]
  },
  {
   "cell_type": "code",
   "execution_count": 25,
   "metadata": {
    "collapsed": false
   },
   "outputs": [
    {
     "data": {
      "text/html": [
       "<img src=\"data:image/png;base64,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\" />"
      ]
     },
     "execution_count": 25,
     "metadata": {},
     "output_type": "execute_result"
    }
   ],
   "source": [
    "scatter(cd[:,\"Long\"], testlong)"
   ]
  },
  {
   "cell_type": "code",
   "execution_count": 41,
   "metadata": {
    "collapsed": false
   },
   "outputs": [
    {
     "ename": "LoadError",
     "evalue": "LoadError: DimensionMismatch(\"Coordinate lengths do not match grid size.\")\nwhile loading In[41], in expression starting on line 2",
     "output_type": "error",
     "traceback": [
      "LoadError: DimensionMismatch(\"Coordinate lengths do not match grid size.\")\nwhile loading In[41], in expression starting on line 2",
      "",
      " in Grid.CoordInterpGrid{Float64,1,Grid.BCnil,Grid.InterpLinear,Tuple{FloatRange{Float64}}}(::Tuple{FloatRange{Float64}}, ::Grid.InterpGrid{Float64,1,Grid.BCnil,Grid.InterpLinear}) at /Users/michael/.julia/v0.5/Grid/src/coord.jl:7",
      " in Grid.CoordInterpGrid{T<:AbstractFloat,N,BC<:Grid.BoundaryCondition,IT<:Grid.InterpType,R}(::Tuple{FloatRange{Float64}}, ::Grid.InterpGrid{Float64,1,Grid.BCnil,Grid.InterpLinear}) at /Users/michael/.julia/v0.5/Grid/src/coord.jl:13",
      " in Grid.CoordInterpGrid{T<:AbstractFloat,N,BC<:Grid.BoundaryCondition,IT<:Grid.InterpType,R}(::FloatRange{Float64}, ::Array{Float64,1}, ::Type{T}, ::Type{T}) at /Users/michael/.julia/v0.5/Grid/src/coord.jl:24"
     ]
    }
   ],
   "source": [
    "a = sample(Vector(cd[:,\"Long\"]), 100)\n",
    "testlong = CoordInterpGrid(minimum(a):1:maximum(a),a,BCnil, InterpLinear)"
   ]
  },
  {
   "cell_type": "code",
   "execution_count": 46,
   "metadata": {
    "collapsed": false
   },
   "outputs": [
    {
     "data": {
      "text/plain": [
       "100-element Grid.InterpGrid{Float64,1,Grid.BCnil,Grid.InterpLinear}:\n",
       " -176.5\n",
       " -174.5\n",
       " -168.5\n",
       " -166.5\n",
       " -163.5\n",
       " -163.5\n",
       " -161.5\n",
       " -159.5\n",
       " -154.5\n",
       " -143.5\n",
       " -140.5\n",
       " -140.5\n",
       " -137.5\n",
       "    ⋮  \n",
       "  133.5\n",
       "  138.5\n",
       "  143.5\n",
       "  155.5\n",
       "  156.5\n",
       "  159.5\n",
       "  163.5\n",
       "  164.5\n",
       "  170.5\n",
       "  171.5\n",
       "  172.5\n",
       "  173.5"
      ]
     },
     "execution_count": 46,
     "metadata": {},
     "output_type": "execute_result"
    }
   ],
   "source": [
    "a = sort(unique(cd[:,\"Long\"]))\n",
    "b = sort(sample(a, 100))\n",
    "\n",
    "testa = InterpGrid(a, BCnil, InterpLinear)\n",
    "testb = InterpGrid(b, BCnil, InterpLinear)"
   ]
  },
  {
   "cell_type": "code",
   "execution_count": 33,
   "metadata": {
    "collapsed": false
   },
   "outputs": [
    {
     "ename": "LoadError",
     "evalue": "LoadError: Invalid location\nwhile loading In[33], in expression starting on line 1",
     "output_type": "error",
     "traceback": [
      "LoadError: Invalid location\nwhile loading In[33], in expression starting on line 1",
      "",
      " in set_position(::Grid.InterpGridCoefs{Float64,Grid.InterpLinear}, ::Type{Grid.BCnil}, ::Bool, ::Bool, ::Array{Float64,1}) at /Users/michael/.julia/v0.5/Grid/src/interp.jl:403",
      " in _getindex at /Users/michael/.julia/v0.5/Grid/src/interp.jl:143 [inlined]",
      " in getindex(::Grid.InterpGrid{Float64,1,Grid.BCnil,Grid.InterpLinear}, ::Int64) at /Users/michael/.julia/v0.5/Grid/src/interp.jl:146"
     ]
    }
   ],
   "source": [
    "testlong[20]"
   ]
  },
  {
   "cell_type": "code",
   "execution_count": 34,
   "metadata": {
    "collapsed": false
   },
   "outputs": [
    {
     "data": {
      "text/plain": [
       "21×17 Array{Float64,2}:\n",
       " 0.841471   0.997495    0.909297   …   0.989358    0.798487    0.412118 \n",
       " 0.891207   0.999574    0.863209       0.96989     0.734397    0.319098 \n",
       " 0.932039   0.991665    0.808496       0.940731    0.662969    0.22289  \n",
       " 0.963558   0.973848    0.745705       0.902172    0.584917    0.124454 \n",
       " 0.98545    0.9463      0.675463       0.854599    0.501021    0.0247754\n",
       " 0.997495   0.909297    0.598472   …   0.798487    0.412118   -0.0751511\n",
       " 0.999574   0.863209    0.515501       0.734397    0.319098   -0.174327 \n",
       " 0.991665   0.808496    0.42738        0.662969    0.22289    -0.271761 \n",
       " 0.973848   0.745705    0.334988       0.584917    0.124454   -0.366479 \n",
       " 0.9463     0.675463    0.239249       0.501021    0.0247754  -0.457536 \n",
       " 0.909297   0.598472    0.14112    …   0.412118   -0.0751511  -0.544021 \n",
       " 0.863209   0.515501    0.0415807      0.319098   -0.174327   -0.625071 \n",
       " 0.808496   0.42738    -0.0583741      0.22289    -0.271761   -0.699875 \n",
       " 0.745705   0.334988   -0.157746       0.124454   -0.366479   -0.767686 \n",
       " 0.675463   0.239249   -0.255541       0.0247754  -0.457536   -0.827826 \n",
       " 0.598472   0.14112    -0.350783   …  -0.0751511  -0.544021   -0.879696 \n",
       " 0.515501   0.0415807  -0.44252       -0.174327   -0.625071   -0.922775 \n",
       " 0.42738   -0.0583741  -0.529836      -0.271761   -0.699875   -0.956635 \n",
       " 0.334988  -0.157746   -0.611858      -0.366479   -0.767686   -0.980936 \n",
       " 0.239249  -0.255541   -0.687766      -0.457536   -0.827826   -0.995436 \n",
       " 0.14112   -0.350783   -0.756802   …  -0.544021   -0.879696   -0.99999  "
      ]
     },
     "execution_count": 34,
     "metadata": {},
     "output_type": "execute_result"
    }
   ],
   "source": [
    "x = -1.0:0.1:1.0\n",
    "y = 2.0:0.5:10.0\n",
    "z_2d = Float64[sin(i+j) for i in x, j in y]\n"
   ]
  },
  {
   "cell_type": "code",
   "execution_count": 77,
   "metadata": {
    "collapsed": false
   },
   "outputs": [
    {
     "data": {
      "text/plain": [
       "10×10 DataArrays.DataArray{Float64,2}:\n",
       " 0.139577   0.202049  0.30136    …  0.027901   0.658254   0.0338257\n",
       " 0.226843   0.035261  0.42243       0.575682   0.451655   0.4322   \n",
       " 0.280519   0.607437  0.494239      0.138621   0.142638   0.225242 \n",
       " 0.0573405  0.50035   0.0212006     0.947107   0.0873271  0.636359 \n",
       " 0.172637   0.935429  0.39757       0.0519984  0.137552   0.0157806\n",
       " 0.279653   0.295228  0.616726   …  0.84535    0.294659   0.0736814\n",
       " 0.359487   0.024395  0.791468      0.159427   0.932021   0.647971 \n",
       " 0.29889    0.426172  0.569196      0.674834   0.473036   0.865966 \n",
       " 0.835205   0.262597  0.781618      0.543226   0.186344   0.638209 \n",
       " 0.61118    0.191013  0.456609      0.769856   0.675425   0.110935 "
      ]
     },
     "execution_count": 77,
     "metadata": {},
     "output_type": "execute_result"
    }
   ],
   "source": [
    "z = rand(10,10)\n",
    "data(z)"
   ]
  },
  {
   "cell_type": "code",
   "execution_count": 78,
   "metadata": {
    "collapsed": false
   },
   "outputs": [
    {
     "ename": "PyCall.PyError",
     "evalue": "PyError (:PyObject_Call) <type 'exceptions.AttributeError'>\nAttributeError(\"'list' object has no attribute 'shape'\",)\n  File \"/Users/michael/anaconda/lib/python2.7/site-packages/matplotlib/axes/_axes.py\", line 5089, in pcolormesh\n    X, Y, C = self._pcolorargs('pcolormesh', *args, allmatch=allmatch)\n  File \"/Users/michael/anaconda/lib/python2.7/site-packages/matplotlib/axes/_axes.py\", line 4692, in _pcolorargs\n    numRows, numCols = C.shape\n",
     "output_type": "error",
     "traceback": [
      "PyError (:PyObject_Call) <type 'exceptions.AttributeError'>\nAttributeError(\"'list' object has no attribute 'shape'\",)\n  File \"/Users/michael/anaconda/lib/python2.7/site-packages/matplotlib/axes/_axes.py\", line 5089, in pcolormesh\n    X, Y, C = self._pcolorargs('pcolormesh', *args, allmatch=allmatch)\n  File \"/Users/michael/anaconda/lib/python2.7/site-packages/matplotlib/axes/_axes.py\", line 4692, in _pcolorargs\n    numRows, numCols = C.shape\n",
      "",
      " in pyerr_check at /Users/michael/.julia/v0.5/PyCall/src/exception.jl:56 [inlined]",
      " in pyerr_check at /Users/michael/.julia/v0.5/PyCall/src/exception.jl:61 [inlined]",
      " in macro expansion at /Users/michael/.julia/v0.5/PyCall/src/exception.jl:81 [inlined]",
      " in #_pycall#62(::Array{Any,1}, ::Function, ::PyCall.PyObject, ::Array{Float64,1}, ::Vararg{Any,N}) at /Users/michael/.julia/v0.5/PyCall/src/PyCall.jl:551",
      " in (::PyCall.#kw##_pycall)(::Array{Any,1}, ::PyCall.#_pycall, ::PyCall.PyObject, ::Array{Float64,1}, ::Vararg{Any,N}) at ./<missing>:0",
      " in #pycall#66(::Array{Any,1}, ::Function, ::PyCall.PyObject, ::Type{PyCall.PyAny}, ::Array{Float64,1}, ::Vararg{Any,N}) at /Users/michael/.julia/v0.5/PyCall/src/PyCall.jl:568",
      " in (::PyCall.#kw##pycall)(::Array{Any,1}, ::PyCall.#pycall, ::PyCall.PyObject, ::Type{PyCall.PyAny}, ::Array{Float64,1}, ::Vararg{Any,N}) at ./<missing>:0",
      " in #call#67(::Array{Any,1}, ::PyCall.PyObject, ::Array{Float64,1}, ::Vararg{Any,N}) at /Users/michael/.julia/v0.5/PyCall/src/PyCall.jl:571",
      " in (::PyCall.#kw#PyObject)(::Array{Any,1}, ::PyCall.PyObject, ::Array{Float64,1}, ::Vararg{Any,N}) at ./<missing>:0",
      " in py_add_series(::Plots.Plot{Plots.PyPlotBackend}, ::Plots.Series) at /Users/michael/.julia/v0.5/Plots/src/backends/pyplot.jl:738",
      " in _before_layout_calcs(::Plots.Plot{Plots.PyPlotBackend}) at /Users/michael/.julia/v0.5/Plots/src/backends/pyplot.jl:958",
      " in prepare_output(::Plots.Plot{Plots.PyPlotBackend}) at /Users/michael/.julia/v0.5/Plots/src/plot.jl:232",
      " in show(::Base64EncodePipe, ::MIME{Symbol(\"image/png\")}, ::Plots.Plot{Plots.PyPlotBackend}) at /Users/michael/.julia/v0.5/Plots/src/output.jl:170",
      " in base64encode(::Function, ::MIME{Symbol(\"image/png\")}, ::Vararg{Any,N}) at ./base64.jl:160",
      " in show(::Base.AbstractIOBuffer{Array{UInt8,1}}, ::MIME{Symbol(\"text/html\")}, ::Plots.Plot{Plots.PyPlotBackend}) at /Users/michael/.julia/v0.5/Plots/src/output.jl:148",
      " in show(::Base.AbstractIOBuffer{Array{UInt8,1}}, ::String, ::Plots.Plot{Plots.PyPlotBackend}) at ./multimedia.jl:33",
      " in #sprint#304(::Void, ::Function, ::Int64, ::Function, ::String, ::Vararg{Any,N}) at ./strings/io.jl:37",
      " in display_dict(::Plots.Plot{Plots.PyPlotBackend}) at /Users/michael/.julia/v0.5/Plots/src/output.jl:238",
      " in execute_request(::ZMQ.Socket, ::IJulia.Msg) at /Users/michael/.julia/v0.5/IJulia/src/execute_request.jl:200",
      " in eventloop(::ZMQ.Socket) at /Users/michael/.julia/v0.5/IJulia/src/eventloop.jl:8",
      " in (::IJulia.##9#15)() at ./task.jl:360"
     ]
    }
   ],
   "source": [
    "heatmap(data(z))"
   ]
  },
  {
   "cell_type": "code",
   "execution_count": 36,
   "metadata": {
    "collapsed": false
   },
   "outputs": [
    {
     "ename": "ErrorException",
     "evalue": "Invalid location",
     "output_type": "error",
     "traceback": [
      "Invalid location",
      "",
      " in set_position(::Grid.InterpGridCoefs{Float64,Grid.InterpQuadratic}, ::Type{Grid.BCnil}, ::Bool, ::Bool, ::Array{Float64,1}) at /Users/michael/.julia/v0.5/Grid/src/interp.jl:403",
      " in _getindex at /Users/michael/.julia/v0.5/Grid/src/interp.jl:143 [inlined]",
      " in getindex at /Users/michael/.julia/v0.5/Grid/src/interp.jl:154 [inlined]",
      " in getindex(::Grid.CoordInterpGrid{Float64,2,Grid.BCnil,Grid.InterpQuadratic,Tuple{FloatRange{Float64},FloatRange{Float64}}}, ::Int64, ::Int64) at /Users/michael/.julia/v0.5/Grid/src/coord.jl:39",
      " in isassigned(::Grid.CoordInterpGrid{Float64,2,Grid.BCnil,Grid.InterpQuadratic,Tuple{FloatRange{Float64},FloatRange{Float64}}}, ::Int64, ::Int64, ::Vararg{Int64,N}) at ./abstractarray.jl:186",
      " in alignment(::IOContext{Base.AbstractIOBuffer{Array{UInt8,1}}}, ::Grid.CoordInterpGrid{Float64,2,Grid.BCnil,Grid.InterpQuadratic,Tuple{FloatRange{Float64},FloatRange{Float64}}}, ::Array{Int64,1}, ::Array{Int64,1}, ::Int64, ::Int64, ::Int64) at ./show.jl:1277",
      " in print_matrix(::IOContext{Base.AbstractIOBuffer{Array{UInt8,1}}}, ::Grid.CoordInterpGrid{Float64,2,Grid.BCnil,Grid.InterpQuadratic,Tuple{FloatRange{Float64},FloatRange{Float64}}}, ::String, ::String, ::String, ::String, ::String, ::String, ::Int64, ::Int64) at ./show.jl:1407",
      " in print_matrix(::IOContext{Base.AbstractIOBuffer{Array{UInt8,1}}}, ::Grid.CoordInterpGrid{Float64,2,Grid.BCnil,Grid.InterpQuadratic,Tuple{FloatRange{Float64},FloatRange{Float64}}}, ::String, ::String, ::String) at ./show.jl:1379",
      " in #showarray#330(::Bool, ::Function, ::IOContext{Base.AbstractIOBuffer{Array{UInt8,1}}}, ::Grid.CoordInterpGrid{Float64,2,Grid.BCnil,Grid.InterpQuadratic,Tuple{FloatRange{Float64},FloatRange{Float64}}}, ::Bool) at ./show.jl:1618",
      " in limitstringmime(::MIME{Symbol(\"text/plain\")}, ::Grid.CoordInterpGrid{Float64,2,Grid.BCnil,Grid.InterpQuadratic,Tuple{FloatRange{Float64},FloatRange{Float64}}}) at /Users/michael/.julia/v0.5/IJulia/src/execute_request.jl:31",
      " in display_dict(::Grid.CoordInterpGrid{Float64,2,Grid.BCnil,Grid.InterpQuadratic,Tuple{FloatRange{Float64},FloatRange{Float64}}}) at /Users/michael/.julia/v0.5/IJulia/src/execute_request.jl:46",
      " in execute_request(::ZMQ.Socket, ::IJulia.Msg) at /Users/michael/.julia/v0.5/IJulia/src/execute_request.jl:200",
      " in eventloop(::ZMQ.Socket) at /Users/michael/.julia/v0.5/IJulia/src/eventloop.jl:8",
      " in (::IJulia.##9#15)() at ./task.jl:360"
     ]
    }
   ],
   "source": [
    "z_2di = CoordInterpGrid((x,y), z_2d, BCnil, InterpQuadratic)"
   ]
  },
  {
   "cell_type": "code",
   "execution_count": 37,
   "metadata": {
    "collapsed": false
   },
   "outputs": [
    {
     "data": {
      "text/plain": [
       "21×17 Grid.InterpGrid{Float64,2,Grid.BCnil,Grid.InterpQuadratic}:\n",
       " 0.841471   0.997495    0.909297   …   0.989358    0.798487    0.412118 \n",
       " 0.891207   0.999574    0.863209       0.96989     0.734397    0.319098 \n",
       " 0.932039   0.991665    0.808496       0.940731    0.662969    0.22289  \n",
       " 0.963558   0.973848    0.745705       0.902172    0.584917    0.124454 \n",
       " 0.98545    0.9463      0.675463       0.854599    0.501021    0.0247754\n",
       " 0.997495   0.909297    0.598472   …   0.798487    0.412118   -0.0751511\n",
       " 0.999574   0.863209    0.515501       0.734397    0.319098   -0.174327 \n",
       " 0.991665   0.808496    0.42738        0.662969    0.22289    -0.271761 \n",
       " 0.973848   0.745705    0.334988       0.584917    0.124454   -0.366479 \n",
       " 0.9463     0.675463    0.239249       0.501021    0.0247754  -0.457536 \n",
       " 0.909297   0.598472    0.14112    …   0.412118   -0.0751511  -0.544021 \n",
       " 0.863209   0.515501    0.0415807      0.319098   -0.174327   -0.625071 \n",
       " 0.808496   0.42738    -0.0583741      0.22289    -0.271761   -0.699875 \n",
       " 0.745705   0.334988   -0.157746       0.124454   -0.366479   -0.767686 \n",
       " 0.675463   0.239249   -0.255541       0.0247754  -0.457536   -0.827826 \n",
       " 0.598472   0.14112    -0.350783   …  -0.0751511  -0.544021   -0.879696 \n",
       " 0.515501   0.0415807  -0.44252       -0.174327   -0.625071   -0.922775 \n",
       " 0.42738   -0.0583741  -0.529836      -0.271761   -0.699875   -0.956635 \n",
       " 0.334988  -0.157746   -0.611858      -0.366479   -0.767686   -0.980936 \n",
       " 0.239249  -0.255541   -0.687766      -0.457536   -0.827826   -0.995436 \n",
       " 0.14112   -0.350783   -0.756802   …  -0.544021   -0.879696   -0.99999  "
      ]
     },
     "execution_count": 37,
     "metadata": {},
     "output_type": "execute_result"
    }
   ],
   "source": [
    "z_2di = InterpGrid(z_2d, BCnil, InterpQuadratic)"
   ]
  },
  {
   "cell_type": "code",
   "execution_count": 47,
   "metadata": {
    "collapsed": false
   },
   "outputs": [
    {
     "name": "stdout",
     "output_type": "stream",
     "text": [
      "search: Matrix BitMatrix ComMatrix DenseMatrix SharedMatrix SparseMatrixCSC\n",
      "\n"
     ]
    },
    {
     "data": {
      "text/markdown": [
       "No documentation found.\n",
       "\n",
       "`Base.Matrix` is of type `TypeConstructor`.\n",
       "\n",
       "**Summary:**\n",
       "\n",
       "```\n",
       "immutable TypeConstructor <: Type{T}\n",
       "```\n",
       "\n",
       "**Fields:**\n",
       "\n",
       "```\n",
       "parameters :: SimpleVector\n",
       "body       :: Any\n",
       "```\n"
      ],
      "text/plain": [
       "No documentation found.\n",
       "\n",
       "`Base.Matrix` is of type `TypeConstructor`.\n",
       "\n",
       "**Summary:**\n",
       "\n",
       "```\n",
       "immutable TypeConstructor <: Type{T}\n",
       "```\n",
       "\n",
       "**Fields:**\n",
       "\n",
       "```\n",
       "parameters :: SimpleVector\n",
       "body       :: Any\n",
       "```\n"
      ]
     },
     "execution_count": 47,
     "metadata": {},
     "output_type": "execute_result"
    }
   ],
   "source": [
    "?Matrix"
   ]
  },
  {
   "cell_type": "code",
   "execution_count": 48,
   "metadata": {
    "collapsed": false
   },
   "outputs": [
    {
     "name": "stdout",
     "output_type": "stream",
     "text": [
      "search: Array SubArray BitArray DenseArray StridedArray pointer_to_array\n",
      "\n"
     ]
    },
    {
     "data": {
      "text/markdown": [
       "```\n",
       "Array(dims)\n",
       "```\n",
       "\n",
       "`Array{T}(dims)` constructs an uninitialized dense array with element type `T`. `dims` may be a tuple or a series of integer arguments. The syntax `Array(T, dims)` is also available, but deprecated.\n"
      ],
      "text/plain": [
       "```\n",
       "Array(dims)\n",
       "```\n",
       "\n",
       "`Array{T}(dims)` constructs an uninitialized dense array with element type `T`. `dims` may be a tuple or a series of integer arguments. The syntax `Array(T, dims)` is also available, but deprecated.\n"
      ]
     },
     "execution_count": 48,
     "metadata": {},
     "output_type": "execute_result"
    }
   ],
   "source": [
    "?Array"
   ]
  },
  {
   "cell_type": "code",
   "execution_count": 49,
   "metadata": {
    "collapsed": false
   },
   "outputs": [
    {
     "name": "stdout",
     "output_type": "stream",
     "text": [
      "search: StridedArray StridedMatrix\n",
      "\n"
     ]
    },
    {
     "data": {
      "text/markdown": [
       "No documentation found.\n",
       "\n",
       "`Base.StridedArray` is of type `TypeConstructor`.\n",
       "\n",
       "**Summary:**\n",
       "\n",
       "```\n",
       "immutable TypeConstructor <: Type{T}\n",
       "```\n",
       "\n",
       "**Fields:**\n",
       "\n",
       "```\n",
       "parameters :: SimpleVector\n",
       "body       :: Any\n",
       "```\n"
      ],
      "text/plain": [
       "No documentation found.\n",
       "\n",
       "`Base.StridedArray` is of type `TypeConstructor`.\n",
       "\n",
       "**Summary:**\n",
       "\n",
       "```\n",
       "immutable TypeConstructor <: Type{T}\n",
       "```\n",
       "\n",
       "**Fields:**\n",
       "\n",
       "```\n",
       "parameters :: SimpleVector\n",
       "body       :: Any\n",
       "```\n"
      ]
     },
     "execution_count": 49,
     "metadata": {},
     "output_type": "execute_result"
    }
   ],
   "source": [
    "?StridedArray"
   ]
  },
  {
   "cell_type": "code",
   "execution_count": 57,
   "metadata": {
    "collapsed": false
   },
   "outputs": [
    {
     "ename": "LoadError",
     "evalue": "LoadError: MethodError: no method matching sparse(::Array{Int64,1}, ::Array{Int64,1}, ::Array{Float64,1}, ::Int64)\nClosest candidates are:\n  sparse{Tv,Ti<:Integer}(::AbstractArray{Ti<:Integer,1}, ::AbstractArray{Ti<:Integer,1}, ::AbstractArray{Tv,1}, ::Integer, !Matched::Integer, !Matched::Any) at sparse/sparsematrix.jl:382\n  sparse(::Any, ::Any, ::AbstractArray{T,1}, ::Any, !Matched::Any) at sparse/sparsematrix.jl:593\n  sparse(::Any, ::Any, !Matched::AbstractArray{Bool,1}, ::Any, !Matched::Any) at sparse/sparsematrix.jl:595\n  ...\nwhile loading In[57], in expression starting on line 5",
     "output_type": "error",
     "traceback": [
      "LoadError: MethodError: no method matching sparse(::Array{Int64,1}, ::Array{Int64,1}, ::Array{Float64,1}, ::Int64)\nClosest candidates are:\n  sparse{Tv,Ti<:Integer}(::AbstractArray{Ti<:Integer,1}, ::AbstractArray{Ti<:Integer,1}, ::AbstractArray{Tv,1}, ::Integer, !Matched::Integer, !Matched::Any) at sparse/sparsematrix.jl:382\n  sparse(::Any, ::Any, ::AbstractArray{T,1}, ::Any, !Matched::Any) at sparse/sparsematrix.jl:593\n  sparse(::Any, ::Any, !Matched::AbstractArray{Bool,1}, ::Any, !Matched::Any) at sparse/sparsematrix.jl:595\n  ...\nwhile loading In[57], in expression starting on line 5",
      ""
     ]
    }
   ],
   "source": [
    "x = sample(1:4, 9, replace = true)\n",
    "y = sample(1:4, 9, replace = true)\n",
    "z = rand(9)\n",
    "using DataArrays\n",
    "Matrix(sparse(x,y,z, 9))"
   ]
  },
  {
   "cell_type": "code",
   "execution_count": 58,
   "metadata": {
    "collapsed": false
   },
   "outputs": [
    {
     "name": "stdout",
     "output_type": "stream",
     "text": [
      "search: sparse sparsevec SparseVector SparseArrays SparseMatrixCSC issparse\n",
      "\n"
     ]
    },
    {
     "data": {
      "text/markdown": [
       "```\n",
       "sparse(A)\n",
       "```\n",
       "\n",
       "Convert an AbstractMatrix `A` into a sparse matrix.\n",
       "\n",
       "```\n",
       "sparse(I, J, V,[ m, n, combine])\n",
       "```\n",
       "\n",
       "Create a sparse matrix `S` of dimensions `m x n` such that `S[I[k], J[k]] = V[k]`. The `combine` function is used to combine duplicates. If `m` and `n` are not specified, they are set to `maximum(I)` and `maximum(J)` respectively. If the `combine` function is not supplied, `combine` defaults to `+` unless the elements of `V` are Booleans in which case `combine` defaults to `|`. All elements of `I` must satisfy `1 <= I[k] <= m`, and all elements of `J` must satisfy `1 <= J[k] <= n`. Numerical zeros in (`I`, `J`, `V`) are retained as structural nonzeros; to drop numerical zeros, use [`dropzeros!`](:func:`dropzeros!`).\n",
       "\n",
       "For additional documentation and an expert driver, see `Base.SparseArrays.sparse!`.\n",
       "\n",
       "sparse(g) is the adjacency_matrix of g\n"
      ],
      "text/plain": [
       "```\n",
       "sparse(A)\n",
       "```\n",
       "\n",
       "Convert an AbstractMatrix `A` into a sparse matrix.\n",
       "\n",
       "```\n",
       "sparse(I, J, V,[ m, n, combine])\n",
       "```\n",
       "\n",
       "Create a sparse matrix `S` of dimensions `m x n` such that `S[I[k], J[k]] = V[k]`. The `combine` function is used to combine duplicates. If `m` and `n` are not specified, they are set to `maximum(I)` and `maximum(J)` respectively. If the `combine` function is not supplied, `combine` defaults to `+` unless the elements of `V` are Booleans in which case `combine` defaults to `|`. All elements of `I` must satisfy `1 <= I[k] <= m`, and all elements of `J` must satisfy `1 <= J[k] <= n`. Numerical zeros in (`I`, `J`, `V`) are retained as structural nonzeros; to drop numerical zeros, use [`dropzeros!`](:func:`dropzeros!`).\n",
       "\n",
       "For additional documentation and an expert driver, see `Base.SparseArrays.sparse!`.\n",
       "\n",
       "sparse(g) is the adjacency_matrix of g\n"
      ]
     },
     "execution_count": 58,
     "metadata": {},
     "output_type": "execute_result"
    }
   ],
   "source": [
    "?sparse"
   ]
  },
  {
   "cell_type": "code",
   "execution_count": 61,
   "metadata": {
    "collapsed": false
   },
   "outputs": [
    {
     "name": "stdout",
     "output_type": "stream",
     "text": [
      "search: DenseMatrix DenseVecOrMat\n",
      "\n"
     ]
    },
    {
     "data": {
      "text/markdown": [
       "No documentation found.\n",
       "\n",
       "`Base.DenseMatrix` is of type `TypeConstructor`.\n",
       "\n",
       "**Summary:**\n",
       "\n",
       "```\n",
       "immutable TypeConstructor <: Type{T}\n",
       "```\n",
       "\n",
       "**Fields:**\n",
       "\n",
       "```\n",
       "parameters :: SimpleVector\n",
       "body       :: Any\n",
       "```\n"
      ],
      "text/plain": [
       "No documentation found.\n",
       "\n",
       "`Base.DenseMatrix` is of type `TypeConstructor`.\n",
       "\n",
       "**Summary:**\n",
       "\n",
       "```\n",
       "immutable TypeConstructor <: Type{T}\n",
       "```\n",
       "\n",
       "**Fields:**\n",
       "\n",
       "```\n",
       "parameters :: SimpleVector\n",
       "body       :: Any\n",
       "```\n"
      ]
     },
     "execution_count": 61,
     "metadata": {},
     "output_type": "execute_result"
    }
   ],
   "source": [
    "?DenseMatrix"
   ]
  },
  {
   "cell_type": "code",
   "execution_count": 80,
   "metadata": {
    "collapsed": false
   },
   "outputs": [
    {
     "data": {
      "text/plain": [
       "Summary Stats:\n",
       "Mean:         0.495942\n",
       "Minimum:      0.013205\n",
       "1st Quartile: 0.283798\n",
       "Median:       0.505712\n",
       "3rd Quartile: 0.758443\n",
       "Maximum:      0.979823\n"
      ]
     },
     "execution_count": 80,
     "metadata": {},
     "output_type": "execute_result"
    }
   ],
   "source": [
    "a = summarystats(rand(100))"
   ]
  },
  {
   "cell_type": "code",
   "execution_count": 83,
   "metadata": {
    "collapsed": false
   },
   "outputs": [
    {
     "ename": "LoadError",
     "evalue": "LoadError: MethodError: Cannot `convert` an object of type StatsBase.SummaryStats{Float64} to an object of type DataFrames.DataFrame\nThis may have arisen from a call to the constructor DataFrames.DataFrame(...),\nsince type constructors fall back to convert methods.\nwhile loading In[83], in expression starting on line 2",
     "output_type": "error",
     "traceback": [
      "LoadError: MethodError: Cannot `convert` an object of type StatsBase.SummaryStats{Float64} to an object of type DataFrames.DataFrame\nThis may have arisen from a call to the constructor DataFrames.DataFrame(...),\nsince type constructors fall back to convert methods.\nwhile loading In[83], in expression starting on line 2",
      "",
      " in DataFrames.DataFrame(::StatsBase.SummaryStats{Float64}) at ./sysimg.jl:53"
     ]
    }
   ],
   "source": []
  },
  {
   "cell_type": "code",
   "execution_count": 84,
   "metadata": {
    "collapsed": false
   },
   "outputs": [
    {
     "data": {
      "text/plain": [
       "4-element DataArrays.DataArray{Int64,1}:\n",
       "  NA\n",
       " 1  \n",
       " 2  \n",
       " 4  "
      ]
     },
     "execution_count": 84,
     "metadata": {},
     "output_type": "execute_result"
    }
   ],
   "source": [
    "a = @data([NA, 1, 2, 4])"
   ]
  },
  {
   "cell_type": "code",
   "execution_count": 85,
   "metadata": {
    "collapsed": false
   },
   "outputs": [
    {
     "data": {
      "text/plain": [
       "4-element DataArrays.DataArray{Float64,1}:\n",
       "  NA\n",
       " 0.5\n",
       " 1.0\n",
       " 2.0"
      ]
     },
     "execution_count": 85,
     "metadata": {},
     "output_type": "execute_result"
    }
   ],
   "source": [
    "a/2"
   ]
  },
  {
   "cell_type": "code",
   "execution_count": 86,
   "metadata": {
    "collapsed": false
   },
   "outputs": [
    {
     "data": {
      "text/plain": [
       "Inf"
      ]
     },
     "execution_count": 86,
     "metadata": {},
     "output_type": "execute_result"
    }
   ],
   "source": [
    "2/0\n"
   ]
  },
  {
   "cell_type": "code",
   "execution_count": 87,
   "metadata": {
    "collapsed": false
   },
   "outputs": [
    {
     "name": "stderr",
     "output_type": "stream",
     "text": [
      "INFO: Recompiling stale cache file /Users/michael/.julia/lib/v0.5/StatPlots.ji for module StatPlots.\n"
     ]
    }
   ],
   "source": [
    "using StatPlots"
   ]
  },
  {
   "cell_type": "code",
   "execution_count": 88,
   "metadata": {
    "collapsed": false
   },
   "outputs": [
    {
     "name": "stdout",
     "output_type": "stream",
     "text": [
      "                      @animate      0 bytes  Plots.#@animate\n",
      "                 @colorant_str      0 bytes  Colors.#@colorant_str\n",
      "                          @gif      0 bytes  Plots.#@gif\n",
      "                       @layout      0 bytes  Plots.#@layout\n",
      "                       @recipe      0 bytes  RecipesBase.#@recipe\n",
      "                       @series      0 bytes  RecipesBase.#@series\n",
      "                   @shorthands      0 bytes  Plots.#@shorthands\n",
      "                     @userplot      0 bytes  Plots.#@userplot\n",
      "                          ABGR    236 bytes  DataType\n",
      "                        ADIN99    204 bytes  DataType\n",
      "                       ADIN99d    204 bytes  DataType\n",
      "                       ADIN99o    204 bytes  DataType\n",
      "                         AGray    212 bytes  DataType\n",
      "                       AGray32    112 bytes  DataType\n",
      "                          AHSI    204 bytes  DataType\n",
      "                          AHSL    204 bytes  DataType\n",
      "                          AHSV    204 bytes  DataType\n",
      "                        ALCHab    204 bytes  DataType\n",
      "                        ALCHuv    204 bytes  DataType\n",
      "                          ALMS    204 bytes  DataType\n",
      "                          ALab    204 bytes  DataType\n",
      "                          ALuv    204 bytes  DataType\n",
      "                          AMat     80 bytes  TypeConstructor\n",
      "                          ARGB    236 bytes  DataType\n",
      "                        ARGB32    112 bytes  DataType\n",
      "                          AVec     80 bytes  TypeConstructor\n",
      "                          AXYZ    204 bytes  DataType\n",
      "                        AYCbCr    204 bytes  DataType\n",
      "                          AYIQ    204 bytes  DataType\n",
      "                AbstractLayout     92 bytes  DataType\n",
      "                  AbstractPlot    148 bytes  DataType\n",
      "                   AbstractRGB    148 bytes  DataType\n",
      "                    AlphaColor    228 bytes  DataType\n",
      "                     Animation    124 bytes  DataType\n",
      "                          Axis    124 bytes  DataType\n",
      "                          AxyY    204 bytes  DataType\n",
      "                          BBox    140 bytes  DataType\n",
      "                           BGR    224 bytes  DataType\n",
      "                          BGRA    236 bytes  DataType\n",
      "                   BezierCurve    168 bytes  DataType\n",
      "                   BoundingBox    284 bytes  DataType\n",
      "                 CIE1931JV_CMF     92 bytes  DataType\n",
      "                  CIE1931J_CMF     92 bytes  DataType\n",
      "                   CIE1931_CMF     92 bytes  DataType\n",
      "                   CIE1964_CMF     92 bytes  DataType\n",
      "                         Color    188 bytes  DataType\n",
      "                    ColorAlpha    228 bytes  DataType\n",
      "                 ColorGradient    124 bytes  DataType\n",
      "                    ColorTypes   9375 KB     Module\n",
      "                      Colorant    188 bytes  DataType\n",
      "                        Colors   9322 KB     Module\n",
      "                       DE_2000    136 bytes  DataType\n",
      "                         DE_94    136 bytes  DataType\n",
      "                         DE_AB     92 bytes  DataType\n",
      "                        DE_BFD    136 bytes  DataType\n",
      "                        DE_CMC    124 bytes  DataType\n",
      "                      DE_DIN99     92 bytes  DataType\n",
      "                     DE_DIN99d     92 bytes  DataType\n",
      "                     DE_DIN99o     92 bytes  DataType\n",
      "                      DE_JPC79     92 bytes  DataType\n",
      "                         DIN99    192 bytes  DataType\n",
      "                        DIN99A    204 bytes  DataType\n",
      "                        DIN99d    192 bytes  DataType\n",
      "                       DIN99dA    204 bytes  DataType\n",
      "                        DIN99o    192 bytes  DataType\n",
      "                       DIN99oA    204 bytes  DataType\n",
      "                   EmptyLayout    136 bytes  DataType\n",
      "                     Formatted    180 bytes  DataType\n",
      "                    Fractional     32 bytes  Union\n",
      "                          Gray    208 bytes  DataType\n",
      "                        Gray24    112 bytes  DataType\n",
      "                         GrayA    212 bytes  DataType\n",
      "                    GridLayout    184 bytes  DataType\n",
      "                           HSB    192 bytes  DataType\n",
      "                           HSI    192 bytes  DataType\n",
      "                          HSIA    204 bytes  DataType\n",
      "                           HSL    192 bytes  DataType\n",
      "                          HSLA    204 bytes  DataType\n",
      "                           HSV    192 bytes  DataType\n",
      "                          HSVA    204 bytes  DataType\n",
      "                            KW    212 bytes  DataType\n",
      "                         LCHab    192 bytes  DataType\n",
      "                        LCHabA    204 bytes  DataType\n",
      "                         LCHuv    192 bytes  DataType\n",
      "                        LCHuvA    204 bytes  DataType\n",
      "                           LMS    192 bytes  DataType\n",
      "                          LMSA    204 bytes  DataType\n",
      "                           Lab    192 bytes  DataType\n",
      "                          LabA    204 bytes  DataType\n",
      "                           Luv    192 bytes  DataType\n",
      "                          LuvA    204 bytes  DataType\n",
      "                           MSC      0 bytes  Colors.#MSC\n",
      "                          OHLC    204 bytes  DataType\n",
      "                            P2    136 bytes  DataType\n",
      "                            P3    136 bytes  DataType\n",
      "                          Plot    288 bytes  DataType\n",
      "                     PlotUtils   9135 KB     Module\n",
      "                         Plots  13091 KB     Module\n",
      "                           RGB    224 bytes  DataType\n",
      "                          RGB1    236 bytes  DataType\n",
      "                         RGB24    112 bytes  DataType\n",
      "                          RGB4    236 bytes  DataType\n",
      "                          RGBA    236 bytes  DataType\n",
      "                    RecipeData    124 bytes  DataType\n",
      "                   RecipesBase   9059 KB     Module\n",
      "                      Segments    168 bytes  DataType\n",
      "                         Shape    124 bytes  DataType\n",
      "                     StatPlots     50 KB     Module\n",
      "                       Subplot    240 bytes  DataType\n",
      "                       Surface    232 bytes  DataType\n",
      "              TransparentColor    228 bytes  DataType\n",
      "                           U16    136 bytes  DataType\n",
      "                            U8    136 bytes  DataType\n",
      "                           XYZ    192 bytes  DataType\n",
      "                          XYZA    204 bytes  DataType\n",
      "                         YCbCr    192 bytes  DataType\n",
      "                        YCbCrA    204 bytes  DataType\n",
      "                           YIQ    192 bytes  DataType\n",
      "                          YIQA    204 bytes  DataType\n",
      "                   add_backend      0 bytes  Plots.#add_backend\n",
      "                     add_theme      0 bytes  Plots.#add_theme\n",
      "                       aliases      0 bytes  Plots.#aliases\n",
      "                         alpha      0 bytes  ColorTypes.#alpha\n",
      "                    alphacolor      0 bytes  ColorTypes.#alphacolor\n",
      "                     annotate!      0 bytes  Plots.#annotate!\n",
      "                        argb32      0 bytes  Colors.#argb32\n",
      "                         arrow      0 bytes  Plots.#arrow\n",
      "                       backend      0 bytes  Plots.#backend\n",
      "                  backend_name      0 bytes  Plots.#backend_name\n",
      "                backend_object      0 bytes  Plots.#backend_object\n",
      "                      backends      0 bytes  Plots.#backends\n",
      "                           bar      0 bytes  Plots.#bar\n",
      "                          bar!      0 bytes  Plots.#bar!\n",
      "                          barh      0 bytes  Plots.#barh\n",
      "                         barh!      0 bytes  Plots.#barh!\n",
      "               base_color_type      0 bytes  ColorTypes.#base_color_type\n",
      "            base_colorant_type      0 bytes  ColorTypes.#base_colorant_type\n",
      "                          bbox      0 bytes  Plots.#bbox\n",
      "                          blue      0 bytes  ColorTypes.#blue\n",
      "                       boxplot      0 bytes  Plots.#boxplot\n",
      "                      boxplot!      0 bytes  Plots.#boxplot!\n",
      "                         brush      0 bytes  Plots.#brush\n",
      "                        ccolor      0 bytes  ColorTypes.#ccolor\n",
      "                        center      0 bytes  Plots.#center\n",
      "                         cgrad      0 bytes  PlotUtils.#cgrad\n",
      "               cie_color_match      0 bytes  Colors.#cie_color_match\n",
      "                            cm      8 bytes  Measures.Length{:mm,Float64}\n",
      "                         color      0 bytes  ColorTypes.#color\n",
      "                    color_type      0 bytes  ColorTypes.#color_type\n",
      "                    coloralpha      0 bytes  ColorTypes.#coloralpha\n",
      "                     colordiff      0 bytes  Colors.#colordiff\n",
      "                      colormap      0 bytes  Colors.#colormap\n",
      "                    colormatch      0 bytes  Colors.#colormatch\n",
      "                         comp1      0 bytes  ColorTypes.#comp1\n",
      "                         comp2      0 bytes  ColorTypes.#comp2\n",
      "                         comp3      0 bytes  ColorTypes.#comp3\n",
      "                       contour      0 bytes  Plots.#contour\n",
      "                      contour!      0 bytes  Plots.#contour!\n",
      "                     contour3d      0 bytes  Plots.#contour3d\n",
      "                    contour3d!      0 bytes  Plots.#contour3d!\n",
      "                      contourf      0 bytes  Plots.#contourf\n",
      "                     contourf!      0 bytes  Plots.#contourf!\n",
      "                        coords      0 bytes  Plots.#coords\n",
      "                    cornerplot      0 bytes  StatPlots.#cornerplot\n",
      "                   cornerplot!      0 bytes  StatPlots.#cornerplot!\n",
      "                      corrplot      0 bytes  StatPlots.#corrplot\n",
      "                     corrplot!      0 bytes  StatPlots.#corrplot!\n",
      "                       current      0 bytes  Plots.#current\n",
      "                  curve_points      0 bytes  Plots.#curve_points\n",
      "                        curves      0 bytes  Plots.#curves\n",
      "                       curves!      0 bytes  Plots.#curves!\n",
      "                          cvec      0 bytes  PlotUtils.#cvec\n",
      "                       default      0 bytes  Plots.#default\n",
      "                       density      0 bytes  Plots.#density\n",
      "                      density!      0 bytes  Plots.#density!\n",
      "                  deuteranopic      0 bytes  Colors.#deuteranopic\n",
      "                        din99a      0 bytes  Colors.#din99a\n",
      "                       din99da      0 bytes  Colors.#din99da\n",
      "                       din99oa      0 bytes  Colors.#din99oa\n",
      "                directed_curve      0 bytes  Plots.#directed_curve\n",
      "        distinguishable_colors      0 bytes  Colors.#distinguishable_colors\n",
      "             diverging_palette      0 bytes  Colors.#diverging_palette\n",
      "                          font      0 bytes  Plots.#font\n",
      "                         frame      0 bytes  Plots.#frame\n",
      "             get_color_palette      0 bytes  PlotUtils.#get_color_palette\n",
      "                           gif      0 bytes  Plots.#gif\n",
      "                   glvisualize      0 bytes  Plots.#glvisualize\n",
      "                            gr      0 bytes  Plots.#gr\n",
      "                          gray      0 bytes  ColorTypes.#gray\n",
      "                         green      0 bytes  ColorTypes.#green\n",
      "                          grid      0 bytes  Plots.#grid\n",
      "                           gui      0 bytes  Plots.#gui\n",
      "                             h      8 bytes  Measures.Length{:h,Float64}\n",
      "                       heatmap      0 bytes  Plots.#heatmap\n",
      "                      heatmap!      0 bytes  Plots.#heatmap!\n",
      "                           hex      0 bytes  Base.#hex\n",
      "                        hexbin      0 bytes  Plots.#hexbin\n",
      "                       hexbin!      0 bytes  Plots.#hexbin!\n",
      "                     histogram      0 bytes  Plots.#histogram\n",
      "                    histogram!      0 bytes  Plots.#histogram!\n",
      "                   histogram2d      0 bytes  Plots.#histogram2d\n",
      "                  histogram2d!      0 bytes  Plots.#histogram2d!\n",
      "                         hline      0 bytes  Plots.#hline\n",
      "                        hline!      0 bytes  Plots.#hline!\n",
      "                          hsla      0 bytes  Colors.#hsla\n",
      "                          hsva      0 bytes  Colors.#hsva\n",
      "                          inch      8 bytes  Measures.Length{:mm,Float64}\n",
      "                        isdark      0 bytes  PlotUtils.#isdark\n",
      "                 iter_segments      0 bytes  Plots.#iter_segments\n",
      "                          laba      0 bytes  Colors.#laba\n",
      "                        lchaba      0 bytes  Colors.#lchaba\n",
      "                        lchuva      0 bytes  Colors.#lchuva\n",
      "                          lmsa      0 bytes  Colors.#lmsa\n",
      "                          luva      0 bytes  Colors.#luva\n",
      "                  marginalhist      0 bytes  StatPlots.#marginalhist\n",
      "                 marginalhist!      0 bytes  StatPlots.#marginalhist!\n",
      "                            mm      8 bytes  Measures.Length{:mm,Float64}\n",
      "                          ohlc      0 bytes  Plots.#ohlc\n",
      "                         ohlc!      0 bytes  Plots.#ohlc!\n",
      "                optimize_ticks      0 bytes  PlotUtils.#optimize_ticks\n",
      "                        path3d      0 bytes  Plots.#path3d\n",
      "                       path3d!      0 bytes  Plots.#path3d!\n",
      "                           pct      8 bytes  Measures.Length{:pct,Float64}\n",
      "                      pgfplots      0 bytes  Plots.#pgfplots\n",
      "                           pie      0 bytes  Plots.#pie\n",
      "                          pie!      0 bytes  Plots.#pie!\n",
      "                          plot      0 bytes  Plots.#plot\n",
      "                         plot!      0 bytes  Plots.#plot!\n",
      "                        plot3d      0 bytes  Plots.#plot3d\n",
      "                       plot3d!      0 bytes  Plots.#plot3d!\n",
      "                    plot_color      0 bytes  PlotUtils.#plot_color\n",
      "                      plotarea      0 bytes  Plots.#plotarea\n",
      "                        plotly      0 bytes  Plots.#plotly\n",
      "                      plotlyjs      0 bytes  Plots.#plotlyjs\n",
      "                           png      0 bytes  Plots.#png\n",
      "                    protanopic      0 bytes  Colors.#protanopic\n",
      "                            pt      8 bytes  Measures.Length{:mm,Float64}\n",
      "                            px      8 bytes  Measures.Length{:mm,Float64}\n",
      "                        pyplot      0 bytes  Plots.#pyplot\n",
      "                        quiver      0 bytes  Plots.#quiver\n",
      "                       quiver!      0 bytes  Plots.#quiver!\n",
      "                           red      0 bytes  ColorTypes.#red\n",
      "                    rgb_string      0 bytes  PlotUtils.#rgb_string\n",
      "                          rgba      0 bytes  Colors.#rgba\n",
      "                   rgba_string      0 bytes  PlotUtils.#rgba_string\n",
      "                        rotate      0 bytes  Plots.#rotate\n",
      "                       rotate!      0 bytes  Plots.#rotate!\n",
      "                       savefig      0 bytes  Plots.#savefig\n",
      "                       scatter      0 bytes  Plots.#scatter\n",
      "                      scatter!      0 bytes  Plots.#scatter!\n",
      "                     scatter3d      0 bytes  Plots.#scatter3d\n",
      "                    scatter3d!      0 bytes  Plots.#scatter3d!\n",
      "            sequential_palette      0 bytes  Colors.#sequential_palette\n",
      "                     set_theme      0 bytes  Plots.#set_theme\n",
      "                           spy      0 bytes  Plots.#spy\n",
      "                        sticks      0 bytes  Plots.#sticks\n",
      "                       sticks!      0 bytes  Plots.#sticks!\n",
      "                        stroke      0 bytes  Plots.#stroke\n",
      "                       surface      0 bytes  Plots.#surface\n",
      "                      surface!      0 bytes  Plots.#surface!\n",
      "                 test_examples      0 bytes  Plots.#test_examples\n",
      "                          text      0 bytes  Plots.#text\n",
      "                        title!      0 bytes  Plots.#title!\n",
      "                     translate      0 bytes  Plots.#translate\n",
      "                    translate!      0 bytes  Plots.#translate!\n",
      "                    tritanopic      0 bytes  Colors.#tritanopic\n",
      "                         twinx      0 bytes  Plots.#twinx\n",
      "                  unicodeplots      0 bytes  Plots.#unicodeplots\n",
      "                       update!      0 bytes  Plots.#update!\n",
      "                        violin      0 bytes  Plots.#violin\n",
      "                       violin!      0 bytes  Plots.#violin!\n",
      "                         vline      0 bytes  Plots.#vline\n",
      "                        vline!      0 bytes  Plots.#vline!\n",
      "                             w      8 bytes  Measures.Length{:w,Float64}\n",
      "           weighted_color_mean      0 bytes  Colors.#weighted_color_mean\n",
      "                  whitebalance      0 bytes  Colors.#whitebalance\n",
      "                     wireframe      0 bytes  Plots.#wireframe\n",
      "                    wireframe!      0 bytes  Plots.#wireframe!\n",
      "                          with      0 bytes  Plots.#with\n",
      "                          wrap      0 bytes  Plots.#wrap\n",
      "                        xaxis!      0 bytes  Plots.#xaxis!\n",
      "                        xflip!      0 bytes  Plots.#xflip!\n",
      "                       xlabel!      0 bytes  Plots.#xlabel!\n",
      "                         xlims      0 bytes  Plots.#xlims\n",
      "                        xlims!      0 bytes  Plots.#xlims!\n",
      "                       xticks!      0 bytes  Plots.#xticks!\n",
      "                           xyY    192 bytes  DataType\n",
      "                          xyYA    204 bytes  DataType\n",
      "                          xyYa      0 bytes  Colors.#xyYa\n",
      "                          xyza      0 bytes  Colors.#xyza\n",
      "                        yaxis!      0 bytes  Plots.#yaxis!\n",
      "                        yflip!      0 bytes  Plots.#yflip!\n",
      "                       ylabel!      0 bytes  Plots.#ylabel!\n",
      "                         ylims      0 bytes  Plots.#ylims\n",
      "                        ylims!      0 bytes  Plots.#ylims!\n",
      "                       yticks!      0 bytes  Plots.#yticks!\n",
      "                         zlims      0 bytes  Plots.#zlims\n",
      "                        zlims!      0 bytes  Plots.#zlims!\n"
     ]
    }
   ],
   "source": [
    "whos(StatPlots)"
   ]
  },
  {
   "cell_type": "code",
   "execution_count": 89,
   "metadata": {
    "collapsed": false
   },
   "outputs": [
    {
     "data": {
      "text/plain": [
       "7-element Array{Symbol,1}:\n",
       " :parent \n",
       " :minpad \n",
       " :bbox   \n",
       " :grid   \n",
       " :widths \n",
       " :heights\n",
       " :attr   "
      ]
     },
     "execution_count": 89,
     "metadata": {},
     "output_type": "execute_result"
    }
   ],
   "source": [
    "fieldnames(StatPlots.GridLayout)"
   ]
  },
  {
   "cell_type": "code",
   "execution_count": 26,
   "metadata": {
    "collapsed": false
   },
   "outputs": [
    {
     "name": "stderr",
     "output_type": "stream",
     "text": [
      "INFO: Checking out Plots master...\n",
      "INFO: Pulling Plots latest master...\n",
      "INFO: No packages to install, update or remove\n",
      "INFO: Building Plots\n"
     ]
    }
   ],
   "source": [
    "Pkg.checkout(\"Plots\")\n",
    "Pkg.build(\"Plots\")"
   ]
  },
  {
   "cell_type": "code",
   "execution_count": 35,
   "metadata": {
    "collapsed": false
   },
   "outputs": [],
   "source": [
    "using StatsBase, Plots\n",
    "z = Matrix{Float64}(4,5)\n",
    "fill!(z, NaN)\n",
    "x = sample(1:4, 9, replace = true)\n",
    "y = sample(1:4, 9, replace = true)\n",
    "ll = rand(9)\n",
    "for i in 1:length(x)\n",
    "    z[x[i],y[i]] = ll[i]\n",
    "end"
   ]
  },
  {
   "cell_type": "code",
   "execution_count": 40,
   "metadata": {
    "collapsed": false
   },
   "outputs": [
    {
     "data": {
      "text/html": [
       "<?xml version=\"1.0\" encoding=\"utf-8\"?>\n",
       "<svg xmlns=\"http://www.w3.org/2000/svg\" xmlns:xlink=\"http://www.w3.org/1999/xlink\" width=\"600\" height=\"400\" viewBox=\"0 0 600 400\">\n",
       "<defs>\n",
       "  <clipPath id=\"clip00\">\n",
       "    <rect x=\"0\" y=\"0\" width=\"600\" height=\"400\"/>\n",
       "  </clipPath>\n",
       "</defs>\n",
       "<polygon clip-path=\"url(#clip00)\" points=\"\n",
       "0,400 600,400 600,0 0,0 \n",
       "  \" fill=\"#ffffff\" fill-opacity=\"1\"/>\n",
       "<defs>\n",
       "  <clipPath id=\"clip01\">\n",
       "    <rect x=\"120\" y=\"0\" width=\"421\" height=\"400\"/>\n",
       "  </clipPath>\n",
       "</defs>\n",
       "<polygon clip-path=\"url(#clip00)\" points=\"\n",
       "35.4331,377.078 596.063,377.078 596.063,3.93701 35.4331,3.93701 \n",
       "  \" fill=\"#ffffff\" fill-opacity=\"1\"/>\n",
       "<defs>\n",
       "  <clipPath id=\"clip02\">\n",
       "    <rect x=\"35\" y=\"3\" width=\"501\" height=\"374\"/>\n",
       "  </clipPath>\n",
       "</defs>\n",
       "<polyline clip-path=\"url(#clip02)\" style=\"stroke:#00002d; stroke-width:0.8; stroke-opacity:1; fill:none\" points=\"\n",
       "  35.4331,377.078 536.063,377.078 \n",
       "  \"/>\n",
       "<polyline clip-path=\"url(#clip02)\" style=\"stroke:#00002d; stroke-width:0.8; stroke-opacity:1; fill:none\" points=\"\n",
       "  35.4331,3.93701 536.063,3.93701 \n",
       "  \"/>\n",
       "<polyline clip-path=\"url(#clip02)\" style=\"stroke:#00002d; stroke-width:0.8; stroke-opacity:1; fill:none\" points=\"\n",
       "  35.4331,377.078 35.4331,371.481 \n",
       "  \"/>\n",
       "<polyline clip-path=\"url(#clip02)\" style=\"stroke:#00002d; stroke-width:0.8; stroke-opacity:1; fill:none\" points=\"\n",
       "  35.4331,3.93701 35.4331,9.53412 \n",
       "  \"/>\n",
       "<polyline clip-path=\"url(#clip02)\" style=\"stroke:#00002d; stroke-width:0.8; stroke-opacity:1; fill:none\" points=\"\n",
       "  160.591,377.078 160.591,371.481 \n",
       "  \"/>\n",
       "<polyline clip-path=\"url(#clip02)\" style=\"stroke:#00002d; stroke-width:0.8; stroke-opacity:1; fill:none\" points=\"\n",
       "  160.591,3.93701 160.591,9.53412 \n",
       "  \"/>\n",
       "<polyline clip-path=\"url(#clip02)\" style=\"stroke:#00002d; stroke-width:0.8; stroke-opacity:1; fill:none\" points=\"\n",
       "  285.748,377.078 285.748,371.481 \n",
       "  \"/>\n",
       "<polyline clip-path=\"url(#clip02)\" style=\"stroke:#00002d; stroke-width:0.8; stroke-opacity:1; fill:none\" points=\"\n",
       "  285.748,3.93701 285.748,9.53412 \n",
       "  \"/>\n",
       "<polyline clip-path=\"url(#clip02)\" style=\"stroke:#00002d; stroke-width:0.8; stroke-opacity:1; fill:none\" points=\"\n",
       "  410.906,377.078 410.906,371.481 \n",
       "  \"/>\n",
       "<polyline clip-path=\"url(#clip02)\" style=\"stroke:#00002d; stroke-width:0.8; stroke-opacity:1; fill:none\" points=\"\n",
       "  410.906,3.93701 410.906,9.53412 \n",
       "  \"/>\n",
       "<polyline clip-path=\"url(#clip02)\" style=\"stroke:#00002d; stroke-width:0.8; stroke-opacity:1; fill:none\" points=\"\n",
       "  536.063,377.078 536.063,371.481 \n",
       "  \"/>\n",
       "<polyline clip-path=\"url(#clip02)\" style=\"stroke:#00002d; stroke-width:0.8; stroke-opacity:1; fill:none\" points=\"\n",
       "  536.063,3.93701 536.063,9.53412 \n",
       "  \"/>\n",
       "<polyline clip-path=\"url(#clip02)\" style=\"stroke:#00002d; stroke-width:0.8; stroke-opacity:1; fill:none\" points=\"\n",
       "  35.4331,377.078 35.4331,3.93701 \n",
       "  \"/>\n",
       "<polyline clip-path=\"url(#clip02)\" style=\"stroke:#00002d; stroke-width:0.8; stroke-opacity:1; fill:none\" points=\"\n",
       "  536.063,377.078 536.063,3.93701 \n",
       "  \"/>\n",
       "<polyline clip-path=\"url(#clip02)\" style=\"stroke:#00002d; stroke-width:0.8; stroke-opacity:1; fill:none\" points=\"\n",
       "  35.4331,377.078 42.9425,377.078 \n",
       "  \"/>\n",
       "<polyline clip-path=\"url(#clip02)\" style=\"stroke:#00002d; stroke-width:0.8; stroke-opacity:1; fill:none\" points=\"\n",
       "  536.063,377.078 528.554,377.078 \n",
       "  \"/>\n",
       "<polyline clip-path=\"url(#clip02)\" style=\"stroke:#00002d; stroke-width:0.8; stroke-opacity:1; fill:none\" points=\"\n",
       "  35.4331,314.888 42.9425,314.888 \n",
       "  \"/>\n",
       "<polyline clip-path=\"url(#clip02)\" style=\"stroke:#00002d; stroke-width:0.8; stroke-opacity:1; fill:none\" points=\"\n",
       "  536.063,314.888 528.554,314.888 \n",
       "  \"/>\n",
       "<polyline clip-path=\"url(#clip02)\" style=\"stroke:#00002d; stroke-width:0.8; stroke-opacity:1; fill:none\" points=\"\n",
       "  35.4331,252.698 42.9425,252.698 \n",
       "  \"/>\n",
       "<polyline clip-path=\"url(#clip02)\" style=\"stroke:#00002d; stroke-width:0.8; stroke-opacity:1; fill:none\" points=\"\n",
       "  536.063,252.698 528.554,252.698 \n",
       "  \"/>\n",
       "<polyline clip-path=\"url(#clip02)\" style=\"stroke:#00002d; stroke-width:0.8; stroke-opacity:1; fill:none\" points=\"\n",
       "  35.4331,190.507 42.9425,190.507 \n",
       "  \"/>\n",
       "<polyline clip-path=\"url(#clip02)\" style=\"stroke:#00002d; stroke-width:0.8; stroke-opacity:1; fill:none\" points=\"\n",
       "  536.063,190.507 528.554,190.507 \n",
       "  \"/>\n",
       "<polyline clip-path=\"url(#clip02)\" style=\"stroke:#00002d; stroke-width:0.8; stroke-opacity:1; fill:none\" points=\"\n",
       "  35.4331,128.317 42.9425,128.317 \n",
       "  \"/>\n",
       "<polyline clip-path=\"url(#clip02)\" style=\"stroke:#00002d; stroke-width:0.8; stroke-opacity:1; fill:none\" points=\"\n",
       "  536.063,128.317 528.554,128.317 \n",
       "  \"/>\n",
       "<polyline clip-path=\"url(#clip02)\" style=\"stroke:#00002d; stroke-width:0.8; stroke-opacity:1; fill:none\" points=\"\n",
       "  35.4331,66.1272 42.9425,66.1272 \n",
       "  \"/>\n",
       "<polyline clip-path=\"url(#clip02)\" style=\"stroke:#00002d; stroke-width:0.8; stroke-opacity:1; fill:none\" points=\"\n",
       "  536.063,66.1272 528.554,66.1272 \n",
       "  \"/>\n",
       "<polyline clip-path=\"url(#clip02)\" style=\"stroke:#00002d; stroke-width:0.8; stroke-opacity:1; fill:none\" points=\"\n",
       "  35.4331,3.93701 42.9425,3.93701 \n",
       "  \"/>\n",
       "<polyline clip-path=\"url(#clip02)\" style=\"stroke:#00002d; stroke-width:0.8; stroke-opacity:1; fill:none\" points=\"\n",
       "  536.063,3.93701 528.554,3.93701 \n",
       "  \"/>\n",
       "<g clip-path=\"url(#clip00)\">\n",
       "<text style=\"fill:#00002d; fill-opacity:1; font-family:Arial,Helvetica Neue,Helvetica,sans-serif; font-size:12; text-anchor:middle;\" transform=\"rotate(0, 35.4331, 393.878)\" x=\"35.4331\" y=\"393.878\">1</text>\n",
       "</g>\n",
       "<g clip-path=\"url(#clip00)\">\n",
       "<text style=\"fill:#00002d; fill-opacity:1; font-family:Arial,Helvetica Neue,Helvetica,sans-serif; font-size:12; text-anchor:middle;\" transform=\"rotate(0, 160.591, 393.878)\" x=\"160.591\" y=\"393.878\">2</text>\n",
       "</g>\n",
       "<g clip-path=\"url(#clip00)\">\n",
       "<text style=\"fill:#00002d; fill-opacity:1; font-family:Arial,Helvetica Neue,Helvetica,sans-serif; font-size:12; text-anchor:middle;\" transform=\"rotate(0, 285.748, 393.878)\" x=\"285.748\" y=\"393.878\">3</text>\n",
       "</g>\n",
       "<g clip-path=\"url(#clip00)\">\n",
       "<text style=\"fill:#00002d; fill-opacity:1; font-family:Arial,Helvetica Neue,Helvetica,sans-serif; font-size:12; text-anchor:middle;\" transform=\"rotate(0, 410.906, 393.878)\" x=\"410.906\" y=\"393.878\">4</text>\n",
       "</g>\n",
       "<g clip-path=\"url(#clip00)\">\n",
       "<text style=\"fill:#00002d; fill-opacity:1; font-family:Arial,Helvetica Neue,Helvetica,sans-serif; font-size:12; text-anchor:middle;\" transform=\"rotate(0, 536.063, 393.878)\" x=\"536.063\" y=\"393.878\">5</text>\n",
       "</g>\n",
       "<g clip-path=\"url(#clip00)\">\n",
       "<text style=\"fill:#00002d; fill-opacity:1; font-family:Arial,Helvetica Neue,Helvetica,sans-serif; font-size:12; text-anchor:end;\" transform=\"rotate(0, 29.4331, 381.578)\" x=\"29.4331\" y=\"381.578\">1.0</text>\n",
       "</g>\n",
       "<g clip-path=\"url(#clip00)\">\n",
       "<text style=\"fill:#00002d; fill-opacity:1; font-family:Arial,Helvetica Neue,Helvetica,sans-serif; font-size:12; text-anchor:end;\" transform=\"rotate(0, 29.4331, 319.388)\" x=\"29.4331\" y=\"319.388\">1.5</text>\n",
       "</g>\n",
       "<g clip-path=\"url(#clip00)\">\n",
       "<text style=\"fill:#00002d; fill-opacity:1; font-family:Arial,Helvetica Neue,Helvetica,sans-serif; font-size:12; text-anchor:end;\" transform=\"rotate(0, 29.4331, 257.198)\" x=\"29.4331\" y=\"257.198\">2.0</text>\n",
       "</g>\n",
       "<g clip-path=\"url(#clip00)\">\n",
       "<text style=\"fill:#00002d; fill-opacity:1; font-family:Arial,Helvetica Neue,Helvetica,sans-serif; font-size:12; text-anchor:end;\" transform=\"rotate(0, 29.4331, 195.007)\" x=\"29.4331\" y=\"195.007\">2.5</text>\n",
       "</g>\n",
       "<g clip-path=\"url(#clip00)\">\n",
       "<text style=\"fill:#00002d; fill-opacity:1; font-family:Arial,Helvetica Neue,Helvetica,sans-serif; font-size:12; text-anchor:end;\" transform=\"rotate(0, 29.4331, 132.817)\" x=\"29.4331\" y=\"132.817\">3.0</text>\n",
       "</g>\n",
       "<g clip-path=\"url(#clip00)\">\n",
       "<text style=\"fill:#00002d; fill-opacity:1; font-family:Arial,Helvetica Neue,Helvetica,sans-serif; font-size:12; text-anchor:end;\" transform=\"rotate(0, 29.4331, 70.6272)\" x=\"29.4331\" y=\"70.6272\">3.5</text>\n",
       "</g>\n",
       "<g clip-path=\"url(#clip00)\">\n",
       "<text style=\"fill:#00002d; fill-opacity:1; font-family:Arial,Helvetica Neue,Helvetica,sans-serif; font-size:12; text-anchor:end;\" transform=\"rotate(0, 29.4331, 8.43701)\" x=\"29.4331\" y=\"8.43701\">4.0</text>\n",
       "</g>\n",
       "<polygon clip-path=\"url(#clip02)\" points=\"\n",
       "nan,nan 35.4331,66.1272 nan,nan nan,nan \n",
       "  \" fill=\"#1f1fdf\" fill-opacity=\"1\"/>\n",
       "<polygon clip-path=\"url(#clip02)\" points=\"\n",
       "nan,nan 98.0118,66.1272 nan,nan nan,nan \n",
       "  \" fill=\"#1f1fdf\" fill-opacity=\"1\"/>\n",
       "<polygon clip-path=\"url(#clip02)\" points=\"\n",
       "nan,nan nan,nan 348.327,66.1272 348.327,3.93701 \n",
       "  \" fill=\"#8fdf1f\" fill-opacity=\"1\"/>\n",
       "<polygon clip-path=\"url(#clip02)\" points=\"\n",
       "348.327,3.93701 348.327,66.1272 473.484,66.1272 nan,nan \n",
       "  \" fill=\"#1f1fdf\" fill-opacity=\"1\"/>\n",
       "<polygon clip-path=\"url(#clip02)\" points=\"\n",
       "nan,nan 473.484,66.1272 nan,nan nan,nan \n",
       "  \" fill=\"#1f1fdf\" fill-opacity=\"1\"/>\n",
       "<polygon clip-path=\"url(#clip02)\" points=\"\n",
       "35.4331,66.1272 nan,nan 98.0118,190.507 nan,nan \n",
       "  \" fill=\"#df1f2f\" fill-opacity=\"1\"/>\n",
       "<polygon clip-path=\"url(#clip02)\" points=\"\n",
       "98.0118,66.1272 nan,nan 223.169,190.507 nan,nan \n",
       "  \" fill=\"#1f1fdf\" fill-opacity=\"1\"/>\n",
       "<polygon clip-path=\"url(#clip02)\" points=\"\n",
       "nan,nan 223.169,190.507 nan,nan 348.327,66.1272 \n",
       "  \" fill=\"#9fdf1f\" fill-opacity=\"1\"/>\n",
       "<polygon clip-path=\"url(#clip02)\" points=\"\n",
       "348.327,66.1272 nan,nan 473.484,190.507 473.484,66.1272 \n",
       "  \" fill=\"#1f5fdf\" fill-opacity=\"1\"/>\n",
       "<polygon clip-path=\"url(#clip02)\" points=\"\n",
       "473.484,66.1272 473.484,190.507 nan,nan nan,nan \n",
       "  \" fill=\"#1f1fdf\" fill-opacity=\"1\"/>\n",
       "<polygon clip-path=\"url(#clip02)\" points=\"\n",
       "nan,nan nan,nan nan,nan 98.0118,190.507 \n",
       "  \" fill=\"#1f1fdf\" fill-opacity=\"1\"/>\n",
       "<polygon clip-path=\"url(#clip02)\" points=\"\n",
       "nan,nan nan,nan nan,nan 223.169,190.507 \n",
       "  \" fill=\"#8fdf1f\" fill-opacity=\"1\"/>\n",
       "<polygon clip-path=\"url(#clip02)\" points=\"\n",
       "223.169,190.507 nan,nan 348.327,314.888 nan,nan \n",
       "  \" fill=\"#1f1fdf\" fill-opacity=\"1\"/>\n",
       "<polygon clip-path=\"url(#clip02)\" points=\"\n",
       "nan,nan 348.327,314.888 473.484,314.888 473.484,190.507 \n",
       "  \" fill=\"#dfcf1f\" fill-opacity=\"1\"/>\n",
       "<polygon clip-path=\"url(#clip02)\" points=\"\n",
       "473.484,190.507 473.484,314.888 nan,nan nan,nan \n",
       "  \" fill=\"#1f1fdf\" fill-opacity=\"1\"/>\n",
       "<polygon clip-path=\"url(#clip02)\" points=\"\n",
       "nan,nan nan,nan nan,nan 98.0118,314.888 \n",
       "  \" fill=\"#1f1fdf\" fill-opacity=\"1\"/>\n",
       "<polygon clip-path=\"url(#clip02)\" points=\"\n",
       "nan,nan nan,nan nan,nan 223.169,314.888 \n",
       "  \" fill=\"#1f1fdf\" fill-opacity=\"1\"/>\n",
       "<polygon clip-path=\"url(#clip02)\" points=\"\n",
       "223.169,314.888 nan,nan 348.327,377.078 nan,nan \n",
       "  \" fill=\"#1fdf4f\" fill-opacity=\"1\"/>\n",
       "<polygon clip-path=\"url(#clip02)\" points=\"\n",
       "nan,nan 348.327,377.078 473.484,377.078 473.484,314.888 \n",
       "  \" fill=\"#df1fdf\" fill-opacity=\"1\"/>\n",
       "<polygon clip-path=\"url(#clip02)\" points=\"\n",
       "473.484,314.888 473.484,377.078 nan,nan nan,nan \n",
       "  \" fill=\"#1f1fdf\" fill-opacity=\"1\"/>\n",
       "<defs>\n",
       "  <clipPath id=\"clip03\">\n",
       "    <rect x=\"548\" y=\"3\" width=\"19\" height=\"374\"/>\n",
       "  </clipPath>\n",
       "</defs>\n",
       "<g clip-path=\"url(#clip03)\">\n",
       "<image width=\"18\" height=\"373\" xlink:href=\"data:;base64,\n",
       "iVBORw0KGgoAAAANSUhEUgAAABIAAAF1CAYAAADlSLoBAAABI0lEQVR4nO3bUU0FQRBFwYWMABwg\n",
       "Af9qngUcgAU+JifdpFZAJX3u3yT79vn1+nkufO83ENDfvvN83IHmnTYPEjuExA4hsUNI7I2Q1UJI\n",
       "7BASO4TEDiGxQ0jsjdB5nu8r0LzT5kFih5DYISR2CIm9EbJaCIkdQmKHkNghJHYIib0RsloInUtP\n",
       "bANPmweJHUJih5DYGyGrhZDYISR2CIkdQmKHkNgbIauFkNghdC69jA08bR4kdgiJvRGyWgiJHUJi\n",
       "h5DYISR2CIm9EbJaCIkdQmKH0Hku/cA277R5kNgbIauFkNghJHYIiR1CYoeQ2Bshq4WQ2CEkdgiJ\n",
       "HULn0svYwNP+MWS1EBI7hMQOIbFDSOwQEnsjZLUQEjuExA4hsUNI7BD6BRMeKZQf32oZAAAAAElF\n",
       "TkSuQmCC\n",
       "\" transform=\"translate(548, 3)\"/>\n",
       "</g>\n",
       "<g clip-path=\"url(#clip00)\">\n",
       "<text style=\"fill:#00002d; fill-opacity:1; font-family:Arial,Helvetica Neue,Helvetica,sans-serif; font-size:12; text-anchor:start;\" transform=\"rotate(0, 572.063, 380.491)\" x=\"572.063\" y=\"380.491\">0</text>\n",
       "</g>\n",
       "<g clip-path=\"url(#clip00)\">\n",
       "<text style=\"fill:#00002d; fill-opacity:1; font-family:Arial,Helvetica Neue,Helvetica,sans-serif; font-size:12; text-anchor:start;\" transform=\"rotate(0, 572.063, 333.848)\" x=\"572.063\" y=\"333.848\">0.1</text>\n",
       "</g>\n",
       "<g clip-path=\"url(#clip00)\">\n",
       "<text style=\"fill:#00002d; fill-opacity:1; font-family:Arial,Helvetica Neue,Helvetica,sans-serif; font-size:12; text-anchor:start;\" transform=\"rotate(0, 572.063, 287.205)\" x=\"572.063\" y=\"287.205\">0.2</text>\n",
       "</g>\n",
       "<g clip-path=\"url(#clip00)\">\n",
       "<text style=\"fill:#00002d; fill-opacity:1; font-family:Arial,Helvetica Neue,Helvetica,sans-serif; font-size:12; text-anchor:start;\" transform=\"rotate(0, 572.063, 240.563)\" x=\"572.063\" y=\"240.563\">0.3</text>\n",
       "</g>\n",
       "<g clip-path=\"url(#clip00)\">\n",
       "<text style=\"fill:#00002d; fill-opacity:1; font-family:Arial,Helvetica Neue,Helvetica,sans-serif; font-size:12; text-anchor:start;\" transform=\"rotate(0, 572.063, 193.92)\" x=\"572.063\" y=\"193.92\">0.4</text>\n",
       "</g>\n",
       "<g clip-path=\"url(#clip00)\">\n",
       "<text style=\"fill:#00002d; fill-opacity:1; font-family:Arial,Helvetica Neue,Helvetica,sans-serif; font-size:12; text-anchor:start;\" transform=\"rotate(0, 572.063, 147.278)\" x=\"572.063\" y=\"147.278\">0.5</text>\n",
       "</g>\n",
       "<g clip-path=\"url(#clip00)\">\n",
       "<text style=\"fill:#00002d; fill-opacity:1; font-family:Arial,Helvetica Neue,Helvetica,sans-serif; font-size:12; text-anchor:start;\" transform=\"rotate(0, 572.063, 100.635)\" x=\"572.063\" y=\"100.635\">0.6</text>\n",
       "</g>\n",
       "<g clip-path=\"url(#clip00)\">\n",
       "<text style=\"fill:#00002d; fill-opacity:1; font-family:Arial,Helvetica Neue,Helvetica,sans-serif; font-size:12; text-anchor:start;\" transform=\"rotate(0, 572.063, 53.9924)\" x=\"572.063\" y=\"53.9924\">0.7</text>\n",
       "</g>\n",
       "<g clip-path=\"url(#clip00)\">\n",
       "<text style=\"fill:#00002d; fill-opacity:1; font-family:Arial,Helvetica Neue,Helvetica,sans-serif; font-size:12; text-anchor:start;\" transform=\"rotate(0, 572.063, 7.34981)\" x=\"572.063\" y=\"7.34981\">0.8</text>\n",
       "</g>\n",
       "</svg>\n"
      ]
     },
     "execution_count": 40,
     "metadata": {},
     "output_type": "execute_result"
    }
   ],
   "source": [
    "gr()\n",
    "heatmap(z, grid = false)"
   ]
  },
  {
   "cell_type": "code",
   "execution_count": 37,
   "metadata": {
    "collapsed": false
   },
   "outputs": [
    {
     "data": {
      "text/html": [
       "<html>\n",
       "<head>\n",
       "     <script src=\"/Users/michael/.julia/v0.5/PlotlyJS/deps/plotly-latest.min.js\"></script>\n",
       "</head>\n",
       "<body>\n",
       "     <div id=\"4ce823be-5266-4ea4-8913-fb5ada5d4e63\" class=\"plotly-graph-div\"></div>\n",
       "\n",
       "<script>\n",
       "    window.PLOTLYENV=window.PLOTLYENV || {};\n",
       "    window.PLOTLYENV.BASE_URL=\"https://plot.ly\";\n",
       "    Plotly.newPlot('4ce823be-5266-4ea4-8913-fb5ada5d4e63', [{\"yaxis\":\"y\",\"y\":[1,2,3,4],\"colorscale\":[[0.0,\"rgb(0, 0, 4)\"],[0.034482758620689655,\"rgb(4, 3, 20)\"],[0.06896551724137931,\"rgb(13, 8, 41)\"],[0.10344827586206896,\"rgb(24, 12, 60)\"],[0.13793103448275862,\"rgb(38, 12, 81)\"],[0.1724137931034483,\"rgb(54, 9, 97)\"],[0.20689655172413793,\"rgb(69, 10, 105)\"],[0.2413793103448276,\"rgb(84, 15, 109)\"],[0.27586206896551724,\"rgb(97, 19, 110)\"],[0.3103448275862069,\"rgb(111, 25, 110)\"],[0.3448275862068966,\"rgb(125, 30, 109)\"],[0.3793103448275862,\"rgb(140, 35, 105)\"],[0.41379310344827586,\"rgb(154, 40, 101)\"],[0.4482758620689655,\"rgb(166, 45, 96)\"],[0.4827586206896552,\"rgb(180, 51, 89)\"],[0.5172413793103449,\"rgb(193, 58, 80)\"],[0.5517241379310345,\"rgb(206, 67, 71)\"],[0.5862068965517241,\"rgb(216, 76, 62)\"],[0.6206896551724138,\"rgb(226, 87, 52)\"],[0.6551724137931034,\"rgb(235, 100, 41)\"],[0.6896551724137931,\"rgb(241, 115, 29)\"],[0.7241379310344828,\"rgb(247, 130, 18)\"],[0.7586206896551724,\"rgb(250, 144, 8)\"],[0.7931034482758621,\"rgb(252, 161, 8)\"],[0.8275862068965517,\"rgb(252, 178, 22)\"],[0.8620689655172413,\"rgb(250, 196, 42)\"],[0.896551724137931,\"rgb(246, 213, 67)\"],[0.9310344827586207,\"rgb(243, 229, 93)\"],[0.9655172413793104,\"rgb(242, 244, 130)\"],[1.0,\"rgb(252, 255, 164)\"]],\"showlegend\":false,\"name\":\"y1\",\"type\":\"heatmap\",\"xaxis\":\"x\",\"z\":[[null,null,0.5736553546303098,0.13371917421026325,null],[null,0.4567026031493644,null,0.39602078774427696,null],[0.25885103737298953,null,0.4454535307826082,0.767422241083136,null],[null,null,0.46668039259029315,null,null]],\"x\":[1,2,3,4,5]}],\n",
       "               {\"yaxis\":{\"type\":\"-\",\"titlefont\":{\"size\":15,\"color\":\"rgba(0, 0, 0, 1.000)\",\"family\":\"Helvetica\"},\"title\":\"\",\"tickfont\":{\"size\":11,\"color\":\"rgba(0, 0, 0, 1.000)\",\"family\":\"Helvetica\"},\"tickmode\":\"array\",\"showgrid\":false,\"tickvals\":[1.0,1.5,2.0,2.5,3.0,3.5,4.0],\"domain\":[0.057305336832895896,0.9901574803149605],\"ticktext\":[\"1.0\",\"1.5\",\"2.0\",\"2.5\",\"3.0\",\"3.5\",\"4.0\"],\"zeroline\":false,\"linecolor\":\"rgba(0, 0, 0, 1.000)\",\"tickcolor\":\"rgba(0, 0, 0, 1.000)\",\"anchor\":\"x\"},\"annotations\":[],\"width\":600,\"plot_bgcolor\":\"rgba(255, 255, 255, 1.000)\",\"showlegend\":true,\"legend\":{\"bgcolor\":\"rgba(255, 255, 255, 1.000)\",\"font\":{\"size\":11,\"color\":\"rgba(0, 0, 0, 1.000)\",\"family\":\"Helvetica\"},\"bordercolor\":\"rgba(0, 0, 0, 1.000)\"},\"xaxis\":{\"type\":\"-\",\"titlefont\":{\"size\":15,\"color\":\"rgba(0, 0, 0, 1.000)\",\"family\":\"Helvetica\"},\"title\":\"\",\"tickfont\":{\"size\":11,\"color\":\"rgba(0, 0, 0, 1.000)\",\"family\":\"Helvetica\"},\"tickmode\":\"array\",\"showgrid\":false,\"tickvals\":[1.0,2.0,3.0,4.0,5.0],\"domain\":[0.05905511811023622,0.9934383202099738],\"ticktext\":[\"1\",\"2\",\"3\",\"4\",\"5\"],\"zeroline\":false,\"linecolor\":\"rgba(0, 0, 0, 1.000)\",\"tickcolor\":\"rgba(0, 0, 0, 1.000)\",\"anchor\":\"y\"},\"paper_bgcolor\":\"rgba(255, 255, 255, 1.000)\",\"margin\":{\"r\":0,\"l\":0,\"b\":0,\"t\":20},\"height\":400}, {showLink: false});\n",
       "\n",
       " </script>\n",
       "\n",
       "</body>\n",
       "</html>\n"
      ]
     },
     "execution_count": 37,
     "metadata": {},
     "output_type": "execute_result"
    }
   ],
   "source": [
    "plotlyjs()\n",
    "heatmap(z, grid = false)"
   ]
  },
  {
   "cell_type": "code",
   "execution_count": 18,
   "metadata": {
    "collapsed": false
   },
   "outputs": [
    {
     "data": {
      "text/plain": [
       "Plots.PlotlyJSBackend()"
      ]
     },
     "execution_count": 18,
     "metadata": {},
     "output_type": "execute_result"
    }
   ],
   "source": [
    "plotlyjs()\n"
   ]
  },
  {
   "cell_type": "code",
   "execution_count": 41,
   "metadata": {
    "collapsed": false
   },
   "outputs": [
    {
     "name": "stderr",
     "output_type": "stream",
     "text": [
      "INFO: Freeing GR\n",
      "INFO: No packages to install, update or remove\n"
     ]
    }
   ],
   "source": [
    "Pkg.free(\"GR\")"
   ]
  },
  {
   "cell_type": "code",
   "execution_count": 39,
   "metadata": {
    "collapsed": false
   },
   "outputs": [
    {
     "name": "stderr",
     "output_type": "stream",
     "text": [
      "INFO: Building GR\n"
     ]
    }
   ],
   "source": [
    "Pkg.build(\"GR\")"
   ]
  },
  {
   "cell_type": "code",
   "execution_count": null,
   "metadata": {
    "collapsed": true
   },
   "outputs": [],
   "source": []
  }
 ],
 "metadata": {
  "anaconda-cloud": {},
  "kernelspec": {
   "display_name": "Julia 0.5.0",
   "language": "julia",
   "name": "julia-0.5"
  },
  "language_info": {
   "file_extension": ".jl",
   "mimetype": "application/julia",
   "name": "julia",
   "version": "0.5.0"
  }
 },
 "nbformat": 4,
 "nbformat_minor": 0
}
